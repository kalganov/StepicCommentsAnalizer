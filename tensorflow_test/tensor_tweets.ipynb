{
 "cells": [
  {
   "cell_type": "code",
   "execution_count": 1,
   "metadata": {
    "collapsed": true
   },
   "outputs": [],
   "source": [
    "import re\n",
    "from collections import Counter\n",
    "\n",
    "import numpy as np\n",
    "import pandas as pd\n",
    "import tensorflow as tf\n",
    "import tflearn\n",
    "from nltk.stem.snowball import RussianStemmer\n",
    "from nltk.tokenize import TweetTokenizer\n",
    "from sklearn.model_selection import train_test_split\n",
    "from tflearn.data_utils import to_categorical\n",
    "from tqdm import tqdm"
   ]
  },
  {
   "cell_type": "code",
   "execution_count": 2,
   "metadata": {},
   "outputs": [],
   "source": [
    "POSITIVE_TWEETS_CSV = 'datasets/positive.csv'\n",
    "NEGATIVE_TWEETS_CSV = 'datasets/negative.csv'\n",
    "\n",
    "VOCAB_SIZE = 5000\n",
    "\n",
    "tweets_col_number = 3\n",
    "\n",
    "negative_tweets = pd.read_csv(\n",
    "    NEGATIVE_TWEETS_CSV, header=None, delimiter=';')[[tweets_col_number]]\n",
    "positive_tweets = pd.read_csv(\n",
    "    POSITIVE_TWEETS_CSV, header=None, delimiter=';')[[tweets_col_number]]\n"
   ]
  },
  {
   "cell_type": "code",
   "execution_count": 3,
   "metadata": {},
   "outputs": [],
   "source": [
    "stemer = RussianStemmer()\n",
    "regex = re.compile('[^а-яА-Я ]')\n",
    "stem_cache = {}\n",
    "\n",
    "\n",
    "def get_stem(token):\n",
    "    stem = stem_cache.get(token, None)\n",
    "    if stem:\n",
    "        return stem\n",
    "    token = regex.sub('', token).lower()\n",
    "    stem = stemer.stem(token)\n",
    "    stem_cache[token] = stem\n",
    "    return stem\n",
    "\n",
    "\n",
    "stem_count = Counter()\n",
    "tokenizer = TweetTokenizer()"
   ]
  },
  {
   "cell_type": "code",
   "execution_count": 4,
   "metadata": {},
   "outputs": [
    {
     "name": "stderr",
     "output_type": "stream",
     "text": [
      "\r  0%|          | 0/111923 [00:00<?, ?it/s]"
     ]
    },
    {
     "name": "stderr",
     "output_type": "stream",
     "text": [
      "\r  0%|          | 101/111923 [00:00<01:51, 1002.39it/s]"
     ]
    },
    {
     "name": "stderr",
     "output_type": "stream",
     "text": [
      "\r  0%|          | 183/111923 [00:00<02:03, 903.88it/s] "
     ]
    },
    {
     "name": "stderr",
     "output_type": "stream",
     "text": [
      "\r  0%|          | 296/111923 [00:00<01:54, 976.28it/s]"
     ]
    },
    {
     "name": "stderr",
     "output_type": "stream",
     "text": [
      "\r  0%|          | 419/111923 [00:00<01:47, 1038.60it/s]"
     ]
    },
    {
     "name": "stderr",
     "output_type": "stream",
     "text": [
      "\r  1%|          | 567/111923 [00:00<01:38, 1126.15it/s]"
     ]
    },
    {
     "name": "stderr",
     "output_type": "stream",
     "text": [
      "\r  1%|          | 691/111923 [00:00<01:37, 1143.68it/s]"
     ]
    },
    {
     "name": "stderr",
     "output_type": "stream",
     "text": [
      "\r  1%|          | 833/111923 [00:00<01:34, 1181.63it/s]"
     ]
    },
    {
     "name": "stderr",
     "output_type": "stream",
     "text": [
      "\r  1%|          | 973/111923 [00:00<01:31, 1207.66it/s]"
     ]
    },
    {
     "name": "stderr",
     "output_type": "stream",
     "text": [
      "\r  1%|          | 1098/111923 [00:00<01:32, 1203.37it/s]"
     ]
    },
    {
     "name": "stderr",
     "output_type": "stream",
     "text": [
      "\r  1%|          | 1233/111923 [00:01<01:30, 1216.95it/s]"
     ]
    },
    {
     "name": "stderr",
     "output_type": "stream",
     "text": [
      "\r  1%|          | 1372/111923 [00:01<01:29, 1230.58it/s]"
     ]
    },
    {
     "name": "stderr",
     "output_type": "stream",
     "text": [
      "\r  1%|▏         | 1512/111923 [00:01<01:28, 1244.22it/s]"
     ]
    },
    {
     "name": "stderr",
     "output_type": "stream",
     "text": [
      "\r  1%|▏         | 1670/111923 [00:01<01:26, 1269.07it/s]"
     ]
    },
    {
     "name": "stderr",
     "output_type": "stream",
     "text": [
      "\r  2%|▏         | 1834/111923 [00:01<01:25, 1294.57it/s]"
     ]
    },
    {
     "name": "stderr",
     "output_type": "stream",
     "text": [
      "\r  2%|▏         | 1990/111923 [00:01<01:23, 1311.47it/s]"
     ]
    },
    {
     "name": "stderr",
     "output_type": "stream",
     "text": [
      "\r  2%|▏         | 2163/111923 [00:01<01:22, 1336.72it/s]"
     ]
    },
    {
     "name": "stderr",
     "output_type": "stream",
     "text": [
      "\r  2%|▏         | 2335/111923 [00:01<01:20, 1358.44it/s]"
     ]
    },
    {
     "name": "stderr",
     "output_type": "stream",
     "text": [
      "\r  2%|▏         | 2506/111923 [00:01<01:19, 1377.22it/s]"
     ]
    },
    {
     "name": "stderr",
     "output_type": "stream",
     "text": [
      "\r  2%|▏         | 2675/111923 [00:01<01:18, 1393.03it/s]"
     ]
    },
    {
     "name": "stderr",
     "output_type": "stream",
     "text": [
      "\r  3%|▎         | 2853/111923 [00:02<01:17, 1411.67it/s]"
     ]
    },
    {
     "name": "stderr",
     "output_type": "stream",
     "text": [
      "\r  3%|▎         | 3034/111923 [00:02<01:16, 1429.96it/s]"
     ]
    },
    {
     "name": "stderr",
     "output_type": "stream",
     "text": [
      "\r  3%|▎         | 3214/111923 [00:02<01:15, 1446.27it/s]"
     ]
    },
    {
     "name": "stderr",
     "output_type": "stream",
     "text": [
      "\r  3%|▎         | 3388/111923 [00:02<01:14, 1452.21it/s]"
     ]
    },
    {
     "name": "stderr",
     "output_type": "stream",
     "text": [
      "\r  3%|▎         | 3557/111923 [00:02<01:14, 1461.45it/s]"
     ]
    },
    {
     "name": "stderr",
     "output_type": "stream",
     "text": [
      "\r  3%|▎         | 3726/111923 [00:02<01:13, 1468.84it/s]"
     ]
    },
    {
     "name": "stderr",
     "output_type": "stream",
     "text": [
      "\r  3%|▎         | 3899/111923 [00:02<01:13, 1478.28it/s]"
     ]
    },
    {
     "name": "stderr",
     "output_type": "stream",
     "text": [
      "\r  4%|▎         | 4068/111923 [00:02<01:12, 1484.50it/s]"
     ]
    },
    {
     "name": "stderr",
     "output_type": "stream",
     "text": [
      "\r  4%|▍         | 4236/111923 [00:02<01:12, 1489.95it/s]"
     ]
    },
    {
     "name": "stderr",
     "output_type": "stream",
     "text": [
      "\r  4%|▍         | 4415/111923 [00:02<01:11, 1499.75it/s]"
     ]
    },
    {
     "name": "stderr",
     "output_type": "stream",
     "text": [
      "\r  4%|▍         | 4589/111923 [00:03<01:11, 1507.28it/s]"
     ]
    },
    {
     "name": "stderr",
     "output_type": "stream",
     "text": [
      "\r  4%|▍         | 4769/111923 [00:03<01:10, 1516.24it/s]"
     ]
    },
    {
     "name": "stderr",
     "output_type": "stream",
     "text": [
      "\r  4%|▍         | 4956/111923 [00:03<01:10, 1526.80it/s]"
     ]
    },
    {
     "name": "stderr",
     "output_type": "stream",
     "text": [
      "\r  5%|▍         | 5133/111923 [00:03<01:09, 1532.82it/s]"
     ]
    },
    {
     "name": "stderr",
     "output_type": "stream",
     "text": [
      "\r  5%|▍         | 5313/111923 [00:03<01:09, 1540.24it/s]"
     ]
    },
    {
     "name": "stderr",
     "output_type": "stream",
     "text": [
      "\r  5%|▍         | 5490/111923 [00:03<01:08, 1546.39it/s]"
     ]
    },
    {
     "name": "stderr",
     "output_type": "stream",
     "text": [
      "\r  5%|▌         | 5667/111923 [00:03<01:08, 1550.94it/s]"
     ]
    },
    {
     "name": "stderr",
     "output_type": "stream",
     "text": [
      "\r  5%|▌         | 5847/111923 [00:03<01:08, 1557.57it/s]"
     ]
    },
    {
     "name": "stderr",
     "output_type": "stream",
     "text": [
      "\r  5%|▌         | 6035/111923 [00:03<01:07, 1565.66it/s]"
     ]
    },
    {
     "name": "stderr",
     "output_type": "stream",
     "text": [
      "\r  6%|▌         | 6215/111923 [00:03<01:07, 1570.47it/s]"
     ]
    },
    {
     "name": "stderr",
     "output_type": "stream",
     "text": [
      "\r  6%|▌         | 6394/111923 [00:04<01:07, 1574.81it/s]"
     ]
    },
    {
     "name": "stderr",
     "output_type": "stream",
     "text": [
      "\r  6%|▌         | 6571/111923 [00:04<01:06, 1579.02it/s]"
     ]
    },
    {
     "name": "stderr",
     "output_type": "stream",
     "text": [
      "\r  6%|▌         | 6750/111923 [00:04<01:06, 1583.69it/s]"
     ]
    },
    {
     "name": "stderr",
     "output_type": "stream",
     "text": [
      "\r  6%|▌         | 6927/111923 [00:04<01:06, 1587.71it/s]"
     ]
    },
    {
     "name": "stderr",
     "output_type": "stream",
     "text": [
      "\r  6%|▋         | 7114/111923 [00:04<01:05, 1593.76it/s]"
     ]
    },
    {
     "name": "stderr",
     "output_type": "stream",
     "text": [
      "\r  7%|▋         | 7296/111923 [00:04<01:05, 1598.46it/s]"
     ]
    },
    {
     "name": "stderr",
     "output_type": "stream",
     "text": [
      "\r  7%|▋         | 7483/111923 [00:04<01:05, 1604.03it/s]"
     ]
    },
    {
     "name": "stderr",
     "output_type": "stream",
     "text": [
      "\r  7%|▋         | 7668/111923 [00:04<01:04, 1608.95it/s]"
     ]
    },
    {
     "name": "stderr",
     "output_type": "stream",
     "text": [
      "\r  7%|▋         | 7853/111923 [00:04<01:04, 1613.71it/s]"
     ]
    },
    {
     "name": "stderr",
     "output_type": "stream",
     "text": [
      "\r  7%|▋         | 8038/111923 [00:04<01:04, 1618.22it/s]"
     ]
    },
    {
     "name": "stderr",
     "output_type": "stream",
     "text": [
      "\r  7%|▋         | 8221/111923 [00:05<01:03, 1621.21it/s]"
     ]
    },
    {
     "name": "stderr",
     "output_type": "stream",
     "text": [
      "\r  8%|▊         | 8407/111923 [00:05<01:03, 1625.59it/s]"
     ]
    },
    {
     "name": "stderr",
     "output_type": "stream",
     "text": [
      "\r  8%|▊         | 8607/111923 [00:05<01:03, 1632.60it/s]"
     ]
    },
    {
     "name": "stderr",
     "output_type": "stream",
     "text": [
      "\r  8%|▊         | 8795/111923 [00:05<01:03, 1636.07it/s]"
     ]
    },
    {
     "name": "stderr",
     "output_type": "stream",
     "text": [
      "\r  8%|▊         | 8981/111923 [00:05<01:02, 1639.94it/s]"
     ]
    },
    {
     "name": "stderr",
     "output_type": "stream",
     "text": [
      "\r  8%|▊         | 9167/111923 [00:05<01:02, 1643.67it/s]"
     ]
    },
    {
     "name": "stderr",
     "output_type": "stream",
     "text": [
      "\r  8%|▊         | 9353/111923 [00:05<01:02, 1646.99it/s]"
     ]
    },
    {
     "name": "stderr",
     "output_type": "stream",
     "text": [
      "\r  9%|▊         | 9538/111923 [00:05<01:02, 1649.43it/s]"
     ]
    },
    {
     "name": "stderr",
     "output_type": "stream",
     "text": [
      "\r  9%|▊         | 9724/111923 [00:05<01:01, 1652.54it/s]"
     ]
    },
    {
     "name": "stderr",
     "output_type": "stream",
     "text": [
      "\r  9%|▉         | 9914/111923 [00:05<01:01, 1656.51it/s]"
     ]
    },
    {
     "name": "stderr",
     "output_type": "stream",
     "text": [
      "\r  9%|▉         | 10099/111923 [00:06<01:01, 1658.95it/s]"
     ]
    },
    {
     "name": "stderr",
     "output_type": "stream",
     "text": [
      "\r  9%|▉         | 10288/111923 [00:06<01:01, 1662.49it/s]"
     ]
    },
    {
     "name": "stderr",
     "output_type": "stream",
     "text": [
      "\r  9%|▉         | 10481/111923 [00:06<01:00, 1666.63it/s]"
     ]
    },
    {
     "name": "stderr",
     "output_type": "stream",
     "text": [
      "\r 10%|▉         | 10668/111923 [00:06<01:00, 1669.10it/s]"
     ]
    },
    {
     "name": "stderr",
     "output_type": "stream",
     "text": [
      "\r 10%|▉         | 10861/111923 [00:06<01:00, 1672.93it/s]"
     ]
    },
    {
     "name": "stderr",
     "output_type": "stream",
     "text": [
      "\r 10%|▉         | 11049/111923 [00:06<01:00, 1675.63it/s]"
     ]
    },
    {
     "name": "stderr",
     "output_type": "stream",
     "text": [
      "\r 10%|█         | 11241/111923 [00:06<00:59, 1679.10it/s]"
     ]
    },
    {
     "name": "stderr",
     "output_type": "stream",
     "text": [
      "\r 10%|█         | 11431/111923 [00:06<00:59, 1682.17it/s]"
     ]
    },
    {
     "name": "stderr",
     "output_type": "stream",
     "text": [
      "\r 10%|█         | 11620/111923 [00:06<00:59, 1685.00it/s]"
     ]
    },
    {
     "name": "stderr",
     "output_type": "stream",
     "text": [
      "\r 11%|█         | 11812/111923 [00:06<00:59, 1688.19it/s]"
     ]
    },
    {
     "name": "stderr",
     "output_type": "stream",
     "text": [
      "\r 11%|█         | 12001/111923 [00:07<00:59, 1689.78it/s]"
     ]
    },
    {
     "name": "stderr",
     "output_type": "stream",
     "text": [
      "\r 11%|█         | 12187/111923 [00:07<00:59, 1689.40it/s]"
     ]
    },
    {
     "name": "stderr",
     "output_type": "stream",
     "text": [
      "\r 11%|█         | 12368/111923 [00:07<00:58, 1688.34it/s]"
     ]
    },
    {
     "name": "stderr",
     "output_type": "stream",
     "text": [
      "\r 11%|█         | 12543/111923 [00:07<00:58, 1688.09it/s]"
     ]
    },
    {
     "name": "stderr",
     "output_type": "stream",
     "text": [
      "\r 11%|█▏        | 12733/111923 [00:07<00:58, 1690.83it/s]"
     ]
    },
    {
     "name": "stderr",
     "output_type": "stream",
     "text": [
      "\r 12%|█▏        | 12917/111923 [00:07<00:58, 1692.62it/s]"
     ]
    },
    {
     "name": "stderr",
     "output_type": "stream",
     "text": [
      "\r 12%|█▏        | 13116/111923 [00:07<00:58, 1696.31it/s]"
     ]
    },
    {
     "name": "stderr",
     "output_type": "stream",
     "text": [
      "\r 12%|█▏        | 13306/111923 [00:07<00:58, 1698.75it/s]"
     ]
    },
    {
     "name": "stderr",
     "output_type": "stream",
     "text": [
      "\r 12%|█▏        | 13497/111923 [00:07<00:57, 1701.25it/s]"
     ]
    },
    {
     "name": "stderr",
     "output_type": "stream",
     "text": [
      "\r 12%|█▏        | 13685/111923 [00:08<00:57, 1703.32it/s]"
     ]
    },
    {
     "name": "stderr",
     "output_type": "stream",
     "text": [
      "\r 12%|█▏        | 13872/111923 [00:08<00:57, 1704.18it/s]"
     ]
    },
    {
     "name": "stderr",
     "output_type": "stream",
     "text": [
      "\r 13%|█▎        | 14056/111923 [00:08<00:57, 1701.29it/s]"
     ]
    },
    {
     "name": "stderr",
     "output_type": "stream",
     "text": [
      "\r 13%|█▎        | 14234/111923 [00:08<00:57, 1702.08it/s]"
     ]
    },
    {
     "name": "stderr",
     "output_type": "stream",
     "text": [
      "\r 13%|█▎        | 14409/111923 [00:08<00:57, 1700.90it/s]"
     ]
    },
    {
     "name": "stderr",
     "output_type": "stream",
     "text": [
      "\r 13%|█▎        | 14580/111923 [00:08<00:57, 1699.87it/s]"
     ]
    },
    {
     "name": "stderr",
     "output_type": "stream",
     "text": [
      "\r 13%|█▎        | 14748/111923 [00:08<00:57, 1698.72it/s]"
     ]
    },
    {
     "name": "stderr",
     "output_type": "stream",
     "text": [
      "\r 13%|█▎        | 14914/111923 [00:08<00:57, 1696.21it/s]"
     ]
    },
    {
     "name": "stderr",
     "output_type": "stream",
     "text": [
      "\r 13%|█▎        | 15089/111923 [00:08<00:57, 1696.67it/s]"
     ]
    },
    {
     "name": "stderr",
     "output_type": "stream",
     "text": [
      "\r 14%|█▎        | 15262/111923 [00:08<00:56, 1696.91it/s]"
     ]
    },
    {
     "name": "stderr",
     "output_type": "stream",
     "text": [
      "\r 14%|█▍        | 15434/111923 [00:09<00:56, 1697.02it/s]"
     ]
    },
    {
     "name": "stderr",
     "output_type": "stream",
     "text": [
      "\r 14%|█▍        | 15603/111923 [00:09<00:56, 1696.44it/s]"
     ]
    },
    {
     "name": "stderr",
     "output_type": "stream",
     "text": [
      "\r 14%|█▍        | 15787/111923 [00:09<00:56, 1697.85it/s]"
     ]
    },
    {
     "name": "stderr",
     "output_type": "stream",
     "text": [
      "\r 14%|█▍        | 15966/111923 [00:09<00:56, 1698.78it/s]"
     ]
    },
    {
     "name": "stderr",
     "output_type": "stream",
     "text": [
      "\r 14%|█▍        | 16147/111923 [00:09<00:56, 1699.82it/s]"
     ]
    },
    {
     "name": "stderr",
     "output_type": "stream",
     "text": [
      "\r 15%|█▍        | 16323/111923 [00:09<00:56, 1700.31it/s]"
     ]
    },
    {
     "name": "stderr",
     "output_type": "stream",
     "text": [
      "\r 15%|█▍        | 16513/111923 [00:09<00:56, 1702.23it/s]"
     ]
    },
    {
     "name": "stderr",
     "output_type": "stream",
     "text": [
      "\r 15%|█▍        | 16704/111923 [00:09<00:55, 1704.23it/s]"
     ]
    },
    {
     "name": "stderr",
     "output_type": "stream",
     "text": [
      "\r 15%|█▌        | 16900/111923 [00:09<00:55, 1706.68it/s]"
     ]
    },
    {
     "name": "stderr",
     "output_type": "stream",
     "text": [
      "\r 15%|█▌        | 17087/111923 [00:10<00:55, 1707.00it/s]"
     ]
    },
    {
     "name": "stderr",
     "output_type": "stream",
     "text": [
      "\r 15%|█▌        | 17270/111923 [00:10<00:55, 1706.25it/s]"
     ]
    },
    {
     "name": "stderr",
     "output_type": "stream",
     "text": [
      "\r 16%|█▌        | 17450/111923 [00:10<00:55, 1707.04it/s]"
     ]
    },
    {
     "name": "stderr",
     "output_type": "stream",
     "text": [
      "\r 16%|█▌        | 17628/111923 [00:10<00:55, 1706.31it/s]"
     ]
    },
    {
     "name": "stderr",
     "output_type": "stream",
     "text": [
      "\r 16%|█▌        | 17802/111923 [00:10<00:55, 1706.02it/s]"
     ]
    },
    {
     "name": "stderr",
     "output_type": "stream",
     "text": [
      "\r 16%|█▌        | 17985/111923 [00:10<00:55, 1707.15it/s]"
     ]
    },
    {
     "name": "stderr",
     "output_type": "stream",
     "text": [
      "\r 16%|█▌        | 18164/111923 [00:10<00:54, 1707.78it/s]"
     ]
    },
    {
     "name": "stderr",
     "output_type": "stream",
     "text": [
      "\r 16%|█▋        | 18341/111923 [00:10<00:54, 1708.08it/s]"
     ]
    },
    {
     "name": "stderr",
     "output_type": "stream",
     "text": [
      "\r 17%|█▋        | 18517/111923 [00:10<00:54, 1707.98it/s]"
     ]
    },
    {
     "name": "stderr",
     "output_type": "stream",
     "text": [
      "\r 17%|█▋        | 18692/111923 [00:10<00:54, 1708.25it/s]"
     ]
    },
    {
     "name": "stderr",
     "output_type": "stream",
     "text": [
      "\r 17%|█▋        | 18872/111923 [00:11<00:54, 1708.96it/s]"
     ]
    },
    {
     "name": "stderr",
     "output_type": "stream",
     "text": [
      "\r 17%|█▋        | 19048/111923 [00:11<00:54, 1704.35it/s]"
     ]
    },
    {
     "name": "stderr",
     "output_type": "stream",
     "text": [
      "\r 17%|█▋        | 19222/111923 [00:11<00:54, 1704.56it/s]"
     ]
    },
    {
     "name": "stderr",
     "output_type": "stream",
     "text": [
      "\r 17%|█▋        | 19388/111923 [00:11<00:54, 1701.82it/s]"
     ]
    },
    {
     "name": "stderr",
     "output_type": "stream",
     "text": [
      "\r 17%|█▋        | 19551/111923 [00:11<00:54, 1701.09it/s]"
     ]
    },
    {
     "name": "stderr",
     "output_type": "stream",
     "text": [
      "\r 18%|█▊        | 19711/111923 [00:11<00:54, 1698.79it/s]"
     ]
    },
    {
     "name": "stderr",
     "output_type": "stream",
     "text": [
      "\r 18%|█▊        | 19873/111923 [00:11<00:54, 1698.02it/s]"
     ]
    },
    {
     "name": "stderr",
     "output_type": "stream",
     "text": [
      "\r 18%|█▊        | 20031/111923 [00:11<00:54, 1696.12it/s]"
     ]
    },
    {
     "name": "stderr",
     "output_type": "stream",
     "text": [
      "\r 18%|█▊        | 20186/111923 [00:11<00:54, 1690.40it/s]"
     ]
    },
    {
     "name": "stderr",
     "output_type": "stream",
     "text": [
      "\r 18%|█▊        | 20340/111923 [00:12<00:54, 1689.05it/s]"
     ]
    },
    {
     "name": "stderr",
     "output_type": "stream",
     "text": [
      "\r 18%|█▊        | 20487/111923 [00:12<00:54, 1684.93it/s]"
     ]
    },
    {
     "name": "stderr",
     "output_type": "stream",
     "text": [
      "\r 18%|█▊        | 20628/111923 [00:12<00:54, 1680.26it/s]"
     ]
    },
    {
     "name": "stderr",
     "output_type": "stream",
     "text": [
      "\r 19%|█▊        | 20763/111923 [00:12<00:54, 1672.91it/s]"
     ]
    },
    {
     "name": "stderr",
     "output_type": "stream",
     "text": [
      "\r 19%|█▊        | 20887/111923 [00:12<00:54, 1667.76it/s]"
     ]
    },
    {
     "name": "stderr",
     "output_type": "stream",
     "text": [
      "\r 19%|█▉        | 21036/111923 [00:12<00:54, 1666.25it/s]"
     ]
    },
    {
     "name": "stderr",
     "output_type": "stream",
     "text": [
      "\r 19%|█▉        | 21198/111923 [00:12<00:54, 1665.80it/s]"
     ]
    },
    {
     "name": "stderr",
     "output_type": "stream",
     "text": [
      "\r 19%|█▉        | 21337/111923 [00:12<00:54, 1663.55it/s]"
     ]
    },
    {
     "name": "stderr",
     "output_type": "stream",
     "text": [
      "\r 19%|█▉        | 21475/111923 [00:12<00:54, 1660.36it/s]"
     ]
    },
    {
     "name": "stderr",
     "output_type": "stream",
     "text": [
      "\r 19%|█▉        | 21631/111923 [00:13<00:54, 1659.50it/s]"
     ]
    },
    {
     "name": "stderr",
     "output_type": "stream",
     "text": [
      "\r 19%|█▉        | 21791/111923 [00:13<00:54, 1658.96it/s]"
     ]
    },
    {
     "name": "stderr",
     "output_type": "stream",
     "text": [
      "\r 20%|█▉        | 21938/111923 [00:13<00:54, 1656.31it/s]"
     ]
    },
    {
     "name": "stderr",
     "output_type": "stream",
     "text": [
      "\r 20%|█▉        | 22083/111923 [00:13<00:54, 1654.68it/s]"
     ]
    },
    {
     "name": "stderr",
     "output_type": "stream",
     "text": [
      "\r 20%|█▉        | 22227/111923 [00:13<00:54, 1649.55it/s]"
     ]
    },
    {
     "name": "stderr",
     "output_type": "stream",
     "text": [
      "\r 20%|█▉        | 22384/111923 [00:13<00:54, 1648.88it/s]"
     ]
    },
    {
     "name": "stderr",
     "output_type": "stream",
     "text": [
      "\r 20%|██        | 22562/111923 [00:13<00:54, 1649.75it/s]"
     ]
    },
    {
     "name": "stderr",
     "output_type": "stream",
     "text": [
      "\r 20%|██        | 22714/111923 [00:13<00:54, 1647.29it/s]"
     ]
    },
    {
     "name": "stderr",
     "output_type": "stream",
     "text": [
      "\r 20%|██        | 22861/111923 [00:13<00:54, 1645.57it/s]"
     ]
    },
    {
     "name": "stderr",
     "output_type": "stream",
     "text": [
      "\r 21%|██        | 23006/111923 [00:13<00:54, 1644.09it/s]"
     ]
    },
    {
     "name": "stderr",
     "output_type": "stream",
     "text": [
      "\r 21%|██        | 23162/111923 [00:14<00:54, 1643.40it/s]"
     ]
    },
    {
     "name": "stderr",
     "output_type": "stream",
     "text": [
      "\r 21%|██        | 23326/111923 [00:14<00:53, 1643.30it/s]"
     ]
    },
    {
     "name": "stderr",
     "output_type": "stream",
     "text": [
      "\r 21%|██        | 23490/111923 [00:14<00:53, 1643.19it/s]"
     ]
    },
    {
     "name": "stderr",
     "output_type": "stream",
     "text": [
      "\r 21%|██        | 23670/111923 [00:14<00:53, 1644.24it/s]"
     ]
    },
    {
     "name": "stderr",
     "output_type": "stream",
     "text": [
      "\r 21%|██▏       | 23833/111923 [00:14<00:53, 1643.83it/s]"
     ]
    },
    {
     "name": "stderr",
     "output_type": "stream",
     "text": [
      "\r 21%|██▏       | 23995/111923 [00:14<00:53, 1643.15it/s]"
     ]
    },
    {
     "name": "stderr",
     "output_type": "stream",
     "text": [
      "\r 22%|██▏       | 24155/111923 [00:14<00:53, 1641.44it/s]"
     ]
    },
    {
     "name": "stderr",
     "output_type": "stream",
     "text": [
      "\r 22%|██▏       | 24316/111923 [00:14<00:53, 1641.15it/s]"
     ]
    },
    {
     "name": "stderr",
     "output_type": "stream",
     "text": [
      "\r 22%|██▏       | 24472/111923 [00:14<00:53, 1639.87it/s]"
     ]
    },
    {
     "name": "stderr",
     "output_type": "stream",
     "text": [
      "\r 22%|██▏       | 24647/111923 [00:15<00:53, 1640.52it/s]"
     ]
    },
    {
     "name": "stderr",
     "output_type": "stream",
     "text": [
      "\r 22%|██▏       | 24818/111923 [00:15<00:53, 1640.90it/s]"
     ]
    },
    {
     "name": "stderr",
     "output_type": "stream",
     "text": [
      "\r 22%|██▏       | 24981/111923 [00:15<00:53, 1637.32it/s]"
     ]
    },
    {
     "name": "stderr",
     "output_type": "stream",
     "text": [
      "\r 22%|██▏       | 25132/111923 [00:15<00:53, 1635.14it/s]"
     ]
    },
    {
     "name": "stderr",
     "output_type": "stream",
     "text": [
      "\r 23%|██▎       | 25287/111923 [00:15<00:53, 1634.54it/s]"
     ]
    },
    {
     "name": "stderr",
     "output_type": "stream",
     "text": [
      "\r 23%|██▎       | 25436/111923 [00:15<00:52, 1632.39it/s]"
     ]
    },
    {
     "name": "stderr",
     "output_type": "stream",
     "text": [
      "\r 23%|██▎       | 25585/111923 [00:15<00:52, 1631.40it/s]"
     ]
    },
    {
     "name": "stderr",
     "output_type": "stream",
     "text": [
      "\r 23%|██▎       | 25759/111923 [00:15<00:52, 1632.01it/s]"
     ]
    },
    {
     "name": "stderr",
     "output_type": "stream",
     "text": [
      "\r 23%|██▎       | 25933/111923 [00:15<00:52, 1632.61it/s]"
     ]
    },
    {
     "name": "stderr",
     "output_type": "stream",
     "text": [
      "\r 23%|██▎       | 26103/111923 [00:15<00:52, 1632.96it/s]"
     ]
    },
    {
     "name": "stderr",
     "output_type": "stream",
     "text": [
      "\r 23%|██▎       | 26272/111923 [00:16<00:52, 1633.25it/s]"
     ]
    },
    {
     "name": "stderr",
     "output_type": "stream",
     "text": [
      "\r 24%|██▎       | 26449/111923 [00:16<00:52, 1634.02it/s]"
     ]
    },
    {
     "name": "stderr",
     "output_type": "stream",
     "text": [
      "\r 24%|██▍       | 26635/111923 [00:16<00:52, 1635.33it/s]"
     ]
    },
    {
     "name": "stderr",
     "output_type": "stream",
     "text": [
      "\r 24%|██▍       | 26808/111923 [00:16<00:52, 1635.04it/s]"
     ]
    },
    {
     "name": "stderr",
     "output_type": "stream",
     "text": [
      "\r 24%|██▍       | 26977/111923 [00:16<00:51, 1633.67it/s]"
     ]
    },
    {
     "name": "stderr",
     "output_type": "stream",
     "text": [
      "\r 24%|██▍       | 27139/111923 [00:16<00:51, 1632.53it/s]"
     ]
    },
    {
     "name": "stderr",
     "output_type": "stream",
     "text": [
      "\r 24%|██▍       | 27296/111923 [00:16<00:51, 1631.60it/s]"
     ]
    },
    {
     "name": "stderr",
     "output_type": "stream",
     "text": [
      "\r 25%|██▍       | 27461/111923 [00:16<00:51, 1631.69it/s]"
     ]
    },
    {
     "name": "stderr",
     "output_type": "stream",
     "text": [
      "\r 25%|██▍       | 27619/111923 [00:16<00:51, 1630.45it/s]"
     ]
    },
    {
     "name": "stderr",
     "output_type": "stream",
     "text": [
      "\r 25%|██▍       | 27773/111923 [00:17<00:51, 1627.09it/s]"
     ]
    },
    {
     "name": "stderr",
     "output_type": "stream",
     "text": [
      "\r 25%|██▍       | 27917/111923 [00:17<00:51, 1621.50it/s]"
     ]
    },
    {
     "name": "stderr",
     "output_type": "stream",
     "text": [
      "\r 25%|██▌       | 28047/111923 [00:17<00:51, 1619.49it/s]"
     ]
    },
    {
     "name": "stderr",
     "output_type": "stream",
     "text": [
      "\r 25%|██▌       | 28176/111923 [00:17<00:51, 1617.06it/s]"
     ]
    },
    {
     "name": "stderr",
     "output_type": "stream",
     "text": [
      "\r 25%|██▌       | 28303/111923 [00:17<00:51, 1614.10it/s]"
     ]
    },
    {
     "name": "stderr",
     "output_type": "stream",
     "text": [
      "\r 25%|██▌       | 28478/111923 [00:17<00:51, 1614.84it/s]"
     ]
    },
    {
     "name": "stderr",
     "output_type": "stream",
     "text": [
      "\r 26%|██▌       | 28626/111923 [00:17<00:51, 1614.02it/s]"
     ]
    },
    {
     "name": "stderr",
     "output_type": "stream",
     "text": [
      "\r 26%|██▌       | 28781/111923 [00:17<00:51, 1613.59it/s]"
     ]
    },
    {
     "name": "stderr",
     "output_type": "stream",
     "text": [
      "\r 26%|██▌       | 28938/111923 [00:17<00:51, 1613.28it/s]"
     ]
    },
    {
     "name": "stderr",
     "output_type": "stream",
     "text": [
      "\r 26%|██▌       | 29087/111923 [00:18<00:51, 1612.09it/s]"
     ]
    },
    {
     "name": "stderr",
     "output_type": "stream",
     "text": [
      "\r 26%|██▌       | 29234/111923 [00:18<00:51, 1608.85it/s]"
     ]
    },
    {
     "name": "stderr",
     "output_type": "stream",
     "text": [
      "\r 26%|██▋       | 29406/111923 [00:18<00:51, 1609.39it/s]"
     ]
    },
    {
     "name": "stderr",
     "output_type": "stream",
     "text": [
      "\r 26%|██▋       | 29553/111923 [00:18<00:51, 1608.48it/s]"
     ]
    },
    {
     "name": "stderr",
     "output_type": "stream",
     "text": [
      "\r 27%|██▋       | 29730/111923 [00:18<00:51, 1609.30it/s]"
     ]
    },
    {
     "name": "stderr",
     "output_type": "stream",
     "text": [
      "\r 27%|██▋       | 29886/111923 [00:18<00:51, 1608.10it/s]"
     ]
    },
    {
     "name": "stderr",
     "output_type": "stream",
     "text": [
      "\r 27%|██▋       | 30037/111923 [00:18<00:50, 1606.57it/s]"
     ]
    },
    {
     "name": "stderr",
     "output_type": "stream",
     "text": [
      "\r 27%|██▋       | 30184/111923 [00:18<00:50, 1604.00it/s]"
     ]
    },
    {
     "name": "stderr",
     "output_type": "stream",
     "text": [
      "\r 27%|██▋       | 30341/111923 [00:18<00:50, 1603.76it/s]"
     ]
    },
    {
     "name": "stderr",
     "output_type": "stream",
     "text": [
      "\r 27%|██▋       | 30508/111923 [00:19<00:50, 1604.05it/s]"
     ]
    },
    {
     "name": "stderr",
     "output_type": "stream",
     "text": [
      "\r 27%|██▋       | 30659/111923 [00:19<00:50, 1603.24it/s]"
     ]
    },
    {
     "name": "stderr",
     "output_type": "stream",
     "text": [
      "\r 28%|██▊       | 30808/111923 [00:19<00:50, 1601.02it/s]"
     ]
    },
    {
     "name": "stderr",
     "output_type": "stream",
     "text": [
      "\r 28%|██▊       | 30976/111923 [00:19<00:50, 1601.36it/s]"
     ]
    },
    {
     "name": "stderr",
     "output_type": "stream",
     "text": [
      "\r 28%|██▊       | 31161/111923 [00:19<00:50, 1602.58it/s]"
     ]
    },
    {
     "name": "stderr",
     "output_type": "stream",
     "text": [
      "\r 28%|██▊       | 31349/111923 [00:19<00:50, 1603.94it/s]"
     ]
    },
    {
     "name": "stderr",
     "output_type": "stream",
     "text": [
      "\r 28%|██▊       | 31533/111923 [00:19<00:50, 1605.08it/s]"
     ]
    },
    {
     "name": "stderr",
     "output_type": "stream",
     "text": [
      "\r 28%|██▊       | 31706/111923 [00:19<00:49, 1605.58it/s]"
     ]
    },
    {
     "name": "stderr",
     "output_type": "stream",
     "text": [
      "\r 28%|██▊       | 31878/111923 [00:19<00:50, 1598.86it/s]"
     ]
    },
    {
     "name": "stderr",
     "output_type": "stream",
     "text": [
      "\r 29%|██▊       | 32026/111923 [00:20<00:50, 1594.01it/s]"
     ]
    },
    {
     "name": "stderr",
     "output_type": "stream",
     "text": [
      "\r 29%|██▊       | 32158/111923 [00:20<00:50, 1588.20it/s]"
     ]
    },
    {
     "name": "stderr",
     "output_type": "stream",
     "text": [
      "\r 29%|██▉       | 32276/111923 [00:20<00:50, 1583.18it/s]"
     ]
    },
    {
     "name": "stderr",
     "output_type": "stream",
     "text": [
      "\r 29%|██▉       | 32384/111923 [00:20<00:50, 1578.74it/s]"
     ]
    },
    {
     "name": "stderr",
     "output_type": "stream",
     "text": [
      "\r 29%|██▉       | 32486/111923 [00:20<00:50, 1574.37it/s]"
     ]
    },
    {
     "name": "stderr",
     "output_type": "stream",
     "text": [
      "\r 29%|██▉       | 32583/111923 [00:20<00:50, 1570.33it/s]"
     ]
    },
    {
     "name": "stderr",
     "output_type": "stream",
     "text": [
      "\r 29%|██▉       | 32676/111923 [00:20<00:50, 1566.83it/s]"
     ]
    },
    {
     "name": "stderr",
     "output_type": "stream",
     "text": [
      "\r 29%|██▉       | 32770/111923 [00:20<00:50, 1563.78it/s]"
     ]
    },
    {
     "name": "stderr",
     "output_type": "stream",
     "text": [
      "\r 29%|██▉       | 32864/111923 [00:21<00:50, 1560.76it/s]"
     ]
    },
    {
     "name": "stderr",
     "output_type": "stream",
     "text": [
      "\r 29%|██▉       | 32958/111923 [00:21<00:50, 1557.62it/s]"
     ]
    },
    {
     "name": "stderr",
     "output_type": "stream",
     "text": [
      "\r 30%|██▉       | 33051/111923 [00:21<00:50, 1553.67it/s]"
     ]
    },
    {
     "name": "stderr",
     "output_type": "stream",
     "text": [
      "\r 30%|██▉       | 33141/111923 [00:21<00:50, 1550.55it/s]"
     ]
    },
    {
     "name": "stderr",
     "output_type": "stream",
     "text": [
      "\r 30%|██▉       | 33231/111923 [00:21<00:50, 1546.46it/s]"
     ]
    },
    {
     "name": "stderr",
     "output_type": "stream",
     "text": [
      "\r 30%|██▉       | 33321/111923 [00:21<00:50, 1543.41it/s]"
     ]
    },
    {
     "name": "stderr",
     "output_type": "stream",
     "text": [
      "\r 30%|██▉       | 33410/111923 [00:21<00:50, 1540.34it/s]"
     ]
    },
    {
     "name": "stderr",
     "output_type": "stream",
     "text": [
      "\r 30%|██▉       | 33502/111923 [00:21<00:51, 1537.37it/s]"
     ]
    },
    {
     "name": "stderr",
     "output_type": "stream",
     "text": [
      "\r 30%|███       | 33594/111923 [00:21<00:51, 1534.50it/s]"
     ]
    },
    {
     "name": "stderr",
     "output_type": "stream",
     "text": [
      "\r 30%|███       | 33684/111923 [00:22<00:51, 1530.58it/s]"
     ]
    },
    {
     "name": "stderr",
     "output_type": "stream",
     "text": [
      "\r 30%|███       | 33771/111923 [00:22<00:51, 1527.40it/s]"
     ]
    },
    {
     "name": "stderr",
     "output_type": "stream",
     "text": [
      "\r 30%|███       | 33857/111923 [00:22<00:51, 1524.34it/s]"
     ]
    },
    {
     "name": "stderr",
     "output_type": "stream",
     "text": [
      "\r 30%|███       | 33943/111923 [00:22<00:51, 1520.49it/s]"
     ]
    },
    {
     "name": "stderr",
     "output_type": "stream",
     "text": [
      "\r 30%|███       | 34026/111923 [00:22<00:51, 1516.88it/s]"
     ]
    },
    {
     "name": "stderr",
     "output_type": "stream",
     "text": [
      "\r 30%|███       | 34115/111923 [00:22<00:51, 1514.05it/s]"
     ]
    },
    {
     "name": "stderr",
     "output_type": "stream",
     "text": [
      "\r 31%|███       | 34200/111923 [00:22<00:51, 1510.93it/s]"
     ]
    },
    {
     "name": "stderr",
     "output_type": "stream",
     "text": [
      "\r 31%|███       | 34290/111923 [00:22<00:51, 1508.20it/s]"
     ]
    },
    {
     "name": "stderr",
     "output_type": "stream",
     "text": [
      "\r 31%|███       | 34384/111923 [00:22<00:51, 1505.58it/s]"
     ]
    },
    {
     "name": "stderr",
     "output_type": "stream",
     "text": [
      "\r 31%|███       | 34514/111923 [00:22<00:51, 1504.63it/s]"
     ]
    },
    {
     "name": "stderr",
     "output_type": "stream",
     "text": [
      "\r 31%|███       | 34636/111923 [00:23<00:51, 1503.28it/s]"
     ]
    },
    {
     "name": "stderr",
     "output_type": "stream",
     "text": [
      "\r 31%|███       | 34773/111923 [00:23<00:51, 1502.70it/s]"
     ]
    },
    {
     "name": "stderr",
     "output_type": "stream",
     "text": [
      "\r 31%|███       | 34940/111923 [00:23<00:51, 1503.30it/s]"
     ]
    },
    {
     "name": "stderr",
     "output_type": "stream",
     "text": [
      "\r 31%|███▏      | 35127/111923 [00:23<00:51, 1504.83it/s]"
     ]
    },
    {
     "name": "stderr",
     "output_type": "stream",
     "text": [
      "\r 32%|███▏      | 35296/111923 [00:23<00:50, 1505.57it/s]"
     ]
    },
    {
     "name": "stderr",
     "output_type": "stream",
     "text": [
      "\r 32%|███▏      | 35475/111923 [00:23<00:50, 1506.73it/s]"
     ]
    },
    {
     "name": "stderr",
     "output_type": "stream",
     "text": [
      "\r 32%|███▏      | 35664/111923 [00:23<00:50, 1508.30it/s]"
     ]
    },
    {
     "name": "stderr",
     "output_type": "stream",
     "text": [
      "\r 32%|███▏      | 35841/111923 [00:23<00:50, 1509.36it/s]"
     ]
    },
    {
     "name": "stderr",
     "output_type": "stream",
     "text": [
      "\r 32%|███▏      | 36012/111923 [00:23<00:50, 1506.35it/s]"
     ]
    },
    {
     "name": "stderr",
     "output_type": "stream",
     "text": [
      "\r 32%|███▏      | 36164/111923 [00:24<00:50, 1502.92it/s]"
     ]
    },
    {
     "name": "stderr",
     "output_type": "stream",
     "text": [
      "\r 32%|███▏      | 36300/111923 [00:24<00:50, 1499.13it/s]"
     ]
    },
    {
     "name": "stderr",
     "output_type": "stream",
     "text": [
      "\r 33%|███▎      | 36422/111923 [00:24<00:50, 1496.22it/s]"
     ]
    },
    {
     "name": "stderr",
     "output_type": "stream",
     "text": [
      "\r 33%|███▎      | 36536/111923 [00:24<00:50, 1492.46it/s]"
     ]
    },
    {
     "name": "stderr",
     "output_type": "stream",
     "text": [
      "\r 33%|███▎      | 36641/111923 [00:24<00:50, 1489.83it/s]"
     ]
    },
    {
     "name": "stderr",
     "output_type": "stream",
     "text": [
      "\r 33%|███▎      | 36742/111923 [00:24<00:50, 1487.67it/s]"
     ]
    },
    {
     "name": "stderr",
     "output_type": "stream",
     "text": [
      "\r 33%|███▎      | 36842/111923 [00:24<00:50, 1485.00it/s]"
     ]
    },
    {
     "name": "stderr",
     "output_type": "stream",
     "text": [
      "\r 33%|███▎      | 36939/111923 [00:24<00:50, 1481.82it/s]"
     ]
    },
    {
     "name": "stderr",
     "output_type": "stream",
     "text": [
      "\r 33%|███▎      | 37036/111923 [00:25<00:50, 1479.73it/s]"
     ]
    },
    {
     "name": "stderr",
     "output_type": "stream",
     "text": [
      "\r 33%|███▎      | 37131/111923 [00:25<00:50, 1477.52it/s]"
     ]
    },
    {
     "name": "stderr",
     "output_type": "stream",
     "text": [
      "\r 33%|███▎      | 37225/111923 [00:25<00:50, 1474.88it/s]"
     ]
    },
    {
     "name": "stderr",
     "output_type": "stream",
     "text": [
      "\r 33%|███▎      | 37321/111923 [00:25<00:50, 1472.86it/s]"
     ]
    },
    {
     "name": "stderr",
     "output_type": "stream",
     "text": [
      "\r 33%|███▎      | 37414/111923 [00:25<00:50, 1470.40it/s]"
     ]
    },
    {
     "name": "stderr",
     "output_type": "stream",
     "text": [
      "\r 34%|███▎      | 37506/111923 [00:25<00:50, 1467.97it/s]"
     ]
    },
    {
     "name": "stderr",
     "output_type": "stream",
     "text": [
      "\r 34%|███▎      | 37602/111923 [00:25<00:50, 1465.95it/s]"
     ]
    },
    {
     "name": "stderr",
     "output_type": "stream",
     "text": [
      "\r 34%|███▎      | 37705/111923 [00:25<00:50, 1464.21it/s]"
     ]
    },
    {
     "name": "stderr",
     "output_type": "stream",
     "text": [
      "\r 34%|███▍      | 37800/111923 [00:25<00:50, 1461.33it/s]"
     ]
    },
    {
     "name": "stderr",
     "output_type": "stream",
     "text": [
      "\r 34%|███▍      | 37892/111923 [00:26<00:50, 1456.51it/s]"
     ]
    },
    {
     "name": "stderr",
     "output_type": "stream",
     "text": [
      "\r 34%|███▍      | 37975/111923 [00:26<00:50, 1452.41it/s]"
     ]
    },
    {
     "name": "stderr",
     "output_type": "stream",
     "text": [
      "\r 34%|███▍      | 38052/111923 [00:26<00:50, 1449.11it/s]"
     ]
    },
    {
     "name": "stderr",
     "output_type": "stream",
     "text": [
      "\r 34%|███▍      | 38137/111923 [00:26<00:50, 1446.79it/s]"
     ]
    },
    {
     "name": "stderr",
     "output_type": "stream",
     "text": [
      "\r 34%|███▍      | 38231/111923 [00:26<00:51, 1444.84it/s]"
     ]
    },
    {
     "name": "stderr",
     "output_type": "stream",
     "text": [
      "\r 34%|███▍      | 38314/111923 [00:26<00:51, 1442.48it/s]"
     ]
    },
    {
     "name": "stderr",
     "output_type": "stream",
     "text": [
      "\r 34%|███▍      | 38398/111923 [00:26<00:51, 1440.18it/s]"
     ]
    },
    {
     "name": "stderr",
     "output_type": "stream",
     "text": [
      "\r 34%|███▍      | 38481/111923 [00:26<00:51, 1436.79it/s]"
     ]
    },
    {
     "name": "stderr",
     "output_type": "stream",
     "text": [
      "\r 34%|███▍      | 38593/111923 [00:26<00:51, 1435.57it/s]"
     ]
    },
    {
     "name": "stderr",
     "output_type": "stream",
     "text": [
      "\r 35%|███▍      | 38754/111923 [00:26<00:50, 1436.21it/s]"
     ]
    },
    {
     "name": "stderr",
     "output_type": "stream",
     "text": [
      "\r 35%|███▍      | 38911/111923 [00:27<00:50, 1436.64it/s]"
     ]
    },
    {
     "name": "stderr",
     "output_type": "stream",
     "text": [
      "\r 35%|███▍      | 39045/111923 [00:27<00:50, 1436.25it/s]"
     ]
    },
    {
     "name": "stderr",
     "output_type": "stream",
     "text": [
      "\r 35%|███▌      | 39201/111923 [00:27<00:50, 1436.69it/s]"
     ]
    },
    {
     "name": "stderr",
     "output_type": "stream",
     "text": [
      "\r 35%|███▌      | 39375/111923 [00:27<00:50, 1437.75it/s]"
     ]
    },
    {
     "name": "stderr",
     "output_type": "stream",
     "text": [
      "\r 35%|███▌      | 39558/111923 [00:27<00:50, 1439.14it/s]"
     ]
    },
    {
     "name": "stderr",
     "output_type": "stream",
     "text": [
      "\r 36%|███▌      | 39750/111923 [00:27<00:50, 1440.84it/s]"
     ]
    },
    {
     "name": "stderr",
     "output_type": "stream",
     "text": [
      "\r 36%|███▌      | 39928/111923 [00:27<00:49, 1442.03it/s]"
     ]
    },
    {
     "name": "stderr",
     "output_type": "stream",
     "text": [
      "\r 36%|███▌      | 40113/111923 [00:27<00:49, 1443.46it/s]"
     ]
    },
    {
     "name": "stderr",
     "output_type": "stream",
     "text": [
      "\r 36%|███▌      | 40288/111923 [00:27<00:49, 1441.69it/s]"
     ]
    },
    {
     "name": "stderr",
     "output_type": "stream",
     "text": [
      "\r 36%|███▌      | 40444/111923 [00:28<00:49, 1438.77it/s]"
     ]
    },
    {
     "name": "stderr",
     "output_type": "stream",
     "text": [
      "\r 36%|███▋      | 40582/111923 [00:28<00:49, 1435.83it/s]"
     ]
    },
    {
     "name": "stderr",
     "output_type": "stream",
     "text": [
      "\r 36%|███▋      | 40706/111923 [00:28<00:49, 1433.34it/s]"
     ]
    },
    {
     "name": "stderr",
     "output_type": "stream",
     "text": [
      "\r 36%|███▋      | 40820/111923 [00:28<00:49, 1431.27it/s]"
     ]
    },
    {
     "name": "stderr",
     "output_type": "stream",
     "text": [
      "\r 37%|███▋      | 40928/111923 [00:28<00:49, 1428.86it/s]"
     ]
    },
    {
     "name": "stderr",
     "output_type": "stream",
     "text": [
      "\r 37%|███▋      | 41030/111923 [00:28<00:49, 1426.46it/s]"
     ]
    },
    {
     "name": "stderr",
     "output_type": "stream",
     "text": [
      "\r 37%|███▋      | 41127/111923 [00:28<00:49, 1424.80it/s]"
     ]
    },
    {
     "name": "stderr",
     "output_type": "stream",
     "text": [
      "\r 37%|███▋      | 41224/111923 [00:28<00:49, 1422.85it/s]"
     ]
    },
    {
     "name": "stderr",
     "output_type": "stream",
     "text": [
      "\r 37%|███▋      | 41324/111923 [00:29<00:49, 1421.36it/s]"
     ]
    },
    {
     "name": "stderr",
     "output_type": "stream",
     "text": [
      "\r 37%|███▋      | 41428/111923 [00:29<00:49, 1420.01it/s]"
     ]
    },
    {
     "name": "stderr",
     "output_type": "stream",
     "text": [
      "\r 37%|███▋      | 41527/111923 [00:29<00:49, 1418.02it/s]"
     ]
    },
    {
     "name": "stderr",
     "output_type": "stream",
     "text": [
      "\r 37%|███▋      | 41623/111923 [00:29<00:49, 1416.28it/s]"
     ]
    },
    {
     "name": "stderr",
     "output_type": "stream",
     "text": [
      "\r 37%|███▋      | 41719/111923 [00:29<00:49, 1414.70it/s]"
     ]
    },
    {
     "name": "stderr",
     "output_type": "stream",
     "text": [
      "\r 37%|███▋      | 41816/111923 [00:29<00:49, 1413.11it/s]"
     ]
    },
    {
     "name": "stderr",
     "output_type": "stream",
     "text": [
      "\r 37%|███▋      | 41911/111923 [00:29<00:49, 1411.47it/s]"
     ]
    },
    {
     "name": "stderr",
     "output_type": "stream",
     "text": [
      "\r 38%|███▊      | 42006/111923 [00:29<00:49, 1409.65it/s]"
     ]
    },
    {
     "name": "stderr",
     "output_type": "stream",
     "text": [
      "\r 38%|███▊      | 42163/111923 [00:29<00:49, 1410.15it/s]"
     ]
    },
    {
     "name": "stderr",
     "output_type": "stream",
     "text": [
      "\r 38%|███▊      | 42345/111923 [00:30<00:49, 1411.48it/s]"
     ]
    },
    {
     "name": "stderr",
     "output_type": "stream",
     "text": [
      "\r 38%|███▊      | 42534/111923 [00:30<00:49, 1413.03it/s]"
     ]
    },
    {
     "name": "stderr",
     "output_type": "stream",
     "text": [
      "\r 38%|███▊      | 42732/111923 [00:30<00:48, 1414.88it/s]"
     ]
    },
    {
     "name": "stderr",
     "output_type": "stream",
     "text": [
      "\r 38%|███▊      | 42919/111923 [00:30<00:48, 1416.35it/s]"
     ]
    },
    {
     "name": "stderr",
     "output_type": "stream",
     "text": [
      "\r 39%|███▊      | 43102/111923 [00:30<00:48, 1417.67it/s]"
     ]
    },
    {
     "name": "stderr",
     "output_type": "stream",
     "text": [
      "\r 39%|███▊      | 43290/111923 [00:30<00:48, 1419.15it/s]"
     ]
    },
    {
     "name": "stderr",
     "output_type": "stream",
     "text": [
      "\r 39%|███▉      | 43491/111923 [00:30<00:48, 1421.05it/s]"
     ]
    },
    {
     "name": "stderr",
     "output_type": "stream",
     "text": [
      "\r 39%|███▉      | 43676/111923 [00:30<00:47, 1422.39it/s]"
     ]
    },
    {
     "name": "stderr",
     "output_type": "stream",
     "text": [
      "\r 39%|███▉      | 43867/111923 [00:30<00:47, 1423.94it/s]"
     ]
    },
    {
     "name": "stderr",
     "output_type": "stream",
     "text": [
      "\r 39%|███▉      | 44053/111923 [00:30<00:47, 1425.13it/s]"
     ]
    },
    {
     "name": "stderr",
     "output_type": "stream",
     "text": [
      "\r 40%|███▉      | 44243/111923 [00:31<00:47, 1426.63it/s]"
     ]
    },
    {
     "name": "stderr",
     "output_type": "stream",
     "text": [
      "\r 40%|███▉      | 44430/111923 [00:31<00:47, 1428.02it/s]"
     ]
    },
    {
     "name": "stderr",
     "output_type": "stream",
     "text": [
      "\r 40%|███▉      | 44622/111923 [00:31<00:47, 1429.56it/s]"
     ]
    },
    {
     "name": "stderr",
     "output_type": "stream",
     "text": [
      "\r 40%|████      | 44813/111923 [00:31<00:46, 1431.06it/s]"
     ]
    },
    {
     "name": "stderr",
     "output_type": "stream",
     "text": [
      "\r 40%|████      | 45001/111923 [00:31<00:46, 1432.10it/s]"
     ]
    },
    {
     "name": "stderr",
     "output_type": "stream",
     "text": [
      "\r 40%|████      | 45185/111923 [00:31<00:46, 1432.72it/s]"
     ]
    },
    {
     "name": "stderr",
     "output_type": "stream",
     "text": [
      "\r 41%|████      | 45362/111923 [00:31<00:46, 1433.75it/s]"
     ]
    },
    {
     "name": "stderr",
     "output_type": "stream",
     "text": [
      "\r 41%|████      | 45539/111923 [00:31<00:46, 1432.35it/s]"
     ]
    },
    {
     "name": "stderr",
     "output_type": "stream",
     "text": [
      "\r 41%|████      | 45697/111923 [00:31<00:46, 1429.90it/s]"
     ]
    },
    {
     "name": "stderr",
     "output_type": "stream",
     "text": [
      "\r 41%|████      | 45837/111923 [00:32<00:46, 1427.11it/s]"
     ]
    },
    {
     "name": "stderr",
     "output_type": "stream",
     "text": [
      "\r 41%|████      | 45961/111923 [00:32<00:46, 1424.24it/s]"
     ]
    },
    {
     "name": "stderr",
     "output_type": "stream",
     "text": [
      "\r 41%|████      | 46072/111923 [00:32<00:46, 1422.05it/s]"
     ]
    },
    {
     "name": "stderr",
     "output_type": "stream",
     "text": [
      "\r 41%|████▏     | 46176/111923 [00:32<00:46, 1420.28it/s]"
     ]
    },
    {
     "name": "stderr",
     "output_type": "stream",
     "text": [
      "\r 41%|████▏     | 46277/111923 [00:32<00:46, 1417.99it/s]"
     ]
    },
    {
     "name": "stderr",
     "output_type": "stream",
     "text": [
      "\r 41%|████▏     | 46374/111923 [00:32<00:46, 1416.59it/s]"
     ]
    },
    {
     "name": "stderr",
     "output_type": "stream",
     "text": [
      "\r 42%|████▏     | 46470/111923 [00:32<00:46, 1413.75it/s]"
     ]
    },
    {
     "name": "stderr",
     "output_type": "stream",
     "text": [
      "\r 42%|████▏     | 46559/111923 [00:32<00:46, 1411.40it/s]"
     ]
    },
    {
     "name": "stderr",
     "output_type": "stream",
     "text": [
      "\r 42%|████▏     | 46644/111923 [00:33<00:46, 1409.63it/s]"
     ]
    },
    {
     "name": "stderr",
     "output_type": "stream",
     "text": [
      "\r 42%|████▏     | 46734/111923 [00:33<00:46, 1408.07it/s]"
     ]
    },
    {
     "name": "stderr",
     "output_type": "stream",
     "text": [
      "\r 42%|████▏     | 46827/111923 [00:33<00:46, 1406.59it/s]"
     ]
    },
    {
     "name": "stderr",
     "output_type": "stream",
     "text": [
      "\r 42%|████▏     | 46915/111923 [00:33<00:46, 1404.52it/s]"
     ]
    },
    {
     "name": "stderr",
     "output_type": "stream",
     "text": [
      "\r 42%|████▏     | 47000/111923 [00:33<00:46, 1402.83it/s]"
     ]
    },
    {
     "name": "stderr",
     "output_type": "stream",
     "text": [
      "\r 42%|████▏     | 47090/111923 [00:33<00:46, 1401.30it/s]"
     ]
    },
    {
     "name": "stderr",
     "output_type": "stream",
     "text": [
      "\r 42%|████▏     | 47186/111923 [00:33<00:46, 1399.84it/s]"
     ]
    },
    {
     "name": "stderr",
     "output_type": "stream",
     "text": [
      "\r 42%|████▏     | 47292/111923 [00:33<00:46, 1398.84it/s]"
     ]
    },
    {
     "name": "stderr",
     "output_type": "stream",
     "text": [
      "\r 42%|████▏     | 47393/111923 [00:33<00:46, 1397.66it/s]"
     ]
    },
    {
     "name": "stderr",
     "output_type": "stream",
     "text": [
      "\r 42%|████▏     | 47489/111923 [00:34<00:46, 1395.93it/s]"
     ]
    },
    {
     "name": "stderr",
     "output_type": "stream",
     "text": [
      "\r 43%|████▎     | 47582/111923 [00:34<00:46, 1394.29it/s]"
     ]
    },
    {
     "name": "stderr",
     "output_type": "stream",
     "text": [
      "\r 43%|████▎     | 47674/111923 [00:34<00:46, 1392.72it/s]"
     ]
    },
    {
     "name": "stderr",
     "output_type": "stream",
     "text": [
      "\r 43%|████▎     | 47765/111923 [00:34<00:46, 1391.04it/s]"
     ]
    },
    {
     "name": "stderr",
     "output_type": "stream",
     "text": [
      "\r 43%|████▎     | 47857/111923 [00:34<00:46, 1389.64it/s]"
     ]
    },
    {
     "name": "stderr",
     "output_type": "stream",
     "text": [
      "\r 43%|████▎     | 47947/111923 [00:34<00:46, 1388.19it/s]"
     ]
    },
    {
     "name": "stderr",
     "output_type": "stream",
     "text": [
      "\r 43%|████▎     | 48039/111923 [00:34<00:46, 1386.81it/s]"
     ]
    },
    {
     "name": "stderr",
     "output_type": "stream",
     "text": [
      "\r 43%|████▎     | 48130/111923 [00:34<00:46, 1385.29it/s]"
     ]
    },
    {
     "name": "stderr",
     "output_type": "stream",
     "text": [
      "\r 43%|████▎     | 48222/111923 [00:34<00:46, 1383.93it/s]"
     ]
    },
    {
     "name": "stderr",
     "output_type": "stream",
     "text": [
      "\r 43%|████▎     | 48322/111923 [00:34<00:45, 1382.80it/s]"
     ]
    },
    {
     "name": "stderr",
     "output_type": "stream",
     "text": [
      "\r 43%|████▎     | 48415/111923 [00:35<00:45, 1381.44it/s]"
     ]
    },
    {
     "name": "stderr",
     "output_type": "stream",
     "text": [
      "\r 43%|████▎     | 48514/111923 [00:35<00:45, 1380.29it/s]"
     ]
    },
    {
     "name": "stderr",
     "output_type": "stream",
     "text": [
      "\r 43%|████▎     | 48609/111923 [00:35<00:45, 1378.62it/s]"
     ]
    },
    {
     "name": "stderr",
     "output_type": "stream",
     "text": [
      "\r 44%|████▎     | 48701/111923 [00:35<00:45, 1377.25it/s]"
     ]
    },
    {
     "name": "stderr",
     "output_type": "stream",
     "text": [
      "\r 44%|████▎     | 48793/111923 [00:35<00:45, 1375.93it/s]"
     ]
    },
    {
     "name": "stderr",
     "output_type": "stream",
     "text": [
      "\r 44%|████▎     | 48885/111923 [00:35<00:45, 1374.50it/s]"
     ]
    },
    {
     "name": "stderr",
     "output_type": "stream",
     "text": [
      "\r 44%|████▍     | 48987/111923 [00:35<00:45, 1373.52it/s]"
     ]
    },
    {
     "name": "stderr",
     "output_type": "stream",
     "text": [
      "\r 44%|████▍     | 49084/111923 [00:35<00:45, 1372.36it/s]"
     ]
    },
    {
     "name": "stderr",
     "output_type": "stream",
     "text": [
      "\r 44%|████▍     | 49190/111923 [00:35<00:45, 1371.46it/s]"
     ]
    },
    {
     "name": "stderr",
     "output_type": "stream",
     "text": [
      "\r 44%|████▍     | 49290/111923 [00:35<00:45, 1370.40it/s]"
     ]
    },
    {
     "name": "stderr",
     "output_type": "stream",
     "text": [
      "\r 44%|████▍     | 49389/111923 [00:36<00:45, 1368.98it/s]"
     ]
    },
    {
     "name": "stderr",
     "output_type": "stream",
     "text": [
      "\r 44%|████▍     | 49485/111923 [00:36<00:45, 1367.25it/s]"
     ]
    },
    {
     "name": "stderr",
     "output_type": "stream",
     "text": [
      "\r 44%|████▍     | 49577/111923 [00:36<00:45, 1365.80it/s]"
     ]
    },
    {
     "name": "stderr",
     "output_type": "stream",
     "text": [
      "\r 44%|████▍     | 49671/111923 [00:36<00:45, 1364.57it/s]"
     ]
    },
    {
     "name": "stderr",
     "output_type": "stream",
     "text": [
      "\r 44%|████▍     | 49763/111923 [00:36<00:45, 1362.99it/s]"
     ]
    },
    {
     "name": "stderr",
     "output_type": "stream",
     "text": [
      "\r 45%|████▍     | 49860/111923 [00:36<00:45, 1361.88it/s]"
     ]
    },
    {
     "name": "stderr",
     "output_type": "stream",
     "text": [
      "\r 45%|████▍     | 49955/111923 [00:36<00:45, 1360.73it/s]"
     ]
    },
    {
     "name": "stderr",
     "output_type": "stream",
     "text": [
      "\r 45%|████▍     | 50048/111923 [00:36<00:45, 1359.53it/s]"
     ]
    },
    {
     "name": "stderr",
     "output_type": "stream",
     "text": [
      "\r 45%|████▍     | 50141/111923 [00:36<00:45, 1358.34it/s]"
     ]
    },
    {
     "name": "stderr",
     "output_type": "stream",
     "text": [
      "\r 45%|████▍     | 50247/111923 [00:37<00:45, 1357.51it/s]"
     ]
    },
    {
     "name": "stderr",
     "output_type": "stream",
     "text": [
      "\r 45%|████▍     | 50344/111923 [00:37<00:45, 1356.40it/s]"
     ]
    },
    {
     "name": "stderr",
     "output_type": "stream",
     "text": [
      "\r 45%|████▌     | 50440/111923 [00:37<00:45, 1355.31it/s]"
     ]
    },
    {
     "name": "stderr",
     "output_type": "stream",
     "text": [
      "\r 45%|████▌     | 50536/111923 [00:37<00:45, 1353.61it/s]"
     ]
    },
    {
     "name": "stderr",
     "output_type": "stream",
     "text": [
      "\r 45%|████▌     | 50628/111923 [00:37<00:45, 1352.06it/s]"
     ]
    },
    {
     "name": "stderr",
     "output_type": "stream",
     "text": [
      "\r 45%|████▌     | 50718/111923 [00:37<00:45, 1350.83it/s]"
     ]
    },
    {
     "name": "stderr",
     "output_type": "stream",
     "text": [
      "\r 45%|████▌     | 50808/111923 [00:37<00:45, 1349.36it/s]"
     ]
    },
    {
     "name": "stderr",
     "output_type": "stream",
     "text": [
      "\r 45%|████▌     | 50896/111923 [00:37<00:45, 1348.05it/s]"
     ]
    },
    {
     "name": "stderr",
     "output_type": "stream",
     "text": [
      "\r 46%|████▌     | 50984/111923 [00:37<00:45, 1346.54it/s]"
     ]
    },
    {
     "name": "stderr",
     "output_type": "stream",
     "text": [
      "\r 46%|████▌     | 51098/111923 [00:37<00:45, 1346.00it/s]"
     ]
    },
    {
     "name": "stderr",
     "output_type": "stream",
     "text": [
      "\r 46%|████▌     | 51252/111923 [00:38<00:45, 1346.45it/s]"
     ]
    },
    {
     "name": "stderr",
     "output_type": "stream",
     "text": [
      "\r 46%|████▌     | 51413/111923 [00:38<00:44, 1347.12it/s]"
     ]
    },
    {
     "name": "stderr",
     "output_type": "stream",
     "text": [
      "\r 46%|████▌     | 51572/111923 [00:38<00:44, 1347.75it/s]"
     ]
    },
    {
     "name": "stderr",
     "output_type": "stream",
     "text": [
      "\r 46%|████▌     | 51763/111923 [00:38<00:44, 1349.19it/s]"
     ]
    },
    {
     "name": "stderr",
     "output_type": "stream",
     "text": [
      "\r 46%|████▋     | 51942/111923 [00:38<00:44, 1350.24it/s]"
     ]
    },
    {
     "name": "stderr",
     "output_type": "stream",
     "text": [
      "\r 47%|████▋     | 52127/111923 [00:38<00:44, 1351.51it/s]"
     ]
    },
    {
     "name": "stderr",
     "output_type": "stream",
     "text": [
      "\r 47%|████▋     | 52307/111923 [00:38<00:44, 1352.64it/s]"
     ]
    },
    {
     "name": "stderr",
     "output_type": "stream",
     "text": [
      "\r 47%|████▋     | 52487/111923 [00:38<00:43, 1353.77it/s]"
     ]
    },
    {
     "name": "stderr",
     "output_type": "stream",
     "text": [
      "\r 47%|████▋     | 52688/111923 [00:38<00:43, 1355.43it/s]"
     ]
    },
    {
     "name": "stderr",
     "output_type": "stream",
     "text": [
      "\r 47%|████▋     | 52894/111923 [00:38<00:43, 1357.21it/s]"
     ]
    },
    {
     "name": "stderr",
     "output_type": "stream",
     "text": [
      "\r 47%|████▋     | 53088/111923 [00:39<00:43, 1358.68it/s]"
     ]
    },
    {
     "name": "stderr",
     "output_type": "stream",
     "text": [
      "\r 48%|████▊     | 53285/111923 [00:39<00:43, 1360.22it/s]"
     ]
    },
    {
     "name": "stderr",
     "output_type": "stream",
     "text": [
      "\r 48%|████▊     | 53489/111923 [00:39<00:42, 1361.93it/s]"
     ]
    },
    {
     "name": "stderr",
     "output_type": "stream",
     "text": [
      "\r 48%|████▊     | 53684/111923 [00:39<00:42, 1363.08it/s]"
     ]
    },
    {
     "name": "stderr",
     "output_type": "stream",
     "text": [
      "\r 48%|████▊     | 53878/111923 [00:39<00:42, 1364.48it/s]"
     ]
    },
    {
     "name": "stderr",
     "output_type": "stream",
     "text": [
      "\r 48%|████▊     | 54070/111923 [00:39<00:42, 1365.88it/s]"
     ]
    },
    {
     "name": "stderr",
     "output_type": "stream",
     "text": [
      "\r 48%|████▊     | 54261/111923 [00:39<00:42, 1367.18it/s]"
     ]
    },
    {
     "name": "stderr",
     "output_type": "stream",
     "text": [
      "\r 49%|████▊     | 54451/111923 [00:39<00:41, 1368.45it/s]"
     ]
    },
    {
     "name": "stderr",
     "output_type": "stream",
     "text": [
      "\r 49%|████▉     | 54644/111923 [00:39<00:41, 1369.86it/s]"
     ]
    },
    {
     "name": "stderr",
     "output_type": "stream",
     "text": [
      "\r 49%|████▉     | 54846/111923 [00:39<00:41, 1371.45it/s]"
     ]
    },
    {
     "name": "stderr",
     "output_type": "stream",
     "text": [
      "\r 49%|████▉     | 55039/111923 [00:40<00:41, 1372.44it/s]"
     ]
    },
    {
     "name": "stderr",
     "output_type": "stream",
     "text": [
      "\r 49%|████▉     | 55226/111923 [00:40<00:41, 1373.38it/s]"
     ]
    },
    {
     "name": "stderr",
     "output_type": "stream",
     "text": [
      "\r 50%|████▉     | 55409/111923 [00:40<00:41, 1374.32it/s]"
     ]
    },
    {
     "name": "stderr",
     "output_type": "stream",
     "text": [
      "\r 50%|████▉     | 55609/111923 [00:40<00:40, 1375.83it/s]"
     ]
    },
    {
     "name": "stderr",
     "output_type": "stream",
     "text": [
      "\r 50%|████▉     | 55811/111923 [00:40<00:40, 1377.40it/s]"
     ]
    },
    {
     "name": "stderr",
     "output_type": "stream",
     "text": [
      "\r 50%|█████     | 56001/111923 [00:40<00:40, 1378.45it/s]"
     ]
    },
    {
     "name": "stderr",
     "output_type": "stream",
     "text": [
      "\r 50%|█████     | 56212/111923 [00:40<00:40, 1380.22it/s]"
     ]
    },
    {
     "name": "stderr",
     "output_type": "stream",
     "text": [
      "\r 50%|█████     | 56416/111923 [00:40<00:40, 1381.81it/s]"
     ]
    },
    {
     "name": "stderr",
     "output_type": "stream",
     "text": [
      "\r 51%|█████     | 56616/111923 [00:40<00:39, 1383.29it/s]"
     ]
    },
    {
     "name": "stderr",
     "output_type": "stream",
     "text": [
      "\r 51%|█████     | 56813/111923 [00:41<00:39, 1384.50it/s]"
     ]
    },
    {
     "name": "stderr",
     "output_type": "stream",
     "text": [
      "\r 51%|█████     | 57010/111923 [00:41<00:39, 1385.92it/s]"
     ]
    },
    {
     "name": "stderr",
     "output_type": "stream",
     "text": [
      "\r 51%|█████     | 57205/111923 [00:41<00:39, 1387.17it/s]"
     ]
    },
    {
     "name": "stderr",
     "output_type": "stream",
     "text": [
      "\r 51%|█████▏    | 57413/111923 [00:41<00:39, 1388.82it/s]"
     ]
    },
    {
     "name": "stderr",
     "output_type": "stream",
     "text": [
      "\r 51%|█████▏    | 57610/111923 [00:41<00:39, 1389.76it/s]"
     ]
    },
    {
     "name": "stderr",
     "output_type": "stream",
     "text": [
      "\r 52%|█████▏    | 57800/111923 [00:41<00:38, 1390.83it/s]"
     ]
    },
    {
     "name": "stderr",
     "output_type": "stream",
     "text": [
      "\r 52%|█████▏    | 57988/111923 [00:41<00:38, 1391.58it/s]"
     ]
    },
    {
     "name": "stderr",
     "output_type": "stream",
     "text": [
      "\r 52%|█████▏    | 58187/111923 [00:41<00:38, 1393.01it/s]"
     ]
    },
    {
     "name": "stderr",
     "output_type": "stream",
     "text": [
      "\r 52%|█████▏    | 58386/111923 [00:41<00:38, 1394.41it/s]"
     ]
    },
    {
     "name": "stderr",
     "output_type": "stream",
     "text": [
      "\r 52%|█████▏    | 58576/111923 [00:41<00:38, 1395.39it/s]"
     ]
    },
    {
     "name": "stderr",
     "output_type": "stream",
     "text": [
      "\r 53%|█████▎    | 58763/111923 [00:42<00:38, 1396.49it/s]"
     ]
    },
    {
     "name": "stderr",
     "output_type": "stream",
     "text": [
      "\r 53%|█████▎    | 58950/111923 [00:42<00:37, 1397.60it/s]"
     ]
    },
    {
     "name": "stderr",
     "output_type": "stream",
     "text": [
      "\r 53%|█████▎    | 59138/111923 [00:42<00:37, 1398.73it/s]"
     ]
    },
    {
     "name": "stderr",
     "output_type": "stream",
     "text": [
      "\r 53%|█████▎    | 59335/111923 [00:42<00:37, 1400.05it/s]"
     ]
    },
    {
     "name": "stderr",
     "output_type": "stream",
     "text": [
      "\r 53%|█████▎    | 59525/111923 [00:42<00:37, 1401.13it/s]"
     ]
    },
    {
     "name": "stderr",
     "output_type": "stream",
     "text": [
      "\r 53%|█████▎    | 59713/111923 [00:42<00:37, 1402.07it/s]"
     ]
    },
    {
     "name": "stderr",
     "output_type": "stream",
     "text": [
      "\r 54%|█████▎    | 59898/111923 [00:42<00:37, 1403.02it/s]"
     ]
    },
    {
     "name": "stderr",
     "output_type": "stream",
     "text": [
      "\r 54%|█████▎    | 60082/111923 [00:42<00:36, 1403.98it/s]"
     ]
    },
    {
     "name": "stderr",
     "output_type": "stream",
     "text": [
      "\r 54%|█████▍    | 60265/111923 [00:42<00:36, 1404.89it/s]"
     ]
    },
    {
     "name": "stderr",
     "output_type": "stream",
     "text": [
      "\r 54%|█████▍    | 60447/111923 [00:43<00:36, 1403.64it/s]"
     ]
    },
    {
     "name": "stderr",
     "output_type": "stream",
     "text": [
      "\r 54%|█████▍    | 60607/111923 [00:43<00:36, 1402.00it/s]"
     ]
    },
    {
     "name": "stderr",
     "output_type": "stream",
     "text": [
      "\r 54%|█████▍    | 60748/111923 [00:43<00:36, 1400.31it/s]"
     ]
    },
    {
     "name": "stderr",
     "output_type": "stream",
     "text": [
      "\r 54%|█████▍    | 60875/111923 [00:43<00:36, 1398.90it/s]"
     ]
    },
    {
     "name": "stderr",
     "output_type": "stream",
     "text": [
      "\r 54%|█████▍    | 60992/111923 [00:43<00:36, 1397.68it/s]"
     ]
    },
    {
     "name": "stderr",
     "output_type": "stream",
     "text": [
      "\r 55%|█████▍    | 61103/111923 [00:43<00:36, 1396.23it/s]"
     ]
    },
    {
     "name": "stderr",
     "output_type": "stream",
     "text": [
      "\r 55%|█████▍    | 61208/111923 [00:43<00:36, 1395.32it/s]"
     ]
    },
    {
     "name": "stderr",
     "output_type": "stream",
     "text": [
      "\r 55%|█████▍    | 61312/111923 [00:43<00:36, 1393.89it/s]"
     ]
    },
    {
     "name": "stderr",
     "output_type": "stream",
     "text": [
      "\r 55%|█████▍    | 61411/111923 [00:44<00:36, 1392.38it/s]"
     ]
    },
    {
     "name": "stderr",
     "output_type": "stream",
     "text": [
      "\r 55%|█████▍    | 61505/111923 [00:44<00:36, 1391.30it/s]"
     ]
    },
    {
     "name": "stderr",
     "output_type": "stream",
     "text": [
      "\r 55%|█████▌    | 61599/111923 [00:44<00:36, 1390.20it/s]"
     ]
    },
    {
     "name": "stderr",
     "output_type": "stream",
     "text": [
      "\r 55%|█████▌    | 61700/111923 [00:44<00:36, 1389.29it/s]"
     ]
    },
    {
     "name": "stderr",
     "output_type": "stream",
     "text": [
      "\r 55%|█████▌    | 61799/111923 [00:44<00:36, 1388.37it/s]"
     ]
    },
    {
     "name": "stderr",
     "output_type": "stream",
     "text": [
      "\r 55%|█████▌    | 61895/111923 [00:44<00:36, 1387.32it/s]"
     ]
    },
    {
     "name": "stderr",
     "output_type": "stream",
     "text": [
      "\r 55%|█████▌    | 61991/111923 [00:44<00:36, 1386.31it/s]"
     ]
    },
    {
     "name": "stderr",
     "output_type": "stream",
     "text": [
      "\r 55%|█████▌    | 62087/111923 [00:44<00:35, 1385.31it/s]"
     ]
    },
    {
     "name": "stderr",
     "output_type": "stream",
     "text": [
      "\r 56%|█████▌    | 62185/111923 [00:44<00:35, 1384.38it/s]"
     ]
    },
    {
     "name": "stderr",
     "output_type": "stream",
     "text": [
      "\r 56%|█████▌    | 62284/111923 [00:45<00:35, 1383.43it/s]"
     ]
    },
    {
     "name": "stderr",
     "output_type": "stream",
     "text": [
      "\r 56%|█████▌    | 62380/111923 [00:45<00:35, 1382.28it/s]"
     ]
    },
    {
     "name": "stderr",
     "output_type": "stream",
     "text": [
      "\r 56%|█████▌    | 62476/111923 [00:45<00:35, 1381.32it/s]"
     ]
    },
    {
     "name": "stderr",
     "output_type": "stream",
     "text": [
      "\r 56%|█████▌    | 62576/111923 [00:45<00:35, 1380.46it/s]"
     ]
    },
    {
     "name": "stderr",
     "output_type": "stream",
     "text": [
      "\r 56%|█████▌    | 62680/111923 [00:45<00:35, 1379.69it/s]"
     ]
    },
    {
     "name": "stderr",
     "output_type": "stream",
     "text": [
      "\r 56%|█████▌    | 62779/111923 [00:45<00:35, 1378.81it/s]"
     ]
    },
    {
     "name": "stderr",
     "output_type": "stream",
     "text": [
      "\r 56%|█████▌    | 62878/111923 [00:45<00:35, 1377.72it/s]"
     ]
    },
    {
     "name": "stderr",
     "output_type": "stream",
     "text": [
      "\r 56%|█████▋    | 62981/111923 [00:45<00:35, 1376.94it/s]"
     ]
    },
    {
     "name": "stderr",
     "output_type": "stream",
     "text": [
      "\r 56%|█████▋    | 63080/111923 [00:45<00:35, 1375.86it/s]"
     ]
    },
    {
     "name": "stderr",
     "output_type": "stream",
     "text": [
      "\r 56%|█████▋    | 63208/111923 [00:45<00:35, 1375.63it/s]"
     ]
    },
    {
     "name": "stderr",
     "output_type": "stream",
     "text": [
      "\r 57%|█████▋    | 63411/111923 [00:46<00:35, 1377.02it/s]"
     ]
    },
    {
     "name": "stderr",
     "output_type": "stream",
     "text": [
      "\r 57%|█████▋    | 63618/111923 [00:46<00:35, 1378.50it/s]"
     ]
    },
    {
     "name": "stderr",
     "output_type": "stream",
     "text": [
      "\r 57%|█████▋    | 63818/111923 [00:46<00:34, 1379.82it/s]"
     ]
    },
    {
     "name": "stderr",
     "output_type": "stream",
     "text": [
      "\r 57%|█████▋    | 64018/111923 [00:46<00:34, 1381.14it/s]"
     ]
    },
    {
     "name": "stderr",
     "output_type": "stream",
     "text": [
      "\r 57%|█████▋    | 64204/111923 [00:46<00:34, 1382.16it/s]"
     ]
    },
    {
     "name": "stderr",
     "output_type": "stream",
     "text": [
      "\r 58%|█████▊    | 64384/111923 [00:46<00:34, 1383.03it/s]"
     ]
    },
    {
     "name": "stderr",
     "output_type": "stream",
     "text": [
      "\r 58%|█████▊    | 64578/111923 [00:46<00:34, 1384.20it/s]"
     ]
    },
    {
     "name": "stderr",
     "output_type": "stream",
     "text": [
      "\r 58%|█████▊    | 64762/111923 [00:46<00:34, 1385.12it/s]"
     ]
    },
    {
     "name": "stderr",
     "output_type": "stream",
     "text": [
      "\r 58%|█████▊    | 64956/111923 [00:46<00:33, 1386.30it/s]"
     ]
    },
    {
     "name": "stderr",
     "output_type": "stream",
     "text": [
      "\r 58%|█████▊    | 65142/111923 [00:46<00:33, 1387.27it/s]"
     ]
    },
    {
     "name": "stderr",
     "output_type": "stream",
     "text": [
      "\r 58%|█████▊    | 65331/111923 [00:47<00:33, 1388.31it/s]"
     ]
    },
    {
     "name": "stderr",
     "output_type": "stream",
     "text": [
      "\r 59%|█████▊    | 65517/111923 [00:47<00:33, 1389.30it/s]"
     ]
    },
    {
     "name": "stderr",
     "output_type": "stream",
     "text": [
      "\r 59%|█████▊    | 65714/111923 [00:47<00:33, 1390.52it/s]"
     ]
    },
    {
     "name": "stderr",
     "output_type": "stream",
     "text": [
      "\r 59%|█████▉    | 65914/111923 [00:47<00:33, 1391.78it/s]"
     ]
    },
    {
     "name": "stderr",
     "output_type": "stream",
     "text": [
      "\r 59%|█████▉    | 66110/111923 [00:47<00:32, 1392.95it/s]"
     ]
    },
    {
     "name": "stderr",
     "output_type": "stream",
     "text": [
      "\r 59%|█████▉    | 66303/111923 [00:47<00:32, 1393.86it/s]"
     ]
    },
    {
     "name": "stderr",
     "output_type": "stream",
     "text": [
      "\r 59%|█████▉    | 66492/111923 [00:47<00:32, 1394.63it/s]"
     ]
    },
    {
     "name": "stderr",
     "output_type": "stream",
     "text": [
      "\r 60%|█████▉    | 66676/111923 [00:47<00:32, 1395.51it/s]"
     ]
    },
    {
     "name": "stderr",
     "output_type": "stream",
     "text": [
      "\r 60%|█████▉    | 66859/111923 [00:47<00:32, 1396.06it/s]"
     ]
    },
    {
     "name": "stderr",
     "output_type": "stream",
     "text": [
      "\r 60%|█████▉    | 67046/111923 [00:47<00:32, 1397.03it/s]"
     ]
    },
    {
     "name": "stderr",
     "output_type": "stream",
     "text": [
      "\r 60%|██████    | 67248/111923 [00:48<00:31, 1398.32it/s]"
     ]
    },
    {
     "name": "stderr",
     "output_type": "stream",
     "text": [
      "\r 60%|██████    | 67435/111923 [00:48<00:31, 1399.17it/s]"
     ]
    },
    {
     "name": "stderr",
     "output_type": "stream",
     "text": [
      "\r 60%|██████    | 67626/111923 [00:48<00:31, 1400.22it/s]"
     ]
    },
    {
     "name": "stderr",
     "output_type": "stream",
     "text": [
      "\r 61%|██████    | 67812/111923 [00:48<00:31, 1400.90it/s]"
     ]
    },
    {
     "name": "stderr",
     "output_type": "stream",
     "text": [
      "\r 61%|██████    | 67994/111923 [00:48<00:31, 1401.69it/s]"
     ]
    },
    {
     "name": "stderr",
     "output_type": "stream",
     "text": [
      "\r 61%|██████    | 68199/111923 [00:48<00:31, 1402.99it/s]"
     ]
    },
    {
     "name": "stderr",
     "output_type": "stream",
     "text": [
      "\r 61%|██████    | 68386/111923 [00:48<00:31, 1403.87it/s]"
     ]
    },
    {
     "name": "stderr",
     "output_type": "stream",
     "text": [
      "\r 61%|██████▏   | 68572/111923 [00:48<00:30, 1404.49it/s]"
     ]
    },
    {
     "name": "stderr",
     "output_type": "stream",
     "text": [
      "\r 61%|██████▏   | 68756/111923 [00:48<00:30, 1405.34it/s]"
     ]
    },
    {
     "name": "stderr",
     "output_type": "stream",
     "text": [
      "\r 62%|██████▏   | 68937/111923 [00:49<00:30, 1406.01it/s]"
     ]
    },
    {
     "name": "stderr",
     "output_type": "stream",
     "text": [
      "\r 62%|██████▏   | 69115/111923 [00:49<00:30, 1406.67it/s]"
     ]
    },
    {
     "name": "stderr",
     "output_type": "stream",
     "text": [
      "\r 62%|██████▏   | 69305/111923 [00:49<00:30, 1407.66it/s]"
     ]
    },
    {
     "name": "stderr",
     "output_type": "stream",
     "text": [
      "\r 62%|██████▏   | 69486/111923 [00:49<00:30, 1408.45it/s]"
     ]
    },
    {
     "name": "stderr",
     "output_type": "stream",
     "text": [
      "\r 62%|██████▏   | 69669/111923 [00:49<00:29, 1409.29it/s]"
     ]
    },
    {
     "name": "stderr",
     "output_type": "stream",
     "text": [
      "\r 62%|██████▏   | 69860/111923 [00:49<00:29, 1410.27it/s]"
     ]
    },
    {
     "name": "stderr",
     "output_type": "stream",
     "text": [
      "\r 63%|██████▎   | 70048/111923 [00:49<00:29, 1411.21it/s]"
     ]
    },
    {
     "name": "stderr",
     "output_type": "stream",
     "text": [
      "\r 63%|██████▎   | 70248/111923 [00:49<00:29, 1412.37it/s]"
     ]
    },
    {
     "name": "stderr",
     "output_type": "stream",
     "text": [
      "\r 63%|██████▎   | 70448/111923 [00:49<00:29, 1413.52it/s]"
     ]
    },
    {
     "name": "stderr",
     "output_type": "stream",
     "text": [
      "\r 63%|██████▎   | 70646/111923 [00:49<00:29, 1414.64it/s]"
     ]
    },
    {
     "name": "stderr",
     "output_type": "stream",
     "text": [
      "\r 63%|██████▎   | 70840/111923 [00:50<00:29, 1415.52it/s]"
     ]
    },
    {
     "name": "stderr",
     "output_type": "stream",
     "text": [
      "\r 63%|██████▎   | 71030/111923 [00:50<00:28, 1416.20it/s]"
     ]
    },
    {
     "name": "stderr",
     "output_type": "stream",
     "text": [
      "\r 64%|██████▎   | 71223/111923 [00:50<00:28, 1417.20it/s]"
     ]
    },
    {
     "name": "stderr",
     "output_type": "stream",
     "text": [
      "\r 64%|██████▍   | 71420/111923 [00:50<00:28, 1418.28it/s]"
     ]
    },
    {
     "name": "stderr",
     "output_type": "stream",
     "text": [
      "\r 64%|██████▍   | 71614/111923 [00:50<00:28, 1419.29it/s]"
     ]
    },
    {
     "name": "stderr",
     "output_type": "stream",
     "text": [
      "\r 64%|██████▍   | 71814/111923 [00:50<00:28, 1420.41it/s]"
     ]
    },
    {
     "name": "stderr",
     "output_type": "stream",
     "text": [
      "\r 64%|██████▍   | 72007/111923 [00:50<00:28, 1421.36it/s]"
     ]
    },
    {
     "name": "stderr",
     "output_type": "stream",
     "text": [
      "\r 65%|██████▍   | 72204/111923 [00:50<00:27, 1422.42it/s]"
     ]
    },
    {
     "name": "stderr",
     "output_type": "stream",
     "text": [
      "\r 65%|██████▍   | 72397/111923 [00:50<00:27, 1423.18it/s]"
     ]
    },
    {
     "name": "stderr",
     "output_type": "stream",
     "text": [
      "\r 65%|██████▍   | 72586/111923 [00:50<00:27, 1424.05it/s]"
     ]
    },
    {
     "name": "stderr",
     "output_type": "stream",
     "text": [
      "\r 65%|██████▌   | 72774/111923 [00:51<00:27, 1424.79it/s]"
     ]
    },
    {
     "name": "stderr",
     "output_type": "stream",
     "text": [
      "\r 65%|██████▌   | 72966/111923 [00:51<00:27, 1425.73it/s]"
     ]
    },
    {
     "name": "stderr",
     "output_type": "stream",
     "text": [
      "\r 65%|██████▌   | 73157/111923 [00:51<00:27, 1426.66it/s]"
     ]
    },
    {
     "name": "stderr",
     "output_type": "stream",
     "text": [
      "\r 66%|██████▌   | 73349/111923 [00:51<00:27, 1427.61it/s]"
     ]
    },
    {
     "name": "stderr",
     "output_type": "stream",
     "text": [
      "\r 66%|██████▌   | 73538/111923 [00:51<00:26, 1428.38it/s]"
     ]
    },
    {
     "name": "stderr",
     "output_type": "stream",
     "text": [
      "\r 66%|██████▌   | 73725/111923 [00:51<00:26, 1428.86it/s]"
     ]
    },
    {
     "name": "stderr",
     "output_type": "stream",
     "text": [
      "\r 66%|██████▌   | 73906/111923 [00:51<00:26, 1429.58it/s]"
     ]
    },
    {
     "name": "stderr",
     "output_type": "stream",
     "text": [
      "\r 66%|██████▌   | 74086/111923 [00:51<00:26, 1430.24it/s]"
     ]
    },
    {
     "name": "stderr",
     "output_type": "stream",
     "text": [
      "\r 66%|██████▋   | 74265/111923 [00:51<00:26, 1430.60it/s]"
     ]
    },
    {
     "name": "stderr",
     "output_type": "stream",
     "text": [
      "\r 67%|██████▋   | 74452/111923 [00:52<00:26, 1431.42it/s]"
     ]
    },
    {
     "name": "stderr",
     "output_type": "stream",
     "text": [
      "\r 67%|██████▋   | 74639/111923 [00:52<00:26, 1432.24it/s]"
     ]
    },
    {
     "name": "stderr",
     "output_type": "stream",
     "text": [
      "\r 67%|██████▋   | 74819/111923 [00:52<00:25, 1432.91it/s]"
     ]
    },
    {
     "name": "stderr",
     "output_type": "stream",
     "text": [
      "\r 67%|██████▋   | 75003/111923 [00:52<00:25, 1433.66it/s]"
     ]
    },
    {
     "name": "stderr",
     "output_type": "stream",
     "text": [
      "\r 67%|██████▋   | 75205/111923 [00:52<00:25, 1434.77it/s]"
     ]
    },
    {
     "name": "stderr",
     "output_type": "stream",
     "text": [
      "\r 67%|██████▋   | 75392/111923 [00:52<00:25, 1435.56it/s]"
     ]
    },
    {
     "name": "stderr",
     "output_type": "stream",
     "text": [
      "\r 68%|██████▊   | 75578/111923 [00:52<00:25, 1435.90it/s]"
     ]
    },
    {
     "name": "stderr",
     "output_type": "stream",
     "text": [
      "\r 68%|██████▊   | 75756/111923 [00:52<00:25, 1436.01it/s]"
     ]
    },
    {
     "name": "stderr",
     "output_type": "stream",
     "text": [
      "\r 68%|██████▊   | 75925/111923 [00:52<00:25, 1435.91it/s]"
     ]
    },
    {
     "name": "stderr",
     "output_type": "stream",
     "text": [
      "\r 68%|██████▊   | 76085/111923 [00:52<00:24, 1436.21it/s]"
     ]
    },
    {
     "name": "stderr",
     "output_type": "stream",
     "text": [
      "\r 68%|██████▊   | 76245/111923 [00:53<00:24, 1436.31it/s]"
     ]
    },
    {
     "name": "stderr",
     "output_type": "stream",
     "text": [
      "\r 68%|██████▊   | 76402/111923 [00:53<00:24, 1436.29it/s]"
     ]
    },
    {
     "name": "stderr",
     "output_type": "stream",
     "text": [
      "\r 68%|██████▊   | 76555/111923 [00:53<00:24, 1434.89it/s]"
     ]
    },
    {
     "name": "stderr",
     "output_type": "stream",
     "text": [
      "\r 69%|██████▊   | 76691/111923 [00:53<00:24, 1434.49it/s]"
     ]
    },
    {
     "name": "stderr",
     "output_type": "stream",
     "text": [
      "\r 69%|██████▊   | 76854/111923 [00:53<00:24, 1434.83it/s]"
     ]
    },
    {
     "name": "stderr",
     "output_type": "stream",
     "text": [
      "\r 69%|██████▉   | 77020/111923 [00:53<00:24, 1435.23it/s]"
     ]
    },
    {
     "name": "stderr",
     "output_type": "stream",
     "text": [
      "\r 69%|██████▉   | 77169/111923 [00:53<00:24, 1435.29it/s]"
     ]
    },
    {
     "name": "stderr",
     "output_type": "stream",
     "text": [
      "\r 69%|██████▉   | 77341/111923 [00:53<00:24, 1435.80it/s]"
     ]
    },
    {
     "name": "stderr",
     "output_type": "stream",
     "text": [
      "\r 69%|██████▉   | 77522/111923 [00:53<00:23, 1436.47it/s]"
     ]
    },
    {
     "name": "stderr",
     "output_type": "stream",
     "text": [
      "\r 69%|██████▉   | 77702/111923 [00:54<00:23, 1437.13it/s]"
     ]
    },
    {
     "name": "stderr",
     "output_type": "stream",
     "text": [
      "\r 70%|██████▉   | 77870/111923 [00:54<00:23, 1436.59it/s]"
     ]
    },
    {
     "name": "stderr",
     "output_type": "stream",
     "text": [
      "\r 70%|██████▉   | 78024/111923 [00:54<00:23, 1436.73it/s]"
     ]
    },
    {
     "name": "stderr",
     "output_type": "stream",
     "text": [
      "\r 70%|██████▉   | 78177/111923 [00:54<00:23, 1436.90it/s]"
     ]
    },
    {
     "name": "stderr",
     "output_type": "stream",
     "text": [
      "\r 70%|██████▉   | 78337/111923 [00:54<00:23, 1437.18it/s]"
     ]
    },
    {
     "name": "stderr",
     "output_type": "stream",
     "text": [
      "\r 70%|███████   | 78512/111923 [00:54<00:23, 1437.74it/s]"
     ]
    },
    {
     "name": "stderr",
     "output_type": "stream",
     "text": [
      "\r 70%|███████   | 78673/111923 [00:54<00:23, 1437.17it/s]"
     ]
    },
    {
     "name": "stderr",
     "output_type": "stream",
     "text": [
      "\r 70%|███████   | 78822/111923 [00:54<00:23, 1437.20it/s]"
     ]
    },
    {
     "name": "stderr",
     "output_type": "stream",
     "text": [
      "\r 71%|███████   | 78988/111923 [00:54<00:22, 1437.59it/s]"
     ]
    },
    {
     "name": "stderr",
     "output_type": "stream",
     "text": [
      "\r 71%|███████   | 79145/111923 [00:55<00:22, 1437.82it/s]"
     ]
    },
    {
     "name": "stderr",
     "output_type": "stream",
     "text": [
      "\r 71%|███████   | 79321/111923 [00:55<00:22, 1438.40it/s]"
     ]
    },
    {
     "name": "stderr",
     "output_type": "stream",
     "text": [
      "\r 71%|███████   | 79482/111923 [00:55<00:22, 1438.53it/s]"
     ]
    },
    {
     "name": "stderr",
     "output_type": "stream",
     "text": [
      "\r 71%|███████   | 79660/111923 [00:55<00:22, 1439.13it/s]"
     ]
    },
    {
     "name": "stderr",
     "output_type": "stream",
     "text": [
      "\r 71%|███████▏  | 79824/111923 [00:55<00:22, 1439.45it/s]"
     ]
    },
    {
     "name": "stderr",
     "output_type": "stream",
     "text": [
      "\r 71%|███████▏  | 79987/111923 [00:55<00:22, 1438.86it/s]"
     ]
    },
    {
     "name": "stderr",
     "output_type": "stream",
     "text": [
      "\r 72%|███████▏  | 80173/111923 [00:55<00:22, 1439.61it/s]"
     ]
    },
    {
     "name": "stderr",
     "output_type": "stream",
     "text": [
      "\r 72%|███████▏  | 80372/111923 [00:55<00:21, 1440.57it/s]"
     ]
    },
    {
     "name": "stderr",
     "output_type": "stream",
     "text": [
      "\r 72%|███████▏  | 80558/111923 [00:55<00:21, 1441.31it/s]"
     ]
    },
    {
     "name": "stderr",
     "output_type": "stream",
     "text": [
      "\r 72%|███████▏  | 80750/111923 [00:55<00:21, 1442.15it/s]"
     ]
    },
    {
     "name": "stderr",
     "output_type": "stream",
     "text": [
      "\r 72%|███████▏  | 80931/111923 [00:56<00:21, 1442.51it/s]"
     ]
    },
    {
     "name": "stderr",
     "output_type": "stream",
     "text": [
      "\r 72%|███████▏  | 81106/111923 [00:56<00:21, 1442.91it/s]"
     ]
    },
    {
     "name": "stderr",
     "output_type": "stream",
     "text": [
      "\r 73%|███████▎  | 81278/111923 [00:56<00:21, 1443.33it/s]"
     ]
    },
    {
     "name": "stderr",
     "output_type": "stream",
     "text": [
      "\r 73%|███████▎  | 81449/111923 [00:56<00:21, 1443.78it/s]"
     ]
    },
    {
     "name": "stderr",
     "output_type": "stream",
     "text": [
      "\r 73%|███████▎  | 81620/111923 [00:56<00:20, 1444.18it/s]"
     ]
    },
    {
     "name": "stderr",
     "output_type": "stream",
     "text": [
      "\r 73%|███████▎  | 81790/111923 [00:56<00:20, 1444.26it/s]"
     ]
    },
    {
     "name": "stderr",
     "output_type": "stream",
     "text": [
      "\r 73%|███████▎  | 81953/111923 [00:56<00:20, 1444.52it/s]"
     ]
    },
    {
     "name": "stderr",
     "output_type": "stream",
     "text": [
      "\r 73%|███████▎  | 82121/111923 [00:56<00:20, 1444.89it/s]"
     ]
    },
    {
     "name": "stderr",
     "output_type": "stream",
     "text": [
      "\r 74%|███████▎  | 82308/111923 [00:56<00:20, 1445.64it/s]"
     ]
    },
    {
     "name": "stderr",
     "output_type": "stream",
     "text": [
      "\r 74%|███████▎  | 82483/111923 [00:57<00:20, 1446.16it/s]"
     ]
    },
    {
     "name": "stderr",
     "output_type": "stream",
     "text": [
      "\r 74%|███████▍  | 82655/111923 [00:57<00:20, 1446.36it/s]"
     ]
    },
    {
     "name": "stderr",
     "output_type": "stream",
     "text": [
      "\r 74%|███████▍  | 82836/111923 [00:57<00:20, 1446.98it/s]"
     ]
    },
    {
     "name": "stderr",
     "output_type": "stream",
     "text": [
      "\r 74%|███████▍  | 83018/111923 [00:57<00:19, 1447.63it/s]"
     ]
    },
    {
     "name": "stderr",
     "output_type": "stream",
     "text": [
      "\r 74%|███████▍  | 83205/111923 [00:57<00:19, 1448.35it/s]"
     ]
    },
    {
     "name": "stderr",
     "output_type": "stream",
     "text": [
      "\r 75%|███████▍  | 83385/111923 [00:57<00:19, 1448.95it/s]"
     ]
    },
    {
     "name": "stderr",
     "output_type": "stream",
     "text": [
      "\r 75%|███████▍  | 83576/111923 [00:57<00:19, 1449.75it/s]"
     ]
    },
    {
     "name": "stderr",
     "output_type": "stream",
     "text": [
      "\r 75%|███████▍  | 83758/111923 [00:57<00:19, 1450.29it/s]"
     ]
    },
    {
     "name": "stderr",
     "output_type": "stream",
     "text": [
      "\r 75%|███████▍  | 83939/111923 [00:57<00:19, 1450.86it/s]"
     ]
    },
    {
     "name": "stderr",
     "output_type": "stream",
     "text": [
      "\r 75%|███████▌  | 84119/111923 [00:57<00:19, 1451.42it/s]"
     ]
    },
    {
     "name": "stderr",
     "output_type": "stream",
     "text": [
      "\r 75%|███████▌  | 84298/111923 [00:58<00:19, 1451.64it/s]"
     ]
    },
    {
     "name": "stderr",
     "output_type": "stream",
     "text": [
      "\r 75%|███████▌  | 84470/111923 [00:58<00:18, 1452.03it/s]"
     ]
    },
    {
     "name": "stderr",
     "output_type": "stream",
     "text": [
      "\r 76%|███████▌  | 84642/111923 [00:58<00:18, 1452.47it/s]"
     ]
    },
    {
     "name": "stderr",
     "output_type": "stream",
     "text": [
      "\r 76%|███████▌  | 84837/111923 [00:58<00:18, 1453.32it/s]"
     ]
    },
    {
     "name": "stderr",
     "output_type": "stream",
     "text": [
      "\r 76%|███████▌  | 85015/111923 [00:58<00:18, 1453.84it/s]"
     ]
    },
    {
     "name": "stderr",
     "output_type": "stream",
     "text": [
      "\r 76%|███████▌  | 85208/111923 [00:58<00:18, 1454.63it/s]"
     ]
    },
    {
     "name": "stderr",
     "output_type": "stream",
     "text": [
      "\r 76%|███████▋  | 85393/111923 [00:58<00:18, 1455.30it/s]"
     ]
    },
    {
     "name": "stderr",
     "output_type": "stream",
     "text": [
      "\r 76%|███████▋  | 85576/111923 [00:58<00:18, 1455.74it/s]"
     ]
    },
    {
     "name": "stderr",
     "output_type": "stream",
     "text": [
      "\r 77%|███████▋  | 85755/111923 [00:58<00:17, 1456.08it/s]"
     ]
    },
    {
     "name": "stderr",
     "output_type": "stream",
     "text": [
      "\r 77%|███████▋  | 85944/111923 [00:58<00:17, 1456.79it/s]"
     ]
    },
    {
     "name": "stderr",
     "output_type": "stream",
     "text": [
      "\r 77%|███████▋  | 86123/111923 [00:59<00:17, 1457.12it/s]"
     ]
    },
    {
     "name": "stderr",
     "output_type": "stream",
     "text": [
      "\r 77%|███████▋  | 86298/111923 [00:59<00:17, 1457.60it/s]"
     ]
    },
    {
     "name": "stderr",
     "output_type": "stream",
     "text": [
      "\r 77%|███████▋  | 86491/111923 [00:59<00:17, 1458.37it/s]"
     ]
    },
    {
     "name": "stderr",
     "output_type": "stream",
     "text": [
      "\r 77%|███████▋  | 86690/111923 [00:59<00:17, 1459.26it/s]"
     ]
    },
    {
     "name": "stderr",
     "output_type": "stream",
     "text": [
      "\r 78%|███████▊  | 86882/111923 [00:59<00:17, 1460.03it/s]"
     ]
    },
    {
     "name": "stderr",
     "output_type": "stream",
     "text": [
      "\r 78%|███████▊  | 87069/111923 [00:59<00:17, 1459.84it/s]"
     ]
    },
    {
     "name": "stderr",
     "output_type": "stream",
     "text": [
      "\r 78%|███████▊  | 87251/111923 [00:59<00:16, 1460.42it/s]"
     ]
    },
    {
     "name": "stderr",
     "output_type": "stream",
     "text": [
      "\r 78%|███████▊  | 87454/111923 [00:59<00:16, 1461.36it/s]"
     ]
    },
    {
     "name": "stderr",
     "output_type": "stream",
     "text": [
      "\r 78%|███████▊  | 87651/111923 [00:59<00:16, 1462.19it/s]"
     ]
    },
    {
     "name": "stderr",
     "output_type": "stream",
     "text": [
      "\r 78%|███████▊  | 87838/111923 [01:00<00:16, 1462.77it/s]"
     ]
    },
    {
     "name": "stderr",
     "output_type": "stream",
     "text": [
      "\r 79%|███████▊  | 88028/111923 [01:00<00:16, 1463.48it/s]"
     ]
    },
    {
     "name": "stderr",
     "output_type": "stream",
     "text": [
      "\r 79%|███████▉  | 88214/111923 [01:00<00:16, 1464.12it/s]"
     ]
    },
    {
     "name": "stderr",
     "output_type": "stream",
     "text": [
      "\r 79%|███████▉  | 88408/111923 [01:00<00:16, 1464.89it/s]"
     ]
    },
    {
     "name": "stderr",
     "output_type": "stream",
     "text": [
      "\r 79%|███████▉  | 88603/111923 [01:00<00:15, 1465.68it/s]"
     ]
    },
    {
     "name": "stderr",
     "output_type": "stream",
     "text": [
      "\r 79%|███████▉  | 88793/111923 [01:00<00:15, 1466.23it/s]"
     ]
    },
    {
     "name": "stderr",
     "output_type": "stream",
     "text": [
      "\r 80%|███████▉  | 88981/111923 [01:00<00:15, 1466.90it/s]"
     ]
    },
    {
     "name": "stderr",
     "output_type": "stream",
     "text": [
      "\r 80%|███████▉  | 89168/111923 [01:00<00:15, 1467.55it/s]"
     ]
    },
    {
     "name": "stderr",
     "output_type": "stream",
     "text": [
      "\r 80%|███████▉  | 89373/111923 [01:00<00:15, 1468.48it/s]"
     ]
    },
    {
     "name": "stderr",
     "output_type": "stream",
     "text": [
      "\r 80%|████████  | 89583/111923 [01:00<00:15, 1469.50it/s]"
     ]
    },
    {
     "name": "stderr",
     "output_type": "stream",
     "text": [
      "\r 80%|████████  | 89780/111923 [01:01<00:15, 1469.99it/s]"
     ]
    },
    {
     "name": "stderr",
     "output_type": "stream",
     "text": [
      "\r 80%|████████  | 89970/111923 [01:01<00:14, 1470.60it/s]"
     ]
    },
    {
     "name": "stderr",
     "output_type": "stream",
     "text": [
      "\r 81%|████████  | 90167/111923 [01:01<00:14, 1471.40it/s]"
     ]
    },
    {
     "name": "stderr",
     "output_type": "stream",
     "text": [
      "\r 81%|████████  | 90371/111923 [01:01<00:14, 1472.31it/s]"
     ]
    },
    {
     "name": "stderr",
     "output_type": "stream",
     "text": [
      "\r 81%|████████  | 90565/111923 [01:01<00:14, 1472.96it/s]"
     ]
    },
    {
     "name": "stderr",
     "output_type": "stream",
     "text": [
      "\r 81%|████████  | 90757/111923 [01:01<00:14, 1473.67it/s]"
     ]
    },
    {
     "name": "stderr",
     "output_type": "stream",
     "text": [
      "\r 81%|████████▏ | 90949/111923 [01:01<00:14, 1474.30it/s]"
     ]
    },
    {
     "name": "stderr",
     "output_type": "stream",
     "text": [
      "\r 81%|████████▏ | 91139/111923 [01:01<00:14, 1474.80it/s]"
     ]
    },
    {
     "name": "stderr",
     "output_type": "stream",
     "text": [
      "\r 82%|████████▏ | 91325/111923 [01:01<00:13, 1475.26it/s]"
     ]
    },
    {
     "name": "stderr",
     "output_type": "stream",
     "text": [
      "\r 82%|████████▏ | 91527/111923 [01:02<00:13, 1476.12it/s]"
     ]
    },
    {
     "name": "stderr",
     "output_type": "stream",
     "text": [
      "\r 82%|████████▏ | 91726/111923 [01:02<00:13, 1476.93it/s]"
     ]
    },
    {
     "name": "stderr",
     "output_type": "stream",
     "text": [
      "\r 82%|████████▏ | 91927/111923 [01:02<00:13, 1477.77it/s]"
     ]
    },
    {
     "name": "stderr",
     "output_type": "stream",
     "text": [
      "\r 82%|████████▏ | 92121/111923 [01:02<00:13, 1478.45it/s]"
     ]
    },
    {
     "name": "stderr",
     "output_type": "stream",
     "text": [
      "\r 82%|████████▏ | 92316/111923 [01:02<00:13, 1479.19it/s]"
     ]
    },
    {
     "name": "stderr",
     "output_type": "stream",
     "text": [
      "\r 83%|████████▎ | 92509/111923 [01:02<00:13, 1479.82it/s]"
     ]
    },
    {
     "name": "stderr",
     "output_type": "stream",
     "text": [
      "\r 83%|████████▎ | 92713/111923 [01:02<00:12, 1480.70it/s]"
     ]
    },
    {
     "name": "stderr",
     "output_type": "stream",
     "text": [
      "\r 83%|████████▎ | 92908/111923 [01:02<00:12, 1481.40it/s]"
     ]
    },
    {
     "name": "stderr",
     "output_type": "stream",
     "text": [
      "\r 83%|████████▎ | 93102/111923 [01:02<00:12, 1482.08it/s]"
     ]
    },
    {
     "name": "stderr",
     "output_type": "stream",
     "text": [
      "\r 83%|████████▎ | 93295/111923 [01:02<00:12, 1482.78it/s]"
     ]
    },
    {
     "name": "stderr",
     "output_type": "stream",
     "text": [
      "\r 84%|████████▎ | 93495/111923 [01:03<00:12, 1483.58it/s]"
     ]
    },
    {
     "name": "stderr",
     "output_type": "stream",
     "text": [
      "\r 84%|████████▎ | 93704/111923 [01:03<00:12, 1484.53it/s]"
     ]
    },
    {
     "name": "stderr",
     "output_type": "stream",
     "text": [
      "\r 84%|████████▍ | 93903/111923 [01:03<00:12, 1484.07it/s]"
     ]
    },
    {
     "name": "stderr",
     "output_type": "stream",
     "text": [
      "\r 84%|████████▍ | 94119/111923 [01:03<00:11, 1485.11it/s]"
     ]
    },
    {
     "name": "stderr",
     "output_type": "stream",
     "text": [
      "\r 84%|████████▍ | 94326/111923 [01:03<00:11, 1486.02it/s]"
     ]
    },
    {
     "name": "stderr",
     "output_type": "stream",
     "text": [
      "\r 84%|████████▍ | 94522/111923 [01:03<00:11, 1486.75it/s]"
     ]
    },
    {
     "name": "stderr",
     "output_type": "stream",
     "text": [
      "\r 85%|████████▍ | 94716/111923 [01:03<00:11, 1487.43it/s]"
     ]
    },
    {
     "name": "stderr",
     "output_type": "stream",
     "text": [
      "\r 85%|████████▍ | 94923/111923 [01:03<00:11, 1488.33it/s]"
     ]
    },
    {
     "name": "stderr",
     "output_type": "stream",
     "text": [
      "\r 85%|████████▍ | 95120/111923 [01:03<00:11, 1488.97it/s]"
     ]
    },
    {
     "name": "stderr",
     "output_type": "stream",
     "text": [
      "\r 85%|████████▌ | 95325/111923 [01:03<00:11, 1489.83it/s]"
     ]
    },
    {
     "name": "stderr",
     "output_type": "stream",
     "text": [
      "\r 85%|████████▌ | 95530/111923 [01:04<00:10, 1490.69it/s]"
     ]
    },
    {
     "name": "stderr",
     "output_type": "stream",
     "text": [
      "\r 86%|████████▌ | 95729/111923 [01:04<00:10, 1491.36it/s]"
     ]
    },
    {
     "name": "stderr",
     "output_type": "stream",
     "text": [
      "\r 86%|████████▌ | 95926/111923 [01:04<00:10, 1491.94it/s]"
     ]
    },
    {
     "name": "stderr",
     "output_type": "stream",
     "text": [
      "\r 86%|████████▌ | 96130/111923 [01:04<00:10, 1492.78it/s]"
     ]
    },
    {
     "name": "stderr",
     "output_type": "stream",
     "text": [
      "\r 86%|████████▌ | 96345/111923 [01:04<00:10, 1493.78it/s]"
     ]
    },
    {
     "name": "stderr",
     "output_type": "stream",
     "text": [
      "\r 86%|████████▋ | 96552/111923 [01:04<00:10, 1494.65it/s]"
     ]
    },
    {
     "name": "stderr",
     "output_type": "stream",
     "text": [
      "\r 86%|████████▋ | 96755/111923 [01:04<00:10, 1494.98it/s]"
     ]
    },
    {
     "name": "stderr",
     "output_type": "stream",
     "text": [
      "\r 87%|████████▋ | 96947/111923 [01:04<00:10, 1495.20it/s]"
     ]
    },
    {
     "name": "stderr",
     "output_type": "stream",
     "text": [
      "\r 87%|████████▋ | 97133/111923 [01:04<00:09, 1495.76it/s]"
     ]
    },
    {
     "name": "stderr",
     "output_type": "stream",
     "text": [
      "\r 87%|████████▋ | 97317/111923 [01:05<00:09, 1496.25it/s]"
     ]
    },
    {
     "name": "stderr",
     "output_type": "stream",
     "text": [
      "\r 87%|████████▋ | 97514/111923 [01:05<00:09, 1496.96it/s]"
     ]
    },
    {
     "name": "stderr",
     "output_type": "stream",
     "text": [
      "\r 87%|████████▋ | 97701/111923 [01:05<00:09, 1497.24it/s]"
     ]
    },
    {
     "name": "stderr",
     "output_type": "stream",
     "text": [
      "\r 87%|████████▋ | 97882/111923 [01:05<00:09, 1497.65it/s]"
     ]
    },
    {
     "name": "stderr",
     "output_type": "stream",
     "text": [
      "\r 88%|████████▊ | 98062/111923 [01:05<00:09, 1497.67it/s]"
     ]
    },
    {
     "name": "stderr",
     "output_type": "stream",
     "text": [
      "\r 88%|████████▊ | 98233/111923 [01:05<00:09, 1497.70it/s]"
     ]
    },
    {
     "name": "stderr",
     "output_type": "stream",
     "text": [
      "\r 88%|████████▊ | 98409/111923 [01:05<00:09, 1498.06it/s]"
     ]
    },
    {
     "name": "stderr",
     "output_type": "stream",
     "text": [
      "\r 88%|████████▊ | 98589/111923 [01:05<00:08, 1498.50it/s]"
     ]
    },
    {
     "name": "stderr",
     "output_type": "stream",
     "text": [
      "\r 88%|████████▊ | 98775/111923 [01:05<00:08, 1499.03it/s]"
     ]
    },
    {
     "name": "stderr",
     "output_type": "stream",
     "text": [
      "\r 88%|████████▊ | 98966/111923 [01:05<00:08, 1499.64it/s]"
     ]
    },
    {
     "name": "stderr",
     "output_type": "stream",
     "text": [
      "\r 89%|████████▊ | 99160/111923 [01:06<00:08, 1500.29it/s]"
     ]
    },
    {
     "name": "stderr",
     "output_type": "stream",
     "text": [
      "\r 89%|████████▉ | 99355/111923 [01:06<00:08, 1500.96it/s]"
     ]
    },
    {
     "name": "stderr",
     "output_type": "stream",
     "text": [
      "\r 89%|████████▉ | 99552/111923 [01:06<00:08, 1501.65it/s]"
     ]
    },
    {
     "name": "stderr",
     "output_type": "stream",
     "text": [
      "\r 89%|████████▉ | 99761/111923 [01:06<00:08, 1502.52it/s]"
     ]
    },
    {
     "name": "stderr",
     "output_type": "stream",
     "text": [
      "\r 89%|████████▉ | 99956/111923 [01:06<00:07, 1503.00it/s]"
     ]
    },
    {
     "name": "stderr",
     "output_type": "stream",
     "text": [
      "\r 89%|████████▉ | 100147/111923 [01:06<00:07, 1503.32it/s]"
     ]
    },
    {
     "name": "stderr",
     "output_type": "stream",
     "text": [
      "\r 90%|████████▉ | 100336/111923 [01:06<00:07, 1503.88it/s]"
     ]
    },
    {
     "name": "stderr",
     "output_type": "stream",
     "text": [
      "\r 90%|████████▉ | 100535/111923 [01:06<00:07, 1504.60it/s]"
     ]
    },
    {
     "name": "stderr",
     "output_type": "stream",
     "text": [
      "\r 90%|█████████ | 100738/111923 [01:06<00:07, 1505.36it/s]"
     ]
    },
    {
     "name": "stderr",
     "output_type": "stream",
     "text": [
      "\r 90%|█████████ | 100946/111923 [01:07<00:07, 1506.20it/s]"
     ]
    },
    {
     "name": "stderr",
     "output_type": "stream",
     "text": [
      "\r 90%|█████████ | 101143/111923 [01:07<00:07, 1506.75it/s]"
     ]
    },
    {
     "name": "stderr",
     "output_type": "stream",
     "text": [
      "\r 91%|█████████ | 101337/111923 [01:07<00:07, 1507.37it/s]"
     ]
    },
    {
     "name": "stderr",
     "output_type": "stream",
     "text": [
      "\r 91%|█████████ | 101537/111923 [01:07<00:06, 1508.10it/s]"
     ]
    },
    {
     "name": "stderr",
     "output_type": "stream",
     "text": [
      "\r 91%|█████████ | 101740/111923 [01:07<00:06, 1508.87it/s]"
     ]
    },
    {
     "name": "stderr",
     "output_type": "stream",
     "text": [
      "\r 91%|█████████ | 101938/111923 [01:07<00:06, 1509.36it/s]"
     ]
    },
    {
     "name": "stderr",
     "output_type": "stream",
     "text": [
      "\r 91%|█████████▏| 102131/111923 [01:07<00:06, 1509.92it/s]"
     ]
    },
    {
     "name": "stderr",
     "output_type": "stream",
     "text": [
      "\r 91%|█████████▏| 102322/111923 [01:07<00:06, 1510.46it/s]"
     ]
    },
    {
     "name": "stderr",
     "output_type": "stream",
     "text": [
      "\r 92%|█████████▏| 102525/111923 [01:07<00:06, 1511.21it/s]"
     ]
    },
    {
     "name": "stderr",
     "output_type": "stream",
     "text": [
      "\r 92%|█████████▏| 102719/111923 [01:07<00:06, 1511.40it/s]"
     ]
    },
    {
     "name": "stderr",
     "output_type": "stream",
     "text": [
      "\r 92%|█████████▏| 102903/111923 [01:08<00:05, 1511.67it/s]"
     ]
    },
    {
     "name": "stderr",
     "output_type": "stream",
     "text": [
      "\r 92%|█████████▏| 103083/111923 [01:08<00:05, 1511.96it/s]"
     ]
    },
    {
     "name": "stderr",
     "output_type": "stream",
     "text": [
      "\r 92%|█████████▏| 103266/111923 [01:08<00:05, 1512.41it/s]"
     ]
    },
    {
     "name": "stderr",
     "output_type": "stream",
     "text": [
      "\r 92%|█████████▏| 103460/111923 [01:08<00:05, 1513.02it/s]"
     ]
    },
    {
     "name": "stderr",
     "output_type": "stream",
     "text": [
      "\r 93%|█████████▎| 103643/111923 [01:08<00:05, 1513.40it/s]"
     ]
    },
    {
     "name": "stderr",
     "output_type": "stream",
     "text": [
      "\r 93%|█████████▎| 103824/111923 [01:08<00:05, 1513.54it/s]"
     ]
    },
    {
     "name": "stderr",
     "output_type": "stream",
     "text": [
      "\r 93%|█████████▎| 103999/111923 [01:08<00:05, 1513.39it/s]"
     ]
    },
    {
     "name": "stderr",
     "output_type": "stream",
     "text": [
      "\r 93%|█████████▎| 104164/111923 [01:08<00:05, 1513.44it/s]"
     ]
    },
    {
     "name": "stderr",
     "output_type": "stream",
     "text": [
      "\r 93%|█████████▎| 104326/111923 [01:08<00:05, 1513.49it/s]"
     ]
    },
    {
     "name": "stderr",
     "output_type": "stream",
     "text": [
      "\r 93%|█████████▎| 104486/111923 [01:09<00:04, 1513.16it/s]"
     ]
    },
    {
     "name": "stderr",
     "output_type": "stream",
     "text": [
      "\r 93%|█████████▎| 104641/111923 [01:09<00:04, 1513.20it/s]"
     ]
    },
    {
     "name": "stderr",
     "output_type": "stream",
     "text": [
      "\r 94%|█████████▎| 104806/111923 [01:09<00:04, 1513.38it/s]"
     ]
    },
    {
     "name": "stderr",
     "output_type": "stream",
     "text": [
      "\r 94%|█████████▍| 104990/111923 [01:09<00:04, 1513.83it/s]"
     ]
    },
    {
     "name": "stderr",
     "output_type": "stream",
     "text": [
      "\r 94%|█████████▍| 105166/111923 [01:09<00:04, 1514.17it/s]"
     ]
    },
    {
     "name": "stderr",
     "output_type": "stream",
     "text": [
      "\r 94%|█████████▍| 105344/111923 [01:09<00:04, 1514.54it/s]"
     ]
    },
    {
     "name": "stderr",
     "output_type": "stream",
     "text": [
      "\r 94%|█████████▍| 105514/111923 [01:09<00:04, 1514.59it/s]"
     ]
    },
    {
     "name": "stderr",
     "output_type": "stream",
     "text": [
      "\r 94%|█████████▍| 105689/111923 [01:09<00:04, 1514.93it/s]"
     ]
    },
    {
     "name": "stderr",
     "output_type": "stream",
     "text": [
      "\r 95%|█████████▍| 105882/111923 [01:09<00:03, 1515.50it/s]"
     ]
    },
    {
     "name": "stderr",
     "output_type": "stream",
     "text": [
      "\r 95%|█████████▍| 106092/111923 [01:09<00:03, 1516.32it/s]"
     ]
    },
    {
     "name": "stderr",
     "output_type": "stream",
     "text": [
      "\r 95%|█████████▍| 106300/111923 [01:10<00:03, 1517.11it/s]"
     ]
    },
    {
     "name": "stderr",
     "output_type": "stream",
     "text": [
      "\r 95%|█████████▌| 106492/111923 [01:10<00:03, 1517.68it/s]"
     ]
    },
    {
     "name": "stderr",
     "output_type": "stream",
     "text": [
      "\r 95%|█████████▌| 106704/111923 [01:10<00:03, 1518.53it/s]"
     ]
    },
    {
     "name": "stderr",
     "output_type": "stream",
     "text": [
      "\r 96%|█████████▌| 106908/111923 [01:10<00:03, 1519.26it/s]"
     ]
    },
    {
     "name": "stderr",
     "output_type": "stream",
     "text": [
      "\r 96%|█████████▌| 107111/111923 [01:10<00:03, 1519.97it/s]"
     ]
    },
    {
     "name": "stderr",
     "output_type": "stream",
     "text": [
      "\r 96%|█████████▌| 107311/111923 [01:10<00:03, 1520.62it/s]"
     ]
    },
    {
     "name": "stderr",
     "output_type": "stream",
     "text": [
      "\r 96%|█████████▌| 107514/111923 [01:10<00:02, 1521.32it/s]"
     ]
    },
    {
     "name": "stderr",
     "output_type": "stream",
     "text": [
      "\r 96%|█████████▌| 107715/111923 [01:10<00:02, 1522.00it/s]"
     ]
    },
    {
     "name": "stderr",
     "output_type": "stream",
     "text": [
      "\r 96%|█████████▋| 107915/111923 [01:10<00:02, 1522.55it/s]"
     ]
    },
    {
     "name": "stderr",
     "output_type": "stream",
     "text": [
      "\r 97%|█████████▋| 108129/111923 [01:10<00:02, 1523.41it/s]"
     ]
    },
    {
     "name": "stderr",
     "output_type": "stream",
     "text": [
      "\r 97%|█████████▋| 108336/111923 [01:11<00:02, 1524.16it/s]"
     ]
    },
    {
     "name": "stderr",
     "output_type": "stream",
     "text": [
      "\r 97%|█████████▋| 108539/111923 [01:11<00:02, 1524.75it/s]"
     ]
    },
    {
     "name": "stderr",
     "output_type": "stream",
     "text": [
      "\r 97%|█████████▋| 108739/111923 [01:11<00:02, 1525.30it/s]"
     ]
    },
    {
     "name": "stderr",
     "output_type": "stream",
     "text": [
      "\r 97%|█████████▋| 108936/111923 [01:11<00:01, 1525.86it/s]"
     ]
    },
    {
     "name": "stderr",
     "output_type": "stream",
     "text": [
      "\r 98%|█████████▊| 109134/111923 [01:11<00:01, 1526.48it/s]"
     ]
    },
    {
     "name": "stderr",
     "output_type": "stream",
     "text": [
      "\r 98%|█████████▊| 109334/111923 [01:11<00:01, 1527.12it/s]"
     ]
    },
    {
     "name": "stderr",
     "output_type": "stream",
     "text": [
      "\r 98%|█████████▊| 109533/111923 [01:11<00:01, 1527.75it/s]"
     ]
    },
    {
     "name": "stderr",
     "output_type": "stream",
     "text": [
      "\r 98%|█████████▊| 109730/111923 [01:11<00:01, 1528.31it/s]"
     ]
    },
    {
     "name": "stderr",
     "output_type": "stream",
     "text": [
      "\r 98%|█████████▊| 109926/111923 [01:11<00:01, 1528.75it/s]"
     ]
    },
    {
     "name": "stderr",
     "output_type": "stream",
     "text": [
      "\r 98%|█████████▊| 110128/111923 [01:12<00:01, 1529.42it/s]"
     ]
    },
    {
     "name": "stderr",
     "output_type": "stream",
     "text": [
      "\r 99%|█████████▊| 110329/111923 [01:12<00:01, 1530.07it/s]"
     ]
    },
    {
     "name": "stderr",
     "output_type": "stream",
     "text": [
      "\r 99%|█████████▉| 110540/111923 [01:12<00:00, 1530.86it/s]"
     ]
    },
    {
     "name": "stderr",
     "output_type": "stream",
     "text": [
      "\r 99%|█████████▉| 110747/111923 [01:12<00:00, 1531.59it/s]"
     ]
    },
    {
     "name": "stderr",
     "output_type": "stream",
     "text": [
      "\r 99%|█████████▉| 110960/111923 [01:12<00:00, 1532.40it/s]"
     ]
    },
    {
     "name": "stderr",
     "output_type": "stream",
     "text": [
      "\r 99%|█████████▉| 111165/111923 [01:12<00:00, 1533.02it/s]"
     ]
    },
    {
     "name": "stderr",
     "output_type": "stream",
     "text": [
      "\r100%|█████████▉| 111367/111923 [01:12<00:00, 1533.55it/s]"
     ]
    },
    {
     "name": "stderr",
     "output_type": "stream",
     "text": [
      "\r100%|█████████▉| 111566/111923 [01:12<00:00, 1534.10it/s]"
     ]
    },
    {
     "name": "stderr",
     "output_type": "stream",
     "text": [
      "\r100%|█████████▉| 111764/111923 [01:12<00:00, 1534.69it/s]"
     ]
    },
    {
     "name": "stderr",
     "output_type": "stream",
     "text": [
      "\r100%|██████████| 111923/111923 [01:12<00:00, 1535.13it/s]"
     ]
    },
    {
     "name": "stderr",
     "output_type": "stream",
     "text": [
      "\n"
     ]
    },
    {
     "name": "stderr",
     "output_type": "stream",
     "text": [
      "\r  0%|          | 0/114911 [00:00<?, ?it/s]"
     ]
    },
    {
     "name": "stderr",
     "output_type": "stream",
     "text": [
      "\r  0%|          | 155/114911 [00:00<01:14, 1538.60it/s]"
     ]
    },
    {
     "name": "stderr",
     "output_type": "stream",
     "text": [
      "\r  0%|          | 308/114911 [00:00<01:14, 1528.96it/s]"
     ]
    },
    {
     "name": "stderr",
     "output_type": "stream",
     "text": [
      "\r  0%|          | 476/114911 [00:00<01:12, 1575.25it/s]"
     ]
    },
    {
     "name": "stderr",
     "output_type": "stream",
     "text": [
      "\r  1%|          | 654/114911 [00:00<01:10, 1625.24it/s]"
     ]
    },
    {
     "name": "stderr",
     "output_type": "stream",
     "text": [
      "\r  1%|          | 830/114911 [00:00<01:09, 1649.68it/s]"
     ]
    },
    {
     "name": "stderr",
     "output_type": "stream",
     "text": [
      "\r  1%|          | 975/114911 [00:00<01:10, 1615.48it/s]"
     ]
    },
    {
     "name": "stderr",
     "output_type": "stream",
     "text": [
      "\r  1%|          | 1132/114911 [00:00<01:10, 1607.19it/s]"
     ]
    },
    {
     "name": "stderr",
     "output_type": "stream",
     "text": [
      "\r  1%|          | 1308/114911 [00:00<01:09, 1624.72it/s]"
     ]
    },
    {
     "name": "stderr",
     "output_type": "stream",
     "text": [
      "\r  1%|▏         | 1484/114911 [00:00<01:09, 1638.40it/s]"
     ]
    },
    {
     "name": "stderr",
     "output_type": "stream",
     "text": [
      "\r  1%|▏         | 1656/114911 [00:01<01:08, 1645.28it/s]"
     ]
    },
    {
     "name": "stderr",
     "output_type": "stream",
     "text": [
      "\r  2%|▏         | 1827/114911 [00:01<01:08, 1650.08it/s]"
     ]
    },
    {
     "name": "stderr",
     "output_type": "stream",
     "text": [
      "\r  2%|▏         | 1993/114911 [00:01<01:08, 1649.86it/s]"
     ]
    },
    {
     "name": "stderr",
     "output_type": "stream",
     "text": [
      "\r  2%|▏         | 2163/114911 [00:01<01:08, 1651.51it/s]"
     ]
    },
    {
     "name": "stderr",
     "output_type": "stream",
     "text": [
      "\r  2%|▏         | 2342/114911 [00:01<01:07, 1660.47it/s]"
     ]
    },
    {
     "name": "stderr",
     "output_type": "stream",
     "text": [
      "\r  2%|▏         | 2524/114911 [00:01<01:07, 1670.22it/s]"
     ]
    },
    {
     "name": "stderr",
     "output_type": "stream",
     "text": [
      "\r  2%|▏         | 2697/114911 [00:01<01:07, 1670.07it/s]"
     ]
    },
    {
     "name": "stderr",
     "output_type": "stream",
     "text": [
      "\r  2%|▏         | 2871/114911 [00:01<01:06, 1673.83it/s]"
     ]
    },
    {
     "name": "stderr",
     "output_type": "stream",
     "text": [
      "\r  3%|▎         | 3043/114911 [00:01<01:07, 1667.49it/s]"
     ]
    },
    {
     "name": "stderr",
     "output_type": "stream",
     "text": [
      "\r  3%|▎         | 3211/114911 [00:01<01:07, 1655.45it/s]"
     ]
    },
    {
     "name": "stderr",
     "output_type": "stream",
     "text": [
      "\r  3%|▎         | 3380/114911 [00:02<01:07, 1656.57it/s]"
     ]
    },
    {
     "name": "stderr",
     "output_type": "stream",
     "text": [
      "\r  3%|▎         | 3553/114911 [00:02<01:07, 1659.41it/s]"
     ]
    },
    {
     "name": "stderr",
     "output_type": "stream",
     "text": [
      "\r  3%|▎         | 3719/114911 [00:02<01:07, 1658.92it/s]"
     ]
    },
    {
     "name": "stderr",
     "output_type": "stream",
     "text": [
      "\r  3%|▎         | 3887/114911 [00:02<01:06, 1659.30it/s]"
     ]
    },
    {
     "name": "stderr",
     "output_type": "stream",
     "text": [
      "\r  4%|▎         | 4058/114911 [00:02<01:06, 1660.86it/s]"
     ]
    },
    {
     "name": "stderr",
     "output_type": "stream",
     "text": [
      "\r  4%|▎         | 4228/114911 [00:02<01:06, 1661.92it/s]"
     ]
    },
    {
     "name": "stderr",
     "output_type": "stream",
     "text": [
      "\r  4%|▍         | 4405/114911 [00:02<01:06, 1665.55it/s]"
     ]
    },
    {
     "name": "stderr",
     "output_type": "stream",
     "text": [
      "\r  4%|▍         | 4575/114911 [00:02<01:06, 1650.47it/s]"
     ]
    },
    {
     "name": "stderr",
     "output_type": "stream",
     "text": [
      "\r  4%|▍         | 4735/114911 [00:02<01:07, 1640.90it/s]"
     ]
    },
    {
     "name": "stderr",
     "output_type": "stream",
     "text": [
      "\r  4%|▍         | 4889/114911 [00:02<01:07, 1632.70it/s]"
     ]
    },
    {
     "name": "stderr",
     "output_type": "stream",
     "text": [
      "\r  4%|▍         | 5039/114911 [00:03<01:07, 1620.70it/s]"
     ]
    },
    {
     "name": "stderr",
     "output_type": "stream",
     "text": [
      "\r  5%|▍         | 5184/114911 [00:03<01:08, 1610.01it/s]"
     ]
    },
    {
     "name": "stderr",
     "output_type": "stream",
     "text": [
      "\r  5%|▍         | 5342/114911 [00:03<01:08, 1608.75it/s]"
     ]
    },
    {
     "name": "stderr",
     "output_type": "stream",
     "text": [
      "\r  5%|▍         | 5504/114911 [00:03<01:08, 1608.74it/s]"
     ]
    },
    {
     "name": "stderr",
     "output_type": "stream",
     "text": [
      "\r  5%|▍         | 5654/114911 [00:03<01:08, 1604.40it/s]"
     ]
    },
    {
     "name": "stderr",
     "output_type": "stream",
     "text": [
      "\r  5%|▌         | 5808/114911 [00:03<01:08, 1602.31it/s]"
     ]
    },
    {
     "name": "stderr",
     "output_type": "stream",
     "text": [
      "\r  5%|▌         | 5958/114911 [00:03<01:08, 1598.40it/s]"
     ]
    },
    {
     "name": "stderr",
     "output_type": "stream",
     "text": [
      "\r  5%|▌         | 6107/114911 [00:03<01:08, 1594.83it/s]"
     ]
    },
    {
     "name": "stderr",
     "output_type": "stream",
     "text": [
      "\r  5%|▌         | 6264/114911 [00:03<01:08, 1593.91it/s]"
     ]
    },
    {
     "name": "stderr",
     "output_type": "stream",
     "text": [
      "\r  6%|▌         | 6443/114911 [00:04<01:07, 1598.65it/s]"
     ]
    },
    {
     "name": "stderr",
     "output_type": "stream",
     "text": [
      "\r  6%|▌         | 6609/114911 [00:04<01:07, 1599.85it/s]"
     ]
    },
    {
     "name": "stderr",
     "output_type": "stream",
     "text": [
      "\r  6%|▌         | 6774/114911 [00:04<01:07, 1600.76it/s]"
     ]
    },
    {
     "name": "stderr",
     "output_type": "stream",
     "text": [
      "\r  6%|▌         | 6941/114911 [00:04<01:07, 1602.09it/s]"
     ]
    },
    {
     "name": "stderr",
     "output_type": "stream",
     "text": [
      "\r  6%|▌         | 7104/114911 [00:04<01:07, 1602.45it/s]"
     ]
    },
    {
     "name": "stderr",
     "output_type": "stream",
     "text": [
      "\r  6%|▋         | 7276/114911 [00:04<01:07, 1604.78it/s]"
     ]
    },
    {
     "name": "stderr",
     "output_type": "stream",
     "text": [
      "\r  6%|▋         | 7443/114911 [00:04<01:06, 1605.95it/s]"
     ]
    },
    {
     "name": "stderr",
     "output_type": "stream",
     "text": [
      "\r  7%|▋         | 7614/114911 [00:04<01:06, 1607.88it/s]"
     ]
    },
    {
     "name": "stderr",
     "output_type": "stream",
     "text": [
      "\r  7%|▋         | 7788/114911 [00:04<01:06, 1610.37it/s]"
     ]
    },
    {
     "name": "stderr",
     "output_type": "stream",
     "text": [
      "\r  7%|▋         | 7976/114911 [00:04<01:06, 1615.28it/s]"
     ]
    },
    {
     "name": "stderr",
     "output_type": "stream",
     "text": [
      "\r  7%|▋         | 8150/114911 [00:05<01:06, 1612.72it/s]"
     ]
    },
    {
     "name": "stderr",
     "output_type": "stream",
     "text": [
      "\r  7%|▋         | 8317/114911 [00:05<01:06, 1607.37it/s]"
     ]
    },
    {
     "name": "stderr",
     "output_type": "stream",
     "text": [
      "\r  7%|▋         | 8485/114911 [00:05<01:06, 1608.52it/s]"
     ]
    },
    {
     "name": "stderr",
     "output_type": "stream",
     "text": [
      "\r  8%|▊         | 8664/114911 [00:05<01:05, 1611.68it/s]"
     ]
    },
    {
     "name": "stderr",
     "output_type": "stream",
     "text": [
      "\r  8%|▊         | 8835/114911 [00:05<01:05, 1613.26it/s]"
     ]
    },
    {
     "name": "stderr",
     "output_type": "stream",
     "text": [
      "\r  8%|▊         | 9004/114911 [00:05<01:05, 1614.54it/s]"
     ]
    },
    {
     "name": "stderr",
     "output_type": "stream",
     "text": [
      "\r  8%|▊         | 9184/114911 [00:05<01:05, 1617.59it/s]"
     ]
    },
    {
     "name": "stderr",
     "output_type": "stream",
     "text": [
      "\r  8%|▊         | 9355/114911 [00:05<01:05, 1618.99it/s]"
     ]
    },
    {
     "name": "stderr",
     "output_type": "stream",
     "text": [
      "\r  8%|▊         | 9530/114911 [00:05<01:05, 1621.02it/s]"
     ]
    },
    {
     "name": "stderr",
     "output_type": "stream",
     "text": [
      "\r  8%|▊         | 9715/114911 [00:05<01:04, 1624.65it/s]"
     ]
    },
    {
     "name": "stderr",
     "output_type": "stream",
     "text": [
      "\r  9%|▊         | 9891/114911 [00:06<01:04, 1622.69it/s]"
     ]
    },
    {
     "name": "stderr",
     "output_type": "stream",
     "text": [
      "\r  9%|▉         | 10060/114911 [00:06<01:04, 1621.24it/s]"
     ]
    },
    {
     "name": "stderr",
     "output_type": "stream",
     "text": [
      "\r  9%|▉         | 10231/114911 [00:06<01:04, 1622.64it/s]"
     ]
    },
    {
     "name": "stderr",
     "output_type": "stream",
     "text": [
      "\r  9%|▉         | 10398/114911 [00:06<01:04, 1622.19it/s]"
     ]
    },
    {
     "name": "stderr",
     "output_type": "stream",
     "text": [
      "\r  9%|▉         | 10563/114911 [00:06<01:04, 1621.93it/s]"
     ]
    },
    {
     "name": "stderr",
     "output_type": "stream",
     "text": [
      "\r  9%|▉         | 10741/114911 [00:06<01:04, 1624.14it/s]"
     ]
    },
    {
     "name": "stderr",
     "output_type": "stream",
     "text": [
      "\r  9%|▉         | 10909/114911 [00:06<01:04, 1624.79it/s]"
     ]
    },
    {
     "name": "stderr",
     "output_type": "stream",
     "text": [
      "\r 10%|▉         | 11077/114911 [00:06<01:04, 1621.87it/s]"
     ]
    },
    {
     "name": "stderr",
     "output_type": "stream",
     "text": [
      "\r 10%|▉         | 11238/114911 [00:06<01:04, 1615.94it/s]"
     ]
    },
    {
     "name": "stderr",
     "output_type": "stream",
     "text": [
      "\r 10%|▉         | 11396/114911 [00:07<01:04, 1615.27it/s]"
     ]
    },
    {
     "name": "stderr",
     "output_type": "stream",
     "text": [
      "\r 10%|█         | 11549/114911 [00:07<01:04, 1612.34it/s]"
     ]
    },
    {
     "name": "stderr",
     "output_type": "stream",
     "text": [
      "\r 10%|█         | 11699/114911 [00:07<01:04, 1607.32it/s]"
     ]
    },
    {
     "name": "stderr",
     "output_type": "stream",
     "text": [
      "\r 10%|█         | 11858/114911 [00:07<01:04, 1606.92it/s]"
     ]
    },
    {
     "name": "stderr",
     "output_type": "stream",
     "text": [
      "\r 10%|█         | 12016/114911 [00:07<01:04, 1606.50it/s]"
     ]
    },
    {
     "name": "stderr",
     "output_type": "stream",
     "text": [
      "\r 11%|█         | 12173/114911 [00:07<01:03, 1605.95it/s]"
     ]
    },
    {
     "name": "stderr",
     "output_type": "stream",
     "text": [
      "\r 11%|█         | 12332/114911 [00:07<01:03, 1605.70it/s]"
     ]
    },
    {
     "name": "stderr",
     "output_type": "stream",
     "text": [
      "\r 11%|█         | 12491/114911 [00:07<01:03, 1605.35it/s]"
     ]
    },
    {
     "name": "stderr",
     "output_type": "stream",
     "text": [
      "\r 11%|█         | 12651/114911 [00:07<01:03, 1605.14it/s]"
     ]
    },
    {
     "name": "stderr",
     "output_type": "stream",
     "text": [
      "\r 11%|█         | 12813/114911 [00:07<01:03, 1605.23it/s]"
     ]
    },
    {
     "name": "stderr",
     "output_type": "stream",
     "text": [
      "\r 11%|█▏        | 12985/114911 [00:08<01:03, 1606.50it/s]"
     ]
    },
    {
     "name": "stderr",
     "output_type": "stream",
     "text": [
      "\r 11%|█▏        | 13147/114911 [00:08<01:03, 1605.55it/s]"
     ]
    },
    {
     "name": "stderr",
     "output_type": "stream",
     "text": [
      "\r 12%|█▏        | 13318/114911 [00:08<01:03, 1606.67it/s]"
     ]
    },
    {
     "name": "stderr",
     "output_type": "stream",
     "text": [
      "\r 12%|█▏        | 13492/114911 [00:08<01:03, 1608.12it/s]"
     ]
    },
    {
     "name": "stderr",
     "output_type": "stream",
     "text": [
      "\r 12%|█▏        | 13658/114911 [00:08<01:02, 1608.59it/s]"
     ]
    },
    {
     "name": "stderr",
     "output_type": "stream",
     "text": [
      "\r 12%|█▏        | 13824/114911 [00:08<01:02, 1608.68it/s]"
     ]
    },
    {
     "name": "stderr",
     "output_type": "stream",
     "text": [
      "\r 12%|█▏        | 13993/114911 [00:08<01:02, 1609.48it/s]"
     ]
    },
    {
     "name": "stderr",
     "output_type": "stream",
     "text": [
      "\r 12%|█▏        | 14165/114911 [00:08<01:02, 1610.68it/s]"
     ]
    },
    {
     "name": "stderr",
     "output_type": "stream",
     "text": [
      "\r 12%|█▏        | 14333/114911 [00:08<01:02, 1611.15it/s]"
     ]
    },
    {
     "name": "stderr",
     "output_type": "stream",
     "text": [
      "\r 13%|█▎        | 14500/114911 [00:09<01:02, 1610.42it/s]"
     ]
    },
    {
     "name": "stderr",
     "output_type": "stream",
     "text": [
      "\r 13%|█▎        | 14664/114911 [00:09<01:02, 1610.26it/s]"
     ]
    },
    {
     "name": "stderr",
     "output_type": "stream",
     "text": [
      "\r 13%|█▎        | 14838/114911 [00:09<01:02, 1611.53it/s]"
     ]
    },
    {
     "name": "stderr",
     "output_type": "stream",
     "text": [
      "\r 13%|█▎        | 15009/114911 [00:09<01:01, 1612.46it/s]"
     ]
    },
    {
     "name": "stderr",
     "output_type": "stream",
     "text": [
      "\r 13%|█▎        | 15189/114911 [00:09<01:01, 1614.33it/s]"
     ]
    },
    {
     "name": "stderr",
     "output_type": "stream",
     "text": [
      "\r 13%|█▎        | 15374/114911 [00:09<01:01, 1616.69it/s]"
     ]
    },
    {
     "name": "stderr",
     "output_type": "stream",
     "text": [
      "\r 14%|█▎        | 15549/114911 [00:09<01:01, 1616.61it/s]"
     ]
    },
    {
     "name": "stderr",
     "output_type": "stream",
     "text": [
      "\r 14%|█▎        | 15720/114911 [00:09<01:01, 1617.28it/s]"
     ]
    },
    {
     "name": "stderr",
     "output_type": "stream",
     "text": [
      "\r 14%|█▍        | 15891/114911 [00:09<01:01, 1617.35it/s]"
     ]
    },
    {
     "name": "stderr",
     "output_type": "stream",
     "text": [
      "\r 14%|█▍        | 16059/114911 [00:09<01:01, 1616.07it/s]"
     ]
    },
    {
     "name": "stderr",
     "output_type": "stream",
     "text": [
      "\r 14%|█▍        | 16222/114911 [00:10<01:01, 1612.89it/s]"
     ]
    },
    {
     "name": "stderr",
     "output_type": "stream",
     "text": [
      "\r 14%|█▍        | 16377/114911 [00:10<01:01, 1611.05it/s]"
     ]
    },
    {
     "name": "stderr",
     "output_type": "stream",
     "text": [
      "\r 14%|█▍        | 16539/114911 [00:10<01:01, 1611.02it/s]"
     ]
    },
    {
     "name": "stderr",
     "output_type": "stream",
     "text": [
      "\r 15%|█▍        | 16700/114911 [00:10<01:00, 1610.90it/s]"
     ]
    },
    {
     "name": "stderr",
     "output_type": "stream",
     "text": [
      "\r 15%|█▍        | 16856/114911 [00:10<01:00, 1610.30it/s]"
     ]
    },
    {
     "name": "stderr",
     "output_type": "stream",
     "text": [
      "\r 15%|█▍        | 17012/114911 [00:10<01:00, 1609.71it/s]"
     ]
    },
    {
     "name": "stderr",
     "output_type": "stream",
     "text": [
      "\r 15%|█▍        | 17168/114911 [00:10<01:00, 1608.08it/s]"
     ]
    },
    {
     "name": "stderr",
     "output_type": "stream",
     "text": [
      "\r 15%|█▌        | 17325/114911 [00:10<01:00, 1607.62it/s]"
     ]
    },
    {
     "name": "stderr",
     "output_type": "stream",
     "text": [
      "\r 15%|█▌        | 17503/114911 [00:10<01:00, 1609.10it/s]"
     ]
    },
    {
     "name": "stderr",
     "output_type": "stream",
     "text": [
      "\r 15%|█▌        | 17671/114911 [00:10<01:00, 1609.64it/s]"
     ]
    },
    {
     "name": "stderr",
     "output_type": "stream",
     "text": [
      "\r 16%|█▌        | 17839/114911 [00:11<01:00, 1610.16it/s]"
     ]
    },
    {
     "name": "stderr",
     "output_type": "stream",
     "text": [
      "\r 16%|█▌        | 18003/114911 [00:11<01:00, 1609.89it/s]"
     ]
    },
    {
     "name": "stderr",
     "output_type": "stream",
     "text": [
      "\r 16%|█▌        | 18165/114911 [00:11<01:00, 1609.74it/s]"
     ]
    },
    {
     "name": "stderr",
     "output_type": "stream",
     "text": [
      "\r 16%|█▌        | 18336/114911 [00:11<00:59, 1610.57it/s]"
     ]
    },
    {
     "name": "stderr",
     "output_type": "stream",
     "text": [
      "\r 16%|█▌        | 18510/114911 [00:11<00:59, 1611.59it/s]"
     ]
    },
    {
     "name": "stderr",
     "output_type": "stream",
     "text": [
      "\r 16%|█▋        | 18695/114911 [00:11<00:59, 1613.54it/s]"
     ]
    },
    {
     "name": "stderr",
     "output_type": "stream",
     "text": [
      "\r 16%|█▋        | 18874/114911 [00:11<00:59, 1614.95it/s]"
     ]
    },
    {
     "name": "stderr",
     "output_type": "stream",
     "text": [
      "\r 17%|█▋        | 19048/114911 [00:11<00:59, 1615.78it/s]"
     ]
    },
    {
     "name": "stderr",
     "output_type": "stream",
     "text": [
      "\r 17%|█▋        | 19221/114911 [00:11<00:59, 1616.64it/s]"
     ]
    },
    {
     "name": "stderr",
     "output_type": "stream",
     "text": [
      "\r 17%|█▋        | 19394/114911 [00:11<00:59, 1617.48it/s]"
     ]
    },
    {
     "name": "stderr",
     "output_type": "stream",
     "text": [
      "\r 17%|█▋        | 19567/114911 [00:12<00:58, 1617.65it/s]"
     ]
    },
    {
     "name": "stderr",
     "output_type": "stream",
     "text": [
      "\r 17%|█▋        | 19737/114911 [00:12<00:58, 1616.77it/s]"
     ]
    },
    {
     "name": "stderr",
     "output_type": "stream",
     "text": [
      "\r 17%|█▋        | 19902/114911 [00:12<00:58, 1616.69it/s]"
     ]
    },
    {
     "name": "stderr",
     "output_type": "stream",
     "text": [
      "\r 17%|█▋        | 20066/114911 [00:12<00:58, 1615.74it/s]"
     ]
    },
    {
     "name": "stderr",
     "output_type": "stream",
     "text": [
      "\r 18%|█▊        | 20238/114911 [00:12<00:58, 1616.47it/s]"
     ]
    },
    {
     "name": "stderr",
     "output_type": "stream",
     "text": [
      "\r 18%|█▊        | 20426/114911 [00:12<00:58, 1618.47it/s]"
     ]
    },
    {
     "name": "stderr",
     "output_type": "stream",
     "text": [
      "\r 18%|█▊        | 20600/114911 [00:12<00:58, 1619.33it/s]"
     ]
    },
    {
     "name": "stderr",
     "output_type": "stream",
     "text": [
      "\r 18%|█▊        | 20771/114911 [00:12<00:58, 1619.56it/s]"
     ]
    },
    {
     "name": "stderr",
     "output_type": "stream",
     "text": [
      "\r 18%|█▊        | 20942/114911 [00:12<00:57, 1620.18it/s]"
     ]
    },
    {
     "name": "stderr",
     "output_type": "stream",
     "text": [
      "\r 18%|█▊        | 21112/114911 [00:13<00:57, 1619.58it/s]"
     ]
    },
    {
     "name": "stderr",
     "output_type": "stream",
     "text": [
      "\r 19%|█▊        | 21277/114911 [00:13<00:57, 1619.10it/s]"
     ]
    },
    {
     "name": "stderr",
     "output_type": "stream",
     "text": [
      "\r 19%|█▊        | 21448/114911 [00:13<00:57, 1619.70it/s]"
     ]
    },
    {
     "name": "stderr",
     "output_type": "stream",
     "text": [
      "\r 19%|█▉        | 21623/114911 [00:13<00:57, 1620.59it/s]"
     ]
    },
    {
     "name": "stderr",
     "output_type": "stream",
     "text": [
      "\r 19%|█▉        | 21801/114911 [00:13<00:57, 1621.69it/s]"
     ]
    },
    {
     "name": "stderr",
     "output_type": "stream",
     "text": [
      "\r 19%|█▉        | 21976/114911 [00:13<00:57, 1622.52it/s]"
     ]
    },
    {
     "name": "stderr",
     "output_type": "stream",
     "text": [
      "\r 19%|█▉        | 22148/114911 [00:13<00:57, 1622.91it/s]"
     ]
    },
    {
     "name": "stderr",
     "output_type": "stream",
     "text": [
      "\r 19%|█▉        | 22337/114911 [00:13<00:56, 1624.76it/s]"
     ]
    },
    {
     "name": "stderr",
     "output_type": "stream",
     "text": [
      "\r 20%|█▉        | 22517/114911 [00:13<00:56, 1625.95it/s]"
     ]
    },
    {
     "name": "stderr",
     "output_type": "stream",
     "text": [
      "\r 20%|█▉        | 22694/114911 [00:13<00:56, 1624.92it/s]"
     ]
    },
    {
     "name": "stderr",
     "output_type": "stream",
     "text": [
      "\r 20%|█▉        | 22867/114911 [00:14<00:56, 1625.58it/s]"
     ]
    },
    {
     "name": "stderr",
     "output_type": "stream",
     "text": [
      "\r 20%|██        | 23037/114911 [00:14<00:56, 1624.76it/s]"
     ]
    },
    {
     "name": "stderr",
     "output_type": "stream",
     "text": [
      "\r 20%|██        | 23202/114911 [00:14<00:56, 1624.17it/s]"
     ]
    },
    {
     "name": "stderr",
     "output_type": "stream",
     "text": [
      "\r 20%|██        | 23370/114911 [00:14<00:56, 1624.48it/s]"
     ]
    },
    {
     "name": "stderr",
     "output_type": "stream",
     "text": [
      "\r 20%|██        | 23534/114911 [00:14<00:56, 1623.95it/s]"
     ]
    },
    {
     "name": "stderr",
     "output_type": "stream",
     "text": [
      "\r 21%|██        | 23703/114911 [00:14<00:56, 1624.32it/s]"
     ]
    },
    {
     "name": "stderr",
     "output_type": "stream",
     "text": [
      "\r 21%|██        | 23872/114911 [00:14<00:56, 1624.73it/s]"
     ]
    },
    {
     "name": "stderr",
     "output_type": "stream",
     "text": [
      "\r 21%|██        | 24037/114911 [00:14<00:56, 1622.30it/s]"
     ]
    },
    {
     "name": "stderr",
     "output_type": "stream",
     "text": [
      "\r 21%|██        | 24193/114911 [00:14<00:56, 1619.29it/s]"
     ]
    },
    {
     "name": "stderr",
     "output_type": "stream",
     "text": [
      "\r 21%|██        | 24340/114911 [00:15<00:55, 1617.79it/s]"
     ]
    },
    {
     "name": "stderr",
     "output_type": "stream",
     "text": [
      "\r 21%|██▏       | 24485/114911 [00:15<00:56, 1613.63it/s]"
     ]
    },
    {
     "name": "stderr",
     "output_type": "stream",
     "text": [
      "\r 21%|██▏       | 24621/114911 [00:15<00:56, 1611.78it/s]"
     ]
    },
    {
     "name": "stderr",
     "output_type": "stream",
     "text": [
      "\r 22%|██▏       | 24766/114911 [00:15<00:55, 1610.66it/s]"
     ]
    },
    {
     "name": "stderr",
     "output_type": "stream",
     "text": [
      "\r 22%|██▏       | 24919/114911 [00:15<00:55, 1610.06it/s]"
     ]
    },
    {
     "name": "stderr",
     "output_type": "stream",
     "text": [
      "\r 22%|██▏       | 25072/114911 [00:15<00:55, 1609.47it/s]"
     ]
    },
    {
     "name": "stderr",
     "output_type": "stream",
     "text": [
      "\r 22%|██▏       | 25226/114911 [00:15<00:55, 1608.95it/s]"
     ]
    },
    {
     "name": "stderr",
     "output_type": "stream",
     "text": [
      "\r 22%|██▏       | 25382/114911 [00:15<00:55, 1608.57it/s]"
     ]
    },
    {
     "name": "stderr",
     "output_type": "stream",
     "text": [
      "\r 22%|██▏       | 25539/114911 [00:15<00:55, 1608.30it/s]"
     ]
    },
    {
     "name": "stderr",
     "output_type": "stream",
     "text": [
      "\r 22%|██▏       | 25705/114911 [00:15<00:55, 1608.55it/s]"
     ]
    },
    {
     "name": "stderr",
     "output_type": "stream",
     "text": [
      "\r 23%|██▎       | 25888/114911 [00:16<00:55, 1609.85it/s]"
     ]
    },
    {
     "name": "stderr",
     "output_type": "stream",
     "text": [
      "\r 23%|██▎       | 26054/114911 [00:16<00:55, 1610.08it/s]"
     ]
    },
    {
     "name": "stderr",
     "output_type": "stream",
     "text": [
      "\r 23%|██▎       | 26218/114911 [00:16<00:55, 1610.20it/s]"
     ]
    },
    {
     "name": "stderr",
     "output_type": "stream",
     "text": [
      "\r 23%|██▎       | 26398/114911 [00:16<00:54, 1611.28it/s]"
     ]
    },
    {
     "name": "stderr",
     "output_type": "stream",
     "text": [
      "\r 23%|██▎       | 26567/114911 [00:16<00:54, 1611.69it/s]"
     ]
    },
    {
     "name": "stderr",
     "output_type": "stream",
     "text": [
      "\r 23%|██▎       | 26744/114911 [00:16<00:54, 1612.57it/s]"
     ]
    },
    {
     "name": "stderr",
     "output_type": "stream",
     "text": [
      "\r 23%|██▎       | 26917/114911 [00:16<00:54, 1613.21it/s]"
     ]
    },
    {
     "name": "stderr",
     "output_type": "stream",
     "text": [
      "\r 24%|██▎       | 27096/114911 [00:16<00:54, 1614.19it/s]"
     ]
    },
    {
     "name": "stderr",
     "output_type": "stream",
     "text": [
      "\r 24%|██▎       | 27275/114911 [00:16<00:54, 1615.16it/s]"
     ]
    },
    {
     "name": "stderr",
     "output_type": "stream",
     "text": [
      "\r 24%|██▍       | 27450/114911 [00:16<00:54, 1615.93it/s]"
     ]
    },
    {
     "name": "stderr",
     "output_type": "stream",
     "text": [
      "\r 24%|██▍       | 27625/114911 [00:17<00:53, 1616.64it/s]"
     ]
    },
    {
     "name": "stderr",
     "output_type": "stream",
     "text": [
      "\r 24%|██▍       | 27800/114911 [00:17<00:53, 1617.25it/s]"
     ]
    },
    {
     "name": "stderr",
     "output_type": "stream",
     "text": [
      "\r 24%|██▍       | 27974/114911 [00:17<00:53, 1617.89it/s]"
     ]
    },
    {
     "name": "stderr",
     "output_type": "stream",
     "text": [
      "\r 25%|██▍       | 28154/114911 [00:17<00:53, 1618.87it/s]"
     ]
    },
    {
     "name": "stderr",
     "output_type": "stream",
     "text": [
      "\r 25%|██▍       | 28329/114911 [00:17<00:53, 1619.55it/s]"
     ]
    },
    {
     "name": "stderr",
     "output_type": "stream",
     "text": [
      "\r 25%|██▍       | 28511/114911 [00:17<00:53, 1620.63it/s]"
     ]
    },
    {
     "name": "stderr",
     "output_type": "stream",
     "text": [
      "\r 25%|██▍       | 28689/114911 [00:17<00:53, 1621.46it/s]"
     ]
    },
    {
     "name": "stderr",
     "output_type": "stream",
     "text": [
      "\r 25%|██▌       | 28873/114911 [00:17<00:53, 1622.62it/s]"
     ]
    },
    {
     "name": "stderr",
     "output_type": "stream",
     "text": [
      "\r 25%|██▌       | 29052/114911 [00:17<00:53, 1618.53it/s]"
     ]
    },
    {
     "name": "stderr",
     "output_type": "stream",
     "text": [
      "\r 25%|██▌       | 29212/114911 [00:18<00:52, 1617.52it/s]"
     ]
    },
    {
     "name": "stderr",
     "output_type": "stream",
     "text": [
      "\r 26%|██▌       | 29371/114911 [00:18<00:52, 1617.30it/s]"
     ]
    },
    {
     "name": "stderr",
     "output_type": "stream",
     "text": [
      "\r 26%|██▌       | 29548/114911 [00:18<00:52, 1618.07it/s]"
     ]
    },
    {
     "name": "stderr",
     "output_type": "stream",
     "text": [
      "\r 26%|██▌       | 29710/114911 [00:18<00:52, 1617.55it/s]"
     ]
    },
    {
     "name": "stderr",
     "output_type": "stream",
     "text": [
      "\r 26%|██▌       | 29870/114911 [00:18<00:52, 1617.31it/s]"
     ]
    },
    {
     "name": "stderr",
     "output_type": "stream",
     "text": [
      "\r 26%|██▌       | 30043/114911 [00:18<00:52, 1617.85it/s]"
     ]
    },
    {
     "name": "stderr",
     "output_type": "stream",
     "text": [
      "\r 26%|██▋       | 30214/114911 [00:18<00:52, 1618.28it/s]"
     ]
    },
    {
     "name": "stderr",
     "output_type": "stream",
     "text": [
      "\r 26%|██▋       | 30402/114911 [00:18<00:52, 1619.61it/s]"
     ]
    },
    {
     "name": "stderr",
     "output_type": "stream",
     "text": [
      "\r 27%|██▋       | 30578/114911 [00:18<00:52, 1620.29it/s]"
     ]
    },
    {
     "name": "stderr",
     "output_type": "stream",
     "text": [
      "\r 27%|██▋       | 30756/114911 [00:18<00:51, 1621.07it/s]"
     ]
    },
    {
     "name": "stderr",
     "output_type": "stream",
     "text": [
      "\r 27%|██▋       | 30935/114911 [00:19<00:51, 1621.93it/s]"
     ]
    },
    {
     "name": "stderr",
     "output_type": "stream",
     "text": [
      "\r 27%|██▋       | 31113/114911 [00:19<00:51, 1622.69it/s]"
     ]
    },
    {
     "name": "stderr",
     "output_type": "stream",
     "text": [
      "\r 27%|██▋       | 31289/114911 [00:19<00:51, 1623.34it/s]"
     ]
    },
    {
     "name": "stderr",
     "output_type": "stream",
     "text": [
      "\r 27%|██▋       | 31465/114911 [00:19<00:51, 1623.73it/s]"
     ]
    },
    {
     "name": "stderr",
     "output_type": "stream",
     "text": [
      "\r 28%|██▊       | 31639/114911 [00:19<00:51, 1624.18it/s]"
     ]
    },
    {
     "name": "stderr",
     "output_type": "stream",
     "text": [
      "\r 28%|██▊       | 31817/114911 [00:19<00:51, 1624.95it/s]"
     ]
    },
    {
     "name": "stderr",
     "output_type": "stream",
     "text": [
      "\r 28%|██▊       | 31993/114911 [00:19<00:51, 1625.61it/s]"
     ]
    },
    {
     "name": "stderr",
     "output_type": "stream",
     "text": [
      "\r 28%|██▊       | 32168/114911 [00:19<00:50, 1625.94it/s]"
     ]
    },
    {
     "name": "stderr",
     "output_type": "stream",
     "text": [
      "\r 28%|██▊       | 32341/114911 [00:19<00:50, 1625.83it/s]"
     ]
    },
    {
     "name": "stderr",
     "output_type": "stream",
     "text": [
      "\r 28%|██▊       | 32511/114911 [00:19<00:50, 1625.98it/s]"
     ]
    },
    {
     "name": "stderr",
     "output_type": "stream",
     "text": [
      "\r 28%|██▊       | 32681/114911 [00:20<00:50, 1626.29it/s]"
     ]
    },
    {
     "name": "stderr",
     "output_type": "stream",
     "text": [
      "\r 29%|██▊       | 32850/114911 [00:20<00:50, 1623.34it/s]"
     ]
    },
    {
     "name": "stderr",
     "output_type": "stream",
     "text": [
      "\r 29%|██▊       | 33004/114911 [00:20<00:50, 1616.45it/s]"
     ]
    },
    {
     "name": "stderr",
     "output_type": "stream",
     "text": [
      "\r 29%|██▉       | 33138/114911 [00:20<00:50, 1611.37it/s]"
     ]
    },
    {
     "name": "stderr",
     "output_type": "stream",
     "text": [
      "\r 29%|██▉       | 33259/114911 [00:20<00:50, 1605.80it/s]"
     ]
    },
    {
     "name": "stderr",
     "output_type": "stream",
     "text": [
      "\r 29%|██▉       | 33369/114911 [00:20<00:50, 1601.63it/s]"
     ]
    },
    {
     "name": "stderr",
     "output_type": "stream",
     "text": [
      "\r 29%|██▉       | 33473/114911 [00:20<00:50, 1597.67it/s]"
     ]
    },
    {
     "name": "stderr",
     "output_type": "stream",
     "text": [
      "\r 29%|██▉       | 33573/114911 [00:21<00:51, 1593.72it/s]"
     ]
    },
    {
     "name": "stderr",
     "output_type": "stream",
     "text": [
      "\r 29%|██▉       | 33669/114911 [00:21<00:51, 1589.55it/s]"
     ]
    },
    {
     "name": "stderr",
     "output_type": "stream",
     "text": [
      "\r 29%|██▉       | 33761/114911 [00:21<00:51, 1585.97it/s]"
     ]
    },
    {
     "name": "stderr",
     "output_type": "stream",
     "text": [
      "\r 29%|██▉       | 33852/114911 [00:21<00:51, 1582.17it/s]"
     ]
    },
    {
     "name": "stderr",
     "output_type": "stream",
     "text": [
      "\r 30%|██▉       | 33941/114911 [00:21<00:51, 1578.53it/s]"
     ]
    },
    {
     "name": "stderr",
     "output_type": "stream",
     "text": [
      "\r 30%|██▉       | 34030/114911 [00:21<00:51, 1575.29it/s]"
     ]
    },
    {
     "name": "stderr",
     "output_type": "stream",
     "text": [
      "\r 30%|██▉       | 34118/114911 [00:21<00:51, 1571.74it/s]"
     ]
    },
    {
     "name": "stderr",
     "output_type": "stream",
     "text": [
      "\r 30%|██▉       | 34207/114911 [00:21<00:51, 1568.56it/s]"
     ]
    },
    {
     "name": "stderr",
     "output_type": "stream",
     "text": [
      "\r 30%|██▉       | 34296/114911 [00:21<00:51, 1565.33it/s]"
     ]
    },
    {
     "name": "stderr",
     "output_type": "stream",
     "text": [
      "\r 30%|██▉       | 34384/114911 [00:22<00:51, 1561.60it/s]"
     ]
    },
    {
     "name": "stderr",
     "output_type": "stream",
     "text": [
      "\r 30%|██▉       | 34470/114911 [00:22<00:51, 1558.37it/s]"
     ]
    },
    {
     "name": "stderr",
     "output_type": "stream",
     "text": [
      "\r 30%|███       | 34560/114911 [00:22<00:51, 1555.35it/s]"
     ]
    },
    {
     "name": "stderr",
     "output_type": "stream",
     "text": [
      "\r 30%|███       | 34651/114911 [00:22<00:51, 1552.41it/s]"
     ]
    },
    {
     "name": "stderr",
     "output_type": "stream",
     "text": [
      "\r 30%|███       | 34739/114911 [00:22<00:51, 1549.15it/s]"
     ]
    },
    {
     "name": "stderr",
     "output_type": "stream",
     "text": [
      "\r 30%|███       | 34834/114911 [00:22<00:51, 1546.44it/s]"
     ]
    },
    {
     "name": "stderr",
     "output_type": "stream",
     "text": [
      "\r 30%|███       | 34924/114911 [00:22<00:51, 1543.39it/s]"
     ]
    },
    {
     "name": "stderr",
     "output_type": "stream",
     "text": [
      "\r 30%|███       | 35013/114911 [00:22<00:51, 1540.33it/s]"
     ]
    },
    {
     "name": "stderr",
     "output_type": "stream",
     "text": [
      "\r 31%|███       | 35101/114911 [00:22<00:51, 1537.39it/s]"
     ]
    },
    {
     "name": "stderr",
     "output_type": "stream",
     "text": [
      "\r 31%|███       | 35192/114911 [00:22<00:51, 1534.53it/s]"
     ]
    },
    {
     "name": "stderr",
     "output_type": "stream",
     "text": [
      "\r 31%|███       | 35281/114911 [00:23<00:51, 1531.35it/s]"
     ]
    },
    {
     "name": "stderr",
     "output_type": "stream",
     "text": [
      "\r 31%|███       | 35369/114911 [00:23<00:52, 1527.96it/s]"
     ]
    },
    {
     "name": "stderr",
     "output_type": "stream",
     "text": [
      "\r 31%|███       | 35455/114911 [00:23<00:52, 1524.77it/s]"
     ]
    },
    {
     "name": "stderr",
     "output_type": "stream",
     "text": [
      "\r 31%|███       | 35540/114911 [00:23<00:52, 1521.77it/s]"
     ]
    },
    {
     "name": "stderr",
     "output_type": "stream",
     "text": [
      "\r 31%|███       | 35625/114911 [00:23<00:52, 1518.34it/s]"
     ]
    },
    {
     "name": "stderr",
     "output_type": "stream",
     "text": [
      "\r 31%|███       | 35708/114911 [00:23<00:52, 1515.37it/s]"
     ]
    },
    {
     "name": "stderr",
     "output_type": "stream",
     "text": [
      "\r 31%|███       | 35795/114911 [00:23<00:52, 1512.59it/s]"
     ]
    },
    {
     "name": "stderr",
     "output_type": "stream",
     "text": [
      "\r 31%|███       | 35880/114911 [00:23<00:52, 1509.75it/s]"
     ]
    },
    {
     "name": "stderr",
     "output_type": "stream",
     "text": [
      "\r 31%|███▏      | 35973/114911 [00:23<00:52, 1507.21it/s]"
     ]
    },
    {
     "name": "stderr",
     "output_type": "stream",
     "text": [
      "\r 31%|███▏      | 36060/114911 [00:23<00:52, 1503.87it/s]"
     ]
    },
    {
     "name": "stderr",
     "output_type": "stream",
     "text": [
      "\r 31%|███▏      | 36149/114911 [00:24<00:52, 1501.28it/s]"
     ]
    },
    {
     "name": "stderr",
     "output_type": "stream",
     "text": [
      "\r 32%|███▏      | 36236/114911 [00:24<00:52, 1498.62it/s]"
     ]
    },
    {
     "name": "stderr",
     "output_type": "stream",
     "text": [
      "\r 32%|███▏      | 36396/114911 [00:24<00:52, 1498.98it/s]"
     ]
    },
    {
     "name": "stderr",
     "output_type": "stream",
     "text": [
      "\r 32%|███▏      | 36570/114911 [00:24<00:52, 1499.92it/s]"
     ]
    },
    {
     "name": "stderr",
     "output_type": "stream",
     "text": [
      "\r 32%|███▏      | 36745/114911 [00:24<00:52, 1500.91it/s]"
     ]
    },
    {
     "name": "stderr",
     "output_type": "stream",
     "text": [
      "\r 32%|███▏      | 36887/114911 [00:24<00:52, 1499.68it/s]"
     ]
    },
    {
     "name": "stderr",
     "output_type": "stream",
     "text": [
      "\r 32%|███▏      | 37023/114911 [00:24<00:52, 1497.15it/s]"
     ]
    },
    {
     "name": "stderr",
     "output_type": "stream",
     "text": [
      "\r 32%|███▏      | 37190/114911 [00:24<00:51, 1497.82it/s]"
     ]
    },
    {
     "name": "stderr",
     "output_type": "stream",
     "text": [
      "\r 32%|███▏      | 37341/114911 [00:24<00:51, 1497.77it/s]"
     ]
    },
    {
     "name": "stderr",
     "output_type": "stream",
     "text": [
      "\r 33%|███▎      | 37514/114911 [00:25<00:51, 1498.65it/s]"
     ]
    },
    {
     "name": "stderr",
     "output_type": "stream",
     "text": [
      "\r 33%|███▎      | 37665/114911 [00:25<00:51, 1498.13it/s]"
     ]
    },
    {
     "name": "stderr",
     "output_type": "stream",
     "text": [
      "\r 33%|███▎      | 37812/114911 [00:25<00:51, 1497.45it/s]"
     ]
    },
    {
     "name": "stderr",
     "output_type": "stream",
     "text": [
      "\r 33%|███▎      | 37972/114911 [00:25<00:51, 1497.81it/s]"
     ]
    },
    {
     "name": "stderr",
     "output_type": "stream",
     "text": [
      "\r 33%|███▎      | 38120/114911 [00:25<00:51, 1494.23it/s]"
     ]
    },
    {
     "name": "stderr",
     "output_type": "stream",
     "text": [
      "\r 33%|███▎      | 38256/114911 [00:25<00:51, 1493.63it/s]"
     ]
    },
    {
     "name": "stderr",
     "output_type": "stream",
     "text": [
      "\r 33%|███▎      | 38389/114911 [00:25<00:51, 1492.44it/s]"
     ]
    },
    {
     "name": "stderr",
     "output_type": "stream",
     "text": [
      "\r 34%|███▎      | 38518/114911 [00:25<00:51, 1491.48it/s]"
     ]
    },
    {
     "name": "stderr",
     "output_type": "stream",
     "text": [
      "\r 34%|███▎      | 38683/114911 [00:25<00:51, 1492.04it/s]"
     ]
    },
    {
     "name": "stderr",
     "output_type": "stream",
     "text": [
      "\r 34%|███▍      | 38822/114911 [00:26<00:51, 1491.49it/s]"
     ]
    },
    {
     "name": "stderr",
     "output_type": "stream",
     "text": [
      "\r 34%|███▍      | 38986/114911 [00:26<00:50, 1492.00it/s]"
     ]
    },
    {
     "name": "stderr",
     "output_type": "stream",
     "text": [
      "\r 34%|███▍      | 39131/114911 [00:26<00:50, 1491.43it/s]"
     ]
    },
    {
     "name": "stderr",
     "output_type": "stream",
     "text": [
      "\r 34%|███▍      | 39274/114911 [00:26<00:50, 1487.52it/s]"
     ]
    },
    {
     "name": "stderr",
     "output_type": "stream",
     "text": [
      "\r 34%|███▍      | 39400/114911 [00:26<00:50, 1483.88it/s]"
     ]
    },
    {
     "name": "stderr",
     "output_type": "stream",
     "text": [
      "\r 34%|███▍      | 39514/114911 [00:26<00:50, 1480.11it/s]"
     ]
    },
    {
     "name": "stderr",
     "output_type": "stream",
     "text": [
      "\r 34%|███▍      | 39617/114911 [00:26<00:50, 1477.06it/s]"
     ]
    },
    {
     "name": "stderr",
     "output_type": "stream",
     "text": [
      "\r 35%|███▍      | 39714/114911 [00:26<00:51, 1473.50it/s]"
     ]
    },
    {
     "name": "stderr",
     "output_type": "stream",
     "text": [
      "\r 35%|███▍      | 39804/114911 [00:27<00:51, 1470.31it/s]"
     ]
    },
    {
     "name": "stderr",
     "output_type": "stream",
     "text": [
      "\r 35%|███▍      | 39890/114911 [00:27<00:51, 1467.53it/s]"
     ]
    },
    {
     "name": "stderr",
     "output_type": "stream",
     "text": [
      "\r 35%|███▍      | 39974/114911 [00:27<00:51, 1464.92it/s]"
     ]
    },
    {
     "name": "stderr",
     "output_type": "stream",
     "text": [
      "\r 35%|███▍      | 40057/114911 [00:27<00:51, 1461.98it/s]"
     ]
    },
    {
     "name": "stderr",
     "output_type": "stream",
     "text": [
      "\r 35%|███▍      | 40137/114911 [00:27<00:51, 1459.53it/s]"
     ]
    },
    {
     "name": "stderr",
     "output_type": "stream",
     "text": [
      "\r 35%|███▍      | 40217/114911 [00:27<00:51, 1457.05it/s]"
     ]
    },
    {
     "name": "stderr",
     "output_type": "stream",
     "text": [
      "\r 35%|███▌      | 40301/114911 [00:27<00:51, 1454.78it/s]"
     ]
    },
    {
     "name": "stderr",
     "output_type": "stream",
     "text": [
      "\r 35%|███▌      | 40382/114911 [00:27<00:51, 1452.05it/s]"
     ]
    },
    {
     "name": "stderr",
     "output_type": "stream",
     "text": [
      "\r 35%|███▌      | 40463/114911 [00:27<00:51, 1449.61it/s]"
     ]
    },
    {
     "name": "stderr",
     "output_type": "stream",
     "text": [
      "\r 35%|███▌      | 40549/114911 [00:28<00:51, 1447.47it/s]"
     ]
    },
    {
     "name": "stderr",
     "output_type": "stream",
     "text": [
      "\r 35%|███▌      | 40633/114911 [00:28<00:51, 1445.27it/s]"
     ]
    },
    {
     "name": "stderr",
     "output_type": "stream",
     "text": [
      "\r 35%|███▌      | 40718/114911 [00:28<00:51, 1443.07it/s]"
     ]
    },
    {
     "name": "stderr",
     "output_type": "stream",
     "text": [
      "\r 36%|███▌      | 40801/114911 [00:28<00:51, 1440.86it/s]"
     ]
    },
    {
     "name": "stderr",
     "output_type": "stream",
     "text": [
      "\r 36%|███▌      | 40887/114911 [00:28<00:51, 1438.78it/s]"
     ]
    },
    {
     "name": "stderr",
     "output_type": "stream",
     "text": [
      "\r 36%|███▌      | 40971/114911 [00:28<00:51, 1436.59it/s]"
     ]
    },
    {
     "name": "stderr",
     "output_type": "stream",
     "text": [
      "\r 36%|███▌      | 41054/114911 [00:28<00:51, 1434.33it/s]"
     ]
    },
    {
     "name": "stderr",
     "output_type": "stream",
     "text": [
      "\r 36%|███▌      | 41142/114911 [00:28<00:51, 1432.36it/s]"
     ]
    },
    {
     "name": "stderr",
     "output_type": "stream",
     "text": [
      "\r 36%|███▌      | 41226/114911 [00:28<00:51, 1430.27it/s]"
     ]
    },
    {
     "name": "stderr",
     "output_type": "stream",
     "text": [
      "\r 36%|███▌      | 41310/114911 [00:28<00:51, 1427.85it/s]"
     ]
    },
    {
     "name": "stderr",
     "output_type": "stream",
     "text": [
      "\r 36%|███▌      | 41394/114911 [00:29<00:51, 1425.79it/s]"
     ]
    },
    {
     "name": "stderr",
     "output_type": "stream",
     "text": [
      "\r 36%|███▌      | 41477/114911 [00:29<00:51, 1423.42it/s]"
     ]
    },
    {
     "name": "stderr",
     "output_type": "stream",
     "text": [
      "\r 36%|███▌      | 41570/114911 [00:29<00:51, 1421.69it/s]"
     ]
    },
    {
     "name": "stderr",
     "output_type": "stream",
     "text": [
      "\r 36%|███▋      | 41658/114911 [00:29<00:51, 1419.81it/s]"
     ]
    },
    {
     "name": "stderr",
     "output_type": "stream",
     "text": [
      "\r 36%|███▋      | 41745/114911 [00:29<00:51, 1417.91it/s]"
     ]
    },
    {
     "name": "stderr",
     "output_type": "stream",
     "text": [
      "\r 36%|███▋      | 41837/114911 [00:29<00:51, 1416.19it/s]"
     ]
    },
    {
     "name": "stderr",
     "output_type": "stream",
     "text": [
      "\r 36%|███▋      | 41925/114911 [00:29<00:51, 1413.96it/s]"
     ]
    },
    {
     "name": "stderr",
     "output_type": "stream",
     "text": [
      "\r 37%|███▋      | 42011/114911 [00:29<00:51, 1411.92it/s]"
     ]
    },
    {
     "name": "stderr",
     "output_type": "stream",
     "text": [
      "\r 37%|███▋      | 42096/114911 [00:29<00:51, 1409.77it/s]"
     ]
    },
    {
     "name": "stderr",
     "output_type": "stream",
     "text": [
      "\r 37%|███▋      | 42187/114911 [00:29<00:51, 1408.06it/s]"
     ]
    },
    {
     "name": "stderr",
     "output_type": "stream",
     "text": [
      "\r 37%|███▋      | 42273/114911 [00:30<00:51, 1406.07it/s]"
     ]
    },
    {
     "name": "stderr",
     "output_type": "stream",
     "text": [
      "\r 37%|███▋      | 42358/114911 [00:30<00:51, 1404.14it/s]"
     ]
    },
    {
     "name": "stderr",
     "output_type": "stream",
     "text": [
      "\r 37%|███▋      | 42443/114911 [00:30<00:51, 1402.04it/s]"
     ]
    },
    {
     "name": "stderr",
     "output_type": "stream",
     "text": [
      "\r 37%|███▋      | 42527/114911 [00:30<00:51, 1399.84it/s]"
     ]
    },
    {
     "name": "stderr",
     "output_type": "stream",
     "text": [
      "\r 37%|███▋      | 42616/114911 [00:30<00:51, 1398.13it/s]"
     ]
    },
    {
     "name": "stderr",
     "output_type": "stream",
     "text": [
      "\r 37%|███▋      | 42700/114911 [00:30<00:51, 1395.81it/s]"
     ]
    },
    {
     "name": "stderr",
     "output_type": "stream",
     "text": [
      "\r 37%|███▋      | 42782/114911 [00:30<00:51, 1392.91it/s]"
     ]
    },
    {
     "name": "stderr",
     "output_type": "stream",
     "text": [
      "\r 37%|███▋      | 42862/114911 [00:30<00:51, 1390.90it/s]"
     ]
    },
    {
     "name": "stderr",
     "output_type": "stream",
     "text": [
      "\r 37%|███▋      | 42940/114911 [00:30<00:51, 1388.72it/s]"
     ]
    },
    {
     "name": "stderr",
     "output_type": "stream",
     "text": [
      "\r 37%|███▋      | 43021/114911 [00:31<00:51, 1386.82it/s]"
     ]
    },
    {
     "name": "stderr",
     "output_type": "stream",
     "text": [
      "\r 38%|███▊      | 43101/114911 [00:31<00:51, 1384.85it/s]"
     ]
    },
    {
     "name": "stderr",
     "output_type": "stream",
     "text": [
      "\r 38%|███▊      | 43182/114911 [00:31<00:51, 1382.97it/s]"
     ]
    },
    {
     "name": "stderr",
     "output_type": "stream",
     "text": [
      "\r 38%|███▊      | 43261/114911 [00:31<00:51, 1380.87it/s]"
     ]
    },
    {
     "name": "stderr",
     "output_type": "stream",
     "text": [
      "\r 38%|███▊      | 43347/114911 [00:31<00:51, 1379.18it/s]"
     ]
    },
    {
     "name": "stderr",
     "output_type": "stream",
     "text": [
      "\r 38%|███▊      | 43434/114911 [00:31<00:51, 1377.53it/s]"
     ]
    },
    {
     "name": "stderr",
     "output_type": "stream",
     "text": [
      "\r 38%|███▊      | 43517/114911 [00:31<00:51, 1375.77it/s]"
     ]
    },
    {
     "name": "stderr",
     "output_type": "stream",
     "text": [
      "\r 38%|███▊      | 43606/114911 [00:31<00:51, 1374.20it/s]"
     ]
    },
    {
     "name": "stderr",
     "output_type": "stream",
     "text": [
      "\r 38%|███▊      | 43690/114911 [00:31<00:51, 1372.07it/s]"
     ]
    },
    {
     "name": "stderr",
     "output_type": "stream",
     "text": [
      "\r 38%|███▊      | 43772/114911 [00:31<00:51, 1369.49it/s]"
     ]
    },
    {
     "name": "stderr",
     "output_type": "stream",
     "text": [
      "\r 38%|███▊      | 43854/114911 [00:32<00:51, 1367.75it/s]"
     ]
    },
    {
     "name": "stderr",
     "output_type": "stream",
     "text": [
      "\r 38%|███▊      | 43933/114911 [00:32<00:51, 1365.58it/s]"
     ]
    },
    {
     "name": "stderr",
     "output_type": "stream",
     "text": [
      "\r 38%|███▊      | 44027/114911 [00:32<00:51, 1364.23it/s]"
     ]
    },
    {
     "name": "stderr",
     "output_type": "stream",
     "text": [
      "\r 38%|███▊      | 44114/114911 [00:32<00:51, 1362.63it/s]"
     ]
    },
    {
     "name": "stderr",
     "output_type": "stream",
     "text": [
      "\r 38%|███▊      | 44223/114911 [00:32<00:51, 1361.76it/s]"
     ]
    },
    {
     "name": "stderr",
     "output_type": "stream",
     "text": [
      "\r 39%|███▊      | 44332/114911 [00:32<00:51, 1360.90it/s]"
     ]
    },
    {
     "name": "stderr",
     "output_type": "stream",
     "text": [
      "\r 39%|███▊      | 44502/114911 [00:32<00:51, 1361.91it/s]"
     ]
    },
    {
     "name": "stderr",
     "output_type": "stream",
     "text": [
      "\r 39%|███▉      | 44673/114911 [00:32<00:51, 1362.94it/s]"
     ]
    },
    {
     "name": "stderr",
     "output_type": "stream",
     "text": [
      "\r 39%|███▉      | 44844/114911 [00:32<00:51, 1363.97it/s]"
     ]
    },
    {
     "name": "stderr",
     "output_type": "stream",
     "text": [
      "\r 39%|███▉      | 45029/114911 [00:32<00:51, 1365.41it/s]"
     ]
    },
    {
     "name": "stderr",
     "output_type": "stream",
     "text": [
      "\r 39%|███▉      | 45200/114911 [00:33<00:51, 1366.39it/s]"
     ]
    },
    {
     "name": "stderr",
     "output_type": "stream",
     "text": [
      "\r 39%|███▉      | 45360/114911 [00:33<00:50, 1366.87it/s]"
     ]
    },
    {
     "name": "stderr",
     "output_type": "stream",
     "text": [
      "\r 40%|███▉      | 45518/114911 [00:33<00:50, 1367.35it/s]"
     ]
    },
    {
     "name": "stderr",
     "output_type": "stream",
     "text": [
      "\r 40%|███▉      | 45691/114911 [00:33<00:50, 1368.40it/s]"
     ]
    },
    {
     "name": "stderr",
     "output_type": "stream",
     "text": [
      "\r 40%|███▉      | 45867/114911 [00:33<00:50, 1369.53it/s]"
     ]
    },
    {
     "name": "stderr",
     "output_type": "stream",
     "text": [
      "\r 40%|████      | 46048/114911 [00:33<00:50, 1370.82it/s]"
     ]
    },
    {
     "name": "stderr",
     "output_type": "stream",
     "text": [
      "\r 40%|████      | 46218/114911 [00:33<00:50, 1371.56it/s]"
     ]
    },
    {
     "name": "stderr",
     "output_type": "stream",
     "text": [
      "\r 40%|████      | 46385/114911 [00:33<00:49, 1371.40it/s]"
     ]
    },
    {
     "name": "stderr",
     "output_type": "stream",
     "text": [
      "\r 41%|████      | 46542/114911 [00:33<00:49, 1371.52it/s]"
     ]
    },
    {
     "name": "stderr",
     "output_type": "stream",
     "text": [
      "\r 41%|████      | 46694/114911 [00:34<00:49, 1370.21it/s]"
     ]
    },
    {
     "name": "stderr",
     "output_type": "stream",
     "text": [
      "\r 41%|████      | 46833/114911 [00:34<00:49, 1369.34it/s]"
     ]
    },
    {
     "name": "stderr",
     "output_type": "stream",
     "text": [
      "\r 41%|████      | 46965/114911 [00:34<00:49, 1369.17it/s]"
     ]
    },
    {
     "name": "stderr",
     "output_type": "stream",
     "text": [
      "\r 41%|████      | 47115/114911 [00:34<00:49, 1369.52it/s]"
     ]
    },
    {
     "name": "stderr",
     "output_type": "stream",
     "text": [
      "\r 41%|████      | 47252/114911 [00:34<00:49, 1369.37it/s]"
     ]
    },
    {
     "name": "stderr",
     "output_type": "stream",
     "text": [
      "\r 41%|████      | 47387/114911 [00:34<00:49, 1367.20it/s]"
     ]
    },
    {
     "name": "stderr",
     "output_type": "stream",
     "text": [
      "\r 41%|████▏     | 47522/114911 [00:34<00:49, 1367.12it/s]"
     ]
    },
    {
     "name": "stderr",
     "output_type": "stream",
     "text": [
      "\r 41%|████▏     | 47652/114911 [00:34<00:49, 1366.78it/s]"
     ]
    },
    {
     "name": "stderr",
     "output_type": "stream",
     "text": [
      "\r 42%|████▏     | 47777/114911 [00:34<00:49, 1366.42it/s]"
     ]
    },
    {
     "name": "stderr",
     "output_type": "stream",
     "text": [
      "\r 42%|████▏     | 47927/114911 [00:35<00:49, 1366.77it/s]"
     ]
    },
    {
     "name": "stderr",
     "output_type": "stream",
     "text": [
      "\r 42%|████▏     | 48059/114911 [00:35<00:48, 1365.99it/s]"
     ]
    },
    {
     "name": "stderr",
     "output_type": "stream",
     "text": [
      "\r 42%|████▏     | 48186/114911 [00:35<00:48, 1362.99it/s]"
     ]
    },
    {
     "name": "stderr",
     "output_type": "stream",
     "text": [
      "\r 42%|████▏     | 48297/114911 [00:35<00:48, 1361.45it/s]"
     ]
    },
    {
     "name": "stderr",
     "output_type": "stream",
     "text": [
      "\r 42%|████▏     | 48459/114911 [00:35<00:48, 1362.15it/s]"
     ]
    },
    {
     "name": "stderr",
     "output_type": "stream",
     "text": [
      "\r 42%|████▏     | 48612/114911 [00:35<00:48, 1362.59it/s]"
     ]
    },
    {
     "name": "stderr",
     "output_type": "stream",
     "text": [
      "\r 42%|████▏     | 48766/114911 [00:35<00:48, 1363.08it/s]"
     ]
    },
    {
     "name": "stderr",
     "output_type": "stream",
     "text": [
      "\r 43%|████▎     | 48917/114911 [00:35<00:48, 1363.46it/s]"
     ]
    },
    {
     "name": "stderr",
     "output_type": "stream",
     "text": [
      "\r 43%|████▎     | 49059/114911 [00:35<00:48, 1363.52it/s]"
     ]
    },
    {
     "name": "stderr",
     "output_type": "stream",
     "text": [
      "\r 43%|████▎     | 49202/114911 [00:36<00:48, 1363.67it/s]"
     ]
    },
    {
     "name": "stderr",
     "output_type": "stream",
     "text": [
      "\r 43%|████▎     | 49343/114911 [00:36<00:48, 1363.70it/s]"
     ]
    },
    {
     "name": "stderr",
     "output_type": "stream",
     "text": [
      "\r 43%|████▎     | 49504/114911 [00:36<00:47, 1364.31it/s]"
     ]
    },
    {
     "name": "stderr",
     "output_type": "stream",
     "text": [
      "\r 43%|████▎     | 49650/114911 [00:36<00:47, 1362.14it/s]"
     ]
    },
    {
     "name": "stderr",
     "output_type": "stream",
     "text": [
      "\r 43%|████▎     | 49779/114911 [00:36<00:47, 1360.09it/s]"
     ]
    },
    {
     "name": "stderr",
     "output_type": "stream",
     "text": [
      "\r 43%|████▎     | 49895/114911 [00:36<00:47, 1357.93it/s]"
     ]
    },
    {
     "name": "stderr",
     "output_type": "stream",
     "text": [
      "\r 44%|████▎     | 50001/114911 [00:36<00:47, 1356.33it/s]"
     ]
    },
    {
     "name": "stderr",
     "output_type": "stream",
     "text": [
      "\r 44%|████▎     | 50101/114911 [00:36<00:47, 1354.86it/s]"
     ]
    },
    {
     "name": "stderr",
     "output_type": "stream",
     "text": [
      "\r 44%|████▎     | 50198/114911 [00:37<00:47, 1353.47it/s]"
     ]
    },
    {
     "name": "stderr",
     "output_type": "stream",
     "text": [
      "\r 44%|████▍     | 50292/114911 [00:37<00:47, 1351.82it/s]"
     ]
    },
    {
     "name": "stderr",
     "output_type": "stream",
     "text": [
      "\r 44%|████▍     | 50383/114911 [00:37<00:47, 1350.18it/s]"
     ]
    },
    {
     "name": "stderr",
     "output_type": "stream",
     "text": [
      "\r 44%|████▍     | 50471/114911 [00:37<00:47, 1348.89it/s]"
     ]
    },
    {
     "name": "stderr",
     "output_type": "stream",
     "text": [
      "\r 44%|████▍     | 50559/114911 [00:37<00:47, 1347.58it/s]"
     ]
    },
    {
     "name": "stderr",
     "output_type": "stream",
     "text": [
      "\r 44%|████▍     | 50648/114911 [00:37<00:47, 1346.34it/s]"
     ]
    },
    {
     "name": "stderr",
     "output_type": "stream",
     "text": [
      "\r 44%|████▍     | 50737/114911 [00:37<00:47, 1345.08it/s]"
     ]
    },
    {
     "name": "stderr",
     "output_type": "stream",
     "text": [
      "\r 44%|████▍     | 50825/114911 [00:37<00:47, 1343.59it/s]"
     ]
    },
    {
     "name": "stderr",
     "output_type": "stream",
     "text": [
      "\r 44%|████▍     | 50911/114911 [00:37<00:47, 1342.11it/s]"
     ]
    },
    {
     "name": "stderr",
     "output_type": "stream",
     "text": [
      "\r 44%|████▍     | 51002/114911 [00:38<00:47, 1340.95it/s]"
     ]
    },
    {
     "name": "stderr",
     "output_type": "stream",
     "text": [
      "\r 44%|████▍     | 51089/114911 [00:38<00:47, 1339.58it/s]"
     ]
    },
    {
     "name": "stderr",
     "output_type": "stream",
     "text": [
      "\r 45%|████▍     | 51175/114911 [00:38<00:47, 1338.26it/s]"
     ]
    },
    {
     "name": "stderr",
     "output_type": "stream",
     "text": [
      "\r 45%|████▍     | 51261/114911 [00:38<00:47, 1336.75it/s]"
     ]
    },
    {
     "name": "stderr",
     "output_type": "stream",
     "text": [
      "\r 45%|████▍     | 51348/114911 [00:38<00:47, 1335.51it/s]"
     ]
    },
    {
     "name": "stderr",
     "output_type": "stream",
     "text": [
      "\r 45%|████▍     | 51435/114911 [00:38<00:47, 1334.27it/s]"
     ]
    },
    {
     "name": "stderr",
     "output_type": "stream",
     "text": [
      "\r 45%|████▍     | 51520/114911 [00:38<00:47, 1332.96it/s]"
     ]
    },
    {
     "name": "stderr",
     "output_type": "stream",
     "text": [
      "\r 45%|████▍     | 51609/114911 [00:38<00:47, 1331.79it/s]"
     ]
    },
    {
     "name": "stderr",
     "output_type": "stream",
     "text": [
      "\r 45%|████▍     | 51695/114911 [00:38<00:47, 1330.51it/s]"
     ]
    },
    {
     "name": "stderr",
     "output_type": "stream",
     "text": [
      "\r 45%|████▌     | 51781/114911 [00:38<00:47, 1329.08it/s]"
     ]
    },
    {
     "name": "stderr",
     "output_type": "stream",
     "text": [
      "\r 45%|████▌     | 51865/114911 [00:39<00:47, 1327.69it/s]"
     ]
    },
    {
     "name": "stderr",
     "output_type": "stream",
     "text": [
      "\r 45%|████▌     | 51949/114911 [00:39<00:47, 1326.22it/s]"
     ]
    },
    {
     "name": "stderr",
     "output_type": "stream",
     "text": [
      "\r 45%|████▌     | 52031/114911 [00:39<00:47, 1324.81it/s]"
     ]
    },
    {
     "name": "stderr",
     "output_type": "stream",
     "text": [
      "\r 45%|████▌     | 52112/114911 [00:39<00:47, 1323.44it/s]"
     ]
    },
    {
     "name": "stderr",
     "output_type": "stream",
     "text": [
      "\r 45%|████▌     | 52193/114911 [00:39<00:47, 1322.08it/s]"
     ]
    },
    {
     "name": "stderr",
     "output_type": "stream",
     "text": [
      "\r 45%|████▌     | 52274/114911 [00:39<00:47, 1320.57it/s]"
     ]
    },
    {
     "name": "stderr",
     "output_type": "stream",
     "text": [
      "\r 46%|████▌     | 52353/114911 [00:39<00:47, 1319.00it/s]"
     ]
    },
    {
     "name": "stderr",
     "output_type": "stream",
     "text": [
      "\r 46%|████▌     | 52431/114911 [00:39<00:47, 1317.49it/s]"
     ]
    },
    {
     "name": "stderr",
     "output_type": "stream",
     "text": [
      "\r 46%|████▌     | 52518/114911 [00:39<00:47, 1316.34it/s]"
     ]
    },
    {
     "name": "stderr",
     "output_type": "stream",
     "text": [
      "\r 46%|████▌     | 52598/114911 [00:40<00:47, 1314.89it/s]"
     ]
    },
    {
     "name": "stderr",
     "output_type": "stream",
     "text": [
      "\r 46%|████▌     | 52677/114911 [00:40<00:47, 1313.36it/s]"
     ]
    },
    {
     "name": "stderr",
     "output_type": "stream",
     "text": [
      "\r 46%|████▌     | 52755/114911 [00:40<00:47, 1311.98it/s]"
     ]
    },
    {
     "name": "stderr",
     "output_type": "stream",
     "text": [
      "\r 46%|████▌     | 52837/114911 [00:40<00:47, 1310.74it/s]"
     ]
    },
    {
     "name": "stderr",
     "output_type": "stream",
     "text": [
      "\r 46%|████▌     | 52922/114911 [00:40<00:47, 1309.57it/s]"
     ]
    },
    {
     "name": "stderr",
     "output_type": "stream",
     "text": [
      "\r 46%|████▌     | 53003/114911 [00:40<00:47, 1308.05it/s]"
     ]
    },
    {
     "name": "stderr",
     "output_type": "stream",
     "text": [
      "\r 46%|████▌     | 53086/114911 [00:40<00:47, 1306.85it/s]"
     ]
    },
    {
     "name": "stderr",
     "output_type": "stream",
     "text": [
      "\r 46%|████▋     | 53177/114911 [00:40<00:47, 1305.82it/s]"
     ]
    },
    {
     "name": "stderr",
     "output_type": "stream",
     "text": [
      "\r 46%|████▋     | 53270/114911 [00:40<00:47, 1304.85it/s]"
     ]
    },
    {
     "name": "stderr",
     "output_type": "stream",
     "text": [
      "\r 46%|████▋     | 53356/114911 [00:40<00:47, 1303.64it/s]"
     ]
    },
    {
     "name": "stderr",
     "output_type": "stream",
     "text": [
      "\r 47%|████▋     | 53441/114911 [00:41<00:47, 1302.41it/s]"
     ]
    },
    {
     "name": "stderr",
     "output_type": "stream",
     "text": [
      "\r 47%|████▋     | 53528/114911 [00:41<00:47, 1301.34it/s]"
     ]
    },
    {
     "name": "stderr",
     "output_type": "stream",
     "text": [
      "\r 47%|████▋     | 53620/114911 [00:41<00:47, 1300.39it/s]"
     ]
    },
    {
     "name": "stderr",
     "output_type": "stream",
     "text": [
      "\r 47%|████▋     | 53711/114911 [00:41<00:47, 1299.42it/s]"
     ]
    },
    {
     "name": "stderr",
     "output_type": "stream",
     "text": [
      "\r 47%|████▋     | 53799/114911 [00:41<00:47, 1298.38it/s]"
     ]
    },
    {
     "name": "stderr",
     "output_type": "stream",
     "text": [
      "\r 47%|████▋     | 53887/114911 [00:41<00:47, 1297.04it/s]"
     ]
    },
    {
     "name": "stderr",
     "output_type": "stream",
     "text": [
      "\r 47%|████▋     | 53973/114911 [00:41<00:47, 1295.78it/s]"
     ]
    },
    {
     "name": "stderr",
     "output_type": "stream",
     "text": [
      "\r 47%|████▋     | 54057/114911 [00:41<00:47, 1294.51it/s]"
     ]
    },
    {
     "name": "stderr",
     "output_type": "stream",
     "text": [
      "\r 47%|████▋     | 54142/114911 [00:41<00:46, 1293.39it/s]"
     ]
    },
    {
     "name": "stderr",
     "output_type": "stream",
     "text": [
      "\r 47%|████▋     | 54231/114911 [00:41<00:46, 1292.41it/s]"
     ]
    },
    {
     "name": "stderr",
     "output_type": "stream",
     "text": [
      "\r 47%|████▋     | 54316/114911 [00:42<00:46, 1291.30it/s]"
     ]
    },
    {
     "name": "stderr",
     "output_type": "stream",
     "text": [
      "\r 47%|████▋     | 54401/114911 [00:42<00:46, 1290.14it/s]"
     ]
    },
    {
     "name": "stderr",
     "output_type": "stream",
     "text": [
      "\r 47%|████▋     | 54492/114911 [00:42<00:46, 1289.22it/s]"
     ]
    },
    {
     "name": "stderr",
     "output_type": "stream",
     "text": [
      "\r 48%|████▊     | 54648/114911 [00:42<00:46, 1289.83it/s]"
     ]
    },
    {
     "name": "stderr",
     "output_type": "stream",
     "text": [
      "\r 48%|████▊     | 54814/114911 [00:42<00:46, 1290.68it/s]"
     ]
    },
    {
     "name": "stderr",
     "output_type": "stream",
     "text": [
      "\r 48%|████▊     | 54980/114911 [00:42<00:46, 1291.52it/s]"
     ]
    },
    {
     "name": "stderr",
     "output_type": "stream",
     "text": [
      "\r 48%|████▊     | 55150/114911 [00:42<00:46, 1292.45it/s]"
     ]
    },
    {
     "name": "stderr",
     "output_type": "stream",
     "text": [
      "\r 48%|████▊     | 55319/114911 [00:42<00:46, 1293.34it/s]"
     ]
    },
    {
     "name": "stderr",
     "output_type": "stream",
     "text": [
      "\r 48%|████▊     | 55490/114911 [00:42<00:45, 1294.33it/s]"
     ]
    },
    {
     "name": "stderr",
     "output_type": "stream",
     "text": [
      "\r 48%|████▊     | 55665/114911 [00:42<00:45, 1295.38it/s]"
     ]
    },
    {
     "name": "stderr",
     "output_type": "stream",
     "text": [
      "\r 49%|████▊     | 55845/114911 [00:43<00:45, 1296.55it/s]"
     ]
    },
    {
     "name": "stderr",
     "output_type": "stream",
     "text": [
      "\r 49%|████▊     | 56013/114911 [00:43<00:45, 1297.38it/s]"
     ]
    },
    {
     "name": "stderr",
     "output_type": "stream",
     "text": [
      "\r 49%|████▉     | 56180/114911 [00:43<00:45, 1297.80it/s]"
     ]
    },
    {
     "name": "stderr",
     "output_type": "stream",
     "text": [
      "\r 49%|████▉     | 56341/114911 [00:43<00:45, 1298.43it/s]"
     ]
    },
    {
     "name": "stderr",
     "output_type": "stream",
     "text": [
      "\r 49%|████▉     | 56509/114911 [00:43<00:44, 1299.31it/s]"
     ]
    },
    {
     "name": "stderr",
     "output_type": "stream",
     "text": [
      "\r 49%|████▉     | 56671/114911 [00:43<00:44, 1299.87it/s]"
     ]
    },
    {
     "name": "stderr",
     "output_type": "stream",
     "text": [
      "\r 49%|████▉     | 56851/114911 [00:43<00:44, 1300.99it/s]"
     ]
    },
    {
     "name": "stderr",
     "output_type": "stream",
     "text": [
      "\r 50%|████▉     | 57017/114911 [00:43<00:44, 1301.63it/s]"
     ]
    },
    {
     "name": "stderr",
     "output_type": "stream",
     "text": [
      "\r 50%|████▉     | 57180/114911 [00:43<00:44, 1302.19it/s]"
     ]
    },
    {
     "name": "stderr",
     "output_type": "stream",
     "text": [
      "\r 50%|████▉     | 57340/114911 [00:44<00:44, 1301.95it/s]"
     ]
    },
    {
     "name": "stderr",
     "output_type": "stream",
     "text": [
      "\r 50%|█████     | 57501/114911 [00:44<00:44, 1302.63it/s]"
     ]
    },
    {
     "name": "stderr",
     "output_type": "stream",
     "text": [
      "\r 50%|█████     | 57653/114911 [00:44<00:43, 1303.09it/s]"
     ]
    },
    {
     "name": "stderr",
     "output_type": "stream",
     "text": [
      "\r 50%|█████     | 57805/114911 [00:44<00:43, 1303.41it/s]"
     ]
    },
    {
     "name": "stderr",
     "output_type": "stream",
     "text": [
      "\r 50%|█████     | 57965/114911 [00:44<00:43, 1304.05it/s]"
     ]
    },
    {
     "name": "stderr",
     "output_type": "stream",
     "text": [
      "\r 51%|█████     | 58124/114911 [00:44<00:43, 1304.69it/s]"
     ]
    },
    {
     "name": "stderr",
     "output_type": "stream",
     "text": [
      "\r 51%|█████     | 58278/114911 [00:44<00:43, 1305.15it/s]"
     ]
    },
    {
     "name": "stderr",
     "output_type": "stream",
     "text": [
      "\r 51%|█████     | 58445/114911 [00:44<00:43, 1305.94it/s]"
     ]
    },
    {
     "name": "stderr",
     "output_type": "stream",
     "text": [
      "\r 51%|█████     | 58602/114911 [00:44<00:43, 1306.51it/s]"
     ]
    },
    {
     "name": "stderr",
     "output_type": "stream",
     "text": [
      "\r 51%|█████     | 58760/114911 [00:44<00:42, 1307.11it/s]"
     ]
    },
    {
     "name": "stderr",
     "output_type": "stream",
     "text": [
      "\r 51%|█████▏    | 58935/114911 [00:45<00:42, 1308.07it/s]"
     ]
    },
    {
     "name": "stderr",
     "output_type": "stream",
     "text": [
      "\r 51%|█████▏    | 59097/114911 [00:45<00:42, 1308.73it/s]"
     ]
    },
    {
     "name": "stderr",
     "output_type": "stream",
     "text": [
      "\r 52%|█████▏    | 59259/114911 [00:45<00:42, 1309.40it/s]"
     ]
    },
    {
     "name": "stderr",
     "output_type": "stream",
     "text": [
      "\r 52%|█████▏    | 59423/114911 [00:45<00:42, 1310.11it/s]"
     ]
    },
    {
     "name": "stderr",
     "output_type": "stream",
     "text": [
      "\r 52%|█████▏    | 59588/114911 [00:45<00:42, 1310.84it/s]"
     ]
    },
    {
     "name": "stderr",
     "output_type": "stream",
     "text": [
      "\r 52%|█████▏    | 59752/114911 [00:45<00:42, 1311.55it/s]"
     ]
    },
    {
     "name": "stderr",
     "output_type": "stream",
     "text": [
      "\r 52%|█████▏    | 59915/114911 [00:45<00:41, 1312.16it/s]"
     ]
    },
    {
     "name": "stderr",
     "output_type": "stream",
     "text": [
      "\r 52%|█████▏    | 60077/114911 [00:45<00:41, 1312.47it/s]"
     ]
    },
    {
     "name": "stderr",
     "output_type": "stream",
     "text": [
      "\r 52%|█████▏    | 60237/114911 [00:45<00:41, 1313.08it/s]"
     ]
    },
    {
     "name": "stderr",
     "output_type": "stream",
     "text": [
      "\r 53%|█████▎    | 60394/114911 [00:45<00:41, 1313.16it/s]"
     ]
    },
    {
     "name": "stderr",
     "output_type": "stream",
     "text": [
      "\r 53%|█████▎    | 60545/114911 [00:46<00:41, 1313.52it/s]"
     ]
    },
    {
     "name": "stderr",
     "output_type": "stream",
     "text": [
      "\r 53%|█████▎    | 60695/114911 [00:46<00:41, 1313.62it/s]"
     ]
    },
    {
     "name": "stderr",
     "output_type": "stream",
     "text": [
      "\r 53%|█████▎    | 60841/114911 [00:46<00:41, 1313.92it/s]"
     ]
    },
    {
     "name": "stderr",
     "output_type": "stream",
     "text": [
      "\r 53%|█████▎    | 60987/114911 [00:46<00:41, 1312.29it/s]"
     ]
    },
    {
     "name": "stderr",
     "output_type": "stream",
     "text": [
      "\r 53%|█████▎    | 61115/114911 [00:46<00:41, 1310.80it/s]"
     ]
    },
    {
     "name": "stderr",
     "output_type": "stream",
     "text": [
      "\r 53%|█████▎    | 61230/114911 [00:46<00:41, 1309.09it/s]"
     ]
    },
    {
     "name": "stderr",
     "output_type": "stream",
     "text": [
      "\r 53%|█████▎    | 61334/114911 [00:46<00:40, 1307.75it/s]"
     ]
    },
    {
     "name": "stderr",
     "output_type": "stream",
     "text": [
      "\r 53%|█████▎    | 61431/114911 [00:47<00:40, 1306.73it/s]"
     ]
    },
    {
     "name": "stderr",
     "output_type": "stream",
     "text": [
      "\r 54%|█████▎    | 61526/114911 [00:47<00:40, 1305.48it/s]"
     ]
    },
    {
     "name": "stderr",
     "output_type": "stream",
     "text": [
      "\r 54%|█████▎    | 61617/114911 [00:47<00:40, 1304.60it/s]"
     ]
    },
    {
     "name": "stderr",
     "output_type": "stream",
     "text": [
      "\r 54%|█████▎    | 61707/114911 [00:47<00:40, 1303.45it/s]"
     ]
    },
    {
     "name": "stderr",
     "output_type": "stream",
     "text": [
      "\r 54%|█████▍    | 61797/114911 [00:47<00:40, 1302.58it/s]"
     ]
    },
    {
     "name": "stderr",
     "output_type": "stream",
     "text": [
      "\r 54%|█████▍    | 61886/114911 [00:47<00:40, 1301.69it/s]"
     ]
    },
    {
     "name": "stderr",
     "output_type": "stream",
     "text": [
      "\r 54%|█████▍    | 61975/114911 [00:47<00:40, 1300.62it/s]"
     ]
    },
    {
     "name": "stderr",
     "output_type": "stream",
     "text": [
      "\r 54%|█████▍    | 62062/114911 [00:47<00:40, 1299.48it/s]"
     ]
    },
    {
     "name": "stderr",
     "output_type": "stream",
     "text": [
      "\r 54%|█████▍    | 62153/114911 [00:47<00:40, 1298.64it/s]"
     ]
    },
    {
     "name": "stderr",
     "output_type": "stream",
     "text": [
      "\r 54%|█████▍    | 62244/114911 [00:47<00:40, 1297.81it/s]"
     ]
    },
    {
     "name": "stderr",
     "output_type": "stream",
     "text": [
      "\r 54%|█████▍    | 62334/114911 [00:48<00:40, 1296.96it/s]"
     ]
    },
    {
     "name": "stderr",
     "output_type": "stream",
     "text": [
      "\r 54%|█████▍    | 62424/114911 [00:48<00:40, 1296.12it/s]"
     ]
    },
    {
     "name": "stderr",
     "output_type": "stream",
     "text": [
      "\r 54%|█████▍    | 62513/114911 [00:48<00:40, 1295.12it/s]"
     ]
    },
    {
     "name": "stderr",
     "output_type": "stream",
     "text": [
      "\r 54%|█████▍    | 62601/114911 [00:48<00:40, 1294.19it/s]"
     ]
    },
    {
     "name": "stderr",
     "output_type": "stream",
     "text": [
      "\r 55%|█████▍    | 62690/114911 [00:48<00:40, 1293.31it/s]"
     ]
    },
    {
     "name": "stderr",
     "output_type": "stream",
     "text": [
      "\r 55%|█████▍    | 62778/114911 [00:48<00:40, 1292.31it/s]"
     ]
    },
    {
     "name": "stderr",
     "output_type": "stream",
     "text": [
      "\r 55%|█████▍    | 62869/114911 [00:48<00:40, 1291.50it/s]"
     ]
    },
    {
     "name": "stderr",
     "output_type": "stream",
     "text": [
      "\r 55%|█████▍    | 62959/114911 [00:48<00:40, 1290.68it/s]"
     ]
    },
    {
     "name": "stderr",
     "output_type": "stream",
     "text": [
      "\r 55%|█████▍    | 63047/114911 [00:48<00:40, 1289.64it/s]"
     ]
    },
    {
     "name": "stderr",
     "output_type": "stream",
     "text": [
      "\r 55%|█████▍    | 63133/114911 [00:48<00:40, 1288.63it/s]"
     ]
    },
    {
     "name": "stderr",
     "output_type": "stream",
     "text": [
      "\r 55%|█████▌    | 63225/114911 [00:49<00:40, 1287.86it/s]"
     ]
    },
    {
     "name": "stderr",
     "output_type": "stream",
     "text": [
      "\r 55%|█████▌    | 63315/114911 [00:49<00:40, 1287.06it/s]"
     ]
    },
    {
     "name": "stderr",
     "output_type": "stream",
     "text": [
      "\r 55%|█████▌    | 63405/114911 [00:49<00:40, 1286.22it/s]"
     ]
    },
    {
     "name": "stderr",
     "output_type": "stream",
     "text": [
      "\r 55%|█████▌    | 63572/114911 [00:49<00:39, 1286.99it/s]"
     ]
    },
    {
     "name": "stderr",
     "output_type": "stream",
     "text": [
      "\r 55%|█████▌    | 63753/114911 [00:49<00:39, 1288.02it/s]"
     ]
    },
    {
     "name": "stderr",
     "output_type": "stream",
     "text": [
      "\r 56%|█████▌    | 63928/114911 [00:49<00:39, 1288.93it/s]"
     ]
    },
    {
     "name": "stderr",
     "output_type": "stream",
     "text": [
      "\r 56%|█████▌    | 64092/114911 [00:49<00:39, 1289.62it/s]"
     ]
    },
    {
     "name": "stderr",
     "output_type": "stream",
     "text": [
      "\r 56%|█████▌    | 64255/114911 [00:49<00:39, 1290.29it/s]"
     ]
    },
    {
     "name": "stderr",
     "output_type": "stream",
     "text": [
      "\r 56%|█████▌    | 64417/114911 [00:49<00:39, 1290.93it/s]"
     ]
    },
    {
     "name": "stderr",
     "output_type": "stream",
     "text": [
      "\r 56%|█████▌    | 64583/114911 [00:50<00:38, 1291.65it/s]"
     ]
    },
    {
     "name": "stderr",
     "output_type": "stream",
     "text": [
      "\r 56%|█████▋    | 64742/114911 [00:50<00:38, 1292.12it/s]"
     ]
    },
    {
     "name": "stderr",
     "output_type": "stream",
     "text": [
      "\r 56%|█████▋    | 64920/114911 [00:50<00:38, 1293.07it/s]"
     ]
    },
    {
     "name": "stderr",
     "output_type": "stream",
     "text": [
      "\r 57%|█████▋    | 65083/114911 [00:50<00:38, 1293.69it/s]"
     ]
    },
    {
     "name": "stderr",
     "output_type": "stream",
     "text": [
      "\r 57%|█████▋    | 65245/114911 [00:50<00:38, 1292.17it/s]"
     ]
    },
    {
     "name": "stderr",
     "output_type": "stream",
     "text": [
      "\r 57%|█████▋    | 65385/114911 [00:50<00:38, 1290.40it/s]"
     ]
    },
    {
     "name": "stderr",
     "output_type": "stream",
     "text": [
      "\r 57%|█████▋    | 65507/114911 [00:50<00:38, 1289.12it/s]"
     ]
    },
    {
     "name": "stderr",
     "output_type": "stream",
     "text": [
      "\r 57%|█████▋    | 65618/114911 [00:50<00:38, 1287.39it/s]"
     ]
    },
    {
     "name": "stderr",
     "output_type": "stream",
     "text": [
      "\r 57%|█████▋    | 65717/114911 [00:51<00:38, 1285.96it/s]"
     ]
    },
    {
     "name": "stderr",
     "output_type": "stream",
     "text": [
      "\r 57%|█████▋    | 65809/114911 [00:51<00:38, 1284.52it/s]"
     ]
    },
    {
     "name": "stderr",
     "output_type": "stream",
     "text": [
      "\r 57%|█████▋    | 65896/114911 [00:51<00:38, 1283.70it/s]"
     ]
    },
    {
     "name": "stderr",
     "output_type": "stream",
     "text": [
      "\r 57%|█████▋    | 65987/114911 [00:51<00:38, 1282.92it/s]"
     ]
    },
    {
     "name": "stderr",
     "output_type": "stream",
     "text": [
      "\r 58%|█████▊    | 66074/114911 [00:51<00:38, 1282.08it/s]"
     ]
    },
    {
     "name": "stderr",
     "output_type": "stream",
     "text": [
      "\r 58%|█████▊    | 66161/114911 [00:51<00:38, 1280.94it/s]"
     ]
    },
    {
     "name": "stderr",
     "output_type": "stream",
     "text": [
      "\r 58%|█████▊    | 66245/114911 [00:51<00:38, 1279.92it/s]"
     ]
    },
    {
     "name": "stderr",
     "output_type": "stream",
     "text": [
      "\r 58%|█████▊    | 66328/114911 [00:51<00:37, 1279.03it/s]"
     ]
    },
    {
     "name": "stderr",
     "output_type": "stream",
     "text": [
      "\r 58%|█████▊    | 66412/114911 [00:51<00:37, 1278.15it/s]"
     ]
    },
    {
     "name": "stderr",
     "output_type": "stream",
     "text": [
      "\r 58%|█████▊    | 66495/114911 [00:52<00:37, 1277.22it/s]"
     ]
    },
    {
     "name": "stderr",
     "output_type": "stream",
     "text": [
      "\r 58%|█████▊    | 66577/114911 [00:52<00:37, 1276.30it/s]"
     ]
    },
    {
     "name": "stderr",
     "output_type": "stream",
     "text": [
      "\r 58%|█████▊    | 66659/114911 [00:52<00:37, 1275.38it/s]"
     ]
    },
    {
     "name": "stderr",
     "output_type": "stream",
     "text": [
      "\r 58%|█████▊    | 66742/114911 [00:52<00:37, 1274.51it/s]"
     ]
    },
    {
     "name": "stderr",
     "output_type": "stream",
     "text": [
      "\r 58%|█████▊    | 66825/114911 [00:52<00:37, 1273.65it/s]"
     ]
    },
    {
     "name": "stderr",
     "output_type": "stream",
     "text": [
      "\r 58%|█████▊    | 66907/114911 [00:52<00:37, 1272.55it/s]"
     ]
    },
    {
     "name": "stderr",
     "output_type": "stream",
     "text": [
      "\r 58%|█████▊    | 66987/114911 [00:52<00:37, 1271.27it/s]"
     ]
    },
    {
     "name": "stderr",
     "output_type": "stream",
     "text": [
      "\r 58%|█████▊    | 67074/114911 [00:52<00:37, 1270.47it/s]"
     ]
    },
    {
     "name": "stderr",
     "output_type": "stream",
     "text": [
      "\r 58%|█████▊    | 67161/114911 [00:52<00:37, 1269.67it/s]"
     ]
    },
    {
     "name": "stderr",
     "output_type": "stream",
     "text": [
      "\r 59%|█████▊    | 67243/114911 [00:53<00:37, 1268.33it/s]"
     ]
    },
    {
     "name": "stderr",
     "output_type": "stream",
     "text": [
      "\r 59%|█████▊    | 67323/114911 [00:53<00:37, 1267.43it/s]"
     ]
    },
    {
     "name": "stderr",
     "output_type": "stream",
     "text": [
      "\r 59%|█████▊    | 67414/114911 [00:53<00:37, 1266.74it/s]"
     ]
    },
    {
     "name": "stderr",
     "output_type": "stream",
     "text": [
      "\r 59%|█████▊    | 67503/114911 [00:53<00:37, 1266.02it/s]"
     ]
    },
    {
     "name": "stderr",
     "output_type": "stream",
     "text": [
      "\r 59%|█████▉    | 67663/114911 [00:53<00:37, 1266.62it/s]"
     ]
    },
    {
     "name": "stderr",
     "output_type": "stream",
     "text": [
      "\r 59%|█████▉    | 67834/114911 [00:53<00:37, 1267.45it/s]"
     ]
    },
    {
     "name": "stderr",
     "output_type": "stream",
     "text": [
      "\r 59%|█████▉    | 67996/114911 [00:53<00:36, 1268.09it/s]"
     ]
    },
    {
     "name": "stderr",
     "output_type": "stream",
     "text": [
      "\r 59%|█████▉    | 68157/114911 [00:53<00:36, 1268.71it/s]"
     ]
    },
    {
     "name": "stderr",
     "output_type": "stream",
     "text": [
      "\r 59%|█████▉    | 68311/114911 [00:53<00:36, 1269.19it/s]"
     ]
    },
    {
     "name": "stderr",
     "output_type": "stream",
     "text": [
      "\r 60%|█████▉    | 68458/114911 [00:53<00:36, 1268.11it/s]"
     ]
    },
    {
     "name": "stderr",
     "output_type": "stream",
     "text": [
      "\r 60%|█████▉    | 68588/114911 [00:54<00:36, 1267.03it/s]"
     ]
    },
    {
     "name": "stderr",
     "output_type": "stream",
     "text": [
      "\r 60%|█████▉    | 68705/114911 [00:54<00:36, 1266.04it/s]"
     ]
    },
    {
     "name": "stderr",
     "output_type": "stream",
     "text": [
      "\r 60%|█████▉    | 68813/114911 [00:54<00:36, 1264.96it/s]"
     ]
    },
    {
     "name": "stderr",
     "output_type": "stream",
     "text": [
      "\r 60%|█████▉    | 68914/114911 [00:54<00:36, 1264.18it/s]"
     ]
    },
    {
     "name": "stderr",
     "output_type": "stream",
     "text": [
      "\r 60%|██████    | 69011/114911 [00:54<00:36, 1263.55it/s]"
     ]
    },
    {
     "name": "stderr",
     "output_type": "stream",
     "text": [
      "\r 60%|██████    | 69107/114911 [00:54<00:36, 1262.84it/s]"
     ]
    },
    {
     "name": "stderr",
     "output_type": "stream",
     "text": [
      "\r 60%|██████    | 69201/114911 [00:54<00:36, 1262.14it/s]"
     ]
    },
    {
     "name": "stderr",
     "output_type": "stream",
     "text": [
      "\r 60%|██████    | 69295/114911 [00:54<00:36, 1261.51it/s]"
     ]
    },
    {
     "name": "stderr",
     "output_type": "stream",
     "text": [
      "\r 60%|██████    | 69388/114911 [00:55<00:36, 1260.46it/s]"
     ]
    },
    {
     "name": "stderr",
     "output_type": "stream",
     "text": [
      "\r 60%|██████    | 69477/114911 [00:55<00:36, 1259.61it/s]"
     ]
    },
    {
     "name": "stderr",
     "output_type": "stream",
     "text": [
      "\r 61%|██████    | 69564/114911 [00:55<00:36, 1258.64it/s]"
     ]
    },
    {
     "name": "stderr",
     "output_type": "stream",
     "text": [
      "\r 61%|██████    | 69650/114911 [00:55<00:35, 1257.88it/s]"
     ]
    },
    {
     "name": "stderr",
     "output_type": "stream",
     "text": [
      "\r 61%|██████    | 69735/114911 [00:55<00:35, 1256.88it/s]"
     ]
    },
    {
     "name": "stderr",
     "output_type": "stream",
     "text": [
      "\r 61%|██████    | 69817/114911 [00:55<00:35, 1255.15it/s]"
     ]
    },
    {
     "name": "stderr",
     "output_type": "stream",
     "text": [
      "\r 61%|██████    | 69894/114911 [00:55<00:35, 1254.26it/s]"
     ]
    },
    {
     "name": "stderr",
     "output_type": "stream",
     "text": [
      "\r 61%|██████    | 69973/114911 [00:55<00:35, 1253.39it/s]"
     ]
    },
    {
     "name": "stderr",
     "output_type": "stream",
     "text": [
      "\r 61%|██████    | 70054/114911 [00:55<00:35, 1252.58it/s]"
     ]
    },
    {
     "name": "stderr",
     "output_type": "stream",
     "text": [
      "\r 61%|██████    | 70136/114911 [00:56<00:35, 1251.79it/s]"
     ]
    },
    {
     "name": "stderr",
     "output_type": "stream",
     "text": [
      "\r 61%|██████    | 70221/114911 [00:56<00:35, 1251.06it/s]"
     ]
    },
    {
     "name": "stderr",
     "output_type": "stream",
     "text": [
      "\r 61%|██████    | 70303/114911 [00:56<00:35, 1250.28it/s]"
     ]
    },
    {
     "name": "stderr",
     "output_type": "stream",
     "text": [
      "\r 61%|██████▏   | 70392/114911 [00:56<00:35, 1249.62it/s]"
     ]
    },
    {
     "name": "stderr",
     "output_type": "stream",
     "text": [
      "\r 61%|██████▏   | 70481/114911 [00:56<00:35, 1248.97it/s]"
     ]
    },
    {
     "name": "stderr",
     "output_type": "stream",
     "text": [
      "\r 61%|██████▏   | 70570/114911 [00:56<00:35, 1248.29it/s]"
     ]
    },
    {
     "name": "stderr",
     "output_type": "stream",
     "text": [
      "\r 61%|██████▏   | 70656/114911 [00:56<00:35, 1247.37it/s]"
     ]
    },
    {
     "name": "stderr",
     "output_type": "stream",
     "text": [
      "\r 62%|██████▏   | 70740/114911 [00:56<00:35, 1246.62it/s]"
     ]
    },
    {
     "name": "stderr",
     "output_type": "stream",
     "text": [
      "\r 62%|██████▏   | 70828/114911 [00:56<00:35, 1245.95it/s]"
     ]
    },
    {
     "name": "stderr",
     "output_type": "stream",
     "text": [
      "\r 62%|██████▏   | 70986/114911 [00:56<00:35, 1246.53it/s]"
     ]
    },
    {
     "name": "stderr",
     "output_type": "stream",
     "text": [
      "\r 62%|██████▏   | 71148/114911 [00:57<00:35, 1247.17it/s]"
     ]
    },
    {
     "name": "stderr",
     "output_type": "stream",
     "text": [
      "\r 62%|██████▏   | 71320/114911 [00:57<00:34, 1247.99it/s]"
     ]
    },
    {
     "name": "stderr",
     "output_type": "stream",
     "text": [
      "\r 62%|██████▏   | 71482/114911 [00:57<00:34, 1248.62it/s]"
     ]
    },
    {
     "name": "stderr",
     "output_type": "stream",
     "text": [
      "\r 62%|██████▏   | 71631/114911 [00:57<00:34, 1249.02it/s]"
     ]
    },
    {
     "name": "stderr",
     "output_type": "stream",
     "text": [
      "\r 62%|██████▏   | 71795/114911 [00:57<00:34, 1249.69it/s]"
     ]
    },
    {
     "name": "stderr",
     "output_type": "stream",
     "text": [
      "\r 63%|██████▎   | 71951/114911 [00:57<00:34, 1250.21it/s]"
     ]
    },
    {
     "name": "stderr",
     "output_type": "stream",
     "text": [
      "\r 63%|██████▎   | 72119/114911 [00:57<00:34, 1250.94it/s]"
     ]
    },
    {
     "name": "stderr",
     "output_type": "stream",
     "text": [
      "\r 63%|██████▎   | 72283/114911 [00:57<00:34, 1251.55it/s]"
     ]
    },
    {
     "name": "stderr",
     "output_type": "stream",
     "text": [
      "\r 63%|██████▎   | 72441/114911 [00:57<00:33, 1252.00it/s]"
     ]
    },
    {
     "name": "stderr",
     "output_type": "stream",
     "text": [
      "\r 63%|██████▎   | 72599/114911 [00:57<00:33, 1252.56it/s]"
     ]
    },
    {
     "name": "stderr",
     "output_type": "stream",
     "text": [
      "\r 63%|██████▎   | 72783/114911 [00:58<00:33, 1253.56it/s]"
     ]
    },
    {
     "name": "stderr",
     "output_type": "stream",
     "text": [
      "\r 63%|██████▎   | 72948/114911 [00:58<00:33, 1254.22it/s]"
     ]
    },
    {
     "name": "stderr",
     "output_type": "stream",
     "text": [
      "\r 64%|██████▎   | 73120/114911 [00:58<00:33, 1255.01it/s]"
     ]
    },
    {
     "name": "stderr",
     "output_type": "stream",
     "text": [
      "\r 64%|██████▍   | 73292/114911 [00:58<00:33, 1255.80it/s]"
     ]
    },
    {
     "name": "stderr",
     "output_type": "stream",
     "text": [
      "\r 64%|██████▍   | 73467/114911 [00:58<00:32, 1256.64it/s]"
     ]
    },
    {
     "name": "stderr",
     "output_type": "stream",
     "text": [
      "\r 64%|██████▍   | 73637/114911 [00:58<00:32, 1257.26it/s]"
     ]
    },
    {
     "name": "stderr",
     "output_type": "stream",
     "text": [
      "\r 64%|██████▍   | 73804/114911 [00:58<00:32, 1257.30it/s]"
     ]
    },
    {
     "name": "stderr",
     "output_type": "stream",
     "text": [
      "\r 64%|██████▍   | 73960/114911 [00:58<00:32, 1257.80it/s]"
     ]
    },
    {
     "name": "stderr",
     "output_type": "stream",
     "text": [
      "\r 65%|██████▍   | 74140/114911 [00:58<00:32, 1258.71it/s]"
     ]
    },
    {
     "name": "stderr",
     "output_type": "stream",
     "text": [
      "\r 65%|██████▍   | 74310/114911 [00:59<00:32, 1259.44it/s]"
     ]
    },
    {
     "name": "stderr",
     "output_type": "stream",
     "text": [
      "\r 65%|██████▍   | 74497/114911 [00:59<00:32, 1260.44it/s]"
     ]
    },
    {
     "name": "stderr",
     "output_type": "stream",
     "text": [
      "\r 65%|██████▍   | 74672/114911 [00:59<00:31, 1261.26it/s]"
     ]
    },
    {
     "name": "stderr",
     "output_type": "stream",
     "text": [
      "\r 65%|██████▌   | 74844/114911 [00:59<00:31, 1261.82it/s]"
     ]
    },
    {
     "name": "stderr",
     "output_type": "stream",
     "text": [
      "\r 65%|██████▌   | 75011/114911 [00:59<00:31, 1262.40it/s]"
     ]
    },
    {
     "name": "stderr",
     "output_type": "stream",
     "text": [
      "\r 65%|██████▌   | 75197/114911 [00:59<00:31, 1263.39it/s]"
     ]
    },
    {
     "name": "stderr",
     "output_type": "stream",
     "text": [
      "\r 66%|██████▌   | 75383/114911 [00:59<00:31, 1264.36it/s]"
     ]
    },
    {
     "name": "stderr",
     "output_type": "stream",
     "text": [
      "\r 66%|██████▌   | 75559/114911 [00:59<00:31, 1265.13it/s]"
     ]
    },
    {
     "name": "stderr",
     "output_type": "stream",
     "text": [
      "\r 66%|██████▌   | 75736/114911 [00:59<00:30, 1265.96it/s]"
     ]
    },
    {
     "name": "stderr",
     "output_type": "stream",
     "text": [
      "\r 66%|██████▌   | 75921/114911 [00:59<00:30, 1266.92it/s]"
     ]
    },
    {
     "name": "stderr",
     "output_type": "stream",
     "text": [
      "\r 66%|██████▌   | 76101/114911 [01:00<00:30, 1267.79it/s]"
     ]
    },
    {
     "name": "stderr",
     "output_type": "stream",
     "text": [
      "\r 66%|██████▋   | 76281/114911 [01:00<00:30, 1268.66it/s]"
     ]
    },
    {
     "name": "stderr",
     "output_type": "stream",
     "text": [
      "\r 67%|██████▋   | 76459/114911 [01:00<00:30, 1269.22it/s]"
     ]
    },
    {
     "name": "stderr",
     "output_type": "stream",
     "text": [
      "\r 67%|██████▋   | 76631/114911 [01:00<00:30, 1269.43it/s]"
     ]
    },
    {
     "name": "stderr",
     "output_type": "stream",
     "text": [
      "\r 67%|██████▋   | 76793/114911 [01:00<00:30, 1269.74it/s]"
     ]
    },
    {
     "name": "stderr",
     "output_type": "stream",
     "text": [
      "\r 67%|██████▋   | 76954/114911 [01:00<00:29, 1270.30it/s]"
     ]
    },
    {
     "name": "stderr",
     "output_type": "stream",
     "text": [
      "\r 67%|██████▋   | 77136/114911 [01:00<00:29, 1271.19it/s]"
     ]
    },
    {
     "name": "stderr",
     "output_type": "stream",
     "text": [
      "\r 67%|██████▋   | 77316/114911 [01:00<00:29, 1272.05it/s]"
     ]
    },
    {
     "name": "stderr",
     "output_type": "stream",
     "text": [
      "\r 67%|██████▋   | 77491/114911 [01:00<00:29, 1272.82it/s]"
     ]
    },
    {
     "name": "stderr",
     "output_type": "stream",
     "text": [
      "\r 68%|██████▊   | 77665/114911 [01:00<00:29, 1273.57it/s]"
     ]
    },
    {
     "name": "stderr",
     "output_type": "stream",
     "text": [
      "\r 68%|██████▊   | 77850/114911 [01:01<00:29, 1274.50it/s]"
     ]
    },
    {
     "name": "stderr",
     "output_type": "stream",
     "text": [
      "\r 68%|██████▊   | 78028/114911 [01:01<00:28, 1275.31it/s]"
     ]
    },
    {
     "name": "stderr",
     "output_type": "stream",
     "text": [
      "\r 68%|██████▊   | 78213/114911 [01:01<00:28, 1276.23it/s]"
     ]
    },
    {
     "name": "stderr",
     "output_type": "stream",
     "text": [
      "\r 68%|██████▊   | 78391/114911 [01:01<00:28, 1276.97it/s]"
     ]
    },
    {
     "name": "stderr",
     "output_type": "stream",
     "text": [
      "\r 68%|██████▊   | 78577/114911 [01:01<00:28, 1277.91it/s]"
     ]
    },
    {
     "name": "stderr",
     "output_type": "stream",
     "text": [
      "\r 69%|██████▊   | 78756/114911 [01:01<00:28, 1278.66it/s]"
     ]
    },
    {
     "name": "stderr",
     "output_type": "stream",
     "text": [
      "\r 69%|██████▊   | 78933/114911 [01:01<00:28, 1279.37it/s]"
     ]
    },
    {
     "name": "stderr",
     "output_type": "stream",
     "text": [
      "\r 69%|██████▉   | 79109/114911 [01:01<00:27, 1280.13it/s]"
     ]
    },
    {
     "name": "stderr",
     "output_type": "stream",
     "text": [
      "\r 69%|██████▉   | 79284/114911 [01:01<00:27, 1280.61it/s]"
     ]
    },
    {
     "name": "stderr",
     "output_type": "stream",
     "text": [
      "\r 69%|██████▉   | 79453/114911 [01:02<00:27, 1279.13it/s]"
     ]
    },
    {
     "name": "stderr",
     "output_type": "stream",
     "text": [
      "\r 69%|██████▉   | 79596/114911 [01:02<00:27, 1278.21it/s]"
     ]
    },
    {
     "name": "stderr",
     "output_type": "stream",
     "text": [
      "\r 69%|██████▉   | 79724/114911 [01:02<00:27, 1277.20it/s]"
     ]
    },
    {
     "name": "stderr",
     "output_type": "stream",
     "text": [
      "\r 69%|██████▉   | 79839/114911 [01:02<00:27, 1276.59it/s]"
     ]
    },
    {
     "name": "stderr",
     "output_type": "stream",
     "text": [
      "\r 70%|██████▉   | 79949/114911 [01:02<00:27, 1275.95it/s]"
     ]
    },
    {
     "name": "stderr",
     "output_type": "stream",
     "text": [
      "\r 70%|██████▉   | 80054/114911 [01:02<00:27, 1275.25it/s]"
     ]
    },
    {
     "name": "stderr",
     "output_type": "stream",
     "text": [
      "\r 70%|██████▉   | 80155/114911 [01:02<00:27, 1274.43it/s]"
     ]
    },
    {
     "name": "stderr",
     "output_type": "stream",
     "text": [
      "\r 70%|██████▉   | 80251/114911 [01:02<00:27, 1273.91it/s]"
     ]
    },
    {
     "name": "stderr",
     "output_type": "stream",
     "text": [
      "\r 70%|██████▉   | 80347/114911 [01:03<00:27, 1273.18it/s]"
     ]
    },
    {
     "name": "stderr",
     "output_type": "stream",
     "text": [
      "\r 70%|███████   | 80440/114911 [01:03<00:27, 1272.52it/s]"
     ]
    },
    {
     "name": "stderr",
     "output_type": "stream",
     "text": [
      "\r 70%|███████   | 80532/114911 [01:03<00:27, 1271.75it/s]"
     ]
    },
    {
     "name": "stderr",
     "output_type": "stream",
     "text": [
      "\r 70%|███████   | 80627/114911 [01:03<00:26, 1271.21it/s]"
     ]
    },
    {
     "name": "stderr",
     "output_type": "stream",
     "text": [
      "\r 70%|███████   | 80718/114911 [01:03<00:26, 1270.48it/s]"
     ]
    },
    {
     "name": "stderr",
     "output_type": "stream",
     "text": [
      "\r 70%|███████   | 80808/114911 [01:03<00:26, 1269.89it/s]"
     ]
    },
    {
     "name": "stderr",
     "output_type": "stream",
     "text": [
      "\r 70%|███████   | 80897/114911 [01:03<00:26, 1269.23it/s]"
     ]
    },
    {
     "name": "stderr",
     "output_type": "stream",
     "text": [
      "\r 70%|███████   | 80991/114911 [01:03<00:26, 1268.70it/s]"
     ]
    },
    {
     "name": "stderr",
     "output_type": "stream",
     "text": [
      "\r 71%|███████   | 81081/114911 [01:03<00:26, 1268.09it/s]"
     ]
    },
    {
     "name": "stderr",
     "output_type": "stream",
     "text": [
      "\r 71%|███████   | 81171/114911 [01:04<00:26, 1267.42it/s]"
     ]
    },
    {
     "name": "stderr",
     "output_type": "stream",
     "text": [
      "\r 71%|███████   | 81264/114911 [01:04<00:26, 1266.88it/s]"
     ]
    },
    {
     "name": "stderr",
     "output_type": "stream",
     "text": [
      "\r 71%|███████   | 81354/114911 [01:04<00:26, 1266.18it/s]"
     ]
    },
    {
     "name": "stderr",
     "output_type": "stream",
     "text": [
      "\r 71%|███████   | 81442/114911 [01:04<00:26, 1265.46it/s]"
     ]
    },
    {
     "name": "stderr",
     "output_type": "stream",
     "text": [
      "\r 71%|███████   | 81536/114911 [01:04<00:26, 1264.94it/s]"
     ]
    },
    {
     "name": "stderr",
     "output_type": "stream",
     "text": [
      "\r 71%|███████   | 81626/114911 [01:04<00:26, 1264.36it/s]"
     ]
    },
    {
     "name": "stderr",
     "output_type": "stream",
     "text": [
      "\r 71%|███████   | 81715/114911 [01:04<00:26, 1263.63it/s]"
     ]
    },
    {
     "name": "stderr",
     "output_type": "stream",
     "text": [
      "\r 71%|███████   | 81803/114911 [01:04<00:26, 1263.03it/s]"
     ]
    },
    {
     "name": "stderr",
     "output_type": "stream",
     "text": [
      "\r 71%|███████▏  | 81891/114911 [01:04<00:26, 1262.42it/s]"
     ]
    },
    {
     "name": "stderr",
     "output_type": "stream",
     "text": [
      "\r 71%|███████▏  | 81982/114911 [01:04<00:26, 1261.86it/s]"
     ]
    },
    {
     "name": "stderr",
     "output_type": "stream",
     "text": [
      "\r 71%|███████▏  | 82078/114911 [01:05<00:26, 1261.39it/s]"
     ]
    },
    {
     "name": "stderr",
     "output_type": "stream",
     "text": [
      "\r 72%|███████▏  | 82169/114911 [01:05<00:25, 1260.81it/s]"
     ]
    },
    {
     "name": "stderr",
     "output_type": "stream",
     "text": [
      "\r 72%|███████▏  | 82263/114911 [01:05<00:25, 1260.29it/s]"
     ]
    },
    {
     "name": "stderr",
     "output_type": "stream",
     "text": [
      "\r 72%|███████▏  | 82354/114911 [01:05<00:25, 1259.54it/s]"
     ]
    },
    {
     "name": "stderr",
     "output_type": "stream",
     "text": [
      "\r 72%|███████▏  | 82443/114911 [01:05<00:25, 1258.89it/s]"
     ]
    },
    {
     "name": "stderr",
     "output_type": "stream",
     "text": [
      "\r 72%|███████▏  | 82536/114911 [01:05<00:25, 1258.35it/s]"
     ]
    },
    {
     "name": "stderr",
     "output_type": "stream",
     "text": [
      "\r 72%|███████▏  | 82628/114911 [01:05<00:25, 1257.82it/s]"
     ]
    },
    {
     "name": "stderr",
     "output_type": "stream",
     "text": [
      "\r 72%|███████▏  | 82718/114911 [01:05<00:25, 1257.25it/s]"
     ]
    },
    {
     "name": "stderr",
     "output_type": "stream",
     "text": [
      "\r 72%|███████▏  | 82808/114911 [01:05<00:25, 1256.69it/s]"
     ]
    },
    {
     "name": "stderr",
     "output_type": "stream",
     "text": [
      "\r 72%|███████▏  | 82898/114911 [01:05<00:25, 1256.11it/s]"
     ]
    },
    {
     "name": "stderr",
     "output_type": "stream",
     "text": [
      "\r 72%|███████▏  | 82987/114911 [01:06<00:25, 1255.55it/s]"
     ]
    },
    {
     "name": "stderr",
     "output_type": "stream",
     "text": [
      "\r 72%|███████▏  | 83076/114911 [01:06<00:25, 1254.73it/s]"
     ]
    },
    {
     "name": "stderr",
     "output_type": "stream",
     "text": [
      "\r 72%|███████▏  | 83168/114911 [01:06<00:25, 1254.21it/s]"
     ]
    },
    {
     "name": "stderr",
     "output_type": "stream",
     "text": [
      "\r 72%|███████▏  | 83261/114911 [01:06<00:25, 1253.71it/s]"
     ]
    },
    {
     "name": "stderr",
     "output_type": "stream",
     "text": [
      "\r 73%|███████▎  | 83352/114911 [01:06<00:25, 1253.18it/s]"
     ]
    },
    {
     "name": "stderr",
     "output_type": "stream",
     "text": [
      "\r 73%|███████▎  | 83442/114911 [01:06<00:25, 1252.62it/s]"
     ]
    },
    {
     "name": "stderr",
     "output_type": "stream",
     "text": [
      "\r 73%|███████▎  | 83532/114911 [01:06<00:25, 1252.06it/s]"
     ]
    },
    {
     "name": "stderr",
     "output_type": "stream",
     "text": [
      "\r 73%|███████▎  | 83626/114911 [01:06<00:24, 1251.58it/s]"
     ]
    },
    {
     "name": "stderr",
     "output_type": "stream",
     "text": [
      "\r 73%|███████▎  | 83727/114911 [01:06<00:24, 1251.18it/s]"
     ]
    },
    {
     "name": "stderr",
     "output_type": "stream",
     "text": [
      "\r 73%|███████▎  | 83897/114911 [01:07<00:24, 1251.85it/s]"
     ]
    },
    {
     "name": "stderr",
     "output_type": "stream",
     "text": [
      "\r 73%|███████▎  | 84065/114911 [01:07<00:24, 1252.48it/s]"
     ]
    },
    {
     "name": "stderr",
     "output_type": "stream",
     "text": [
      "\r 73%|███████▎  | 84242/114911 [01:07<00:24, 1253.24it/s]"
     ]
    },
    {
     "name": "stderr",
     "output_type": "stream",
     "text": [
      "\r 73%|███████▎  | 84402/114911 [01:07<00:24, 1253.74it/s]"
     ]
    },
    {
     "name": "stderr",
     "output_type": "stream",
     "text": [
      "\r 74%|███████▎  | 84578/114911 [01:07<00:24, 1254.48it/s]"
     ]
    },
    {
     "name": "stderr",
     "output_type": "stream",
     "text": [
      "\r 74%|███████▍  | 84768/114911 [01:07<00:24, 1255.42it/s]"
     ]
    },
    {
     "name": "stderr",
     "output_type": "stream",
     "text": [
      "\r 74%|███████▍  | 84945/114911 [01:07<00:23, 1256.17it/s]"
     ]
    },
    {
     "name": "stderr",
     "output_type": "stream",
     "text": [
      "\r 74%|███████▍  | 85124/114911 [01:07<00:23, 1256.94it/s]"
     ]
    },
    {
     "name": "stderr",
     "output_type": "stream",
     "text": [
      "\r 74%|███████▍  | 85307/114911 [01:07<00:23, 1257.77it/s]"
     ]
    },
    {
     "name": "stderr",
     "output_type": "stream",
     "text": [
      "\r 74%|███████▍  | 85482/114911 [01:07<00:23, 1258.23it/s]"
     ]
    },
    {
     "name": "stderr",
     "output_type": "stream",
     "text": [
      "\r 75%|███████▍  | 85651/114911 [01:08<00:23, 1257.26it/s]"
     ]
    },
    {
     "name": "stderr",
     "output_type": "stream",
     "text": [
      "\r 75%|███████▍  | 85796/114911 [01:08<00:23, 1256.54it/s]"
     ]
    },
    {
     "name": "stderr",
     "output_type": "stream",
     "text": [
      "\r 75%|███████▍  | 85926/114911 [01:08<00:23, 1255.75it/s]"
     ]
    },
    {
     "name": "stderr",
     "output_type": "stream",
     "text": [
      "\r 75%|███████▍  | 86044/114911 [01:08<00:23, 1254.93it/s]"
     ]
    },
    {
     "name": "stderr",
     "output_type": "stream",
     "text": [
      "\r 75%|███████▍  | 86152/114911 [01:08<00:22, 1254.20it/s]"
     ]
    },
    {
     "name": "stderr",
     "output_type": "stream",
     "text": [
      "\r 75%|███████▌  | 86254/114911 [01:08<00:22, 1253.60it/s]"
     ]
    },
    {
     "name": "stderr",
     "output_type": "stream",
     "text": [
      "\r 75%|███████▌  | 86352/114911 [01:08<00:22, 1253.08it/s]"
     ]
    },
    {
     "name": "stderr",
     "output_type": "stream",
     "text": [
      "\r 75%|███████▌  | 86448/114911 [01:09<00:22, 1252.44it/s]"
     ]
    },
    {
     "name": "stderr",
     "output_type": "stream",
     "text": [
      "\r 75%|███████▌  | 86541/114911 [01:09<00:22, 1251.85it/s]"
     ]
    },
    {
     "name": "stderr",
     "output_type": "stream",
     "text": [
      "\r 75%|███████▌  | 86634/114911 [01:09<00:22, 1251.37it/s]"
     ]
    },
    {
     "name": "stderr",
     "output_type": "stream",
     "text": [
      "\r 75%|███████▌  | 86726/114911 [01:09<00:22, 1250.68it/s]"
     ]
    },
    {
     "name": "stderr",
     "output_type": "stream",
     "text": [
      "\r 76%|███████▌  | 86819/114911 [01:09<00:22, 1250.19it/s]"
     ]
    },
    {
     "name": "stderr",
     "output_type": "stream",
     "text": [
      "\r 76%|███████▌  | 86909/114911 [01:09<00:22, 1249.46it/s]"
     ]
    },
    {
     "name": "stderr",
     "output_type": "stream",
     "text": [
      "\r 76%|███████▌  | 86997/114911 [01:09<00:22, 1248.91it/s]"
     ]
    },
    {
     "name": "stderr",
     "output_type": "stream",
     "text": [
      "\r 76%|███████▌  | 87092/114911 [01:09<00:22, 1248.47it/s]"
     ]
    },
    {
     "name": "stderr",
     "output_type": "stream",
     "text": [
      "\r 76%|███████▌  | 87182/114911 [01:09<00:22, 1247.92it/s]"
     ]
    },
    {
     "name": "stderr",
     "output_type": "stream",
     "text": [
      "\r 76%|███████▌  | 87321/114911 [01:09<00:22, 1248.12it/s]"
     ]
    },
    {
     "name": "stderr",
     "output_type": "stream",
     "text": [
      "\r 76%|███████▌  | 87494/114911 [01:10<00:21, 1248.79it/s]"
     ]
    },
    {
     "name": "stderr",
     "output_type": "stream",
     "text": [
      "\r 76%|███████▋  | 87674/114911 [01:10<00:21, 1249.57it/s]"
     ]
    },
    {
     "name": "stderr",
     "output_type": "stream",
     "text": [
      "\r 76%|███████▋  | 87855/114911 [01:10<00:21, 1250.35it/s]"
     ]
    },
    {
     "name": "stderr",
     "output_type": "stream",
     "text": [
      "\r 77%|███████▋  | 88036/114911 [01:10<00:21, 1251.13it/s]"
     ]
    },
    {
     "name": "stderr",
     "output_type": "stream",
     "text": [
      "\r 77%|███████▋  | 88213/114911 [01:10<00:21, 1251.86it/s]"
     ]
    },
    {
     "name": "stderr",
     "output_type": "stream",
     "text": [
      "\r 77%|███████▋  | 88394/114911 [01:10<00:21, 1252.63it/s]"
     ]
    },
    {
     "name": "stderr",
     "output_type": "stream",
     "text": [
      "\r 77%|███████▋  | 88566/114911 [01:10<00:21, 1253.29it/s]"
     ]
    },
    {
     "name": "stderr",
     "output_type": "stream",
     "text": [
      "\r 77%|███████▋  | 88752/114911 [01:10<00:20, 1254.14it/s]"
     ]
    },
    {
     "name": "stderr",
     "output_type": "stream",
     "text": [
      "\r 77%|███████▋  | 88935/114911 [01:10<00:20, 1254.94it/s]"
     ]
    },
    {
     "name": "stderr",
     "output_type": "stream",
     "text": [
      "\r 78%|███████▊  | 89114/114911 [01:10<00:20, 1255.68it/s]"
     ]
    },
    {
     "name": "stderr",
     "output_type": "stream",
     "text": [
      "\r 78%|███████▊  | 89296/114911 [01:11<00:20, 1256.46it/s]"
     ]
    },
    {
     "name": "stderr",
     "output_type": "stream",
     "text": [
      "\r 78%|███████▊  | 89480/114911 [01:11<00:20, 1257.28it/s]"
     ]
    },
    {
     "name": "stderr",
     "output_type": "stream",
     "text": [
      "\r 78%|███████▊  | 89660/114911 [01:11<00:20, 1257.98it/s]"
     ]
    },
    {
     "name": "stderr",
     "output_type": "stream",
     "text": [
      "\r 78%|███████▊  | 89839/114911 [01:11<00:19, 1258.19it/s]"
     ]
    },
    {
     "name": "stderr",
     "output_type": "stream",
     "text": [
      "\r 78%|███████▊  | 90005/114911 [01:11<00:19, 1258.39it/s]"
     ]
    },
    {
     "name": "stderr",
     "output_type": "stream",
     "text": [
      "\r 78%|███████▊  | 90186/114911 [01:11<00:19, 1259.14it/s]"
     ]
    },
    {
     "name": "stderr",
     "output_type": "stream",
     "text": [
      "\r 79%|███████▊  | 90351/114911 [01:11<00:19, 1259.27it/s]"
     ]
    },
    {
     "name": "stderr",
     "output_type": "stream",
     "text": [
      "\r 79%|███████▉  | 90506/114911 [01:11<00:19, 1259.39it/s]"
     ]
    },
    {
     "name": "stderr",
     "output_type": "stream",
     "text": [
      "\r 79%|███████▉  | 90655/114911 [01:12<00:19, 1259.04it/s]"
     ]
    },
    {
     "name": "stderr",
     "output_type": "stream",
     "text": [
      "\r 79%|███████▉  | 90792/114911 [01:12<00:19, 1258.29it/s]"
     ]
    },
    {
     "name": "stderr",
     "output_type": "stream",
     "text": [
      "\r 79%|███████▉  | 90915/114911 [01:12<00:19, 1257.60it/s]"
     ]
    },
    {
     "name": "stderr",
     "output_type": "stream",
     "text": [
      "\r 79%|███████▉  | 91028/114911 [01:12<00:18, 1257.10it/s]"
     ]
    },
    {
     "name": "stderr",
     "output_type": "stream",
     "text": [
      "\r 79%|███████▉  | 91136/114911 [01:12<00:18, 1256.54it/s]"
     ]
    },
    {
     "name": "stderr",
     "output_type": "stream",
     "text": [
      "\r 79%|███████▉  | 91239/114911 [01:12<00:18, 1255.94it/s]"
     ]
    },
    {
     "name": "stderr",
     "output_type": "stream",
     "text": [
      "\r 79%|███████▉  | 91338/114911 [01:12<00:18, 1255.29it/s]"
     ]
    },
    {
     "name": "stderr",
     "output_type": "stream",
     "text": [
      "\r 80%|███████▉  | 91433/114911 [01:12<00:18, 1254.76it/s]"
     ]
    },
    {
     "name": "stderr",
     "output_type": "stream",
     "text": [
      "\r 80%|███████▉  | 91526/114911 [01:12<00:18, 1254.18it/s]"
     ]
    },
    {
     "name": "stderr",
     "output_type": "stream",
     "text": [
      "\r 80%|███████▉  | 91619/114911 [01:13<00:18, 1253.70it/s]"
     ]
    },
    {
     "name": "stderr",
     "output_type": "stream",
     "text": [
      "\r 80%|███████▉  | 91710/114911 [01:13<00:18, 1253.19it/s]"
     ]
    },
    {
     "name": "stderr",
     "output_type": "stream",
     "text": [
      "\r 80%|███████▉  | 91801/114911 [01:13<00:18, 1252.69it/s]"
     ]
    },
    {
     "name": "stderr",
     "output_type": "stream",
     "text": [
      "\r 80%|███████▉  | 91892/114911 [01:13<00:18, 1252.16it/s]"
     ]
    },
    {
     "name": "stderr",
     "output_type": "stream",
     "text": [
      "\r 80%|████████  | 91982/114911 [01:13<00:18, 1251.65it/s]"
     ]
    },
    {
     "name": "stderr",
     "output_type": "stream",
     "text": [
      "\r 80%|████████  | 92075/114911 [01:13<00:18, 1251.20it/s]"
     ]
    },
    {
     "name": "stderr",
     "output_type": "stream",
     "text": [
      "\r 80%|████████  | 92166/114911 [01:13<00:18, 1250.61it/s]"
     ]
    },
    {
     "name": "stderr",
     "output_type": "stream",
     "text": [
      "\r 80%|████████  | 92255/114911 [01:13<00:18, 1250.05it/s]"
     ]
    },
    {
     "name": "stderr",
     "output_type": "stream",
     "text": [
      "\r 80%|████████  | 92349/114911 [01:13<00:18, 1249.59it/s]"
     ]
    },
    {
     "name": "stderr",
     "output_type": "stream",
     "text": [
      "\r 80%|████████  | 92439/114911 [01:14<00:17, 1249.10it/s]"
     ]
    },
    {
     "name": "stderr",
     "output_type": "stream",
     "text": [
      "\r 81%|████████  | 92528/114911 [01:14<00:17, 1248.54it/s]"
     ]
    },
    {
     "name": "stderr",
     "output_type": "stream",
     "text": [
      "\r 81%|████████  | 92619/114911 [01:14<00:17, 1248.07it/s]"
     ]
    },
    {
     "name": "stderr",
     "output_type": "stream",
     "text": [
      "\r 81%|████████  | 92708/114911 [01:14<00:17, 1247.56it/s]"
     ]
    },
    {
     "name": "stderr",
     "output_type": "stream",
     "text": [
      "\r 81%|████████  | 92797/114911 [01:14<00:17, 1247.01it/s]"
     ]
    },
    {
     "name": "stderr",
     "output_type": "stream",
     "text": [
      "\r 81%|████████  | 92888/114911 [01:14<00:17, 1246.55it/s]"
     ]
    },
    {
     "name": "stderr",
     "output_type": "stream",
     "text": [
      "\r 81%|████████  | 92983/114911 [01:14<00:17, 1246.14it/s]"
     ]
    },
    {
     "name": "stderr",
     "output_type": "stream",
     "text": [
      "\r 81%|████████  | 93074/114911 [01:14<00:17, 1245.64it/s]"
     ]
    },
    {
     "name": "stderr",
     "output_type": "stream",
     "text": [
      "\r 81%|████████  | 93164/114911 [01:14<00:17, 1245.14it/s]"
     ]
    },
    {
     "name": "stderr",
     "output_type": "stream",
     "text": [
      "\r 81%|████████  | 93254/114911 [01:14<00:17, 1244.61it/s]"
     ]
    },
    {
     "name": "stderr",
     "output_type": "stream",
     "text": [
      "\r 81%|████████  | 93343/114911 [01:15<00:17, 1244.05it/s]"
     ]
    },
    {
     "name": "stderr",
     "output_type": "stream",
     "text": [
      "\r 81%|████████▏ | 93431/114911 [01:15<00:17, 1243.48it/s]"
     ]
    },
    {
     "name": "stderr",
     "output_type": "stream",
     "text": [
      "\r 81%|████████▏ | 93520/114911 [01:15<00:17, 1243.00it/s]"
     ]
    },
    {
     "name": "stderr",
     "output_type": "stream",
     "text": [
      "\r 81%|████████▏ | 93614/114911 [01:15<00:17, 1242.59it/s]"
     ]
    },
    {
     "name": "stderr",
     "output_type": "stream",
     "text": [
      "\r 82%|████████▏ | 93703/114911 [01:15<00:17, 1242.08it/s]"
     ]
    },
    {
     "name": "stderr",
     "output_type": "stream",
     "text": [
      "\r 82%|████████▏ | 93792/114911 [01:15<00:17, 1241.11it/s]"
     ]
    },
    {
     "name": "stderr",
     "output_type": "stream",
     "text": [
      "\r 82%|████████▏ | 93875/114911 [01:15<00:16, 1240.31it/s]"
     ]
    },
    {
     "name": "stderr",
     "output_type": "stream",
     "text": [
      "\r 82%|████████▏ | 93965/114911 [01:15<00:16, 1239.84it/s]"
     ]
    },
    {
     "name": "stderr",
     "output_type": "stream",
     "text": [
      "\r 82%|████████▏ | 94058/114911 [01:15<00:16, 1239.41it/s]"
     ]
    },
    {
     "name": "stderr",
     "output_type": "stream",
     "text": [
      "\r 82%|████████▏ | 94143/114911 [01:15<00:16, 1238.88it/s]"
     ]
    },
    {
     "name": "stderr",
     "output_type": "stream",
     "text": [
      "\r 82%|████████▏ | 94237/114911 [01:16<00:16, 1238.48it/s]"
     ]
    },
    {
     "name": "stderr",
     "output_type": "stream",
     "text": [
      "\r 82%|████████▏ | 94325/114911 [01:16<00:16, 1237.80it/s]"
     ]
    },
    {
     "name": "stderr",
     "output_type": "stream",
     "text": [
      "\r 82%|████████▏ | 94410/114911 [01:16<00:16, 1237.15it/s]"
     ]
    },
    {
     "name": "stderr",
     "output_type": "stream",
     "text": [
      "\r 82%|████████▏ | 94499/114911 [01:16<00:16, 1236.67it/s]"
     ]
    },
    {
     "name": "stderr",
     "output_type": "stream",
     "text": [
      "\r 82%|████████▏ | 94584/114911 [01:16<00:16, 1235.83it/s]"
     ]
    },
    {
     "name": "stderr",
     "output_type": "stream",
     "text": [
      "\r 82%|████████▏ | 94664/114911 [01:16<00:16, 1235.10it/s]"
     ]
    },
    {
     "name": "stderr",
     "output_type": "stream",
     "text": [
      "\r 82%|████████▏ | 94752/114911 [01:16<00:16, 1234.63it/s]"
     ]
    },
    {
     "name": "stderr",
     "output_type": "stream",
     "text": [
      "\r 83%|████████▎ | 94844/114911 [01:16<00:16, 1234.21it/s]"
     ]
    },
    {
     "name": "stderr",
     "output_type": "stream",
     "text": [
      "\r 83%|████████▎ | 94931/114911 [01:16<00:16, 1233.70it/s]"
     ]
    },
    {
     "name": "stderr",
     "output_type": "stream",
     "text": [
      "\r 83%|████████▎ | 95094/114911 [01:17<00:16, 1234.21it/s]"
     ]
    },
    {
     "name": "stderr",
     "output_type": "stream",
     "text": [
      "\r 83%|████████▎ | 95280/114911 [01:17<00:15, 1235.01it/s]"
     ]
    },
    {
     "name": "stderr",
     "output_type": "stream",
     "text": [
      "\r 83%|████████▎ | 95465/114911 [01:17<00:15, 1235.78it/s]"
     ]
    },
    {
     "name": "stderr",
     "output_type": "stream",
     "text": [
      "\r 83%|████████▎ | 95612/114911 [01:17<00:15, 1235.75it/s]"
     ]
    },
    {
     "name": "stderr",
     "output_type": "stream",
     "text": [
      "\r 83%|████████▎ | 95751/114911 [01:17<00:15, 1235.84it/s]"
     ]
    },
    {
     "name": "stderr",
     "output_type": "stream",
     "text": [
      "\r 83%|████████▎ | 95931/114911 [01:17<00:15, 1236.56it/s]"
     ]
    },
    {
     "name": "stderr",
     "output_type": "stream",
     "text": [
      "\r 84%|████████▎ | 96107/114911 [01:17<00:15, 1237.22it/s]"
     ]
    },
    {
     "name": "stderr",
     "output_type": "stream",
     "text": [
      "\r 84%|████████▍ | 96286/114911 [01:17<00:15, 1237.92it/s]"
     ]
    },
    {
     "name": "stderr",
     "output_type": "stream",
     "text": [
      "\r 84%|████████▍ | 96458/114911 [01:17<00:14, 1238.54it/s]"
     ]
    },
    {
     "name": "stderr",
     "output_type": "stream",
     "text": [
      "\r 84%|████████▍ | 96624/114911 [01:18<00:14, 1238.64it/s]"
     ]
    },
    {
     "name": "stderr",
     "output_type": "stream",
     "text": [
      "\r 84%|████████▍ | 96779/114911 [01:18<00:14, 1238.79it/s]"
     ]
    },
    {
     "name": "stderr",
     "output_type": "stream",
     "text": [
      "\r 84%|████████▍ | 96946/114911 [01:18<00:14, 1239.33it/s]"
     ]
    },
    {
     "name": "stderr",
     "output_type": "stream",
     "text": [
      "\r 85%|████████▍ | 97121/114911 [01:18<00:14, 1239.97it/s]"
     ]
    },
    {
     "name": "stderr",
     "output_type": "stream",
     "text": [
      "\r 85%|████████▍ | 97293/114911 [01:18<00:14, 1240.57it/s]"
     ]
    },
    {
     "name": "stderr",
     "output_type": "stream",
     "text": [
      "\r 85%|████████▍ | 97469/114911 [01:18<00:14, 1241.22it/s]"
     ]
    },
    {
     "name": "stderr",
     "output_type": "stream",
     "text": [
      "\r 85%|████████▍ | 97636/114911 [01:18<00:13, 1241.36it/s]"
     ]
    },
    {
     "name": "stderr",
     "output_type": "stream",
     "text": [
      "\r 85%|████████▌ | 97793/114911 [01:18<00:13, 1241.53it/s]"
     ]
    },
    {
     "name": "stderr",
     "output_type": "stream",
     "text": [
      "\r 85%|████████▌ | 97952/114911 [01:18<00:13, 1241.96it/s]"
     ]
    },
    {
     "name": "stderr",
     "output_type": "stream",
     "text": [
      "\r 85%|████████▌ | 98121/114911 [01:18<00:13, 1242.51it/s]"
     ]
    },
    {
     "name": "stderr",
     "output_type": "stream",
     "text": [
      "\r 86%|████████▌ | 98279/114911 [01:19<00:13, 1242.52it/s]"
     ]
    },
    {
     "name": "stderr",
     "output_type": "stream",
     "text": [
      "\r 86%|████████▌ | 98427/114911 [01:19<00:13, 1242.72it/s]"
     ]
    },
    {
     "name": "stderr",
     "output_type": "stream",
     "text": [
      "\r 86%|████████▌ | 98595/114911 [01:19<00:13, 1243.26it/s]"
     ]
    },
    {
     "name": "stderr",
     "output_type": "stream",
     "text": [
      "\r 86%|████████▌ | 98751/114911 [01:19<00:12, 1243.65it/s]"
     ]
    },
    {
     "name": "stderr",
     "output_type": "stream",
     "text": [
      "\r 86%|████████▌ | 98920/114911 [01:19<00:12, 1244.20it/s]"
     ]
    },
    {
     "name": "stderr",
     "output_type": "stream",
     "text": [
      "\r 86%|████████▌ | 99106/114911 [01:19<00:12, 1244.96it/s]"
     ]
    },
    {
     "name": "stderr",
     "output_type": "stream",
     "text": [
      "\r 86%|████████▋ | 99278/114911 [01:19<00:12, 1245.55it/s]"
     ]
    },
    {
     "name": "stderr",
     "output_type": "stream",
     "text": [
      "\r 87%|████████▋ | 99467/114911 [01:19<00:12, 1246.34it/s]"
     ]
    },
    {
     "name": "stderr",
     "output_type": "stream",
     "text": [
      "\r 87%|████████▋ | 99641/114911 [01:19<00:12, 1246.87it/s]"
     ]
    },
    {
     "name": "stderr",
     "output_type": "stream",
     "text": [
      "\r 87%|████████▋ | 99821/114911 [01:20<00:12, 1247.55it/s]"
     ]
    },
    {
     "name": "stderr",
     "output_type": "stream",
     "text": [
      "\r 87%|████████▋ | 99996/114911 [01:20<00:11, 1248.17it/s]"
     ]
    },
    {
     "name": "stderr",
     "output_type": "stream",
     "text": [
      "\r 87%|████████▋ | 100174/114911 [01:20<00:11, 1248.83it/s]"
     ]
    },
    {
     "name": "stderr",
     "output_type": "stream",
     "text": [
      "\r 87%|████████▋ | 100349/114911 [01:20<00:11, 1249.39it/s]"
     ]
    },
    {
     "name": "stderr",
     "output_type": "stream",
     "text": [
      "\r 87%|████████▋ | 100522/114911 [01:20<00:11, 1249.43it/s]"
     ]
    },
    {
     "name": "stderr",
     "output_type": "stream",
     "text": [
      "\r 88%|████████▊ | 100682/114911 [01:20<00:11, 1249.63it/s]"
     ]
    },
    {
     "name": "stderr",
     "output_type": "stream",
     "text": [
      "\r 88%|████████▊ | 100848/114911 [01:20<00:11, 1250.12it/s]"
     ]
    },
    {
     "name": "stderr",
     "output_type": "stream",
     "text": [
      "\r 88%|████████▊ | 101005/114911 [01:20<00:11, 1250.06it/s]"
     ]
    },
    {
     "name": "stderr",
     "output_type": "stream",
     "text": [
      "\r 88%|████████▊ | 101151/114911 [01:20<00:11, 1250.09it/s]"
     ]
    },
    {
     "name": "stderr",
     "output_type": "stream",
     "text": [
      "\r 88%|████████▊ | 101321/114911 [01:21<00:10, 1250.64it/s]"
     ]
    },
    {
     "name": "stderr",
     "output_type": "stream",
     "text": [
      "\r 88%|████████▊ | 101491/114911 [01:21<00:10, 1251.18it/s]"
     ]
    },
    {
     "name": "stderr",
     "output_type": "stream",
     "text": [
      "\r 88%|████████▊ | 101646/114911 [01:21<00:10, 1251.26it/s]"
     ]
    },
    {
     "name": "stderr",
     "output_type": "stream",
     "text": [
      "\r 89%|████████▊ | 101794/114911 [01:21<00:10, 1251.41it/s]"
     ]
    },
    {
     "name": "stderr",
     "output_type": "stream",
     "text": [
      "\r 89%|████████▊ | 101966/114911 [01:21<00:10, 1251.97it/s]"
     ]
    },
    {
     "name": "stderr",
     "output_type": "stream",
     "text": [
      "\r 89%|████████▉ | 102148/114911 [01:21<00:10, 1252.66it/s]"
     ]
    },
    {
     "name": "stderr",
     "output_type": "stream",
     "text": [
      "\r 89%|████████▉ | 102346/114911 [01:21<00:10, 1253.54it/s]"
     ]
    },
    {
     "name": "stderr",
     "output_type": "stream",
     "text": [
      "\r 89%|████████▉ | 102520/114911 [01:21<00:09, 1254.13it/s]"
     ]
    },
    {
     "name": "stderr",
     "output_type": "stream",
     "text": [
      "\r 89%|████████▉ | 102709/114911 [01:21<00:09, 1254.89it/s]"
     ]
    },
    {
     "name": "stderr",
     "output_type": "stream",
     "text": [
      "\r 90%|████████▉ | 102886/114911 [01:21<00:09, 1255.51it/s]"
     ]
    },
    {
     "name": "stderr",
     "output_type": "stream",
     "text": [
      "\r 90%|████████▉ | 103063/114911 [01:22<00:09, 1256.11it/s]"
     ]
    },
    {
     "name": "stderr",
     "output_type": "stream",
     "text": [
      "\r 90%|████████▉ | 103239/114911 [01:22<00:09, 1256.70it/s]"
     ]
    },
    {
     "name": "stderr",
     "output_type": "stream",
     "text": [
      "\r 90%|████████▉ | 103414/114911 [01:22<00:09, 1257.28it/s]"
     ]
    },
    {
     "name": "stderr",
     "output_type": "stream",
     "text": [
      "\r 90%|█████████ | 103589/114911 [01:22<00:09, 1257.69it/s]"
     ]
    },
    {
     "name": "stderr",
     "output_type": "stream",
     "text": [
      "\r 90%|█████████ | 103770/114911 [01:22<00:08, 1258.35it/s]"
     ]
    },
    {
     "name": "stderr",
     "output_type": "stream",
     "text": [
      "\r 90%|█████████ | 103943/114911 [01:22<00:08, 1258.91it/s]"
     ]
    },
    {
     "name": "stderr",
     "output_type": "stream",
     "text": [
      "\r 91%|█████████ | 104125/114911 [01:22<00:08, 1259.57it/s]"
     ]
    },
    {
     "name": "stderr",
     "output_type": "stream",
     "text": [
      "\r 91%|█████████ | 104302/114911 [01:22<00:08, 1260.18it/s]"
     ]
    },
    {
     "name": "stderr",
     "output_type": "stream",
     "text": [
      "\r 91%|█████████ | 104477/114911 [01:22<00:08, 1260.68it/s]"
     ]
    },
    {
     "name": "stderr",
     "output_type": "stream",
     "text": [
      "\r 91%|█████████ | 104658/114911 [01:22<00:08, 1261.33it/s]"
     ]
    },
    {
     "name": "stderr",
     "output_type": "stream",
     "text": [
      "\r 91%|█████████ | 104839/114911 [01:23<00:07, 1261.98it/s]"
     ]
    },
    {
     "name": "stderr",
     "output_type": "stream",
     "text": [
      "\r 91%|█████████▏| 105018/114911 [01:23<00:07, 1262.60it/s]"
     ]
    },
    {
     "name": "stderr",
     "output_type": "stream",
     "text": [
      "\r 92%|█████████▏| 105195/114911 [01:23<00:07, 1262.67it/s]"
     ]
    },
    {
     "name": "stderr",
     "output_type": "stream",
     "text": [
      "\r 92%|█████████▏| 105358/114911 [01:23<00:07, 1262.36it/s]"
     ]
    },
    {
     "name": "stderr",
     "output_type": "stream",
     "text": [
      "\r 92%|█████████▏| 105505/114911 [01:23<00:07, 1262.37it/s]"
     ]
    },
    {
     "name": "stderr",
     "output_type": "stream",
     "text": [
      "\r 92%|█████████▏| 105672/114911 [01:23<00:07, 1262.86it/s]"
     ]
    },
    {
     "name": "stderr",
     "output_type": "stream",
     "text": [
      "\r 92%|█████████▏| 105851/114911 [01:23<00:07, 1263.48it/s]"
     ]
    },
    {
     "name": "stderr",
     "output_type": "stream",
     "text": [
      "\r 92%|█████████▏| 106009/114911 [01:23<00:07, 1263.50it/s]"
     ]
    },
    {
     "name": "stderr",
     "output_type": "stream",
     "text": [
      "\r 92%|█████████▏| 106158/114911 [01:24<00:06, 1263.49it/s]"
     ]
    },
    {
     "name": "stderr",
     "output_type": "stream",
     "text": [
      "\r 93%|█████████▎| 106300/114911 [01:24<00:06, 1263.53it/s]"
     ]
    },
    {
     "name": "stderr",
     "output_type": "stream",
     "text": [
      "\r 93%|█████████▎| 106484/114911 [01:24<00:06, 1264.20it/s]"
     ]
    },
    {
     "name": "stderr",
     "output_type": "stream",
     "text": [
      "\r 93%|█████████▎| 106661/114911 [01:24<00:06, 1264.80it/s]"
     ]
    },
    {
     "name": "stderr",
     "output_type": "stream",
     "text": [
      "\r 93%|█████████▎| 106843/114911 [01:24<00:06, 1265.45it/s]"
     ]
    },
    {
     "name": "stderr",
     "output_type": "stream",
     "text": [
      "\r 93%|█████████▎| 107018/114911 [01:24<00:06, 1266.01it/s]"
     ]
    },
    {
     "name": "stderr",
     "output_type": "stream",
     "text": [
      "\r 93%|█████████▎| 107208/114911 [01:24<00:06, 1266.75it/s]"
     ]
    },
    {
     "name": "stderr",
     "output_type": "stream",
     "text": [
      "\r 93%|█████████▎| 107383/114911 [01:24<00:05, 1267.06it/s]"
     ]
    },
    {
     "name": "stderr",
     "output_type": "stream",
     "text": [
      "\r 94%|█████████▎| 107550/114911 [01:24<00:05, 1266.85it/s]"
     ]
    },
    {
     "name": "stderr",
     "output_type": "stream",
     "text": [
      "\r 94%|█████████▎| 107702/114911 [01:25<00:05, 1266.98it/s]"
     ]
    },
    {
     "name": "stderr",
     "output_type": "stream",
     "text": [
      "\r 94%|█████████▍| 107884/114911 [01:25<00:05, 1267.61it/s]"
     ]
    },
    {
     "name": "stderr",
     "output_type": "stream",
     "text": [
      "\r 94%|█████████▍| 108048/114911 [01:25<00:05, 1268.03it/s]"
     ]
    },
    {
     "name": "stderr",
     "output_type": "stream",
     "text": [
      "\r 94%|█████████▍| 108207/114911 [01:25<00:05, 1267.98it/s]"
     ]
    },
    {
     "name": "stderr",
     "output_type": "stream",
     "text": [
      "\r 94%|█████████▍| 108355/114911 [01:25<00:05, 1267.94it/s]"
     ]
    },
    {
     "name": "stderr",
     "output_type": "stream",
     "text": [
      "\r 94%|█████████▍| 108523/114911 [01:25<00:05, 1268.42it/s]"
     ]
    },
    {
     "name": "stderr",
     "output_type": "stream",
     "text": [
      "\r 95%|█████████▍| 108672/114911 [01:25<00:04, 1268.65it/s]"
     ]
    },
    {
     "name": "stderr",
     "output_type": "stream",
     "text": [
      "\r 95%|█████████▍| 108821/114911 [01:25<00:04, 1268.74it/s]"
     ]
    },
    {
     "name": "stderr",
     "output_type": "stream",
     "text": [
      "\r 95%|█████████▍| 108982/114911 [01:25<00:04, 1269.12it/s]"
     ]
    },
    {
     "name": "stderr",
     "output_type": "stream",
     "text": [
      "\r 95%|█████████▍| 109158/114911 [01:25<00:04, 1269.69it/s]"
     ]
    },
    {
     "name": "stderr",
     "output_type": "stream",
     "text": [
      "\r 95%|█████████▌| 109327/114911 [01:26<00:04, 1270.16it/s]"
     ]
    },
    {
     "name": "stderr",
     "output_type": "stream",
     "text": [
      "\r 95%|█████████▌| 109487/114911 [01:26<00:04, 1270.37it/s]"
     ]
    },
    {
     "name": "stderr",
     "output_type": "stream",
     "text": [
      "\r 95%|█████████▌| 109642/114911 [01:26<00:04, 1270.20it/s]"
     ]
    },
    {
     "name": "stderr",
     "output_type": "stream",
     "text": [
      "\r 96%|█████████▌| 109786/114911 [01:26<00:04, 1270.20it/s]"
     ]
    },
    {
     "name": "stderr",
     "output_type": "stream",
     "text": [
      "\r 96%|█████████▌| 109925/114911 [01:26<00:03, 1270.08it/s]"
     ]
    },
    {
     "name": "stderr",
     "output_type": "stream",
     "text": [
      "\r 96%|█████████▌| 110058/114911 [01:26<00:03, 1269.99it/s]"
     ]
    },
    {
     "name": "stderr",
     "output_type": "stream",
     "text": [
      "\r 96%|█████████▌| 110219/114911 [01:26<00:03, 1270.38it/s]"
     ]
    },
    {
     "name": "stderr",
     "output_type": "stream",
     "text": [
      "\r 96%|█████████▌| 110398/114911 [01:26<00:03, 1270.96it/s]"
     ]
    },
    {
     "name": "stderr",
     "output_type": "stream",
     "text": [
      "\r 96%|█████████▌| 110565/114911 [01:26<00:03, 1271.42it/s]"
     ]
    },
    {
     "name": "stderr",
     "output_type": "stream",
     "text": [
      "\r 96%|█████████▋| 110750/114911 [01:27<00:03, 1272.08it/s]"
     ]
    },
    {
     "name": "stderr",
     "output_type": "stream",
     "text": [
      "\r 97%|█████████▋| 110934/114911 [01:27<00:03, 1272.72it/s]"
     ]
    },
    {
     "name": "stderr",
     "output_type": "stream",
     "text": [
      "\r 97%|█████████▋| 111113/114911 [01:27<00:02, 1273.30it/s]"
     ]
    },
    {
     "name": "stderr",
     "output_type": "stream",
     "text": [
      "\r 97%|█████████▋| 111305/114911 [01:27<00:02, 1274.04it/s]"
     ]
    },
    {
     "name": "stderr",
     "output_type": "stream",
     "text": [
      "\r 97%|█████████▋| 111483/114911 [01:27<00:02, 1274.59it/s]"
     ]
    },
    {
     "name": "stderr",
     "output_type": "stream",
     "text": [
      "\r 97%|█████████▋| 111674/114911 [01:27<00:02, 1275.30it/s]"
     ]
    },
    {
     "name": "stderr",
     "output_type": "stream",
     "text": [
      "\r 97%|█████████▋| 111855/114911 [01:27<00:02, 1275.87it/s]"
     ]
    },
    {
     "name": "stderr",
     "output_type": "stream",
     "text": [
      "\r 97%|█████████▋| 112035/114911 [01:27<00:02, 1276.31it/s]"
     ]
    },
    {
     "name": "stderr",
     "output_type": "stream",
     "text": [
      "\r 98%|█████████▊| 112210/114911 [01:27<00:02, 1276.75it/s]"
     ]
    },
    {
     "name": "stderr",
     "output_type": "stream",
     "text": [
      "\r 98%|█████████▊| 112383/114911 [01:27<00:01, 1277.25it/s]"
     ]
    },
    {
     "name": "stderr",
     "output_type": "stream",
     "text": [
      "\r 98%|█████████▊| 112564/114911 [01:28<00:01, 1277.85it/s]"
     ]
    },
    {
     "name": "stderr",
     "output_type": "stream",
     "text": [
      "\r 98%|█████████▊| 112738/114911 [01:28<00:01, 1278.32it/s]"
     ]
    },
    {
     "name": "stderr",
     "output_type": "stream",
     "text": [
      "\r 98%|█████████▊| 112920/114911 [01:28<00:01, 1278.93it/s]"
     ]
    },
    {
     "name": "stderr",
     "output_type": "stream",
     "text": [
      "\r 98%|█████████▊| 113096/114911 [01:28<00:01, 1279.43it/s]"
     ]
    },
    {
     "name": "stderr",
     "output_type": "stream",
     "text": [
      "\r 99%|█████████▊| 113270/114911 [01:28<00:01, 1279.73it/s]"
     ]
    },
    {
     "name": "stderr",
     "output_type": "stream",
     "text": [
      "\r 99%|█████████▊| 113437/114911 [01:28<00:01, 1279.38it/s]"
     ]
    },
    {
     "name": "stderr",
     "output_type": "stream",
     "text": [
      "\r 99%|█████████▉| 113608/114911 [01:28<00:01, 1279.86it/s]"
     ]
    },
    {
     "name": "stderr",
     "output_type": "stream",
     "text": [
      "\r 99%|█████████▉| 113764/114911 [01:28<00:00, 1279.99it/s]"
     ]
    },
    {
     "name": "stderr",
     "output_type": "stream",
     "text": [
      "\r 99%|█████████▉| 113915/114911 [01:29<00:00, 1279.75it/s]"
     ]
    },
    {
     "name": "stderr",
     "output_type": "stream",
     "text": [
      "\r 99%|█████████▉| 114087/114911 [01:29<00:00, 1280.23it/s]"
     ]
    },
    {
     "name": "stderr",
     "output_type": "stream",
     "text": [
      "\r 99%|█████████▉| 114236/114911 [01:29<00:00, 1280.34it/s]"
     ]
    },
    {
     "name": "stderr",
     "output_type": "stream",
     "text": [
      "\r100%|█████████▉| 114382/114911 [01:29<00:00, 1280.08it/s]"
     ]
    },
    {
     "name": "stderr",
     "output_type": "stream",
     "text": [
      "\r100%|█████████▉| 114532/114911 [01:29<00:00, 1280.31it/s]"
     ]
    },
    {
     "name": "stderr",
     "output_type": "stream",
     "text": [
      "\r100%|█████████▉| 114708/114911 [01:29<00:00, 1280.84it/s]"
     ]
    },
    {
     "name": "stderr",
     "output_type": "stream",
     "text": [
      "\r100%|█████████▉| 114884/114911 [01:29<00:00, 1281.36it/s]"
     ]
    },
    {
     "name": "stderr",
     "output_type": "stream",
     "text": [
      "\r100%|██████████| 114911/114911 [01:29<00:00, 1281.38it/s]"
     ]
    },
    {
     "name": "stderr",
     "output_type": "stream",
     "text": [
      "\n"
     ]
    }
   ],
   "source": [
    "def count_unique_tokens_in_tweets(tweets):\n",
    "    for _, tweet_series in tqdm(tweets.iterrows(), total=len(tweets)):\n",
    "        tweet = tweet_series[3]\n",
    "        tokens = tokenizer.tokenize(tweet)\n",
    "        for token in tokens:\n",
    "            stem = get_stem(token)\n",
    "            stem_count[stem] += 1\n",
    "\n",
    "count_unique_tokens_in_tweets(negative_tweets)\n",
    "count_unique_tokens_in_tweets(positive_tweets)\n"
   ]
  },
  {
   "cell_type": "code",
   "execution_count": 6,
   "metadata": {},
   "outputs": [
    {
     "name": "stdout",
     "output_type": "stream",
     "text": [
      "Total unique stems found: "
     ]
    },
    {
     "name": "stdout",
     "output_type": "stream",
     "text": [
      " "
     ]
    },
    {
     "name": "stdout",
     "output_type": "stream",
     "text": [
      "91780"
     ]
    },
    {
     "name": "stdout",
     "output_type": "stream",
     "text": [
      "\n"
     ]
    },
    {
     "name": "stdout",
     "output_type": "stream",
     "text": [
      "['', 'не', 'я', 'и', 'в', 'на', 'а', 'что', 'так', 'с', 'эт', 'как', 'у', 'мен', 'мне', 'все', 'но', 'он', 'ты', 'теб', 'ну', 'мо', 'то', 'уж', 'по', 'был', 'ещ', 'за', 'да', 'вот', 'же', 'тольк', 'нет', 'сегодн', 'о', 'прост', 'бы', 'над', 'когд', 'хоч', 'очен', 'к', 'сам', 'ден', 'будет', 'мы', 'от', 'хорош', 'из', 'есл', 'тепер', 'тож', 'буд', 'сво', 'год', 'даж', 'завтр', 'нов', 'дом', 'до', 'там', 'ест', 'вообщ', 'ег', 'вс', 'дела', 'пот', 'одн', 'для', 'больш', 'хот', 'спасиб', 'мог', 'сейчас', 'е', 'себ', 'нас', 'блин', 'раз', 'кто', 'дума', 'утр', 'котор', 'любл', 'поч', 'зна', 'говор', 'лучш', 'нич', 'без', 'ил', 'вы', 'друг', 'тут', 'чтоб', 'всем', 'бол', 'люд', 'сдела', 'сказа']"
     ]
    },
    {
     "name": "stdout",
     "output_type": "stream",
     "text": [
      "\n"
     ]
    },
    {
     "name": "stdout",
     "output_type": "stream",
     "text": [
      "stem: я, count: 66045"
     ]
    },
    {
     "name": "stdout",
     "output_type": "stream",
     "text": [
      "\n"
     ]
    },
    {
     "name": "stdout",
     "output_type": "stream",
     "text": [
      "99"
     ]
    },
    {
     "name": "stdout",
     "output_type": "stream",
     "text": [
      "\n"
     ]
    }
   ],
   "source": [
    "print(\"Total unique stems found: \", len(stem_count))\n",
    "\n",
    "vocab = sorted(stem_count, key=stem_count.get, reverse=True)[:VOCAB_SIZE]\n",
    "print(vocab[:100])\n",
    "\n",
    "idx = 2\n",
    "print(\"stem: {}, count: {}\"\n",
    "      .format(vocab[idx], stem_count.get(vocab[idx])))\n",
    "\n",
    "token_2_idx = {vocab[i]: i for i in range(VOCAB_SIZE)}\n",
    "len(token_2_idx)\n",
    "\n",
    "print(token_2_idx['сказа'])\n"
   ]
  },
  {
   "cell_type": "code",
   "execution_count": 7,
   "metadata": {},
   "outputs": [
    {
     "name": "stdout",
     "output_type": "stream",
     "text": [
      "tweet: Коллеги сидят рубятся в Urban terror, а я из-за долбанной винды не могу :("
     ]
    },
    {
     "name": "stdout",
     "output_type": "stream",
     "text": [
      "\n"
     ]
    },
    {
     "name": "stdout",
     "output_type": "stream",
     "text": [
      "vector: [1 1 1 0 1 0 1 0 0 0]"
     ]
    },
    {
     "name": "stdout",
     "output_type": "stream",
     "text": [
      "\n"
     ]
    },
    {
     "name": "stdout",
     "output_type": "stream",
     "text": [
      "на"
     ]
    },
    {
     "name": "stdout",
     "output_type": "stream",
     "text": [
      "\n"
     ]
    }
   ],
   "source": [
    "def tweet_to_vector(tweet, show_unknowns=False):\n",
    "    vector = np.zeros(VOCAB_SIZE, dtype=np.int_)\n",
    "    for token in tokenizer.tokenize(tweet):\n",
    "        stem = get_stem(token)\n",
    "        idx = token_2_idx.get(stem, None)\n",
    "        if idx is not None:\n",
    "            vector[idx] = 1\n",
    "        elif show_unknowns:\n",
    "            print(\"Unknown token: {}\".format(token))\n",
    "    return vector\n",
    "\n",
    "\n",
    "tweet = negative_tweets.iloc[1][3]\n",
    "print(\"tweet: {}\".format(tweet))\n",
    "print(\"vector: {}\".format(tweet_to_vector(tweet)[:10]))\n",
    "print(vocab[5])\n",
    "\n",
    "tweet_vectors = np.zeros(\n",
    "    (len(negative_tweets) + len(positive_tweets), VOCAB_SIZE),\n",
    "    dtype=np.int_)"
   ]
  },
  {
   "cell_type": "code",
   "execution_count": 8,
   "metadata": {},
   "outputs": [
    {
     "name": "stderr",
     "output_type": "stream",
     "text": [
      "\r  0%|          | 0/111923 [00:00<?, ?it/s]"
     ]
    },
    {
     "name": "stderr",
     "output_type": "stream",
     "text": [
      "\r  0%|          | 92/111923 [00:00<02:02, 912.71it/s]"
     ]
    },
    {
     "name": "stderr",
     "output_type": "stream",
     "text": [
      "\r  0%|          | 190/111923 [00:00<01:58, 942.55it/s]"
     ]
    },
    {
     "name": "stderr",
     "output_type": "stream",
     "text": [
      "\r  0%|          | 276/111923 [00:00<02:16, 820.82it/s]"
     ]
    },
    {
     "name": "stderr",
     "output_type": "stream",
     "text": [
      "\r  0%|          | 361/111923 [00:00<02:15, 826.06it/s]"
     ]
    },
    {
     "name": "stderr",
     "output_type": "stream",
     "text": [
      "\r  0%|          | 453/111923 [00:00<02:12, 842.28it/s]"
     ]
    },
    {
     "name": "stderr",
     "output_type": "stream",
     "text": [
      "\r  0%|          | 554/111923 [00:00<02:08, 867.48it/s]"
     ]
    },
    {
     "name": "stderr",
     "output_type": "stream",
     "text": [
      "\r  1%|          | 649/111923 [00:00<02:06, 877.72it/s]"
     ]
    },
    {
     "name": "stderr",
     "output_type": "stream",
     "text": [
      "\r  1%|          | 744/111923 [00:00<02:05, 884.47it/s]"
     ]
    },
    {
     "name": "stderr",
     "output_type": "stream",
     "text": [
      "\r  1%|          | 842/111923 [00:00<02:04, 893.88it/s]"
     ]
    },
    {
     "name": "stderr",
     "output_type": "stream",
     "text": [
      "\r  1%|          | 942/111923 [00:01<02:02, 903.37it/s]"
     ]
    },
    {
     "name": "stderr",
     "output_type": "stream",
     "text": [
      "\r  1%|          | 1035/111923 [00:01<02:02, 903.53it/s]"
     ]
    },
    {
     "name": "stderr",
     "output_type": "stream",
     "text": [
      "\r  1%|          | 1128/111923 [00:01<02:03, 900.02it/s]"
     ]
    },
    {
     "name": "stderr",
     "output_type": "stream",
     "text": [
      "\r  1%|          | 1227/111923 [00:01<02:02, 906.13it/s]"
     ]
    },
    {
     "name": "stderr",
     "output_type": "stream",
     "text": [
      "\r  1%|          | 1320/111923 [00:01<02:02, 904.81it/s]"
     ]
    },
    {
     "name": "stderr",
     "output_type": "stream",
     "text": [
      "\r  1%|▏         | 1412/111923 [00:01<02:02, 901.30it/s]"
     ]
    },
    {
     "name": "stderr",
     "output_type": "stream",
     "text": [
      "\r  1%|▏         | 1511/111923 [00:01<02:01, 906.20it/s]"
     ]
    },
    {
     "name": "stderr",
     "output_type": "stream",
     "text": [
      "\r  1%|▏         | 1610/111923 [00:01<02:01, 910.55it/s]"
     ]
    },
    {
     "name": "stderr",
     "output_type": "stream",
     "text": [
      "\r  2%|▏         | 1718/111923 [00:01<01:59, 919.24it/s]"
     ]
    },
    {
     "name": "stderr",
     "output_type": "stream",
     "text": [
      "\r  2%|▏         | 1816/111923 [00:01<01:59, 918.24it/s]"
     ]
    },
    {
     "name": "stderr",
     "output_type": "stream",
     "text": [
      "\r  2%|▏         | 1912/111923 [00:02<01:59, 919.03it/s]"
     ]
    },
    {
     "name": "stderr",
     "output_type": "stream",
     "text": [
      "\r  2%|▏         | 2007/111923 [00:02<02:00, 915.11it/s]"
     ]
    },
    {
     "name": "stderr",
     "output_type": "stream",
     "text": [
      "\r  2%|▏         | 2114/111923 [00:02<01:59, 921.55it/s]"
     ]
    },
    {
     "name": "stderr",
     "output_type": "stream",
     "text": [
      "\r  2%|▏         | 2211/111923 [00:02<01:59, 921.35it/s]"
     ]
    },
    {
     "name": "stderr",
     "output_type": "stream",
     "text": [
      "\r  2%|▏         | 2306/111923 [00:02<01:59, 919.64it/s]"
     ]
    },
    {
     "name": "stderr",
     "output_type": "stream",
     "text": [
      "\r  2%|▏         | 2409/111923 [00:02<01:58, 923.61it/s]"
     ]
    },
    {
     "name": "stderr",
     "output_type": "stream",
     "text": [
      "\r  2%|▏         | 2505/111923 [00:02<01:59, 917.57it/s]"
     ]
    },
    {
     "name": "stderr",
     "output_type": "stream",
     "text": [
      "\r  2%|▏         | 2600/111923 [00:02<01:59, 918.47it/s]"
     ]
    },
    {
     "name": "stderr",
     "output_type": "stream",
     "text": [
      "\r  2%|▏         | 2706/111923 [00:02<01:58, 922.74it/s]"
     ]
    },
    {
     "name": "stderr",
     "output_type": "stream",
     "text": [
      "\r  3%|▎         | 2802/111923 [00:03<01:58, 921.31it/s]"
     ]
    },
    {
     "name": "stderr",
     "output_type": "stream",
     "text": [
      "\r  3%|▎         | 2910/111923 [00:03<01:57, 926.15it/s]"
     ]
    },
    {
     "name": "stderr",
     "output_type": "stream",
     "text": [
      "\r  3%|▎         | 3019/111923 [00:03<01:57, 930.71it/s]"
     ]
    },
    {
     "name": "stderr",
     "output_type": "stream",
     "text": [
      "\r  3%|▎         | 3132/111923 [00:03<01:56, 936.46it/s]"
     ]
    },
    {
     "name": "stderr",
     "output_type": "stream",
     "text": [
      "\r  3%|▎         | 3239/111923 [00:03<01:55, 940.14it/s]"
     ]
    },
    {
     "name": "stderr",
     "output_type": "stream",
     "text": [
      "\r  3%|▎         | 3344/111923 [00:03<01:55, 943.04it/s]"
     ]
    },
    {
     "name": "stderr",
     "output_type": "stream",
     "text": [
      "\r  3%|▎         | 3449/111923 [00:03<01:54, 945.52it/s]"
     ]
    },
    {
     "name": "stderr",
     "output_type": "stream",
     "text": [
      "\r  3%|▎         | 3568/111923 [00:03<01:53, 951.84it/s]"
     ]
    },
    {
     "name": "stderr",
     "output_type": "stream",
     "text": [
      "\r  3%|▎         | 3755/111923 [00:03<01:50, 975.66it/s]"
     ]
    },
    {
     "name": "stderr",
     "output_type": "stream",
     "text": [
      "\r  4%|▎         | 3955/111923 [00:03<01:47, 1001.36it/s]"
     ]
    },
    {
     "name": "stderr",
     "output_type": "stream",
     "text": [
      "\r  4%|▎         | 4144/111923 [00:04<01:45, 1023.10it/s]"
     ]
    },
    {
     "name": "stderr",
     "output_type": "stream",
     "text": [
      "\r  4%|▍         | 4340/111923 [00:04<01:42, 1045.48it/s]"
     ]
    },
    {
     "name": "stderr",
     "output_type": "stream",
     "text": [
      "\r  4%|▍         | 4513/111923 [00:04<01:41, 1061.14it/s]"
     ]
    },
    {
     "name": "stderr",
     "output_type": "stream",
     "text": [
      "\r  4%|▍         | 4699/111923 [00:04<01:39, 1079.29it/s]"
     ]
    },
    {
     "name": "stderr",
     "output_type": "stream",
     "text": [
      "\r  4%|▍         | 4875/111923 [00:04<01:38, 1086.00it/s]"
     ]
    },
    {
     "name": "stderr",
     "output_type": "stream",
     "text": [
      "\r  5%|▍         | 5064/111923 [00:04<01:36, 1103.45it/s]"
     ]
    },
    {
     "name": "stderr",
     "output_type": "stream",
     "text": [
      "\r  5%|▍         | 5238/111923 [00:04<01:35, 1116.58it/s]"
     ]
    },
    {
     "name": "stderr",
     "output_type": "stream",
     "text": [
      "\r  5%|▍         | 5419/111923 [00:04<01:34, 1130.96it/s]"
     ]
    },
    {
     "name": "stderr",
     "output_type": "stream",
     "text": [
      "\r  5%|▍         | 5593/111923 [00:04<01:33, 1140.09it/s]"
     ]
    },
    {
     "name": "stderr",
     "output_type": "stream",
     "text": [
      "\r  5%|▌         | 5788/111923 [00:05<01:31, 1156.19it/s]"
     ]
    },
    {
     "name": "stderr",
     "output_type": "stream",
     "text": [
      "\r  5%|▌         | 5992/111923 [00:05<01:30, 1173.43it/s]"
     ]
    },
    {
     "name": "stderr",
     "output_type": "stream",
     "text": [
      "\r  6%|▌         | 6187/111923 [00:05<01:28, 1188.25it/s]"
     ]
    },
    {
     "name": "stderr",
     "output_type": "stream",
     "text": [
      "\r  6%|▌         | 6379/111923 [00:05<01:27, 1201.88it/s]"
     ]
    },
    {
     "name": "stderr",
     "output_type": "stream",
     "text": [
      "\r  6%|▌         | 6567/111923 [00:05<01:27, 1209.60it/s]"
     ]
    },
    {
     "name": "stderr",
     "output_type": "stream",
     "text": [
      "\r  6%|▌         | 6745/111923 [00:05<01:26, 1219.67it/s]"
     ]
    },
    {
     "name": "stderr",
     "output_type": "stream",
     "text": [
      "\r  6%|▌         | 6936/111923 [00:05<01:25, 1231.90it/s]"
     ]
    },
    {
     "name": "stderr",
     "output_type": "stream",
     "text": [
      "\r  6%|▋         | 7146/111923 [00:05<01:24, 1246.84it/s]"
     ]
    },
    {
     "name": "stderr",
     "output_type": "stream",
     "text": [
      "\r  7%|▋         | 7336/111923 [00:05<01:23, 1253.22it/s]"
     ]
    },
    {
     "name": "stderr",
     "output_type": "stream",
     "text": [
      "\r  7%|▋         | 7516/111923 [00:05<01:22, 1258.24it/s]"
     ]
    },
    {
     "name": "stderr",
     "output_type": "stream",
     "text": [
      "\r  7%|▋         | 7692/111923 [00:06<01:22, 1266.34it/s]"
     ]
    },
    {
     "name": "stderr",
     "output_type": "stream",
     "text": [
      "\r  7%|▋         | 7888/111923 [00:06<01:21, 1277.40it/s]"
     ]
    },
    {
     "name": "stderr",
     "output_type": "stream",
     "text": [
      "\r  7%|▋         | 8081/111923 [00:06<01:20, 1287.71it/s]"
     ]
    },
    {
     "name": "stderr",
     "output_type": "stream",
     "text": [
      "\r  7%|▋         | 8265/111923 [00:06<01:19, 1296.37it/s]"
     ]
    },
    {
     "name": "stderr",
     "output_type": "stream",
     "text": [
      "\r  8%|▊         | 8449/111923 [00:06<01:19, 1303.60it/s]"
     ]
    },
    {
     "name": "stderr",
     "output_type": "stream",
     "text": [
      "\r  8%|▊         | 8630/111923 [00:06<01:19, 1304.85it/s]"
     ]
    },
    {
     "name": "stderr",
     "output_type": "stream",
     "text": [
      "\r  8%|▊         | 8800/111923 [00:06<01:18, 1310.89it/s]"
     ]
    },
    {
     "name": "stderr",
     "output_type": "stream",
     "text": [
      "\r  8%|▊         | 8978/111923 [00:06<01:18, 1317.63it/s]"
     ]
    },
    {
     "name": "stderr",
     "output_type": "stream",
     "text": [
      "\r  8%|▊         | 9149/111923 [00:06<01:17, 1321.15it/s]"
     ]
    },
    {
     "name": "stderr",
     "output_type": "stream",
     "text": [
      "\r  8%|▊         | 9315/111923 [00:07<01:17, 1325.44it/s]"
     ]
    },
    {
     "name": "stderr",
     "output_type": "stream",
     "text": [
      "\r  8%|▊         | 9496/111923 [00:07<01:16, 1331.91it/s]"
     ]
    },
    {
     "name": "stderr",
     "output_type": "stream",
     "text": [
      "\r  9%|▊         | 9669/111923 [00:07<01:16, 1337.26it/s]"
     ]
    },
    {
     "name": "stderr",
     "output_type": "stream",
     "text": [
      "\r  9%|▉         | 9860/111923 [00:07<01:15, 1344.93it/s]"
     ]
    },
    {
     "name": "stderr",
     "output_type": "stream",
     "text": [
      "\r  9%|▉         | 10052/111923 [00:07<01:15, 1352.52it/s]"
     ]
    },
    {
     "name": "stderr",
     "output_type": "stream",
     "text": [
      "\r  9%|▉         | 10232/111923 [00:07<01:14, 1356.07it/s]"
     ]
    },
    {
     "name": "stderr",
     "output_type": "stream",
     "text": [
      "\r  9%|▉         | 10406/111923 [00:07<01:14, 1357.31it/s]"
     ]
    },
    {
     "name": "stderr",
     "output_type": "stream",
     "text": [
      "\r  9%|▉         | 10588/111923 [00:07<01:14, 1363.10it/s]"
     ]
    },
    {
     "name": "stderr",
     "output_type": "stream",
     "text": [
      "\r 10%|▉         | 10793/111923 [00:07<01:13, 1371.78it/s]"
     ]
    },
    {
     "name": "stderr",
     "output_type": "stream",
     "text": [
      "\r 10%|▉         | 10973/111923 [00:07<01:13, 1376.80it/s]"
     ]
    },
    {
     "name": "stderr",
     "output_type": "stream",
     "text": [
      "\r 10%|▉         | 11152/111923 [00:08<01:13, 1380.10it/s]"
     ]
    },
    {
     "name": "stderr",
     "output_type": "stream",
     "text": [
      "\r 10%|█         | 11346/111923 [00:08<01:12, 1386.81it/s]"
     ]
    },
    {
     "name": "stderr",
     "output_type": "stream",
     "text": [
      "\r 10%|█         | 11526/111923 [00:08<01:12, 1390.59it/s]"
     ]
    },
    {
     "name": "stderr",
     "output_type": "stream",
     "text": [
      "\r 10%|█         | 11702/111923 [00:08<01:11, 1394.45it/s]"
     ]
    },
    {
     "name": "stderr",
     "output_type": "stream",
     "text": [
      "\r 11%|█         | 11877/111923 [00:08<01:11, 1397.80it/s]"
     ]
    },
    {
     "name": "stderr",
     "output_type": "stream",
     "text": [
      "\r 11%|█         | 12049/111923 [00:08<01:11, 1400.77it/s]"
     ]
    },
    {
     "name": "stderr",
     "output_type": "stream",
     "text": [
      "\r 11%|█         | 12240/111923 [00:08<01:10, 1406.45it/s]"
     ]
    },
    {
     "name": "stderr",
     "output_type": "stream",
     "text": [
      "\r 11%|█         | 12423/111923 [00:08<01:10, 1411.17it/s]"
     ]
    },
    {
     "name": "stderr",
     "output_type": "stream",
     "text": [
      "\r 11%|█▏        | 12605/111923 [00:08<01:10, 1415.58it/s]"
     ]
    },
    {
     "name": "stderr",
     "output_type": "stream",
     "text": [
      "\r 11%|█▏        | 12784/111923 [00:09<01:09, 1418.65it/s]"
     ]
    },
    {
     "name": "stderr",
     "output_type": "stream",
     "text": [
      "\r 12%|█▏        | 12959/111923 [00:09<01:09, 1418.60it/s]"
     ]
    },
    {
     "name": "stderr",
     "output_type": "stream",
     "text": [
      "\r 12%|█▏        | 13124/111923 [00:09<01:09, 1420.81it/s]"
     ]
    },
    {
     "name": "stderr",
     "output_type": "stream",
     "text": [
      "\r 12%|█▏        | 13301/111923 [00:09<01:09, 1424.41it/s]"
     ]
    },
    {
     "name": "stderr",
     "output_type": "stream",
     "text": [
      "\r 12%|█▏        | 13492/111923 [00:09<01:08, 1429.44it/s]"
     ]
    },
    {
     "name": "stderr",
     "output_type": "stream",
     "text": [
      "\r 12%|█▏        | 13667/111923 [00:09<01:08, 1431.85it/s]"
     ]
    },
    {
     "name": "stderr",
     "output_type": "stream",
     "text": [
      "\r 12%|█▏        | 13851/111923 [00:09<01:08, 1435.96it/s]"
     ]
    },
    {
     "name": "stderr",
     "output_type": "stream",
     "text": [
      "\r 13%|█▎        | 14026/111923 [00:09<01:08, 1436.83it/s]"
     ]
    },
    {
     "name": "stderr",
     "output_type": "stream",
     "text": [
      "\r 13%|█▎        | 14194/111923 [00:09<01:07, 1437.45it/s]"
     ]
    },
    {
     "name": "stderr",
     "output_type": "stream",
     "text": [
      "\r 13%|█▎        | 14359/111923 [00:09<01:07, 1439.48it/s]"
     ]
    },
    {
     "name": "stderr",
     "output_type": "stream",
     "text": [
      "\r 13%|█▎        | 14550/111923 [00:10<01:07, 1444.04it/s]"
     ]
    },
    {
     "name": "stderr",
     "output_type": "stream",
     "text": [
      "\r 13%|█▎        | 14743/111923 [00:10<01:07, 1448.67it/s]"
     ]
    },
    {
     "name": "stderr",
     "output_type": "stream",
     "text": [
      "\r 13%|█▎        | 14920/111923 [00:10<01:06, 1451.12it/s]"
     ]
    },
    {
     "name": "stderr",
     "output_type": "stream",
     "text": [
      "\r 13%|█▎        | 15105/111923 [00:10<01:06, 1454.85it/s]"
     ]
    },
    {
     "name": "stderr",
     "output_type": "stream",
     "text": [
      "\r 14%|█▎        | 15308/111923 [00:10<01:06, 1460.23it/s]"
     ]
    },
    {
     "name": "stderr",
     "output_type": "stream",
     "text": [
      "\r 14%|█▍        | 15493/111923 [00:10<01:05, 1463.12it/s]"
     ]
    },
    {
     "name": "stderr",
     "output_type": "stream",
     "text": [
      "\r 14%|█▍        | 15683/111923 [00:10<01:05, 1467.10it/s]"
     ]
    },
    {
     "name": "stderr",
     "output_type": "stream",
     "text": [
      "\r 14%|█▍        | 15889/111923 [00:10<01:05, 1472.49it/s]"
     ]
    },
    {
     "name": "stderr",
     "output_type": "stream",
     "text": [
      "\r 14%|█▍        | 16079/111923 [00:10<01:04, 1475.37it/s]"
     ]
    },
    {
     "name": "stderr",
     "output_type": "stream",
     "text": [
      "\r 15%|█▍        | 16277/111923 [00:10<01:04, 1479.86it/s]"
     ]
    },
    {
     "name": "stderr",
     "output_type": "stream",
     "text": [
      "\r 15%|█▍        | 16475/111923 [00:11<01:04, 1484.26it/s]"
     ]
    },
    {
     "name": "stderr",
     "output_type": "stream",
     "text": [
      "\r 15%|█▍        | 16667/111923 [00:11<01:04, 1487.39it/s]"
     ]
    },
    {
     "name": "stderr",
     "output_type": "stream",
     "text": [
      "\r 15%|█▌        | 16863/111923 [00:11<01:03, 1491.46it/s]"
     ]
    },
    {
     "name": "stderr",
     "output_type": "stream",
     "text": [
      "\r 15%|█▌        | 17058/111923 [00:11<01:03, 1495.36it/s]"
     ]
    },
    {
     "name": "stderr",
     "output_type": "stream",
     "text": [
      "\r 15%|█▌        | 17250/111923 [00:11<01:03, 1497.73it/s]"
     ]
    },
    {
     "name": "stderr",
     "output_type": "stream",
     "text": [
      "\r 16%|█▌        | 17437/111923 [00:11<01:03, 1498.30it/s]"
     ]
    },
    {
     "name": "stderr",
     "output_type": "stream",
     "text": [
      "\r 16%|█▌        | 17614/111923 [00:11<01:02, 1500.44it/s]"
     ]
    },
    {
     "name": "stderr",
     "output_type": "stream",
     "text": [
      "\r 16%|█▌        | 17791/111923 [00:11<01:02, 1496.43it/s]"
     ]
    },
    {
     "name": "stderr",
     "output_type": "stream",
     "text": [
      "\r 16%|█▌        | 17951/111923 [00:11<01:02, 1497.21it/s]"
     ]
    },
    {
     "name": "stderr",
     "output_type": "stream",
     "text": [
      "\r 16%|█▌        | 18110/111923 [00:12<01:02, 1497.02it/s]"
     ]
    },
    {
     "name": "stderr",
     "output_type": "stream",
     "text": [
      "\r 16%|█▋        | 18266/111923 [00:12<01:02, 1496.71it/s]"
     ]
    },
    {
     "name": "stderr",
     "output_type": "stream",
     "text": [
      "\r 16%|█▋        | 18419/111923 [00:12<01:02, 1495.20it/s]"
     ]
    },
    {
     "name": "stderr",
     "output_type": "stream",
     "text": [
      "\r 17%|█▋        | 18569/111923 [00:12<01:02, 1495.15it/s]"
     ]
    },
    {
     "name": "stderr",
     "output_type": "stream",
     "text": [
      "\r 17%|█▋        | 18764/111923 [00:12<01:02, 1498.69it/s]"
     ]
    },
    {
     "name": "stderr",
     "output_type": "stream",
     "text": [
      "\r 17%|█▋        | 18941/111923 [00:12<01:01, 1500.78it/s]"
     ]
    },
    {
     "name": "stderr",
     "output_type": "stream",
     "text": [
      "\r 17%|█▋        | 19107/111923 [00:12<01:01, 1500.51it/s]"
     ]
    },
    {
     "name": "stderr",
     "output_type": "stream",
     "text": [
      "\r 17%|█▋        | 19268/111923 [00:12<01:01, 1500.39it/s]"
     ]
    },
    {
     "name": "stderr",
     "output_type": "stream",
     "text": [
      "\r 17%|█▋        | 19443/111923 [00:12<01:01, 1501.77it/s]"
     ]
    },
    {
     "name": "stderr",
     "output_type": "stream",
     "text": [
      "\r 18%|█▊        | 19615/111923 [00:13<01:01, 1503.36it/s]"
     ]
    },
    {
     "name": "stderr",
     "output_type": "stream",
     "text": [
      "\r 18%|█▊        | 19779/111923 [00:13<01:01, 1503.86it/s]"
     ]
    },
    {
     "name": "stderr",
     "output_type": "stream",
     "text": [
      "\r 18%|█▊        | 19941/111923 [00:13<01:01, 1500.14it/s]"
     ]
    },
    {
     "name": "stderr",
     "output_type": "stream",
     "text": [
      "\r 18%|█▊        | 20134/111923 [00:13<01:01, 1503.32it/s]"
     ]
    },
    {
     "name": "stderr",
     "output_type": "stream",
     "text": [
      "\r 18%|█▊        | 20295/111923 [00:13<01:00, 1502.36it/s]"
     ]
    },
    {
     "name": "stderr",
     "output_type": "stream",
     "text": [
      "\r 18%|█▊        | 20470/111923 [00:13<01:00, 1504.10it/s]"
     ]
    },
    {
     "name": "stderr",
     "output_type": "stream",
     "text": [
      "\r 18%|█▊        | 20631/111923 [00:13<01:00, 1502.39it/s]"
     ]
    },
    {
     "name": "stderr",
     "output_type": "stream",
     "text": [
      "\r 19%|█▊        | 20788/111923 [00:13<01:00, 1502.81it/s]"
     ]
    },
    {
     "name": "stderr",
     "output_type": "stream",
     "text": [
      "\r 19%|█▊        | 20971/111923 [00:13<01:00, 1505.08it/s]"
     ]
    },
    {
     "name": "stderr",
     "output_type": "stream",
     "text": [
      "\r 19%|█▉        | 21155/111923 [00:14<01:00, 1507.39it/s]"
     ]
    },
    {
     "name": "stderr",
     "output_type": "stream",
     "text": [
      "\r 19%|█▉        | 21344/111923 [00:14<00:59, 1510.02it/s]"
     ]
    },
    {
     "name": "stderr",
     "output_type": "stream",
     "text": [
      "\r 19%|█▉        | 21518/111923 [00:14<00:59, 1510.68it/s]"
     ]
    },
    {
     "name": "stderr",
     "output_type": "stream",
     "text": [
      "\r 19%|█▉        | 21688/111923 [00:14<00:59, 1511.08it/s]"
     ]
    },
    {
     "name": "stderr",
     "output_type": "stream",
     "text": [
      "\r 20%|█▉        | 21854/111923 [00:14<00:59, 1510.97it/s]"
     ]
    },
    {
     "name": "stderr",
     "output_type": "stream",
     "text": [
      "\r 20%|█▉        | 22015/111923 [00:14<00:59, 1509.14it/s]"
     ]
    },
    {
     "name": "stderr",
     "output_type": "stream",
     "text": [
      "\r 20%|█▉        | 22167/111923 [00:14<00:59, 1506.88it/s]"
     ]
    },
    {
     "name": "stderr",
     "output_type": "stream",
     "text": [
      "\r 20%|█▉        | 22328/111923 [00:14<00:59, 1507.50it/s]"
     ]
    },
    {
     "name": "stderr",
     "output_type": "stream",
     "text": [
      "\r 20%|██        | 22522/111923 [00:14<00:59, 1510.33it/s]"
     ]
    },
    {
     "name": "stderr",
     "output_type": "stream",
     "text": [
      "\r 20%|██        | 22684/111923 [00:15<00:59, 1508.78it/s]"
     ]
    },
    {
     "name": "stderr",
     "output_type": "stream",
     "text": [
      "\r 20%|██        | 22850/111923 [00:15<00:59, 1509.70it/s]"
     ]
    },
    {
     "name": "stderr",
     "output_type": "stream",
     "text": [
      "\r 21%|██        | 23027/111923 [00:15<00:58, 1511.34it/s]"
     ]
    },
    {
     "name": "stderr",
     "output_type": "stream",
     "text": [
      "\r 21%|██        | 23190/111923 [00:15<00:58, 1507.63it/s]"
     ]
    },
    {
     "name": "stderr",
     "output_type": "stream",
     "text": [
      "\r 21%|██        | 23338/111923 [00:15<00:58, 1503.03it/s]"
     ]
    },
    {
     "name": "stderr",
     "output_type": "stream",
     "text": [
      "\r 21%|██        | 23472/111923 [00:15<00:58, 1500.00it/s]"
     ]
    },
    {
     "name": "stderr",
     "output_type": "stream",
     "text": [
      "\r 21%|██        | 23600/111923 [00:15<00:58, 1498.57it/s]"
     ]
    },
    {
     "name": "stderr",
     "output_type": "stream",
     "text": [
      "\r 21%|██        | 23757/111923 [00:15<00:58, 1498.95it/s]"
     ]
    },
    {
     "name": "stderr",
     "output_type": "stream",
     "text": [
      "\r 21%|██▏       | 23927/111923 [00:15<00:58, 1500.14it/s]"
     ]
    },
    {
     "name": "stderr",
     "output_type": "stream",
     "text": [
      "\r 22%|██▏       | 24098/111923 [00:16<00:58, 1501.42it/s]"
     ]
    },
    {
     "name": "stderr",
     "output_type": "stream",
     "text": [
      "\r 22%|██▏       | 24260/111923 [00:16<00:58, 1502.08it/s]"
     ]
    },
    {
     "name": "stderr",
     "output_type": "stream",
     "text": [
      "\r 22%|██▏       | 24419/111923 [00:16<00:58, 1502.47it/s]"
     ]
    },
    {
     "name": "stderr",
     "output_type": "stream",
     "text": [
      "\r 22%|██▏       | 24575/111923 [00:16<00:58, 1502.48it/s]"
     ]
    },
    {
     "name": "stderr",
     "output_type": "stream",
     "text": [
      "\r 22%|██▏       | 24733/111923 [00:16<00:58, 1502.79it/s]"
     ]
    },
    {
     "name": "stderr",
     "output_type": "stream",
     "text": [
      "\r 22%|██▏       | 24888/111923 [00:16<00:57, 1502.83it/s]"
     ]
    },
    {
     "name": "stderr",
     "output_type": "stream",
     "text": [
      "\r 22%|██▏       | 25054/111923 [00:16<00:57, 1503.71it/s]"
     ]
    },
    {
     "name": "stderr",
     "output_type": "stream",
     "text": [
      "\r 23%|██▎       | 25211/111923 [00:16<00:57, 1504.04it/s]"
     ]
    },
    {
     "name": "stderr",
     "output_type": "stream",
     "text": [
      "\r 23%|██▎       | 25369/111923 [00:16<00:57, 1504.44it/s]"
     ]
    },
    {
     "name": "stderr",
     "output_type": "stream",
     "text": [
      "\r 23%|██▎       | 25554/111923 [00:16<00:57, 1506.42it/s]"
     ]
    },
    {
     "name": "stderr",
     "output_type": "stream",
     "text": [
      "\r 23%|██▎       | 25745/111923 [00:17<00:57, 1508.72it/s]"
     ]
    },
    {
     "name": "stderr",
     "output_type": "stream",
     "text": [
      "\r 23%|██▎       | 25918/111923 [00:17<00:57, 1507.31it/s]"
     ]
    },
    {
     "name": "stderr",
     "output_type": "stream",
     "text": [
      "\r 23%|██▎       | 26079/111923 [00:17<00:57, 1506.02it/s]"
     ]
    },
    {
     "name": "stderr",
     "output_type": "stream",
     "text": [
      "\r 23%|██▎       | 26231/111923 [00:17<00:56, 1503.71it/s]"
     ]
    },
    {
     "name": "stderr",
     "output_type": "stream",
     "text": [
      "\r 24%|██▎       | 26374/111923 [00:17<00:56, 1502.97it/s]"
     ]
    },
    {
     "name": "stderr",
     "output_type": "stream",
     "text": [
      "\r 24%|██▎       | 26531/111923 [00:17<00:56, 1503.29it/s]"
     ]
    },
    {
     "name": "stderr",
     "output_type": "stream",
     "text": [
      "\r 24%|██▍       | 26685/111923 [00:17<00:56, 1503.35it/s]"
     ]
    },
    {
     "name": "stderr",
     "output_type": "stream",
     "text": [
      "\r 24%|██▍       | 26833/111923 [00:17<00:56, 1500.98it/s]"
     ]
    },
    {
     "name": "stderr",
     "output_type": "stream",
     "text": [
      "\r 24%|██▍       | 26972/111923 [00:18<00:56, 1495.49it/s]"
     ]
    },
    {
     "name": "stderr",
     "output_type": "stream",
     "text": [
      "\r 24%|██▍       | 27095/111923 [00:18<00:56, 1492.41it/s]"
     ]
    },
    {
     "name": "stderr",
     "output_type": "stream",
     "text": [
      "\r 24%|██▍       | 27212/111923 [00:18<00:56, 1487.73it/s]"
     ]
    },
    {
     "name": "stderr",
     "output_type": "stream",
     "text": [
      "\r 24%|██▍       | 27320/111923 [00:18<00:56, 1484.49it/s]"
     ]
    },
    {
     "name": "stderr",
     "output_type": "stream",
     "text": [
      "\r 25%|██▍       | 27425/111923 [00:18<00:57, 1481.20it/s]"
     ]
    },
    {
     "name": "stderr",
     "output_type": "stream",
     "text": [
      "\r 25%|██▍       | 27527/111923 [00:18<00:57, 1478.03it/s]"
     ]
    },
    {
     "name": "stderr",
     "output_type": "stream",
     "text": [
      "\r 25%|██▍       | 27627/111923 [00:18<00:57, 1475.34it/s]"
     ]
    },
    {
     "name": "stderr",
     "output_type": "stream",
     "text": [
      "\r 25%|██▍       | 27726/111923 [00:18<00:57, 1471.46it/s]"
     ]
    },
    {
     "name": "stderr",
     "output_type": "stream",
     "text": [
      "\r 25%|██▍       | 27821/111923 [00:18<00:57, 1467.41it/s]"
     ]
    },
    {
     "name": "stderr",
     "output_type": "stream",
     "text": [
      "\r 25%|██▍       | 27918/111923 [00:19<00:57, 1464.66it/s]"
     ]
    },
    {
     "name": "stderr",
     "output_type": "stream",
     "text": [
      "\r 25%|██▌       | 28011/111923 [00:19<00:57, 1461.51it/s]"
     ]
    },
    {
     "name": "stderr",
     "output_type": "stream",
     "text": [
      "\r 25%|██▌       | 28103/111923 [00:19<00:57, 1458.41it/s]"
     ]
    },
    {
     "name": "stderr",
     "output_type": "stream",
     "text": [
      "\r 25%|██▌       | 28194/111923 [00:19<00:57, 1455.45it/s]"
     ]
    },
    {
     "name": "stderr",
     "output_type": "stream",
     "text": [
      "\r 25%|██▌       | 28306/111923 [00:19<00:57, 1453.67it/s]"
     ]
    },
    {
     "name": "stderr",
     "output_type": "stream",
     "text": [
      "\r 25%|██▌       | 28418/111923 [00:19<00:57, 1451.83it/s]"
     ]
    },
    {
     "name": "stderr",
     "output_type": "stream",
     "text": [
      "\r 25%|██▌       | 28519/111923 [00:19<00:57, 1448.28it/s]"
     ]
    },
    {
     "name": "stderr",
     "output_type": "stream",
     "text": [
      "\r 26%|██▌       | 28616/111923 [00:19<00:57, 1445.08it/s]"
     ]
    },
    {
     "name": "stderr",
     "output_type": "stream",
     "text": [
      "\r 26%|██▌       | 28712/111923 [00:19<00:57, 1442.59it/s]"
     ]
    },
    {
     "name": "stderr",
     "output_type": "stream",
     "text": [
      "\r 26%|██▌       | 28807/111923 [00:20<00:57, 1439.57it/s]"
     ]
    },
    {
     "name": "stderr",
     "output_type": "stream",
     "text": [
      "\r 26%|██▌       | 28911/111923 [00:20<00:57, 1437.53it/s]"
     ]
    },
    {
     "name": "stderr",
     "output_type": "stream",
     "text": [
      "\r 26%|██▌       | 29012/111923 [00:20<00:57, 1435.36it/s]"
     ]
    },
    {
     "name": "stderr",
     "output_type": "stream",
     "text": [
      "\r 26%|██▌       | 29119/111923 [00:20<00:57, 1433.51it/s]"
     ]
    },
    {
     "name": "stderr",
     "output_type": "stream",
     "text": [
      "\r 26%|██▌       | 29225/111923 [00:20<00:57, 1431.62it/s]"
     ]
    },
    {
     "name": "stderr",
     "output_type": "stream",
     "text": [
      "\r 26%|██▌       | 29327/111923 [00:20<00:57, 1429.56it/s]"
     ]
    },
    {
     "name": "stderr",
     "output_type": "stream",
     "text": [
      "\r 26%|██▋       | 29429/111923 [00:20<00:57, 1426.70it/s]"
     ]
    },
    {
     "name": "stderr",
     "output_type": "stream",
     "text": [
      "\r 26%|██▋       | 29530/111923 [00:20<00:57, 1424.57it/s]"
     ]
    },
    {
     "name": "stderr",
     "output_type": "stream",
     "text": [
      "\r 27%|██▋       | 29676/111923 [00:20<00:57, 1424.67it/s]"
     ]
    },
    {
     "name": "stderr",
     "output_type": "stream",
     "text": [
      "\r 27%|██▋       | 29844/111923 [00:20<00:57, 1425.84it/s]"
     ]
    },
    {
     "name": "stderr",
     "output_type": "stream",
     "text": [
      "\r 27%|██▋       | 30008/111923 [00:21<00:57, 1426.81it/s]"
     ]
    },
    {
     "name": "stderr",
     "output_type": "stream",
     "text": [
      "\r 27%|██▋       | 30175/111923 [00:21<00:57, 1427.84it/s]"
     ]
    },
    {
     "name": "stderr",
     "output_type": "stream",
     "text": [
      "\r 27%|██▋       | 30349/111923 [00:21<00:57, 1429.26it/s]"
     ]
    },
    {
     "name": "stderr",
     "output_type": "stream",
     "text": [
      "\r 27%|██▋       | 30535/111923 [00:21<00:56, 1431.23it/s]"
     ]
    },
    {
     "name": "stderr",
     "output_type": "stream",
     "text": [
      "\r 27%|██▋       | 30717/111923 [00:21<00:56, 1433.00it/s]"
     ]
    },
    {
     "name": "stderr",
     "output_type": "stream",
     "text": [
      "\r 28%|██▊       | 30886/111923 [00:21<00:56, 1434.01it/s]"
     ]
    },
    {
     "name": "stderr",
     "output_type": "stream",
     "text": [
      "\r 28%|██▊       | 31056/111923 [00:21<00:56, 1435.19it/s]"
     ]
    },
    {
     "name": "stderr",
     "output_type": "stream",
     "text": [
      "\r 28%|██▊       | 31246/111923 [00:21<00:56, 1437.28it/s]"
     ]
    },
    {
     "name": "stderr",
     "output_type": "stream",
     "text": [
      "\r 28%|██▊       | 31421/111923 [00:21<00:56, 1437.38it/s]"
     ]
    },
    {
     "name": "stderr",
     "output_type": "stream",
     "text": [
      "\r 28%|██▊       | 31587/111923 [00:22<00:55, 1435.38it/s]"
     ]
    },
    {
     "name": "stderr",
     "output_type": "stream",
     "text": [
      "\r 28%|██▊       | 31737/111923 [00:22<00:55, 1433.20it/s]"
     ]
    },
    {
     "name": "stderr",
     "output_type": "stream",
     "text": [
      "\r 28%|██▊       | 31875/111923 [00:22<00:55, 1431.24it/s]"
     ]
    },
    {
     "name": "stderr",
     "output_type": "stream",
     "text": [
      "\r 29%|██▊       | 32004/111923 [00:22<00:55, 1428.96it/s]"
     ]
    },
    {
     "name": "stderr",
     "output_type": "stream",
     "text": [
      "\r 29%|██▊       | 32126/111923 [00:22<00:55, 1426.15it/s]"
     ]
    },
    {
     "name": "stderr",
     "output_type": "stream",
     "text": [
      "\r 29%|██▉       | 32239/111923 [00:22<00:55, 1423.79it/s]"
     ]
    },
    {
     "name": "stderr",
     "output_type": "stream",
     "text": [
      "\r 29%|██▉       | 32348/111923 [00:22<00:55, 1421.90it/s]"
     ]
    },
    {
     "name": "stderr",
     "output_type": "stream",
     "text": [
      "\r 29%|██▉       | 32457/111923 [00:22<00:55, 1420.40it/s]"
     ]
    },
    {
     "name": "stderr",
     "output_type": "stream",
     "text": [
      "\r 29%|██▉       | 32564/111923 [00:22<00:55, 1418.52it/s]"
     ]
    },
    {
     "name": "stderr",
     "output_type": "stream",
     "text": [
      "\r 29%|██▉       | 32670/111923 [00:23<00:55, 1416.80it/s]"
     ]
    },
    {
     "name": "stderr",
     "output_type": "stream",
     "text": [
      "\r 29%|██▉       | 32778/111923 [00:23<00:55, 1415.30it/s]"
     ]
    },
    {
     "name": "stderr",
     "output_type": "stream",
     "text": [
      "\r 29%|██▉       | 32887/111923 [00:23<00:55, 1413.85it/s]"
     ]
    },
    {
     "name": "stderr",
     "output_type": "stream",
     "text": [
      "\r 29%|██▉       | 32994/111923 [00:23<00:55, 1411.97it/s]"
     ]
    },
    {
     "name": "stderr",
     "output_type": "stream",
     "text": [
      "\r 30%|██▉       | 33103/111923 [00:23<00:55, 1410.55it/s]"
     ]
    },
    {
     "name": "stderr",
     "output_type": "stream",
     "text": [
      "\r 30%|██▉       | 33209/111923 [00:23<00:55, 1408.72it/s]"
     ]
    },
    {
     "name": "stderr",
     "output_type": "stream",
     "text": [
      "\r 30%|██▉       | 33313/111923 [00:23<00:55, 1406.35it/s]"
     ]
    },
    {
     "name": "stderr",
     "output_type": "stream",
     "text": [
      "\r 30%|██▉       | 33414/111923 [00:23<00:55, 1404.64it/s]"
     ]
    },
    {
     "name": "stderr",
     "output_type": "stream",
     "text": [
      "\r 30%|██▉       | 33515/111923 [00:23<00:55, 1402.31it/s]"
     ]
    },
    {
     "name": "stderr",
     "output_type": "stream",
     "text": [
      "\r 30%|███       | 33616/111923 [00:24<00:55, 1400.63it/s]"
     ]
    },
    {
     "name": "stderr",
     "output_type": "stream",
     "text": [
      "\r 30%|███       | 33719/111923 [00:24<00:55, 1399.05it/s]"
     ]
    },
    {
     "name": "stderr",
     "output_type": "stream",
     "text": [
      "\r 30%|███       | 33824/111923 [00:24<00:55, 1397.56it/s]"
     ]
    },
    {
     "name": "stderr",
     "output_type": "stream",
     "text": [
      "\r 30%|███       | 33925/111923 [00:24<00:55, 1395.87it/s]"
     ]
    },
    {
     "name": "stderr",
     "output_type": "stream",
     "text": [
      "\r 30%|███       | 34026/111923 [00:24<00:55, 1393.73it/s]"
     ]
    },
    {
     "name": "stderr",
     "output_type": "stream",
     "text": [
      "\r 30%|███       | 34124/111923 [00:24<00:55, 1392.00it/s]"
     ]
    },
    {
     "name": "stderr",
     "output_type": "stream",
     "text": [
      "\r 31%|███       | 34226/111923 [00:24<00:55, 1390.45it/s]"
     ]
    },
    {
     "name": "stderr",
     "output_type": "stream",
     "text": [
      "\r 31%|███       | 34329/111923 [00:24<00:55, 1388.95it/s]"
     ]
    },
    {
     "name": "stderr",
     "output_type": "stream",
     "text": [
      "\r 31%|███       | 34431/111923 [00:24<00:55, 1387.42it/s]"
     ]
    },
    {
     "name": "stderr",
     "output_type": "stream",
     "text": [
      "\r 31%|███       | 34539/111923 [00:24<00:55, 1386.08it/s]"
     ]
    },
    {
     "name": "stderr",
     "output_type": "stream",
     "text": [
      "\r 31%|███       | 34641/111923 [00:25<00:55, 1384.08it/s]"
     ]
    },
    {
     "name": "stderr",
     "output_type": "stream",
     "text": [
      "\r 31%|███       | 34741/111923 [00:25<00:55, 1381.09it/s]"
     ]
    },
    {
     "name": "stderr",
     "output_type": "stream",
     "text": [
      "\r 31%|███       | 34843/111923 [00:25<00:55, 1379.62it/s]"
     ]
    },
    {
     "name": "stderr",
     "output_type": "stream",
     "text": [
      "\r 31%|███       | 34939/111923 [00:25<00:55, 1377.65it/s]"
     ]
    },
    {
     "name": "stderr",
     "output_type": "stream",
     "text": [
      "\r 31%|███▏      | 35036/111923 [00:25<00:55, 1376.01it/s]"
     ]
    },
    {
     "name": "stderr",
     "output_type": "stream",
     "text": [
      "\r 31%|███▏      | 35140/111923 [00:25<00:55, 1374.65it/s]"
     ]
    },
    {
     "name": "stderr",
     "output_type": "stream",
     "text": [
      "\r 31%|███▏      | 35238/111923 [00:25<00:55, 1373.07it/s]"
     ]
    },
    {
     "name": "stderr",
     "output_type": "stream",
     "text": [
      "\r 32%|███▏      | 35345/111923 [00:25<00:55, 1371.85it/s]"
     ]
    },
    {
     "name": "stderr",
     "output_type": "stream",
     "text": [
      "\r 32%|███▏      | 35491/111923 [00:25<00:55, 1372.15it/s]"
     ]
    },
    {
     "name": "stderr",
     "output_type": "stream",
     "text": [
      "\r 32%|███▏      | 35697/111923 [00:25<00:55, 1374.79it/s]"
     ]
    },
    {
     "name": "stderr",
     "output_type": "stream",
     "text": [
      "\r 32%|███▏      | 35888/111923 [00:26<00:55, 1376.82it/s]"
     ]
    },
    {
     "name": "stderr",
     "output_type": "stream",
     "text": [
      "\r 32%|███▏      | 36078/111923 [00:26<00:55, 1378.82it/s]"
     ]
    },
    {
     "name": "stderr",
     "output_type": "stream",
     "text": [
      "\r 32%|███▏      | 36273/111923 [00:26<00:54, 1380.95it/s]"
     ]
    },
    {
     "name": "stderr",
     "output_type": "stream",
     "text": [
      "\r 33%|███▎      | 36462/111923 [00:26<00:54, 1382.84it/s]"
     ]
    },
    {
     "name": "stderr",
     "output_type": "stream",
     "text": [
      "\r 33%|███▎      | 36641/111923 [00:26<00:54, 1382.05it/s]"
     ]
    },
    {
     "name": "stderr",
     "output_type": "stream",
     "text": [
      "\r 33%|███▎      | 36810/111923 [00:26<00:54, 1383.17it/s]"
     ]
    },
    {
     "name": "stderr",
     "output_type": "stream",
     "text": [
      "\r 33%|███▎      | 36974/111923 [00:26<00:54, 1383.94it/s]"
     ]
    },
    {
     "name": "stderr",
     "output_type": "stream",
     "text": [
      "\r 33%|███▎      | 37166/111923 [00:26<00:53, 1385.90it/s]"
     ]
    },
    {
     "name": "stderr",
     "output_type": "stream",
     "text": [
      "\r 33%|███▎      | 37358/111923 [00:26<00:53, 1387.87it/s]"
     ]
    },
    {
     "name": "stderr",
     "output_type": "stream",
     "text": [
      "\r 34%|███▎      | 37535/111923 [00:27<00:53, 1389.15it/s]"
     ]
    },
    {
     "name": "stderr",
     "output_type": "stream",
     "text": [
      "\r 34%|███▎      | 37731/111923 [00:27<00:53, 1391.22it/s]"
     ]
    },
    {
     "name": "stderr",
     "output_type": "stream",
     "text": [
      "\r 34%|███▍      | 37917/111923 [00:27<00:53, 1392.90it/s]"
     ]
    },
    {
     "name": "stderr",
     "output_type": "stream",
     "text": [
      "\r 34%|███▍      | 38111/111923 [00:27<00:52, 1394.86it/s]"
     ]
    },
    {
     "name": "stderr",
     "output_type": "stream",
     "text": [
      "\r 34%|███▍      | 38315/111923 [00:27<00:52, 1397.18it/s]"
     ]
    },
    {
     "name": "stderr",
     "output_type": "stream",
     "text": [
      "\r 34%|███▍      | 38506/111923 [00:27<00:52, 1398.20it/s]"
     ]
    },
    {
     "name": "stderr",
     "output_type": "stream",
     "text": [
      "\r 35%|███▍      | 38689/111923 [00:27<00:52, 1399.42it/s]"
     ]
    },
    {
     "name": "stderr",
     "output_type": "stream",
     "text": [
      "\r 35%|███▍      | 38869/111923 [00:27<00:52, 1400.52it/s]"
     ]
    },
    {
     "name": "stderr",
     "output_type": "stream",
     "text": [
      "\r 35%|███▍      | 39046/111923 [00:27<00:52, 1399.66it/s]"
     ]
    },
    {
     "name": "stderr",
     "output_type": "stream",
     "text": [
      "\r 35%|███▌      | 39207/111923 [00:28<00:52, 1396.39it/s]"
     ]
    },
    {
     "name": "stderr",
     "output_type": "stream",
     "text": [
      "\r 35%|███▌      | 39346/111923 [00:28<00:52, 1394.11it/s]"
     ]
    },
    {
     "name": "stderr",
     "output_type": "stream",
     "text": [
      "\r 35%|███▌      | 39472/111923 [00:28<00:52, 1392.33it/s]"
     ]
    },
    {
     "name": "stderr",
     "output_type": "stream",
     "text": [
      "\r 35%|███▌      | 39590/111923 [00:28<00:52, 1390.57it/s]"
     ]
    },
    {
     "name": "stderr",
     "output_type": "stream",
     "text": [
      "\r 35%|███▌      | 39702/111923 [00:28<00:52, 1388.43it/s]"
     ]
    },
    {
     "name": "stderr",
     "output_type": "stream",
     "text": [
      "\r 36%|███▌      | 39808/111923 [00:28<00:51, 1387.24it/s]"
     ]
    },
    {
     "name": "stderr",
     "output_type": "stream",
     "text": [
      "\r 36%|███▌      | 39914/111923 [00:28<00:51, 1385.93it/s]"
     ]
    },
    {
     "name": "stderr",
     "output_type": "stream",
     "text": [
      "\r 36%|███▌      | 40019/111923 [00:28<00:51, 1384.11it/s]"
     ]
    },
    {
     "name": "stderr",
     "output_type": "stream",
     "text": [
      "\r 36%|███▌      | 40120/111923 [00:29<00:51, 1382.64it/s]"
     ]
    },
    {
     "name": "stderr",
     "output_type": "stream",
     "text": [
      "\r 36%|███▌      | 40220/111923 [00:29<00:51, 1380.67it/s]"
     ]
    },
    {
     "name": "stderr",
     "output_type": "stream",
     "text": [
      "\r 36%|███▌      | 40319/111923 [00:29<00:51, 1379.30it/s]"
     ]
    },
    {
     "name": "stderr",
     "output_type": "stream",
     "text": [
      "\r 36%|███▌      | 40416/111923 [00:29<00:51, 1377.54it/s]"
     ]
    },
    {
     "name": "stderr",
     "output_type": "stream",
     "text": [
      "\r 36%|███▌      | 40513/111923 [00:29<00:51, 1376.02it/s]"
     ]
    },
    {
     "name": "stderr",
     "output_type": "stream",
     "text": [
      "\r 36%|███▋      | 40608/111923 [00:29<00:51, 1374.17it/s]"
     ]
    },
    {
     "name": "stderr",
     "output_type": "stream",
     "text": [
      "\r 36%|███▋      | 40703/111923 [00:29<00:51, 1372.71it/s]"
     ]
    },
    {
     "name": "stderr",
     "output_type": "stream",
     "text": [
      "\r 36%|███▋      | 40809/111923 [00:29<00:51, 1371.62it/s]"
     ]
    },
    {
     "name": "stderr",
     "output_type": "stream",
     "text": [
      "\r 37%|███▋      | 40906/111923 [00:29<00:51, 1370.10it/s]"
     ]
    },
    {
     "name": "stderr",
     "output_type": "stream",
     "text": [
      "\r 37%|███▋      | 41005/111923 [00:29<00:51, 1368.80it/s]"
     ]
    },
    {
     "name": "stderr",
     "output_type": "stream",
     "text": [
      "\r 37%|███▋      | 41108/111923 [00:30<00:51, 1367.64it/s]"
     ]
    },
    {
     "name": "stderr",
     "output_type": "stream",
     "text": [
      "\r 37%|███▋      | 41209/111923 [00:30<00:51, 1366.42it/s]"
     ]
    },
    {
     "name": "stderr",
     "output_type": "stream",
     "text": [
      "\r 37%|███▋      | 41316/111923 [00:30<00:51, 1365.40it/s]"
     ]
    },
    {
     "name": "stderr",
     "output_type": "stream",
     "text": [
      "\r 37%|███▋      | 41426/111923 [00:30<00:51, 1364.49it/s]"
     ]
    },
    {
     "name": "stderr",
     "output_type": "stream",
     "text": [
      "\r 37%|███▋      | 41530/111923 [00:30<00:51, 1362.99it/s]"
     ]
    },
    {
     "name": "stderr",
     "output_type": "stream",
     "text": [
      "\r 37%|███▋      | 41632/111923 [00:30<00:51, 1361.84it/s]"
     ]
    },
    {
     "name": "stderr",
     "output_type": "stream",
     "text": [
      "\r 37%|███▋      | 41733/111923 [00:30<00:51, 1360.04it/s]"
     ]
    },
    {
     "name": "stderr",
     "output_type": "stream",
     "text": [
      "\r 37%|███▋      | 41833/111923 [00:30<00:51, 1358.80it/s]"
     ]
    },
    {
     "name": "stderr",
     "output_type": "stream",
     "text": [
      "\r 37%|███▋      | 41933/111923 [00:30<00:51, 1357.56it/s]"
     ]
    },
    {
     "name": "stderr",
     "output_type": "stream",
     "text": [
      "\r 38%|███▊      | 42034/111923 [00:30<00:51, 1356.40it/s]"
     ]
    },
    {
     "name": "stderr",
     "output_type": "stream",
     "text": [
      "\r 38%|███▊      | 42140/111923 [00:31<00:51, 1355.42it/s]"
     ]
    },
    {
     "name": "stderr",
     "output_type": "stream",
     "text": [
      "\r 38%|███▊      | 42248/111923 [00:31<00:51, 1354.50it/s]"
     ]
    },
    {
     "name": "stderr",
     "output_type": "stream",
     "text": [
      "\r 38%|███▊      | 42351/111923 [00:31<00:51, 1353.22it/s]"
     ]
    },
    {
     "name": "stderr",
     "output_type": "stream",
     "text": [
      "\r 38%|███▊      | 42453/111923 [00:31<00:51, 1352.13it/s]"
     ]
    },
    {
     "name": "stderr",
     "output_type": "stream",
     "text": [
      "\r 38%|███▊      | 42555/111923 [00:31<00:51, 1351.00it/s]"
     ]
    },
    {
     "name": "stderr",
     "output_type": "stream",
     "text": [
      "\r 38%|███▊      | 42668/111923 [00:31<00:51, 1350.27it/s]"
     ]
    },
    {
     "name": "stderr",
     "output_type": "stream",
     "text": [
      "\r 38%|███▊      | 42773/111923 [00:31<00:51, 1348.99it/s]"
     ]
    },
    {
     "name": "stderr",
     "output_type": "stream",
     "text": [
      "\r 38%|███▊      | 42876/111923 [00:31<00:51, 1347.66it/s]"
     ]
    },
    {
     "name": "stderr",
     "output_type": "stream",
     "text": [
      "\r 38%|███▊      | 42977/111923 [00:31<00:51, 1345.56it/s]"
     ]
    },
    {
     "name": "stderr",
     "output_type": "stream",
     "text": [
      "\r 38%|███▊      | 43077/111923 [00:32<00:51, 1344.45it/s]"
     ]
    },
    {
     "name": "stderr",
     "output_type": "stream",
     "text": [
      "\r 39%|███▊      | 43179/111923 [00:32<00:51, 1343.41it/s]"
     ]
    },
    {
     "name": "stderr",
     "output_type": "stream",
     "text": [
      "\r 39%|███▊      | 43278/111923 [00:32<00:51, 1342.28it/s]"
     ]
    },
    {
     "name": "stderr",
     "output_type": "stream",
     "text": [
      "\r 39%|███▉      | 43388/111923 [00:32<00:51, 1341.46it/s]"
     ]
    },
    {
     "name": "stderr",
     "output_type": "stream",
     "text": [
      "\r 39%|███▉      | 43495/111923 [00:32<00:51, 1340.55it/s]"
     ]
    },
    {
     "name": "stderr",
     "output_type": "stream",
     "text": [
      "\r 39%|███▉      | 43598/111923 [00:32<00:51, 1339.23it/s]"
     ]
    },
    {
     "name": "stderr",
     "output_type": "stream",
     "text": [
      "\r 39%|███▉      | 43702/111923 [00:32<00:50, 1338.29it/s]"
     ]
    },
    {
     "name": "stderr",
     "output_type": "stream",
     "text": [
      "\r 39%|███▉      | 43812/111923 [00:32<00:50, 1337.53it/s]"
     ]
    },
    {
     "name": "stderr",
     "output_type": "stream",
     "text": [
      "\r 39%|███▉      | 43916/111923 [00:32<00:50, 1336.59it/s]"
     ]
    },
    {
     "name": "stderr",
     "output_type": "stream",
     "text": [
      "\r 39%|███▉      | 44103/111923 [00:32<00:50, 1338.18it/s]"
     ]
    },
    {
     "name": "stderr",
     "output_type": "stream",
     "text": [
      "\r 40%|███▉      | 44299/111923 [00:33<00:50, 1340.03it/s]"
     ]
    },
    {
     "name": "stderr",
     "output_type": "stream",
     "text": [
      "\r 40%|███▉      | 44447/111923 [00:33<00:50, 1339.62it/s]"
     ]
    },
    {
     "name": "stderr",
     "output_type": "stream",
     "text": [
      "\r 40%|███▉      | 44641/111923 [00:33<00:50, 1341.39it/s]"
     ]
    },
    {
     "name": "stderr",
     "output_type": "stream",
     "text": [
      "\r 40%|████      | 44835/111923 [00:33<00:49, 1343.15it/s]"
     ]
    },
    {
     "name": "stderr",
     "output_type": "stream",
     "text": [
      "\r 40%|████      | 45002/111923 [00:33<00:49, 1343.74it/s]"
     ]
    },
    {
     "name": "stderr",
     "output_type": "stream",
     "text": [
      "\r 40%|████      | 45200/111923 [00:33<00:49, 1345.60it/s]"
     ]
    },
    {
     "name": "stderr",
     "output_type": "stream",
     "text": [
      "\r 41%|████      | 45373/111923 [00:33<00:49, 1346.09it/s]"
     ]
    },
    {
     "name": "stderr",
     "output_type": "stream",
     "text": [
      "\r 41%|████      | 45539/111923 [00:33<00:49, 1345.59it/s]"
     ]
    },
    {
     "name": "stderr",
     "output_type": "stream",
     "text": [
      "\r 41%|████      | 45727/111923 [00:33<00:49, 1347.16it/s]"
     ]
    },
    {
     "name": "stderr",
     "output_type": "stream",
     "text": [
      "\r 41%|████      | 45926/111923 [00:34<00:48, 1349.02it/s]"
     ]
    },
    {
     "name": "stderr",
     "output_type": "stream",
     "text": [
      "\r 41%|████      | 46113/111923 [00:34<00:48, 1350.54it/s]"
     ]
    },
    {
     "name": "stderr",
     "output_type": "stream",
     "text": [
      "\r 41%|████▏     | 46295/111923 [00:34<00:48, 1351.90it/s]"
     ]
    },
    {
     "name": "stderr",
     "output_type": "stream",
     "text": [
      "\r 42%|████▏     | 46479/111923 [00:34<00:48, 1353.30it/s]"
     ]
    },
    {
     "name": "stderr",
     "output_type": "stream",
     "text": [
      "\r 42%|████▏     | 46672/111923 [00:34<00:48, 1354.95it/s]"
     ]
    },
    {
     "name": "stderr",
     "output_type": "stream",
     "text": [
      "\r 42%|████▏     | 46860/111923 [00:34<00:47, 1356.43it/s]"
     ]
    },
    {
     "name": "stderr",
     "output_type": "stream",
     "text": [
      "\r 42%|████▏     | 47045/111923 [00:34<00:47, 1357.69it/s]"
     ]
    },
    {
     "name": "stderr",
     "output_type": "stream",
     "text": [
      "\r 42%|████▏     | 47239/111923 [00:34<00:47, 1359.34it/s]"
     ]
    },
    {
     "name": "stderr",
     "output_type": "stream",
     "text": [
      "\r 42%|████▏     | 47450/111923 [00:34<00:47, 1361.46it/s]"
     ]
    },
    {
     "name": "stderr",
     "output_type": "stream",
     "text": [
      "\r 43%|████▎     | 47644/111923 [00:34<00:47, 1363.10it/s]"
     ]
    },
    {
     "name": "stderr",
     "output_type": "stream",
     "text": [
      "\r 43%|████▎     | 47837/111923 [00:35<00:47, 1361.71it/s]"
     ]
    },
    {
     "name": "stderr",
     "output_type": "stream",
     "text": [
      "\r 43%|████▎     | 48005/111923 [00:35<00:46, 1361.65it/s]"
     ]
    },
    {
     "name": "stderr",
     "output_type": "stream",
     "text": [
      "\r 43%|████▎     | 48189/111923 [00:35<00:46, 1362.98it/s]"
     ]
    },
    {
     "name": "stderr",
     "output_type": "stream",
     "text": [
      "\r 43%|████▎     | 48378/111923 [00:35<00:46, 1364.44it/s]"
     ]
    },
    {
     "name": "stderr",
     "output_type": "stream",
     "text": [
      "\r 43%|████▎     | 48550/111923 [00:35<00:46, 1363.96it/s]"
     ]
    },
    {
     "name": "stderr",
     "output_type": "stream",
     "text": [
      "\r 44%|████▎     | 48731/111923 [00:35<00:46, 1365.18it/s]"
     ]
    },
    {
     "name": "stderr",
     "output_type": "stream",
     "text": [
      "\r 44%|████▎     | 48902/111923 [00:35<00:46, 1366.11it/s]"
     ]
    },
    {
     "name": "stderr",
     "output_type": "stream",
     "text": [
      "\r 44%|████▍     | 49068/111923 [00:35<00:45, 1366.90it/s]"
     ]
    },
    {
     "name": "stderr",
     "output_type": "stream",
     "text": [
      "\r 44%|████▍     | 49265/111923 [00:35<00:45, 1368.55it/s]"
     ]
    },
    {
     "name": "stderr",
     "output_type": "stream",
     "text": [
      "\r 44%|████▍     | 49440/111923 [00:36<00:45, 1369.37it/s]"
     ]
    },
    {
     "name": "stderr",
     "output_type": "stream",
     "text": [
      "\r 44%|████▍     | 49637/111923 [00:36<00:45, 1371.00it/s]"
     ]
    },
    {
     "name": "stderr",
     "output_type": "stream",
     "text": [
      "\r 45%|████▍     | 49820/111923 [00:36<00:45, 1372.23it/s]"
     ]
    },
    {
     "name": "stderr",
     "output_type": "stream",
     "text": [
      "\r 45%|████▍     | 50004/111923 [00:36<00:45, 1373.49it/s]"
     ]
    },
    {
     "name": "stderr",
     "output_type": "stream",
     "text": [
      "\r 45%|████▍     | 50185/111923 [00:36<00:44, 1372.81it/s]"
     ]
    },
    {
     "name": "stderr",
     "output_type": "stream",
     "text": [
      "\r 45%|████▍     | 50348/111923 [00:36<00:44, 1372.75it/s]"
     ]
    },
    {
     "name": "stderr",
     "output_type": "stream",
     "text": [
      "\r 45%|████▌     | 50535/111923 [00:36<00:44, 1374.08it/s]"
     ]
    },
    {
     "name": "stderr",
     "output_type": "stream",
     "text": [
      "\r 45%|████▌     | 50728/111923 [00:36<00:44, 1375.56it/s]"
     ]
    },
    {
     "name": "stderr",
     "output_type": "stream",
     "text": [
      "\r 45%|████▌     | 50915/111923 [00:36<00:44, 1376.87it/s]"
     ]
    },
    {
     "name": "stderr",
     "output_type": "stream",
     "text": [
      "\r 46%|████▌     | 51092/111923 [00:37<00:44, 1377.64it/s]"
     ]
    },
    {
     "name": "stderr",
     "output_type": "stream",
     "text": [
      "\r 46%|████▌     | 51270/111923 [00:37<00:43, 1378.69it/s]"
     ]
    },
    {
     "name": "stderr",
     "output_type": "stream",
     "text": [
      "\r 46%|████▌     | 51444/111923 [00:37<00:43, 1379.45it/s]"
     ]
    },
    {
     "name": "stderr",
     "output_type": "stream",
     "text": [
      "\r 46%|████▌     | 51616/111923 [00:37<00:43, 1379.65it/s]"
     ]
    },
    {
     "name": "stderr",
     "output_type": "stream",
     "text": [
      "\r 46%|████▋     | 51779/111923 [00:37<00:43, 1379.21it/s]"
     ]
    },
    {
     "name": "stderr",
     "output_type": "stream",
     "text": [
      "\r 46%|████▋     | 51931/111923 [00:37<00:43, 1379.52it/s]"
     ]
    },
    {
     "name": "stderr",
     "output_type": "stream",
     "text": [
      "\r 47%|████▋     | 52082/111923 [00:37<00:43, 1379.40it/s]"
     ]
    },
    {
     "name": "stderr",
     "output_type": "stream",
     "text": [
      "\r 47%|████▋     | 52238/111923 [00:37<00:43, 1379.85it/s]"
     ]
    },
    {
     "name": "stderr",
     "output_type": "stream",
     "text": [
      "\r 47%|████▋     | 52396/111923 [00:37<00:43, 1380.35it/s]"
     ]
    },
    {
     "name": "stderr",
     "output_type": "stream",
     "text": [
      "\r 47%|████▋     | 52548/111923 [00:38<00:43, 1380.51it/s]"
     ]
    },
    {
     "name": "stderr",
     "output_type": "stream",
     "text": [
      "\r 47%|████▋     | 52717/111923 [00:38<00:42, 1381.31it/s]"
     ]
    },
    {
     "name": "stderr",
     "output_type": "stream",
     "text": [
      "\r 47%|████▋     | 52880/111923 [00:38<00:42, 1381.94it/s]"
     ]
    },
    {
     "name": "stderr",
     "output_type": "stream",
     "text": [
      "\r 47%|████▋     | 53070/111923 [00:38<00:42, 1383.26it/s]"
     ]
    },
    {
     "name": "stderr",
     "output_type": "stream",
     "text": [
      "\r 48%|████▊     | 53241/111923 [00:38<00:42, 1384.09it/s]"
     ]
    },
    {
     "name": "stderr",
     "output_type": "stream",
     "text": [
      "\r 48%|████▊     | 53409/111923 [00:38<00:42, 1384.22it/s]"
     ]
    },
    {
     "name": "stderr",
     "output_type": "stream",
     "text": [
      "\r 48%|████▊     | 53605/111923 [00:38<00:42, 1385.68it/s]"
     ]
    },
    {
     "name": "stderr",
     "output_type": "stream",
     "text": [
      "\r 48%|████▊     | 53776/111923 [00:38<00:41, 1385.39it/s]"
     ]
    },
    {
     "name": "stderr",
     "output_type": "stream",
     "text": [
      "\r 48%|████▊     | 53941/111923 [00:38<00:41, 1386.04it/s]"
     ]
    },
    {
     "name": "stderr",
     "output_type": "stream",
     "text": [
      "\r 48%|████▊     | 54145/111923 [00:39<00:41, 1387.69it/s]"
     ]
    },
    {
     "name": "stderr",
     "output_type": "stream",
     "text": [
      "\r 49%|████▊     | 54340/111923 [00:39<00:41, 1389.10it/s]"
     ]
    },
    {
     "name": "stderr",
     "output_type": "stream",
     "text": [
      "\r 49%|████▊     | 54522/111923 [00:39<00:41, 1390.19it/s]"
     ]
    },
    {
     "name": "stderr",
     "output_type": "stream",
     "text": [
      "\r 49%|████▉     | 54730/111923 [00:39<00:41, 1391.92it/s]"
     ]
    },
    {
     "name": "stderr",
     "output_type": "stream",
     "text": [
      "\r 49%|████▉     | 54918/111923 [00:39<00:40, 1392.85it/s]"
     ]
    },
    {
     "name": "stderr",
     "output_type": "stream",
     "text": [
      "\r 49%|████▉     | 55102/111923 [00:39<00:40, 1390.55it/s]"
     ]
    },
    {
     "name": "stderr",
     "output_type": "stream",
     "text": [
      "\r 49%|████▉     | 55259/111923 [00:39<00:40, 1388.88it/s]"
     ]
    },
    {
     "name": "stderr",
     "output_type": "stream",
     "text": [
      "\r 49%|████▉     | 55398/111923 [00:39<00:40, 1387.61it/s]"
     ]
    },
    {
     "name": "stderr",
     "output_type": "stream",
     "text": [
      "\r 50%|████▉     | 55526/111923 [00:40<00:40, 1386.62it/s]"
     ]
    },
    {
     "name": "stderr",
     "output_type": "stream",
     "text": [
      "\r 50%|████▉     | 55648/111923 [00:40<00:40, 1385.87it/s]"
     ]
    },
    {
     "name": "stderr",
     "output_type": "stream",
     "text": [
      "\r 50%|████▉     | 55767/111923 [00:40<00:40, 1385.02it/s]"
     ]
    },
    {
     "name": "stderr",
     "output_type": "stream",
     "text": [
      "\r 50%|████▉     | 55882/111923 [00:40<00:40, 1384.07it/s]"
     ]
    },
    {
     "name": "stderr",
     "output_type": "stream",
     "text": [
      "\r 50%|█████     | 55994/111923 [00:40<00:40, 1383.01it/s]"
     ]
    },
    {
     "name": "stderr",
     "output_type": "stream",
     "text": [
      "\r 50%|█████     | 56111/111923 [00:40<00:40, 1382.46it/s]"
     ]
    },
    {
     "name": "stderr",
     "output_type": "stream",
     "text": [
      "\r 50%|█████     | 56227/111923 [00:40<00:40, 1381.91it/s]"
     ]
    },
    {
     "name": "stderr",
     "output_type": "stream",
     "text": [
      "\r 50%|█████     | 56340/111923 [00:40<00:40, 1381.18it/s]"
     ]
    },
    {
     "name": "stderr",
     "output_type": "stream",
     "text": [
      "\r 50%|█████     | 56452/111923 [00:40<00:40, 1380.48it/s]"
     ]
    },
    {
     "name": "stderr",
     "output_type": "stream",
     "text": [
      "\r 51%|█████     | 56567/111923 [00:40<00:40, 1379.89it/s]"
     ]
    },
    {
     "name": "stderr",
     "output_type": "stream",
     "text": [
      "\r 51%|█████     | 56679/111923 [00:41<00:40, 1379.10it/s]"
     ]
    },
    {
     "name": "stderr",
     "output_type": "stream",
     "text": [
      "\r 51%|█████     | 56790/111923 [00:41<00:40, 1378.19it/s]"
     ]
    },
    {
     "name": "stderr",
     "output_type": "stream",
     "text": [
      "\r 51%|█████     | 56899/111923 [00:41<00:39, 1377.43it/s]"
     ]
    },
    {
     "name": "stderr",
     "output_type": "stream",
     "text": [
      "\r 51%|█████     | 57007/111923 [00:41<00:39, 1376.66it/s]"
     ]
    },
    {
     "name": "stderr",
     "output_type": "stream",
     "text": [
      "\r 51%|█████     | 57208/111923 [00:41<00:39, 1378.16it/s]"
     ]
    },
    {
     "name": "stderr",
     "output_type": "stream",
     "text": [
      "\r 51%|█████▏    | 57424/111923 [00:41<00:39, 1380.02it/s]"
     ]
    },
    {
     "name": "stderr",
     "output_type": "stream",
     "text": [
      "\r 51%|█████▏    | 57604/111923 [00:41<00:39, 1381.01it/s]"
     ]
    },
    {
     "name": "stderr",
     "output_type": "stream",
     "text": [
      "\r 52%|█████▏    | 57795/111923 [00:41<00:39, 1382.25it/s]"
     ]
    },
    {
     "name": "stderr",
     "output_type": "stream",
     "text": [
      "\r 52%|█████▏    | 57975/111923 [00:41<00:39, 1383.22it/s]"
     ]
    },
    {
     "name": "stderr",
     "output_type": "stream",
     "text": [
      "\r 52%|█████▏    | 58178/111923 [00:42<00:38, 1384.74it/s]"
     ]
    },
    {
     "name": "stderr",
     "output_type": "stream",
     "text": [
      "\r 52%|█████▏    | 58379/111923 [00:42<00:38, 1386.20it/s]"
     ]
    },
    {
     "name": "stderr",
     "output_type": "stream",
     "text": [
      "\r 52%|█████▏    | 58583/111923 [00:42<00:38, 1387.72it/s]"
     ]
    },
    {
     "name": "stderr",
     "output_type": "stream",
     "text": [
      "\r 53%|█████▎    | 58785/111923 [00:42<00:38, 1389.19it/s]"
     ]
    },
    {
     "name": "stderr",
     "output_type": "stream",
     "text": [
      "\r 53%|█████▎    | 58980/111923 [00:42<00:38, 1390.45it/s]"
     ]
    },
    {
     "name": "stderr",
     "output_type": "stream",
     "text": [
      "\r 53%|█████▎    | 59182/111923 [00:42<00:37, 1391.91it/s]"
     ]
    },
    {
     "name": "stderr",
     "output_type": "stream",
     "text": [
      "\r 53%|█████▎    | 59381/111923 [00:42<00:37, 1393.29it/s]"
     ]
    },
    {
     "name": "stderr",
     "output_type": "stream",
     "text": [
      "\r 53%|█████▎    | 59578/111923 [00:42<00:37, 1394.55it/s]"
     ]
    },
    {
     "name": "stderr",
     "output_type": "stream",
     "text": [
      "\r 53%|█████▎    | 59774/111923 [00:42<00:37, 1395.84it/s]"
     ]
    },
    {
     "name": "stderr",
     "output_type": "stream",
     "text": [
      "\r 54%|█████▎    | 59976/111923 [00:42<00:37, 1397.27it/s]"
     ]
    },
    {
     "name": "stderr",
     "output_type": "stream",
     "text": [
      "\r 54%|█████▍    | 60184/111923 [00:43<00:36, 1398.84it/s]"
     ]
    },
    {
     "name": "stderr",
     "output_type": "stream",
     "text": [
      "\r 54%|█████▍    | 60391/111923 [00:43<00:36, 1400.37it/s]"
     ]
    },
    {
     "name": "stderr",
     "output_type": "stream",
     "text": [
      "\r 54%|█████▍    | 60600/111923 [00:43<00:36, 1401.94it/s]"
     ]
    },
    {
     "name": "stderr",
     "output_type": "stream",
     "text": [
      "\r 54%|█████▍    | 60804/111923 [00:43<00:36, 1402.89it/s]"
     ]
    },
    {
     "name": "stderr",
     "output_type": "stream",
     "text": [
      "\r 55%|█████▍    | 60999/111923 [00:43<00:36, 1403.97it/s]"
     ]
    },
    {
     "name": "stderr",
     "output_type": "stream",
     "text": [
      "\r 55%|█████▍    | 61191/111923 [00:43<00:36, 1402.30it/s]"
     ]
    },
    {
     "name": "stderr",
     "output_type": "stream",
     "text": [
      "\r 55%|█████▍    | 61356/111923 [00:43<00:36, 1400.48it/s]"
     ]
    },
    {
     "name": "stderr",
     "output_type": "stream",
     "text": [
      "\r 55%|█████▍    | 61500/111923 [00:43<00:36, 1398.89it/s]"
     ]
    },
    {
     "name": "stderr",
     "output_type": "stream",
     "text": [
      "\r 55%|█████▌    | 61629/111923 [00:44<00:35, 1397.73it/s]"
     ]
    },
    {
     "name": "stderr",
     "output_type": "stream",
     "text": [
      "\r 55%|█████▌    | 61750/111923 [00:44<00:35, 1396.97it/s]"
     ]
    },
    {
     "name": "stderr",
     "output_type": "stream",
     "text": [
      "\r 55%|█████▌    | 61867/111923 [00:44<00:35, 1396.05it/s]"
     ]
    },
    {
     "name": "stderr",
     "output_type": "stream",
     "text": [
      "\r 55%|█████▌    | 61981/111923 [00:44<00:35, 1395.08it/s]"
     ]
    },
    {
     "name": "stderr",
     "output_type": "stream",
     "text": [
      "\r 55%|█████▌    | 62091/111923 [00:44<00:35, 1394.11it/s]"
     ]
    },
    {
     "name": "stderr",
     "output_type": "stream",
     "text": [
      "\r 56%|█████▌    | 62198/111923 [00:44<00:35, 1393.33it/s]"
     ]
    },
    {
     "name": "stderr",
     "output_type": "stream",
     "text": [
      "\r 56%|█████▌    | 62305/111923 [00:44<00:35, 1392.59it/s]"
     ]
    },
    {
     "name": "stderr",
     "output_type": "stream",
     "text": [
      "\r 56%|█████▌    | 62412/111923 [00:44<00:35, 1391.47it/s]"
     ]
    },
    {
     "name": "stderr",
     "output_type": "stream",
     "text": [
      "\r 56%|█████▌    | 62522/111923 [00:44<00:35, 1390.80it/s]"
     ]
    },
    {
     "name": "stderr",
     "output_type": "stream",
     "text": [
      "\r 56%|█████▌    | 62629/111923 [00:45<00:35, 1390.07it/s]"
     ]
    },
    {
     "name": "stderr",
     "output_type": "stream",
     "text": [
      "\r 56%|█████▌    | 62742/111923 [00:45<00:35, 1389.44it/s]"
     ]
    },
    {
     "name": "stderr",
     "output_type": "stream",
     "text": [
      "\r 56%|█████▌    | 62850/111923 [00:45<00:35, 1388.73it/s]"
     ]
    },
    {
     "name": "stderr",
     "output_type": "stream",
     "text": [
      "\r 56%|█████▋    | 62958/111923 [00:45<00:35, 1388.00it/s]"
     ]
    },
    {
     "name": "stderr",
     "output_type": "stream",
     "text": [
      "\r 56%|█████▋    | 63068/111923 [00:45<00:35, 1387.28it/s]"
     ]
    },
    {
     "name": "stderr",
     "output_type": "stream",
     "text": [
      "\r 56%|█████▋    | 63179/111923 [00:45<00:35, 1386.65it/s]"
     ]
    },
    {
     "name": "stderr",
     "output_type": "stream",
     "text": [
      "\r 57%|█████▋    | 63287/111923 [00:45<00:35, 1385.96it/s]"
     ]
    },
    {
     "name": "stderr",
     "output_type": "stream",
     "text": [
      "\r 57%|█████▋    | 63395/111923 [00:45<00:35, 1385.21it/s]"
     ]
    },
    {
     "name": "stderr",
     "output_type": "stream",
     "text": [
      "\r 57%|█████▋    | 63503/111923 [00:45<00:34, 1384.52it/s]"
     ]
    },
    {
     "name": "stderr",
     "output_type": "stream",
     "text": [
      "\r 57%|█████▋    | 63613/111923 [00:45<00:34, 1383.88it/s]"
     ]
    },
    {
     "name": "stderr",
     "output_type": "stream",
     "text": [
      "\r 57%|█████▋    | 63725/111923 [00:46<00:34, 1383.28it/s]"
     ]
    },
    {
     "name": "stderr",
     "output_type": "stream",
     "text": [
      "\r 57%|█████▋    | 63834/111923 [00:46<00:34, 1382.29it/s]"
     ]
    },
    {
     "name": "stderr",
     "output_type": "stream",
     "text": [
      "\r 57%|█████▋    | 63942/111923 [00:46<00:34, 1381.62it/s]"
     ]
    },
    {
     "name": "stderr",
     "output_type": "stream",
     "text": [
      "\r 57%|█████▋    | 64048/111923 [00:46<00:34, 1380.87it/s]"
     ]
    },
    {
     "name": "stderr",
     "output_type": "stream",
     "text": [
      "\r 57%|█████▋    | 64154/111923 [00:46<00:34, 1379.77it/s]"
     ]
    },
    {
     "name": "stderr",
     "output_type": "stream",
     "text": [
      "\r 57%|█████▋    | 64257/111923 [00:46<00:34, 1378.97it/s]"
     ]
    },
    {
     "name": "stderr",
     "output_type": "stream",
     "text": [
      "\r 58%|█████▊    | 64361/111923 [00:46<00:34, 1378.19it/s]"
     ]
    },
    {
     "name": "stderr",
     "output_type": "stream",
     "text": [
      "\r 58%|█████▊    | 64463/111923 [00:46<00:34, 1377.23it/s]"
     ]
    },
    {
     "name": "stderr",
     "output_type": "stream",
     "text": [
      "\r 58%|█████▊    | 64571/111923 [00:46<00:34, 1376.57it/s]"
     ]
    },
    {
     "name": "stderr",
     "output_type": "stream",
     "text": [
      "\r 58%|█████▊    | 64684/111923 [00:47<00:34, 1376.03it/s]"
     ]
    },
    {
     "name": "stderr",
     "output_type": "stream",
     "text": [
      "\r 58%|█████▊    | 64790/111923 [00:47<00:34, 1375.25it/s]"
     ]
    },
    {
     "name": "stderr",
     "output_type": "stream",
     "text": [
      "\r 58%|█████▊    | 64895/111923 [00:47<00:34, 1374.33it/s]"
     ]
    },
    {
     "name": "stderr",
     "output_type": "stream",
     "text": [
      "\r 58%|█████▊    | 64998/111923 [00:47<00:34, 1373.29it/s]"
     ]
    },
    {
     "name": "stderr",
     "output_type": "stream",
     "text": [
      "\r 58%|█████▊    | 65098/111923 [00:47<00:34, 1372.43it/s]"
     ]
    },
    {
     "name": "stderr",
     "output_type": "stream",
     "text": [
      "\r 58%|█████▊    | 65198/111923 [00:47<00:34, 1371.62it/s]"
     ]
    },
    {
     "name": "stderr",
     "output_type": "stream",
     "text": [
      "\r 58%|█████▊    | 65297/111923 [00:47<00:34, 1370.74it/s]"
     ]
    },
    {
     "name": "stderr",
     "output_type": "stream",
     "text": [
      "\r 58%|█████▊    | 65402/111923 [00:47<00:33, 1370.05it/s]"
     ]
    },
    {
     "name": "stderr",
     "output_type": "stream",
     "text": [
      "\r 59%|█████▊    | 65508/111923 [00:47<00:33, 1369.38it/s]"
     ]
    },
    {
     "name": "stderr",
     "output_type": "stream",
     "text": [
      "\r 59%|█████▊    | 65615/111923 [00:47<00:33, 1368.73it/s]"
     ]
    },
    {
     "name": "stderr",
     "output_type": "stream",
     "text": [
      "\r 59%|█████▊    | 65726/111923 [00:48<00:33, 1368.17it/s]"
     ]
    },
    {
     "name": "stderr",
     "output_type": "stream",
     "text": [
      "\r 59%|█████▉    | 65834/111923 [00:48<00:33, 1367.55it/s]"
     ]
    },
    {
     "name": "stderr",
     "output_type": "stream",
     "text": [
      "\r 59%|█████▉    | 65946/111923 [00:48<00:33, 1367.02it/s]"
     ]
    },
    {
     "name": "stderr",
     "output_type": "stream",
     "text": [
      "\r 59%|█████▉    | 66054/111923 [00:48<00:33, 1366.32it/s]"
     ]
    },
    {
     "name": "stderr",
     "output_type": "stream",
     "text": [
      "\r 59%|█████▉    | 66162/111923 [00:48<00:33, 1365.68it/s]"
     ]
    },
    {
     "name": "stderr",
     "output_type": "stream",
     "text": [
      "\r 59%|█████▉    | 66269/111923 [00:48<00:33, 1365.02it/s]"
     ]
    },
    {
     "name": "stderr",
     "output_type": "stream",
     "text": [
      "\r 59%|█████▉    | 66375/111923 [00:48<00:33, 1363.98it/s]"
     ]
    },
    {
     "name": "stderr",
     "output_type": "stream",
     "text": [
      "\r 59%|█████▉    | 66477/111923 [00:48<00:33, 1363.20it/s]"
     ]
    },
    {
     "name": "stderr",
     "output_type": "stream",
     "text": [
      "\r 59%|█████▉    | 66579/111923 [00:48<00:33, 1362.17it/s]"
     ]
    },
    {
     "name": "stderr",
     "output_type": "stream",
     "text": [
      "\r 60%|█████▉    | 66684/111923 [00:48<00:33, 1361.51it/s]"
     ]
    },
    {
     "name": "stderr",
     "output_type": "stream",
     "text": [
      "\r 60%|█████▉    | 66784/111923 [00:49<00:33, 1360.42it/s]"
     ]
    },
    {
     "name": "stderr",
     "output_type": "stream",
     "text": [
      "\r 60%|█████▉    | 66883/111923 [00:49<00:33, 1359.65it/s]"
     ]
    },
    {
     "name": "stderr",
     "output_type": "stream",
     "text": [
      "\r 60%|█████▉    | 66985/111923 [00:49<00:33, 1358.91it/s]"
     ]
    },
    {
     "name": "stderr",
     "output_type": "stream",
     "text": [
      "\r 60%|█████▉    | 67087/111923 [00:49<00:33, 1358.17it/s]"
     ]
    },
    {
     "name": "stderr",
     "output_type": "stream",
     "text": [
      "\r 60%|██████    | 67232/111923 [00:49<00:32, 1358.33it/s]"
     ]
    },
    {
     "name": "stderr",
     "output_type": "stream",
     "text": [
      "\r 60%|██████    | 67424/111923 [00:49<00:32, 1359.46it/s]"
     ]
    },
    {
     "name": "stderr",
     "output_type": "stream",
     "text": [
      "\r 60%|██████    | 67622/111923 [00:49<00:32, 1360.69it/s]"
     ]
    },
    {
     "name": "stderr",
     "output_type": "stream",
     "text": [
      "\r 61%|██████    | 67831/111923 [00:49<00:32, 1362.13it/s]"
     ]
    },
    {
     "name": "stderr",
     "output_type": "stream",
     "text": [
      "\r 61%|██████    | 68015/111923 [00:49<00:32, 1363.07it/s]"
     ]
    },
    {
     "name": "stderr",
     "output_type": "stream",
     "text": [
      "\r 61%|██████    | 68231/111923 [00:49<00:32, 1364.64it/s]"
     ]
    },
    {
     "name": "stderr",
     "output_type": "stream",
     "text": [
      "\r 61%|██████    | 68427/111923 [00:50<00:31, 1365.81it/s]"
     ]
    },
    {
     "name": "stderr",
     "output_type": "stream",
     "text": [
      "\r 61%|██████▏   | 68625/111923 [00:50<00:31, 1367.01it/s]"
     ]
    },
    {
     "name": "stderr",
     "output_type": "stream",
     "text": [
      "\r 61%|██████▏   | 68819/111923 [00:50<00:31, 1368.13it/s]"
     ]
    },
    {
     "name": "stderr",
     "output_type": "stream",
     "text": [
      "\r 62%|██████▏   | 69011/111923 [00:50<00:31, 1369.22it/s]"
     ]
    },
    {
     "name": "stderr",
     "output_type": "stream",
     "text": [
      "\r 62%|██████▏   | 69203/111923 [00:50<00:31, 1370.21it/s]"
     ]
    },
    {
     "name": "stderr",
     "output_type": "stream",
     "text": [
      "\r 62%|██████▏   | 69402/111923 [00:50<00:31, 1371.39it/s]"
     ]
    },
    {
     "name": "stderr",
     "output_type": "stream",
     "text": [
      "\r 62%|██████▏   | 69594/111923 [00:50<00:30, 1372.18it/s]"
     ]
    },
    {
     "name": "stderr",
     "output_type": "stream",
     "text": [
      "\r 62%|██████▏   | 69781/111923 [00:50<00:30, 1372.86it/s]"
     ]
    },
    {
     "name": "stderr",
     "output_type": "stream",
     "text": [
      "\r 63%|██████▎   | 69962/111923 [00:50<00:30, 1373.59it/s]"
     ]
    },
    {
     "name": "stderr",
     "output_type": "stream",
     "text": [
      "\r 63%|██████▎   | 70141/111923 [00:51<00:30, 1374.25it/s]"
     ]
    },
    {
     "name": "stderr",
     "output_type": "stream",
     "text": [
      "\r 63%|██████▎   | 70336/111923 [00:51<00:30, 1375.36it/s]"
     ]
    },
    {
     "name": "stderr",
     "output_type": "stream",
     "text": [
      "\r 63%|██████▎   | 70520/111923 [00:51<00:30, 1376.24it/s]"
     ]
    },
    {
     "name": "stderr",
     "output_type": "stream",
     "text": [
      "\r 63%|██████▎   | 70726/111923 [00:51<00:29, 1377.56it/s]"
     ]
    },
    {
     "name": "stderr",
     "output_type": "stream",
     "text": [
      "\r 63%|██████▎   | 70915/111923 [00:51<00:29, 1378.47it/s]"
     ]
    },
    {
     "name": "stderr",
     "output_type": "stream",
     "text": [
      "\r 64%|██████▎   | 71102/111923 [00:51<00:29, 1377.77it/s]"
     ]
    },
    {
     "name": "stderr",
     "output_type": "stream",
     "text": [
      "\r 64%|██████▎   | 71268/111923 [00:51<00:29, 1376.38it/s]"
     ]
    },
    {
     "name": "stderr",
     "output_type": "stream",
     "text": [
      "\r 64%|██████▍   | 71413/111923 [00:51<00:29, 1375.21it/s]"
     ]
    },
    {
     "name": "stderr",
     "output_type": "stream",
     "text": [
      "\r 64%|██████▍   | 71544/111923 [00:52<00:29, 1374.35it/s]"
     ]
    },
    {
     "name": "stderr",
     "output_type": "stream",
     "text": [
      "\r 64%|██████▍   | 71667/111923 [00:52<00:29, 1373.66it/s]"
     ]
    },
    {
     "name": "stderr",
     "output_type": "stream",
     "text": [
      "\r 64%|██████▍   | 71785/111923 [00:52<00:29, 1373.06it/s]"
     ]
    },
    {
     "name": "stderr",
     "output_type": "stream",
     "text": [
      "\r 64%|██████▍   | 71900/111923 [00:52<00:29, 1372.01it/s]"
     ]
    },
    {
     "name": "stderr",
     "output_type": "stream",
     "text": [
      "\r 64%|██████▍   | 72009/111923 [00:52<00:29, 1371.22it/s]"
     ]
    },
    {
     "name": "stderr",
     "output_type": "stream",
     "text": [
      "\r 64%|██████▍   | 72122/111923 [00:52<00:29, 1370.75it/s]"
     ]
    },
    {
     "name": "stderr",
     "output_type": "stream",
     "text": [
      "\r 65%|██████▍   | 72233/111923 [00:52<00:28, 1370.21it/s]"
     ]
    },
    {
     "name": "stderr",
     "output_type": "stream",
     "text": [
      "\r 65%|██████▍   | 72341/111923 [00:52<00:28, 1369.33it/s]"
     ]
    },
    {
     "name": "stderr",
     "output_type": "stream",
     "text": [
      "\r 65%|██████▍   | 72446/111923 [00:52<00:28, 1368.47it/s]"
     ]
    },
    {
     "name": "stderr",
     "output_type": "stream",
     "text": [
      "\r 65%|██████▍   | 72548/111923 [00:53<00:28, 1367.34it/s]"
     ]
    },
    {
     "name": "stderr",
     "output_type": "stream",
     "text": [
      "\r 65%|██████▍   | 72646/111923 [00:53<00:28, 1366.36it/s]"
     ]
    },
    {
     "name": "stderr",
     "output_type": "stream",
     "text": [
      "\r 65%|██████▍   | 72747/111923 [00:53<00:28, 1365.64it/s]"
     ]
    },
    {
     "name": "stderr",
     "output_type": "stream",
     "text": [
      "\r 65%|██████▌   | 72859/111923 [00:53<00:28, 1365.16it/s]"
     ]
    },
    {
     "name": "stderr",
     "output_type": "stream",
     "text": [
      "\r 65%|██████▌   | 72970/111923 [00:53<00:28, 1364.67it/s]"
     ]
    },
    {
     "name": "stderr",
     "output_type": "stream",
     "text": [
      "\r 65%|██████▌   | 73074/111923 [00:53<00:28, 1363.79it/s]"
     ]
    },
    {
     "name": "stderr",
     "output_type": "stream",
     "text": [
      "\r 65%|██████▌   | 73181/111923 [00:53<00:28, 1363.22it/s]"
     ]
    },
    {
     "name": "stderr",
     "output_type": "stream",
     "text": [
      "\r 65%|██████▌   | 73284/111923 [00:53<00:28, 1362.25it/s]"
     ]
    },
    {
     "name": "stderr",
     "output_type": "stream",
     "text": [
      "\r 66%|██████▌   | 73383/111923 [00:53<00:28, 1361.37it/s]"
     ]
    },
    {
     "name": "stderr",
     "output_type": "stream",
     "text": [
      "\r 66%|██████▌   | 73489/111923 [00:54<00:28, 1360.79it/s]"
     ]
    },
    {
     "name": "stderr",
     "output_type": "stream",
     "text": [
      "\r 66%|██████▌   | 73589/111923 [00:54<00:28, 1359.83it/s]"
     ]
    },
    {
     "name": "stderr",
     "output_type": "stream",
     "text": [
      "\r 66%|██████▌   | 73686/111923 [00:54<00:28, 1358.52it/s]"
     ]
    },
    {
     "name": "stderr",
     "output_type": "stream",
     "text": [
      "\r 66%|██████▌   | 73783/111923 [00:54<00:28, 1357.78it/s]"
     ]
    },
    {
     "name": "stderr",
     "output_type": "stream",
     "text": [
      "\r 66%|██████▌   | 73884/111923 [00:54<00:28, 1357.13it/s]"
     ]
    },
    {
     "name": "stderr",
     "output_type": "stream",
     "text": [
      "\r 66%|██████▌   | 73993/111923 [00:54<00:27, 1356.62it/s]"
     ]
    },
    {
     "name": "stderr",
     "output_type": "stream",
     "text": [
      "\r 66%|██████▌   | 74092/111923 [00:54<00:27, 1355.88it/s]"
     ]
    },
    {
     "name": "stderr",
     "output_type": "stream",
     "text": [
      "\r 66%|██████▋   | 74191/111923 [00:54<00:27, 1354.95it/s]"
     ]
    },
    {
     "name": "stderr",
     "output_type": "stream",
     "text": [
      "\r 66%|██████▋   | 74287/111923 [00:54<00:27, 1354.21it/s]"
     ]
    },
    {
     "name": "stderr",
     "output_type": "stream",
     "text": [
      "\r 66%|██████▋   | 74383/111923 [00:54<00:27, 1353.32it/s]"
     ]
    },
    {
     "name": "stderr",
     "output_type": "stream",
     "text": [
      "\r 67%|██████▋   | 74485/111923 [00:55<00:27, 1352.67it/s]"
     ]
    },
    {
     "name": "stderr",
     "output_type": "stream",
     "text": [
      "\r 67%|██████▋   | 74586/111923 [00:55<00:27, 1352.03it/s]"
     ]
    },
    {
     "name": "stderr",
     "output_type": "stream",
     "text": [
      "\r 67%|██████▋   | 74692/111923 [00:55<00:27, 1351.49it/s]"
     ]
    },
    {
     "name": "stderr",
     "output_type": "stream",
     "text": [
      "\r 67%|██████▋   | 74792/111923 [00:55<00:27, 1350.64it/s]"
     ]
    },
    {
     "name": "stderr",
     "output_type": "stream",
     "text": [
      "\r 67%|██████▋   | 74890/111923 [00:55<00:27, 1349.35it/s]"
     ]
    },
    {
     "name": "stderr",
     "output_type": "stream",
     "text": [
      "\r 67%|██████▋   | 74982/111923 [00:55<00:27, 1348.36it/s]"
     ]
    },
    {
     "name": "stderr",
     "output_type": "stream",
     "text": [
      "\r 67%|██████▋   | 75080/111923 [00:55<00:27, 1347.68it/s]"
     ]
    },
    {
     "name": "stderr",
     "output_type": "stream",
     "text": [
      "\r 67%|██████▋   | 75185/111923 [00:55<00:27, 1347.13it/s]"
     ]
    },
    {
     "name": "stderr",
     "output_type": "stream",
     "text": [
      "\r 67%|██████▋   | 75287/111923 [00:55<00:27, 1346.52it/s]"
     ]
    },
    {
     "name": "stderr",
     "output_type": "stream",
     "text": [
      "\r 67%|██████▋   | 75396/111923 [00:56<00:27, 1346.05it/s]"
     ]
    },
    {
     "name": "stderr",
     "output_type": "stream",
     "text": [
      "\r 67%|██████▋   | 75505/111923 [00:56<00:27, 1345.57it/s]"
     ]
    },
    {
     "name": "stderr",
     "output_type": "stream",
     "text": [
      "\r 68%|██████▊   | 75608/111923 [00:56<00:27, 1344.85it/s]"
     ]
    },
    {
     "name": "stderr",
     "output_type": "stream",
     "text": [
      "\r 68%|██████▊   | 75709/111923 [00:56<00:26, 1344.00it/s]"
     ]
    },
    {
     "name": "stderr",
     "output_type": "stream",
     "text": [
      "\r 68%|██████▊   | 75812/111923 [00:56<00:26, 1343.43it/s]"
     ]
    },
    {
     "name": "stderr",
     "output_type": "stream",
     "text": [
      "\r 68%|██████▊   | 75912/111923 [00:56<00:26, 1342.68it/s]"
     ]
    },
    {
     "name": "stderr",
     "output_type": "stream",
     "text": [
      "\r 68%|██████▊   | 76010/111923 [00:56<00:26, 1341.10it/s]"
     ]
    },
    {
     "name": "stderr",
     "output_type": "stream",
     "text": [
      "\r 68%|██████▊   | 76100/111923 [00:56<00:26, 1340.26it/s]"
     ]
    },
    {
     "name": "stderr",
     "output_type": "stream",
     "text": [
      "\r 68%|██████▊   | 76200/111923 [00:56<00:26, 1339.65it/s]"
     ]
    },
    {
     "name": "stderr",
     "output_type": "stream",
     "text": [
      "\r 68%|██████▊   | 76293/111923 [00:56<00:26, 1338.58it/s]"
     ]
    },
    {
     "name": "stderr",
     "output_type": "stream",
     "text": [
      "\r 68%|██████▊   | 76382/111923 [00:57<00:26, 1337.68it/s]"
     ]
    },
    {
     "name": "stderr",
     "output_type": "stream",
     "text": [
      "\r 68%|██████▊   | 76470/111923 [00:57<00:26, 1336.72it/s]"
     ]
    },
    {
     "name": "stderr",
     "output_type": "stream",
     "text": [
      "\r 68%|██████▊   | 76557/111923 [00:57<00:26, 1335.61it/s]"
     ]
    },
    {
     "name": "stderr",
     "output_type": "stream",
     "text": [
      "\r 68%|██████▊   | 76641/111923 [00:57<00:26, 1334.50it/s]"
     ]
    },
    {
     "name": "stderr",
     "output_type": "stream",
     "text": [
      "\r 69%|██████▊   | 76723/111923 [00:57<00:26, 1333.59it/s]"
     ]
    },
    {
     "name": "stderr",
     "output_type": "stream",
     "text": [
      "\r 69%|██████▊   | 76809/111923 [00:57<00:26, 1332.75it/s]"
     ]
    },
    {
     "name": "stderr",
     "output_type": "stream",
     "text": [
      "\r 69%|██████▊   | 76919/111923 [00:57<00:26, 1332.30it/s]"
     ]
    },
    {
     "name": "stderr",
     "output_type": "stream",
     "text": [
      "\r 69%|██████▉   | 77022/111923 [00:57<00:26, 1331.76it/s]"
     ]
    },
    {
     "name": "stderr",
     "output_type": "stream",
     "text": [
      "\r 69%|██████▉   | 77116/111923 [00:57<00:26, 1331.02it/s]"
     ]
    },
    {
     "name": "stderr",
     "output_type": "stream",
     "text": [
      "\r 69%|██████▉   | 77210/111923 [00:58<00:26, 1329.99it/s]"
     ]
    },
    {
     "name": "stderr",
     "output_type": "stream",
     "text": [
      "\r 69%|██████▉   | 77304/111923 [00:58<00:26, 1329.28it/s]"
     ]
    },
    {
     "name": "stderr",
     "output_type": "stream",
     "text": [
      "\r 69%|██████▉   | 77395/111923 [00:58<00:25, 1328.41it/s]"
     ]
    },
    {
     "name": "stderr",
     "output_type": "stream",
     "text": [
      "\r 69%|██████▉   | 77486/111923 [00:58<00:25, 1327.67it/s]"
     ]
    },
    {
     "name": "stderr",
     "output_type": "stream",
     "text": [
      "\r 69%|██████▉   | 77586/111923 [00:58<00:25, 1327.10it/s]"
     ]
    },
    {
     "name": "stderr",
     "output_type": "stream",
     "text": [
      "\r 69%|██████▉   | 77726/111923 [00:58<00:25, 1327.20it/s]"
     ]
    },
    {
     "name": "stderr",
     "output_type": "stream",
     "text": [
      "\r 70%|██████▉   | 77920/111923 [00:58<00:25, 1328.23it/s]"
     ]
    },
    {
     "name": "stderr",
     "output_type": "stream",
     "text": [
      "\r 70%|██████▉   | 78081/111923 [00:58<00:25, 1328.69it/s]"
     ]
    },
    {
     "name": "stderr",
     "output_type": "stream",
     "text": [
      "\r 70%|██████▉   | 78251/111923 [00:58<00:25, 1329.30it/s]"
     ]
    },
    {
     "name": "stderr",
     "output_type": "stream",
     "text": [
      "\r 70%|███████   | 78429/111923 [00:58<00:25, 1330.05it/s]"
     ]
    },
    {
     "name": "stderr",
     "output_type": "stream",
     "text": [
      "\r 70%|███████   | 78587/111923 [00:59<00:25, 1330.03it/s]"
     ]
    },
    {
     "name": "stderr",
     "output_type": "stream",
     "text": [
      "\r 70%|███████   | 78745/111923 [00:59<00:24, 1330.43it/s]"
     ]
    },
    {
     "name": "stderr",
     "output_type": "stream",
     "text": [
      "\r 71%|███████   | 78922/111923 [00:59<00:24, 1331.16it/s]"
     ]
    },
    {
     "name": "stderr",
     "output_type": "stream",
     "text": [
      "\r 71%|███████   | 79106/111923 [00:59<00:24, 1332.00it/s]"
     ]
    },
    {
     "name": "stderr",
     "output_type": "stream",
     "text": [
      "\r 71%|███████   | 79273/111923 [00:59<00:24, 1331.81it/s]"
     ]
    },
    {
     "name": "stderr",
     "output_type": "stream",
     "text": [
      "\r 71%|███████   | 79459/111923 [00:59<00:24, 1332.68it/s]"
     ]
    },
    {
     "name": "stderr",
     "output_type": "stream",
     "text": [
      "\r 71%|███████   | 79649/111923 [00:59<00:24, 1333.62it/s]"
     ]
    },
    {
     "name": "stderr",
     "output_type": "stream",
     "text": [
      "\r 71%|███████▏  | 79849/111923 [00:59<00:24, 1334.73it/s]"
     ]
    },
    {
     "name": "stderr",
     "output_type": "stream",
     "text": [
      "\r 72%|███████▏  | 80029/111923 [00:59<00:23, 1335.25it/s]"
     ]
    },
    {
     "name": "stderr",
     "output_type": "stream",
     "text": [
      "\r 72%|███████▏  | 80225/111923 [01:00<00:23, 1336.28it/s]"
     ]
    },
    {
     "name": "stderr",
     "output_type": "stream",
     "text": [
      "\r 72%|███████▏  | 80423/111923 [01:00<00:23, 1337.34it/s]"
     ]
    },
    {
     "name": "stderr",
     "output_type": "stream",
     "text": [
      "\r 72%|███████▏  | 80628/111923 [01:00<00:23, 1338.52it/s]"
     ]
    },
    {
     "name": "stderr",
     "output_type": "stream",
     "text": [
      "\r 72%|███████▏  | 80820/111923 [01:00<00:23, 1339.42it/s]"
     ]
    },
    {
     "name": "stderr",
     "output_type": "stream",
     "text": [
      "\r 72%|███████▏  | 81010/111923 [01:00<00:23, 1340.01it/s]"
     ]
    },
    {
     "name": "stderr",
     "output_type": "stream",
     "text": [
      "\r 73%|███████▎  | 81193/111923 [01:00<00:22, 1339.99it/s]"
     ]
    },
    {
     "name": "stderr",
     "output_type": "stream",
     "text": [
      "\r 73%|███████▎  | 81384/111923 [01:00<00:22, 1340.91it/s]"
     ]
    },
    {
     "name": "stderr",
     "output_type": "stream",
     "text": [
      "\r 73%|███████▎  | 81585/111923 [01:00<00:22, 1342.01it/s]"
     ]
    },
    {
     "name": "stderr",
     "output_type": "stream",
     "text": [
      "\r 73%|███████▎  | 81768/111923 [01:00<00:22, 1342.29it/s]"
     ]
    },
    {
     "name": "stderr",
     "output_type": "stream",
     "text": [
      "\r 73%|███████▎  | 81940/111923 [01:01<00:22, 1342.81it/s]"
     ]
    },
    {
     "name": "stderr",
     "output_type": "stream",
     "text": [
      "\r 73%|███████▎  | 82110/111923 [01:01<00:22, 1342.91it/s]"
     ]
    },
    {
     "name": "stderr",
     "output_type": "stream",
     "text": [
      "\r 74%|███████▎  | 82294/111923 [01:01<00:22, 1343.70it/s]"
     ]
    },
    {
     "name": "stderr",
     "output_type": "stream",
     "text": [
      "\r 74%|███████▎  | 82468/111923 [01:01<00:21, 1344.34it/s]"
     ]
    },
    {
     "name": "stderr",
     "output_type": "stream",
     "text": [
      "\r 74%|███████▍  | 82652/111923 [01:01<00:21, 1345.15it/s]"
     ]
    },
    {
     "name": "stderr",
     "output_type": "stream",
     "text": [
      "\r 74%|███████▍  | 82826/111923 [01:01<00:21, 1345.60it/s]"
     ]
    },
    {
     "name": "stderr",
     "output_type": "stream",
     "text": [
      "\r 74%|███████▍  | 82996/111923 [01:01<00:21, 1344.78it/s]"
     ]
    },
    {
     "name": "stderr",
     "output_type": "stream",
     "text": [
      "\r 74%|███████▍  | 83146/111923 [01:01<00:21, 1343.74it/s]"
     ]
    },
    {
     "name": "stderr",
     "output_type": "stream",
     "text": [
      "\r 74%|███████▍  | 83280/111923 [01:02<00:21, 1342.92it/s]"
     ]
    },
    {
     "name": "stderr",
     "output_type": "stream",
     "text": [
      "\r 75%|███████▍  | 83403/111923 [01:02<00:21, 1342.18it/s]"
     ]
    },
    {
     "name": "stderr",
     "output_type": "stream",
     "text": [
      "\r 75%|███████▍  | 83518/111923 [01:02<00:21, 1341.69it/s]"
     ]
    },
    {
     "name": "stderr",
     "output_type": "stream",
     "text": [
      "\r 75%|███████▍  | 83631/111923 [01:02<00:21, 1340.84it/s]"
     ]
    },
    {
     "name": "stderr",
     "output_type": "stream",
     "text": [
      "\r 75%|███████▍  | 83737/111923 [01:02<00:21, 1340.11it/s]"
     ]
    },
    {
     "name": "stderr",
     "output_type": "stream",
     "text": [
      "\r 75%|███████▍  | 83840/111923 [01:02<00:20, 1339.24it/s]"
     ]
    },
    {
     "name": "stderr",
     "output_type": "stream",
     "text": [
      "\r 75%|███████▍  | 83938/111923 [01:02<00:20, 1338.61it/s]"
     ]
    },
    {
     "name": "stderr",
     "output_type": "stream",
     "text": [
      "\r 75%|███████▌  | 84036/111923 [01:02<00:20, 1337.96it/s]"
     ]
    },
    {
     "name": "stderr",
     "output_type": "stream",
     "text": [
      "\r 75%|███████▌  | 84133/111923 [01:02<00:20, 1337.21it/s]"
     ]
    },
    {
     "name": "stderr",
     "output_type": "stream",
     "text": [
      "\r 75%|███████▌  | 84232/111923 [01:03<00:20, 1336.62it/s]"
     ]
    },
    {
     "name": "stderr",
     "output_type": "stream",
     "text": [
      "\r 75%|███████▌  | 84333/111923 [01:03<00:20, 1336.08it/s]"
     ]
    },
    {
     "name": "stderr",
     "output_type": "stream",
     "text": [
      "\r 75%|███████▌  | 84438/111923 [01:03<00:20, 1335.62it/s]"
     ]
    },
    {
     "name": "stderr",
     "output_type": "stream",
     "text": [
      "\r 76%|███████▌  | 84538/111923 [01:03<00:20, 1334.57it/s]"
     ]
    },
    {
     "name": "stderr",
     "output_type": "stream",
     "text": [
      "\r 76%|███████▌  | 84632/111923 [01:03<00:20, 1333.74it/s]"
     ]
    },
    {
     "name": "stderr",
     "output_type": "stream",
     "text": [
      "\r 76%|███████▌  | 84724/111923 [01:03<00:20, 1332.84it/s]"
     ]
    },
    {
     "name": "stderr",
     "output_type": "stream",
     "text": [
      "\r 76%|███████▌  | 84813/111923 [01:03<00:20, 1332.05it/s]"
     ]
    },
    {
     "name": "stderr",
     "output_type": "stream",
     "text": [
      "\r 76%|███████▌  | 84906/111923 [01:03<00:20, 1331.40it/s]"
     ]
    },
    {
     "name": "stderr",
     "output_type": "stream",
     "text": [
      "\r 76%|███████▌  | 85001/111923 [01:03<00:20, 1330.79it/s]"
     ]
    },
    {
     "name": "stderr",
     "output_type": "stream",
     "text": [
      "\r 76%|███████▌  | 85108/111923 [01:03<00:20, 1330.36it/s]"
     ]
    },
    {
     "name": "stderr",
     "output_type": "stream",
     "text": [
      "\r 76%|███████▌  | 85204/111923 [01:04<00:20, 1329.62it/s]"
     ]
    },
    {
     "name": "stderr",
     "output_type": "stream",
     "text": [
      "\r 76%|███████▌  | 85308/111923 [01:04<00:20, 1329.16it/s]"
     ]
    },
    {
     "name": "stderr",
     "output_type": "stream",
     "text": [
      "\r 76%|███████▋  | 85405/111923 [01:04<00:19, 1328.35it/s]"
     ]
    },
    {
     "name": "stderr",
     "output_type": "stream",
     "text": [
      "\r 76%|███████▋  | 85500/111923 [01:04<00:19, 1327.75it/s]"
     ]
    },
    {
     "name": "stderr",
     "output_type": "stream",
     "text": [
      "\r 76%|███████▋  | 85595/111923 [01:04<00:19, 1327.15it/s]"
     ]
    },
    {
     "name": "stderr",
     "output_type": "stream",
     "text": [
      "\r 77%|███████▋  | 85700/111923 [01:04<00:19, 1326.70it/s]"
     ]
    },
    {
     "name": "stderr",
     "output_type": "stream",
     "text": [
      "\r 77%|███████▋  | 85797/111923 [01:04<00:19, 1326.12it/s]"
     ]
    },
    {
     "name": "stderr",
     "output_type": "stream",
     "text": [
      "\r 77%|███████▋  | 85900/111923 [01:04<00:19, 1325.64it/s]"
     ]
    },
    {
     "name": "stderr",
     "output_type": "stream",
     "text": [
      "\r 77%|███████▋  | 85999/111923 [01:04<00:19, 1325.07it/s]"
     ]
    },
    {
     "name": "stderr",
     "output_type": "stream",
     "text": [
      "\r 77%|███████▋  | 86099/111923 [01:05<00:19, 1324.55it/s]"
     ]
    },
    {
     "name": "stderr",
     "output_type": "stream",
     "text": [
      "\r 77%|███████▋  | 86201/111923 [01:05<00:19, 1324.07it/s]"
     ]
    },
    {
     "name": "stderr",
     "output_type": "stream",
     "text": [
      "\r 77%|███████▋  | 86301/111923 [01:05<00:19, 1323.48it/s]"
     ]
    },
    {
     "name": "stderr",
     "output_type": "stream",
     "text": [
      "\r 77%|███████▋  | 86399/111923 [01:05<00:19, 1322.81it/s]"
     ]
    },
    {
     "name": "stderr",
     "output_type": "stream",
     "text": [
      "\r 77%|███████▋  | 86507/111923 [01:05<00:19, 1322.43it/s]"
     ]
    },
    {
     "name": "stderr",
     "output_type": "stream",
     "text": [
      "\r 77%|███████▋  | 86609/111923 [01:05<00:19, 1321.96it/s]"
     ]
    },
    {
     "name": "stderr",
     "output_type": "stream",
     "text": [
      "\r 77%|███████▋  | 86710/111923 [01:05<00:19, 1321.48it/s]"
     ]
    },
    {
     "name": "stderr",
     "output_type": "stream",
     "text": [
      "\r 78%|███████▊  | 86811/111923 [01:05<00:19, 1320.73it/s]"
     ]
    },
    {
     "name": "stderr",
     "output_type": "stream",
     "text": [
      "\r 78%|███████▊  | 86918/111923 [01:05<00:18, 1320.34it/s]"
     ]
    },
    {
     "name": "stderr",
     "output_type": "stream",
     "text": [
      "\r 78%|███████▊  | 87029/111923 [01:05<00:18, 1320.00it/s]"
     ]
    },
    {
     "name": "stderr",
     "output_type": "stream",
     "text": [
      "\r 78%|███████▊  | 87138/111923 [01:06<00:18, 1319.64it/s]"
     ]
    },
    {
     "name": "stderr",
     "output_type": "stream",
     "text": [
      "\r 78%|███████▊  | 87243/111923 [01:06<00:18, 1319.22it/s]"
     ]
    },
    {
     "name": "stderr",
     "output_type": "stream",
     "text": [
      "\r 78%|███████▊  | 87354/111923 [01:06<00:18, 1318.89it/s]"
     ]
    },
    {
     "name": "stderr",
     "output_type": "stream",
     "text": [
      "\r 78%|███████▊  | 87461/111923 [01:06<00:18, 1318.12it/s]"
     ]
    },
    {
     "name": "stderr",
     "output_type": "stream",
     "text": [
      "\r 78%|███████▊  | 87573/111923 [01:06<00:18, 1317.81it/s]"
     ]
    },
    {
     "name": "stderr",
     "output_type": "stream",
     "text": [
      "\r 78%|███████▊  | 87678/111923 [01:06<00:18, 1317.27it/s]"
     ]
    },
    {
     "name": "stderr",
     "output_type": "stream",
     "text": [
      "\r 78%|███████▊  | 87782/111923 [01:06<00:18, 1316.84it/s]"
     ]
    },
    {
     "name": "stderr",
     "output_type": "stream",
     "text": [
      "\r 79%|███████▊  | 87886/111923 [01:06<00:18, 1316.41it/s]"
     ]
    },
    {
     "name": "stderr",
     "output_type": "stream",
     "text": [
      "\r 79%|███████▊  | 87994/111923 [01:06<00:18, 1316.04it/s]"
     ]
    },
    {
     "name": "stderr",
     "output_type": "stream",
     "text": [
      "\r 79%|███████▊  | 88101/111923 [01:06<00:18, 1315.66it/s]"
     ]
    },
    {
     "name": "stderr",
     "output_type": "stream",
     "text": [
      "\r 79%|███████▉  | 88206/111923 [01:07<00:18, 1315.15it/s]"
     ]
    },
    {
     "name": "stderr",
     "output_type": "stream",
     "text": [
      "\r 79%|███████▉  | 88310/111923 [01:07<00:17, 1314.73it/s]"
     ]
    },
    {
     "name": "stderr",
     "output_type": "stream",
     "text": [
      "\r 79%|███████▉  | 88418/111923 [01:07<00:17, 1314.36it/s]"
     ]
    },
    {
     "name": "stderr",
     "output_type": "stream",
     "text": [
      "\r 79%|███████▉  | 88523/111923 [01:07<00:17, 1313.72it/s]"
     ]
    },
    {
     "name": "stderr",
     "output_type": "stream",
     "text": [
      "\r 79%|███████▉  | 88628/111923 [01:07<00:17, 1313.32it/s]"
     ]
    },
    {
     "name": "stderr",
     "output_type": "stream",
     "text": [
      "\r 79%|███████▉  | 88735/111923 [01:07<00:17, 1312.94it/s]"
     ]
    },
    {
     "name": "stderr",
     "output_type": "stream",
     "text": [
      "\r 79%|███████▉  | 88929/111923 [01:07<00:17, 1313.85it/s]"
     ]
    },
    {
     "name": "stderr",
     "output_type": "stream",
     "text": [
      "\r 80%|███████▉  | 89126/111923 [01:07<00:17, 1314.80it/s]"
     ]
    },
    {
     "name": "stderr",
     "output_type": "stream",
     "text": [
      "\r 80%|███████▉  | 89316/111923 [01:07<00:17, 1315.65it/s]"
     ]
    },
    {
     "name": "stderr",
     "output_type": "stream",
     "text": [
      "\r 80%|███████▉  | 89519/111923 [01:07<00:17, 1316.70it/s]"
     ]
    },
    {
     "name": "stderr",
     "output_type": "stream",
     "text": [
      "\r 80%|████████  | 89722/111923 [01:08<00:16, 1317.73it/s]"
     ]
    },
    {
     "name": "stderr",
     "output_type": "stream",
     "text": [
      "\r 80%|████████  | 89905/111923 [01:08<00:16, 1318.25it/s]"
     ]
    },
    {
     "name": "stderr",
     "output_type": "stream",
     "text": [
      "\r 80%|████████  | 90088/111923 [01:08<00:16, 1318.99it/s]"
     ]
    },
    {
     "name": "stderr",
     "output_type": "stream",
     "text": [
      "\r 81%|████████  | 90277/111923 [01:08<00:16, 1319.81it/s]"
     ]
    },
    {
     "name": "stderr",
     "output_type": "stream",
     "text": [
      "\r 81%|████████  | 90458/111923 [01:08<00:16, 1320.41it/s]"
     ]
    },
    {
     "name": "stderr",
     "output_type": "stream",
     "text": [
      "\r 81%|████████  | 90638/111923 [01:08<00:16, 1321.09it/s]"
     ]
    },
    {
     "name": "stderr",
     "output_type": "stream",
     "text": [
      "\r 81%|████████  | 90832/111923 [01:08<00:15, 1321.98it/s]"
     ]
    },
    {
     "name": "stderr",
     "output_type": "stream",
     "text": [
      "\r 81%|████████▏ | 91026/111923 [01:08<00:15, 1322.86it/s]"
     ]
    },
    {
     "name": "stderr",
     "output_type": "stream",
     "text": [
      "\r 81%|████████▏ | 91214/111923 [01:08<00:15, 1323.65it/s]"
     ]
    },
    {
     "name": "stderr",
     "output_type": "stream",
     "text": [
      "\r 82%|████████▏ | 91412/111923 [01:09<00:15, 1324.60it/s]"
     ]
    },
    {
     "name": "stderr",
     "output_type": "stream",
     "text": [
      "\r 82%|████████▏ | 91610/111923 [01:09<00:15, 1325.53it/s]"
     ]
    },
    {
     "name": "stderr",
     "output_type": "stream",
     "text": [
      "\r 82%|████████▏ | 91802/111923 [01:09<00:15, 1326.30it/s]"
     ]
    },
    {
     "name": "stderr",
     "output_type": "stream",
     "text": [
      "\r 82%|████████▏ | 92004/111923 [01:09<00:15, 1327.28it/s]"
     ]
    },
    {
     "name": "stderr",
     "output_type": "stream",
     "text": [
      "\r 82%|████████▏ | 92197/111923 [01:09<00:14, 1327.71it/s]"
     ]
    },
    {
     "name": "stderr",
     "output_type": "stream",
     "text": [
      "\r 83%|████████▎ | 92379/111923 [01:09<00:14, 1327.64it/s]"
     ]
    },
    {
     "name": "stderr",
     "output_type": "stream",
     "text": [
      "\r 83%|████████▎ | 92545/111923 [01:09<00:14, 1327.04it/s]"
     ]
    },
    {
     "name": "stderr",
     "output_type": "stream",
     "text": [
      "\r 83%|████████▎ | 92693/111923 [01:09<00:14, 1326.62it/s]"
     ]
    },
    {
     "name": "stderr",
     "output_type": "stream",
     "text": [
      "\r 83%|████████▎ | 92830/111923 [01:09<00:14, 1326.16it/s]"
     ]
    },
    {
     "name": "stderr",
     "output_type": "stream",
     "text": [
      "\r 83%|████████▎ | 92958/111923 [01:10<00:14, 1324.79it/s]"
     ]
    },
    {
     "name": "stderr",
     "output_type": "stream",
     "text": [
      "\r 83%|████████▎ | 93071/111923 [01:10<00:14, 1323.84it/s]"
     ]
    },
    {
     "name": "stderr",
     "output_type": "stream",
     "text": [
      "\r 83%|████████▎ | 93175/111923 [01:10<00:14, 1323.35it/s]"
     ]
    },
    {
     "name": "stderr",
     "output_type": "stream",
     "text": [
      "\r 83%|████████▎ | 93282/111923 [01:10<00:14, 1322.97it/s]"
     ]
    },
    {
     "name": "stderr",
     "output_type": "stream",
     "text": [
      "\r 83%|████████▎ | 93389/111923 [01:10<00:14, 1322.58it/s]"
     ]
    },
    {
     "name": "stderr",
     "output_type": "stream",
     "text": [
      "\r 84%|████████▎ | 93493/111923 [01:10<00:13, 1321.94it/s]"
     ]
    },
    {
     "name": "stderr",
     "output_type": "stream",
     "text": [
      "\r 84%|████████▎ | 93594/111923 [01:10<00:13, 1321.45it/s]"
     ]
    },
    {
     "name": "stderr",
     "output_type": "stream",
     "text": [
      "\r 84%|████████▎ | 93695/111923 [01:10<00:13, 1321.00it/s]"
     ]
    },
    {
     "name": "stderr",
     "output_type": "stream",
     "text": [
      "\r 84%|████████▍ | 93806/111923 [01:11<00:13, 1320.69it/s]"
     ]
    },
    {
     "name": "stderr",
     "output_type": "stream",
     "text": [
      "\r 84%|████████▍ | 93910/111923 [01:11<00:13, 1320.19it/s]"
     ]
    },
    {
     "name": "stderr",
     "output_type": "stream",
     "text": [
      "\r 84%|████████▍ | 94023/111923 [01:11<00:13, 1319.91it/s]"
     ]
    },
    {
     "name": "stderr",
     "output_type": "stream",
     "text": [
      "\r 84%|████████▍ | 94128/111923 [01:11<00:13, 1319.48it/s]"
     ]
    },
    {
     "name": "stderr",
     "output_type": "stream",
     "text": [
      "\r 84%|████████▍ | 94233/111923 [01:11<00:13, 1319.01it/s]"
     ]
    },
    {
     "name": "stderr",
     "output_type": "stream",
     "text": [
      "\r 84%|████████▍ | 94336/111923 [01:11<00:13, 1318.43it/s]"
     ]
    },
    {
     "name": "stderr",
     "output_type": "stream",
     "text": [
      "\r 84%|████████▍ | 94438/111923 [01:11<00:13, 1318.00it/s]"
     ]
    },
    {
     "name": "stderr",
     "output_type": "stream",
     "text": [
      "\r 84%|████████▍ | 94547/111923 [01:11<00:13, 1317.67it/s]"
     ]
    },
    {
     "name": "stderr",
     "output_type": "stream",
     "text": [
      "\r 85%|████████▍ | 94650/111923 [01:11<00:13, 1317.22it/s]"
     ]
    },
    {
     "name": "stderr",
     "output_type": "stream",
     "text": [
      "\r 85%|████████▍ | 94756/111923 [01:11<00:13, 1316.85it/s]"
     ]
    },
    {
     "name": "stderr",
     "output_type": "stream",
     "text": [
      "\r 85%|████████▍ | 94865/111923 [01:12<00:12, 1316.50it/s]"
     ]
    },
    {
     "name": "stderr",
     "output_type": "stream",
     "text": [
      "\r 85%|████████▍ | 94970/111923 [01:12<00:12, 1315.90it/s]"
     ]
    },
    {
     "name": "stderr",
     "output_type": "stream",
     "text": [
      "\r 85%|████████▍ | 95071/111923 [01:12<00:12, 1315.43it/s]"
     ]
    },
    {
     "name": "stderr",
     "output_type": "stream",
     "text": [
      "\r 85%|████████▌ | 95175/111923 [01:12<00:12, 1315.03it/s]"
     ]
    },
    {
     "name": "stderr",
     "output_type": "stream",
     "text": [
      "\r 85%|████████▌ | 95281/111923 [01:12<00:12, 1314.65it/s]"
     ]
    },
    {
     "name": "stderr",
     "output_type": "stream",
     "text": [
      "\r 85%|████████▌ | 95383/111923 [01:12<00:12, 1314.18it/s]"
     ]
    },
    {
     "name": "stderr",
     "output_type": "stream",
     "text": [
      "\r 85%|████████▌ | 95489/111923 [01:12<00:12, 1313.79it/s]"
     ]
    },
    {
     "name": "stderr",
     "output_type": "stream",
     "text": [
      "\r 85%|████████▌ | 95591/111923 [01:12<00:12, 1313.38it/s]"
     ]
    },
    {
     "name": "stderr",
     "output_type": "stream",
     "text": [
      "\r 86%|████████▌ | 95695/111923 [01:12<00:12, 1312.99it/s]"
     ]
    },
    {
     "name": "stderr",
     "output_type": "stream",
     "text": [
      "\r 86%|████████▌ | 95800/111923 [01:12<00:12, 1312.58it/s]"
     ]
    },
    {
     "name": "stderr",
     "output_type": "stream",
     "text": [
      "\r 86%|████████▌ | 95905/111923 [01:13<00:12, 1312.20it/s]"
     ]
    },
    {
     "name": "stderr",
     "output_type": "stream",
     "text": [
      "\r 86%|████████▌ | 96008/111923 [01:13<00:12, 1311.50it/s]"
     ]
    },
    {
     "name": "stderr",
     "output_type": "stream",
     "text": [
      "\r 86%|████████▌ | 96115/111923 [01:13<00:12, 1311.16it/s]"
     ]
    },
    {
     "name": "stderr",
     "output_type": "stream",
     "text": [
      "\r 86%|████████▌ | 96225/111923 [01:13<00:11, 1310.86it/s]"
     ]
    },
    {
     "name": "stderr",
     "output_type": "stream",
     "text": [
      "\r 86%|████████▌ | 96329/111923 [01:13<00:11, 1310.44it/s]"
     ]
    },
    {
     "name": "stderr",
     "output_type": "stream",
     "text": [
      "\r 86%|████████▌ | 96441/111923 [01:13<00:11, 1310.17it/s]"
     ]
    },
    {
     "name": "stderr",
     "output_type": "stream",
     "text": [
      "\r 86%|████████▋ | 96550/111923 [01:13<00:11, 1309.85it/s]"
     ]
    },
    {
     "name": "stderr",
     "output_type": "stream",
     "text": [
      "\r 86%|████████▋ | 96659/111923 [01:13<00:11, 1309.54it/s]"
     ]
    },
    {
     "name": "stderr",
     "output_type": "stream",
     "text": [
      "\r 86%|████████▋ | 96767/111923 [01:13<00:11, 1309.22it/s]"
     ]
    },
    {
     "name": "stderr",
     "output_type": "stream",
     "text": [
      "\r 87%|████████▋ | 96876/111923 [01:14<00:11, 1308.91it/s]"
     ]
    },
    {
     "name": "stderr",
     "output_type": "stream",
     "text": [
      "\r 87%|████████▋ | 96984/111923 [01:14<00:11, 1308.52it/s]"
     ]
    },
    {
     "name": "stderr",
     "output_type": "stream",
     "text": [
      "\r 87%|████████▋ | 97096/111923 [01:14<00:11, 1308.23it/s]"
     ]
    },
    {
     "name": "stderr",
     "output_type": "stream",
     "text": [
      "\r 87%|████████▋ | 97204/111923 [01:14<00:11, 1307.87it/s]"
     ]
    },
    {
     "name": "stderr",
     "output_type": "stream",
     "text": [
      "\r 87%|████████▋ | 97311/111923 [01:14<00:11, 1307.52it/s]"
     ]
    },
    {
     "name": "stderr",
     "output_type": "stream",
     "text": [
      "\r 87%|████████▋ | 97421/111923 [01:14<00:11, 1307.23it/s]"
     ]
    },
    {
     "name": "stderr",
     "output_type": "stream",
     "text": [
      "\r 87%|████████▋ | 97529/111923 [01:14<00:11, 1306.70it/s]"
     ]
    },
    {
     "name": "stderr",
     "output_type": "stream",
     "text": [
      "\r 87%|████████▋ | 97633/111923 [01:14<00:10, 1306.25it/s]"
     ]
    },
    {
     "name": "stderr",
     "output_type": "stream",
     "text": [
      "\r 87%|████████▋ | 97736/111923 [01:14<00:10, 1305.83it/s]"
     ]
    },
    {
     "name": "stderr",
     "output_type": "stream",
     "text": [
      "\r 87%|████████▋ | 97838/111923 [01:14<00:10, 1305.42it/s]"
     ]
    },
    {
     "name": "stderr",
     "output_type": "stream",
     "text": [
      "\r 88%|████████▊ | 97943/111923 [01:15<00:10, 1305.06it/s]"
     ]
    },
    {
     "name": "stderr",
     "output_type": "stream",
     "text": [
      "\r 88%|████████▊ | 98053/111923 [01:15<00:10, 1304.78it/s]"
     ]
    },
    {
     "name": "stderr",
     "output_type": "stream",
     "text": [
      "\r 88%|████████▊ | 98158/111923 [01:15<00:10, 1304.20it/s]"
     ]
    },
    {
     "name": "stderr",
     "output_type": "stream",
     "text": [
      "\r 88%|████████▊ | 98259/111923 [01:15<00:10, 1303.78it/s]"
     ]
    },
    {
     "name": "stderr",
     "output_type": "stream",
     "text": [
      "\r 88%|████████▊ | 98360/111923 [01:15<00:10, 1303.28it/s]"
     ]
    },
    {
     "name": "stderr",
     "output_type": "stream",
     "text": [
      "\r 88%|████████▊ | 98462/111923 [01:15<00:10, 1302.89it/s]"
     ]
    },
    {
     "name": "stderr",
     "output_type": "stream",
     "text": [
      "\r 88%|████████▊ | 98621/111923 [01:15<00:10, 1303.25it/s]"
     ]
    },
    {
     "name": "stderr",
     "output_type": "stream",
     "text": [
      "\r 88%|████████▊ | 98819/111923 [01:15<00:10, 1304.13it/s]"
     ]
    },
    {
     "name": "stderr",
     "output_type": "stream",
     "text": [
      "\r 88%|████████▊ | 98997/111923 [01:15<00:09, 1304.75it/s]"
     ]
    },
    {
     "name": "stderr",
     "output_type": "stream",
     "text": [
      "\r 89%|████████▊ | 99149/111923 [01:15<00:09, 1305.01it/s]"
     ]
    },
    {
     "name": "stderr",
     "output_type": "stream",
     "text": [
      "\r 89%|████████▊ | 99312/111923 [01:16<00:09, 1305.43it/s]"
     ]
    },
    {
     "name": "stderr",
     "output_type": "stream",
     "text": [
      "\r 89%|████████▉ | 99501/111923 [01:16<00:09, 1306.19it/s]"
     ]
    },
    {
     "name": "stderr",
     "output_type": "stream",
     "text": [
      "\r 89%|████████▉ | 99685/111923 [01:16<00:09, 1306.87it/s]"
     ]
    },
    {
     "name": "stderr",
     "output_type": "stream",
     "text": [
      "\r 89%|████████▉ | 99855/111923 [01:16<00:09, 1307.38it/s]"
     ]
    },
    {
     "name": "stderr",
     "output_type": "stream",
     "text": [
      "\r 89%|████████▉ | 100025/111923 [01:16<00:09, 1307.37it/s]"
     ]
    },
    {
     "name": "stderr",
     "output_type": "stream",
     "text": [
      "\r 90%|████████▉ | 100204/111923 [01:16<00:08, 1307.98it/s]"
     ]
    },
    {
     "name": "stderr",
     "output_type": "stream",
     "text": [
      "\r 90%|████████▉ | 100382/111923 [01:16<00:08, 1308.59it/s]"
     ]
    },
    {
     "name": "stderr",
     "output_type": "stream",
     "text": [
      "\r 90%|████████▉ | 100566/111923 [01:16<00:08, 1309.26it/s]"
     ]
    },
    {
     "name": "stderr",
     "output_type": "stream",
     "text": [
      "\r 90%|█████████ | 100750/111923 [01:16<00:08, 1309.95it/s]"
     ]
    },
    {
     "name": "stderr",
     "output_type": "stream",
     "text": [
      "\r 90%|█████████ | 100940/111923 [01:17<00:08, 1310.71it/s]"
     ]
    },
    {
     "name": "stderr",
     "output_type": "stream",
     "text": [
      "\r 90%|█████████ | 101120/111923 [01:17<00:08, 1310.80it/s]"
     ]
    },
    {
     "name": "stderr",
     "output_type": "stream",
     "text": [
      "\r 90%|█████████ | 101287/111923 [01:17<00:08, 1310.95it/s]"
     ]
    },
    {
     "name": "stderr",
     "output_type": "stream",
     "text": [
      "\r 91%|█████████ | 101446/111923 [01:17<00:07, 1311.22it/s]"
     ]
    },
    {
     "name": "stderr",
     "output_type": "stream",
     "text": [
      "\r 91%|█████████ | 101603/111923 [01:17<00:07, 1311.51it/s]"
     ]
    },
    {
     "name": "stderr",
     "output_type": "stream",
     "text": [
      "\r 91%|█████████ | 101759/111923 [01:17<00:07, 1311.77it/s]"
     ]
    },
    {
     "name": "stderr",
     "output_type": "stream",
     "text": [
      "\r 91%|█████████ | 101913/111923 [01:17<00:07, 1311.66it/s]"
     ]
    },
    {
     "name": "stderr",
     "output_type": "stream",
     "text": [
      "\r 91%|█████████ | 102059/111923 [01:17<00:07, 1310.65it/s]"
     ]
    },
    {
     "name": "stderr",
     "output_type": "stream",
     "text": [
      "\r 91%|█████████▏| 102187/111923 [01:18<00:07, 1309.92it/s]"
     ]
    },
    {
     "name": "stderr",
     "output_type": "stream",
     "text": [
      "\r 91%|█████████▏| 102304/111923 [01:18<00:07, 1309.28it/s]"
     ]
    },
    {
     "name": "stderr",
     "output_type": "stream",
     "text": [
      "\r 92%|█████████▏| 102413/111923 [01:18<00:07, 1308.88it/s]"
     ]
    },
    {
     "name": "stderr",
     "output_type": "stream",
     "text": [
      "\r 92%|█████████▏| 102524/111923 [01:18<00:07, 1308.62it/s]"
     ]
    },
    {
     "name": "stderr",
     "output_type": "stream",
     "text": [
      "\r 92%|█████████▏| 102632/111923 [01:18<00:07, 1308.10it/s]"
     ]
    },
    {
     "name": "stderr",
     "output_type": "stream",
     "text": [
      "\r 92%|█████████▏| 102737/111923 [01:18<00:07, 1307.28it/s]"
     ]
    },
    {
     "name": "stderr",
     "output_type": "stream",
     "text": [
      "\r 92%|█████████▏| 102835/111923 [01:18<00:06, 1306.77it/s]"
     ]
    },
    {
     "name": "stderr",
     "output_type": "stream",
     "text": [
      "\r 92%|█████████▏| 102931/111923 [01:18<00:06, 1306.25it/s]"
     ]
    },
    {
     "name": "stderr",
     "output_type": "stream",
     "text": [
      "\r 92%|█████████▏| 103026/111923 [01:18<00:06, 1305.49it/s]"
     ]
    },
    {
     "name": "stderr",
     "output_type": "stream",
     "text": [
      "\r 92%|█████████▏| 103119/111923 [01:19<00:06, 1305.00it/s]"
     ]
    },
    {
     "name": "stderr",
     "output_type": "stream",
     "text": [
      "\r 92%|█████████▏| 103218/111923 [01:19<00:06, 1304.57it/s]"
     ]
    },
    {
     "name": "stderr",
     "output_type": "stream",
     "text": [
      "\r 92%|█████████▏| 103322/111923 [01:19<00:06, 1304.22it/s]"
     ]
    },
    {
     "name": "stderr",
     "output_type": "stream",
     "text": [
      "\r 92%|█████████▏| 103430/111923 [01:19<00:06, 1303.93it/s]"
     ]
    },
    {
     "name": "stderr",
     "output_type": "stream",
     "text": [
      "\r 93%|█████████▎| 103530/111923 [01:19<00:06, 1303.45it/s]"
     ]
    },
    {
     "name": "stderr",
     "output_type": "stream",
     "text": [
      "\r 93%|█████████▎| 103629/111923 [01:19<00:06, 1303.05it/s]"
     ]
    },
    {
     "name": "stderr",
     "output_type": "stream",
     "text": [
      "\r 93%|█████████▎| 103729/111923 [01:19<00:06, 1302.65it/s]"
     ]
    },
    {
     "name": "stderr",
     "output_type": "stream",
     "text": [
      "\r 93%|█████████▎| 103828/111923 [01:19<00:06, 1302.15it/s]"
     ]
    },
    {
     "name": "stderr",
     "output_type": "stream",
     "text": [
      "\r 93%|█████████▎| 103925/111923 [01:19<00:06, 1301.72it/s]"
     ]
    },
    {
     "name": "stderr",
     "output_type": "stream",
     "text": [
      "\r 93%|█████████▎| 104030/111923 [01:19<00:06, 1301.39it/s]"
     ]
    },
    {
     "name": "stderr",
     "output_type": "stream",
     "text": [
      "\r 93%|█████████▎| 104129/111923 [01:20<00:05, 1300.70it/s]"
     ]
    },
    {
     "name": "stderr",
     "output_type": "stream",
     "text": [
      "\r 93%|█████████▎| 104228/111923 [01:20<00:05, 1300.30it/s]"
     ]
    },
    {
     "name": "stderr",
     "output_type": "stream",
     "text": [
      "\r 93%|█████████▎| 104324/111923 [01:20<00:05, 1299.87it/s]"
     ]
    },
    {
     "name": "stderr",
     "output_type": "stream",
     "text": [
      "\r 93%|█████████▎| 104429/111923 [01:20<00:05, 1299.53it/s]"
     ]
    },
    {
     "name": "stderr",
     "output_type": "stream",
     "text": [
      "\r 93%|█████████▎| 104527/111923 [01:20<00:05, 1299.09it/s]"
     ]
    },
    {
     "name": "stderr",
     "output_type": "stream",
     "text": [
      "\r 93%|█████████▎| 104625/111923 [01:20<00:05, 1298.61it/s]"
     ]
    },
    {
     "name": "stderr",
     "output_type": "stream",
     "text": [
      "\r 94%|█████████▎| 104722/111923 [01:20<00:05, 1298.20it/s]"
     ]
    },
    {
     "name": "stderr",
     "output_type": "stream",
     "text": [
      "\r 94%|█████████▎| 104825/111923 [01:20<00:05, 1297.85it/s]"
     ]
    },
    {
     "name": "stderr",
     "output_type": "stream",
     "text": [
      "\r 94%|█████████▎| 104923/111923 [01:20<00:05, 1297.45it/s]"
     ]
    },
    {
     "name": "stderr",
     "output_type": "stream",
     "text": [
      "\r 94%|█████████▍| 105027/111923 [01:20<00:05, 1297.12it/s]"
     ]
    },
    {
     "name": "stderr",
     "output_type": "stream",
     "text": [
      "\r 94%|█████████▍| 105127/111923 [01:21<00:05, 1296.71it/s]"
     ]
    },
    {
     "name": "stderr",
     "output_type": "stream",
     "text": [
      "\r 94%|█████████▍| 105232/111923 [01:21<00:05, 1296.39it/s]"
     ]
    },
    {
     "name": "stderr",
     "output_type": "stream",
     "text": [
      "\r 94%|█████████▍| 105334/111923 [01:21<00:05, 1296.04it/s]"
     ]
    },
    {
     "name": "stderr",
     "output_type": "stream",
     "text": [
      "\r 94%|█████████▍| 105435/111923 [01:21<00:05, 1295.60it/s]"
     ]
    },
    {
     "name": "stderr",
     "output_type": "stream",
     "text": [
      "\r 94%|█████████▍| 105535/111923 [01:21<00:04, 1295.19it/s]"
     ]
    },
    {
     "name": "stderr",
     "output_type": "stream",
     "text": [
      "\r 94%|█████████▍| 105641/111923 [01:21<00:04, 1294.89it/s]"
     ]
    },
    {
     "name": "stderr",
     "output_type": "stream",
     "text": [
      "\r 94%|█████████▍| 105754/111923 [01:21<00:04, 1294.68it/s]"
     ]
    },
    {
     "name": "stderr",
     "output_type": "stream",
     "text": [
      "\r 95%|█████████▍| 105862/111923 [01:21<00:04, 1294.40it/s]"
     ]
    },
    {
     "name": "stderr",
     "output_type": "stream",
     "text": [
      "\r 95%|█████████▍| 105971/111923 [01:21<00:04, 1294.12it/s]"
     ]
    },
    {
     "name": "stderr",
     "output_type": "stream",
     "text": [
      "\r 95%|█████████▍| 106085/111923 [01:21<00:04, 1293.92it/s]"
     ]
    },
    {
     "name": "stderr",
     "output_type": "stream",
     "text": [
      "\r 95%|█████████▍| 106193/111923 [01:22<00:04, 1293.65it/s]"
     ]
    },
    {
     "name": "stderr",
     "output_type": "stream",
     "text": [
      "\r 95%|█████████▍| 106305/111923 [01:22<00:04, 1293.43it/s]"
     ]
    },
    {
     "name": "stderr",
     "output_type": "stream",
     "text": [
      "\r 95%|█████████▌| 106414/111923 [01:22<00:04, 1293.14it/s]"
     ]
    },
    {
     "name": "stderr",
     "output_type": "stream",
     "text": [
      "\r 95%|█████████▌| 106522/111923 [01:22<00:04, 1292.87it/s]"
     ]
    },
    {
     "name": "stderr",
     "output_type": "stream",
     "text": [
      "\r 95%|█████████▌| 106630/111923 [01:22<00:04, 1292.58it/s]"
     ]
    },
    {
     "name": "stderr",
     "output_type": "stream",
     "text": [
      "\r 95%|█████████▌| 106739/111923 [01:22<00:04, 1292.32it/s]"
     ]
    },
    {
     "name": "stderr",
     "output_type": "stream",
     "text": [
      "\r 95%|█████████▌| 106847/111923 [01:22<00:03, 1292.05it/s]"
     ]
    },
    {
     "name": "stderr",
     "output_type": "stream",
     "text": [
      "\r 96%|█████████▌| 106955/111923 [01:22<00:03, 1291.71it/s]"
     ]
    },
    {
     "name": "stderr",
     "output_type": "stream",
     "text": [
      "\r 96%|█████████▌| 107065/111923 [01:22<00:03, 1291.47it/s]"
     ]
    },
    {
     "name": "stderr",
     "output_type": "stream",
     "text": [
      "\r 96%|█████████▌| 107172/111923 [01:23<00:03, 1291.17it/s]"
     ]
    },
    {
     "name": "stderr",
     "output_type": "stream",
     "text": [
      "\r 96%|█████████▌| 107279/111923 [01:23<00:03, 1290.88it/s]"
     ]
    },
    {
     "name": "stderr",
     "output_type": "stream",
     "text": [
      "\r 96%|█████████▌| 107385/111923 [01:23<00:03, 1290.53it/s]"
     ]
    },
    {
     "name": "stderr",
     "output_type": "stream",
     "text": [
      "\r 96%|█████████▌| 107499/111923 [01:23<00:03, 1290.33it/s]"
     ]
    },
    {
     "name": "stderr",
     "output_type": "stream",
     "text": [
      "\r 96%|█████████▌| 107611/111923 [01:23<00:03, 1290.12it/s]"
     ]
    },
    {
     "name": "stderr",
     "output_type": "stream",
     "text": [
      "\r 96%|█████████▌| 107720/111923 [01:23<00:03, 1289.79it/s]"
     ]
    },
    {
     "name": "stderr",
     "output_type": "stream",
     "text": [
      "\r 96%|█████████▋| 107827/111923 [01:23<00:03, 1289.36it/s]"
     ]
    },
    {
     "name": "stderr",
     "output_type": "stream",
     "text": [
      "\r 96%|█████████▋| 107991/111923 [01:23<00:03, 1289.77it/s]"
     ]
    },
    {
     "name": "stderr",
     "output_type": "stream",
     "text": [
      "\r 97%|█████████▋| 108209/111923 [01:23<00:02, 1290.82it/s]"
     ]
    },
    {
     "name": "stderr",
     "output_type": "stream",
     "text": [
      "\r 97%|█████████▋| 108414/111923 [01:23<00:02, 1291.71it/s]"
     ]
    },
    {
     "name": "stderr",
     "output_type": "stream",
     "text": [
      "\r 97%|█████████▋| 108613/111923 [01:24<00:02, 1292.54it/s]"
     ]
    },
    {
     "name": "stderr",
     "output_type": "stream",
     "text": [
      "\r 97%|█████████▋| 108818/111923 [01:24<00:02, 1293.42it/s]"
     ]
    },
    {
     "name": "stderr",
     "output_type": "stream",
     "text": [
      "\r 97%|█████████▋| 109011/111923 [01:24<00:02, 1294.17it/s]"
     ]
    },
    {
     "name": "stderr",
     "output_type": "stream",
     "text": [
      "\r 98%|█████████▊| 109223/111923 [01:24<00:02, 1295.14it/s]"
     ]
    },
    {
     "name": "stderr",
     "output_type": "stream",
     "text": [
      "\r 98%|█████████▊| 109420/111923 [01:24<00:01, 1295.92it/s]"
     ]
    },
    {
     "name": "stderr",
     "output_type": "stream",
     "text": [
      "\r 98%|█████████▊| 109615/111923 [01:24<00:01, 1296.66it/s]"
     ]
    },
    {
     "name": "stderr",
     "output_type": "stream",
     "text": [
      "\r 98%|█████████▊| 109810/111923 [01:24<00:01, 1297.42it/s]"
     ]
    },
    {
     "name": "stderr",
     "output_type": "stream",
     "text": [
      "\r 98%|█████████▊| 110004/111923 [01:24<00:01, 1298.16it/s]"
     ]
    },
    {
     "name": "stderr",
     "output_type": "stream",
     "text": [
      "\r 98%|█████████▊| 110203/111923 [01:24<00:01, 1298.97it/s]"
     ]
    },
    {
     "name": "stderr",
     "output_type": "stream",
     "text": [
      "\r 99%|█████████▊| 110410/111923 [01:24<00:01, 1299.87it/s]"
     ]
    },
    {
     "name": "stderr",
     "output_type": "stream",
     "text": [
      "\r 99%|█████████▉| 110612/111923 [01:25<00:01, 1300.70it/s]"
     ]
    },
    {
     "name": "stderr",
     "output_type": "stream",
     "text": [
      "\r 99%|█████████▉| 110818/111923 [01:25<00:00, 1301.58it/s]"
     ]
    },
    {
     "name": "stderr",
     "output_type": "stream",
     "text": [
      "\r 99%|█████████▉| 111019/111923 [01:25<00:00, 1302.38it/s]"
     ]
    },
    {
     "name": "stderr",
     "output_type": "stream",
     "text": [
      "\r 99%|█████████▉| 111219/111923 [01:25<00:00, 1303.19it/s]"
     ]
    },
    {
     "name": "stderr",
     "output_type": "stream",
     "text": [
      "\r100%|█████████▉| 111419/111923 [01:25<00:00, 1303.96it/s]"
     ]
    },
    {
     "name": "stderr",
     "output_type": "stream",
     "text": [
      "\r100%|█████████▉| 111617/111923 [01:25<00:00, 1304.74it/s]"
     ]
    },
    {
     "name": "stderr",
     "output_type": "stream",
     "text": [
      "\r100%|█████████▉| 111815/111923 [01:25<00:00, 1305.46it/s]"
     ]
    },
    {
     "name": "stderr",
     "output_type": "stream",
     "text": [
      "\r100%|██████████| 111923/111923 [01:25<00:00, 1305.40it/s]"
     ]
    },
    {
     "name": "stderr",
     "output_type": "stream",
     "text": [
      "\n"
     ]
    },
    {
     "name": "stderr",
     "output_type": "stream",
     "text": [
      "\r  0%|          | 0/114911 [00:00<?, ?it/s]"
     ]
    },
    {
     "name": "stderr",
     "output_type": "stream",
     "text": [
      "\r  0%|          | 93/114911 [00:00<02:04, 923.26it/s]"
     ]
    },
    {
     "name": "stderr",
     "output_type": "stream",
     "text": [
      "\r  0%|          | 188/114911 [00:00<02:02, 933.18it/s]"
     ]
    },
    {
     "name": "stderr",
     "output_type": "stream",
     "text": [
      "\r  0%|          | 281/114911 [00:00<02:03, 929.82it/s]"
     ]
    },
    {
     "name": "stderr",
     "output_type": "stream",
     "text": [
      "\r  0%|          | 373/114911 [00:00<02:03, 925.66it/s]"
     ]
    },
    {
     "name": "stderr",
     "output_type": "stream",
     "text": [
      "\r  0%|          | 466/114911 [00:00<02:03, 925.11it/s]"
     ]
    },
    {
     "name": "stderr",
     "output_type": "stream",
     "text": [
      "\r  0%|          | 556/114911 [00:00<02:04, 919.78it/s]"
     ]
    },
    {
     "name": "stderr",
     "output_type": "stream",
     "text": [
      "\r  1%|          | 665/114911 [00:00<02:01, 941.58it/s]"
     ]
    },
    {
     "name": "stderr",
     "output_type": "stream",
     "text": [
      "\r  1%|          | 758/114911 [00:00<02:01, 939.28it/s]"
     ]
    },
    {
     "name": "stderr",
     "output_type": "stream",
     "text": [
      "\r  1%|          | 848/114911 [00:00<02:02, 930.03it/s]"
     ]
    },
    {
     "name": "stderr",
     "output_type": "stream",
     "text": [
      "\r  1%|          | 937/114911 [00:01<02:05, 909.26it/s]"
     ]
    },
    {
     "name": "stderr",
     "output_type": "stream",
     "text": [
      "\r  1%|          | 1022/114911 [00:01<02:06, 897.09it/s]"
     ]
    },
    {
     "name": "stderr",
     "output_type": "stream",
     "text": [
      "\r  1%|          | 1116/114911 [00:01<02:06, 900.00it/s]"
     ]
    },
    {
     "name": "stderr",
     "output_type": "stream",
     "text": [
      "\r  1%|          | 1204/114911 [00:01<02:06, 897.99it/s]"
     ]
    },
    {
     "name": "stderr",
     "output_type": "stream",
     "text": [
      "\r  1%|          | 1291/114911 [00:01<02:07, 893.71it/s]"
     ]
    },
    {
     "name": "stderr",
     "output_type": "stream",
     "text": [
      "\r  1%|          | 1388/114911 [00:01<02:06, 898.23it/s]"
     ]
    },
    {
     "name": "stderr",
     "output_type": "stream",
     "text": [
      "\r  1%|▏         | 1478/114911 [00:01<02:06, 897.91it/s]"
     ]
    },
    {
     "name": "stderr",
     "output_type": "stream",
     "text": [
      "\r  1%|▏         | 1573/114911 [00:01<02:05, 900.50it/s]"
     ]
    },
    {
     "name": "stderr",
     "output_type": "stream",
     "text": [
      "\r  1%|▏         | 1664/114911 [00:01<02:05, 900.15it/s]"
     ]
    },
    {
     "name": "stderr",
     "output_type": "stream",
     "text": [
      "\r  2%|▏         | 1762/114911 [00:01<02:05, 903.90it/s]"
     ]
    },
    {
     "name": "stderr",
     "output_type": "stream",
     "text": [
      "\r  2%|▏         | 1855/114911 [00:02<02:05, 904.38it/s]"
     ]
    },
    {
     "name": "stderr",
     "output_type": "stream",
     "text": [
      "\r  2%|▏         | 1948/114911 [00:02<02:05, 901.09it/s]"
     ]
    },
    {
     "name": "stderr",
     "output_type": "stream",
     "text": [
      "\r  2%|▏         | 2038/114911 [00:02<02:05, 899.16it/s]"
     ]
    },
    {
     "name": "stderr",
     "output_type": "stream",
     "text": [
      "\r  2%|▏         | 2127/114911 [00:02<02:05, 897.74it/s]"
     ]
    },
    {
     "name": "stderr",
     "output_type": "stream",
     "text": [
      "\r  2%|▏         | 2215/114911 [00:02<02:06, 893.51it/s]"
     ]
    },
    {
     "name": "stderr",
     "output_type": "stream",
     "text": [
      "\r  2%|▏         | 2301/114911 [00:02<02:06, 891.27it/s]"
     ]
    },
    {
     "name": "stderr",
     "output_type": "stream",
     "text": [
      "\r  2%|▏         | 2388/114911 [00:02<02:06, 890.23it/s]"
     ]
    },
    {
     "name": "stderr",
     "output_type": "stream",
     "text": [
      "\r  2%|▏         | 2474/114911 [00:02<02:06, 888.91it/s]"
     ]
    },
    {
     "name": "stderr",
     "output_type": "stream",
     "text": [
      "\r  2%|▏         | 2560/114911 [00:02<02:06, 887.07it/s]"
     ]
    },
    {
     "name": "stderr",
     "output_type": "stream",
     "text": [
      "\r  2%|▏         | 2646/114911 [00:02<02:06, 885.95it/s]"
     ]
    },
    {
     "name": "stderr",
     "output_type": "stream",
     "text": [
      "\r  2%|▏         | 2732/114911 [00:03<02:06, 884.61it/s]"
     ]
    },
    {
     "name": "stderr",
     "output_type": "stream",
     "text": [
      "\r  2%|▏         | 2819/114911 [00:03<02:06, 883.95it/s]"
     ]
    },
    {
     "name": "stderr",
     "output_type": "stream",
     "text": [
      "\r  3%|▎         | 2905/114911 [00:03<02:07, 881.69it/s]"
     ]
    },
    {
     "name": "stderr",
     "output_type": "stream",
     "text": [
      "\r  3%|▎         | 3004/114911 [00:03<02:06, 884.69it/s]"
     ]
    },
    {
     "name": "stderr",
     "output_type": "stream",
     "text": [
      "\r  3%|▎         | 3098/114911 [00:03<02:06, 886.09it/s]"
     ]
    },
    {
     "name": "stderr",
     "output_type": "stream",
     "text": [
      "\r  3%|▎         | 3195/114911 [00:03<02:05, 888.24it/s]"
     ]
    },
    {
     "name": "stderr",
     "output_type": "stream",
     "text": [
      "\r  3%|▎         | 3287/114911 [00:03<02:05, 887.01it/s]"
     ]
    },
    {
     "name": "stderr",
     "output_type": "stream",
     "text": [
      "\r  3%|▎         | 3381/114911 [00:03<02:05, 887.77it/s]"
     ]
    },
    {
     "name": "stderr",
     "output_type": "stream",
     "text": [
      "\r  3%|▎         | 3477/114911 [00:03<02:05, 889.44it/s]"
     ]
    },
    {
     "name": "stderr",
     "output_type": "stream",
     "text": [
      "\r  3%|▎         | 3569/114911 [00:04<02:05, 890.04it/s]"
     ]
    },
    {
     "name": "stderr",
     "output_type": "stream",
     "text": [
      "\r  3%|▎         | 3661/114911 [00:04<02:05, 889.95it/s]"
     ]
    },
    {
     "name": "stderr",
     "output_type": "stream",
     "text": [
      "\r  3%|▎         | 3755/114911 [00:04<02:04, 890.98it/s]"
     ]
    },
    {
     "name": "stderr",
     "output_type": "stream",
     "text": [
      "\r  3%|▎         | 3847/114911 [00:04<02:04, 890.88it/s]"
     ]
    },
    {
     "name": "stderr",
     "output_type": "stream",
     "text": [
      "\r  3%|▎         | 3939/114911 [00:04<02:04, 891.38it/s]"
     ]
    },
    {
     "name": "stderr",
     "output_type": "stream",
     "text": [
      "\r  4%|▎         | 4030/114911 [00:04<02:04, 891.45it/s]"
     ]
    },
    {
     "name": "stderr",
     "output_type": "stream",
     "text": [
      "\r  4%|▎         | 4124/114911 [00:04<02:04, 892.35it/s]"
     ]
    },
    {
     "name": "stderr",
     "output_type": "stream",
     "text": [
      "\r  4%|▎         | 4216/114911 [00:04<02:04, 892.42it/s]"
     ]
    },
    {
     "name": "stderr",
     "output_type": "stream",
     "text": [
      "\r  4%|▎         | 4307/114911 [00:04<02:03, 892.27it/s]"
     ]
    },
    {
     "name": "stderr",
     "output_type": "stream",
     "text": [
      "\r  4%|▍         | 4398/114911 [00:04<02:04, 891.23it/s]"
     ]
    },
    {
     "name": "stderr",
     "output_type": "stream",
     "text": [
      "\r  4%|▍         | 4487/114911 [00:05<02:03, 891.07it/s]"
     ]
    },
    {
     "name": "stderr",
     "output_type": "stream",
     "text": [
      "\r  4%|▍         | 4582/114911 [00:05<02:03, 892.09it/s]"
     ]
    },
    {
     "name": "stderr",
     "output_type": "stream",
     "text": [
      "\r  4%|▍         | 4673/114911 [00:05<02:03, 891.96it/s]"
     ]
    },
    {
     "name": "stderr",
     "output_type": "stream",
     "text": [
      "\r  4%|▍         | 4763/114911 [00:05<02:03, 891.15it/s]"
     ]
    },
    {
     "name": "stderr",
     "output_type": "stream",
     "text": [
      "\r  4%|▍         | 4854/114911 [00:05<02:03, 891.37it/s]"
     ]
    },
    {
     "name": "stderr",
     "output_type": "stream",
     "text": [
      "\r  4%|▍         | 4947/114911 [00:05<02:03, 891.94it/s]"
     ]
    },
    {
     "name": "stderr",
     "output_type": "stream",
     "text": [
      "\r  4%|▍         | 5039/114911 [00:05<02:03, 892.31it/s]"
     ]
    },
    {
     "name": "stderr",
     "output_type": "stream",
     "text": [
      "\r  4%|▍         | 5130/114911 [00:05<02:03, 891.73it/s]"
     ]
    },
    {
     "name": "stderr",
     "output_type": "stream",
     "text": [
      "\r  5%|▍         | 5220/114911 [00:05<02:03, 890.54it/s]"
     ]
    },
    {
     "name": "stderr",
     "output_type": "stream",
     "text": [
      "\r  5%|▍         | 5364/114911 [00:05<02:01, 899.68it/s]"
     ]
    },
    {
     "name": "stderr",
     "output_type": "stream",
     "text": [
      "\r  5%|▍         | 5525/114911 [00:06<02:00, 911.28it/s]"
     ]
    },
    {
     "name": "stderr",
     "output_type": "stream",
     "text": [
      "\r  5%|▍         | 5681/114911 [00:06<01:58, 921.78it/s]"
     ]
    },
    {
     "name": "stderr",
     "output_type": "stream",
     "text": [
      "\r  5%|▌         | 5855/114911 [00:06<01:56, 934.81it/s]"
     ]
    },
    {
     "name": "stderr",
     "output_type": "stream",
     "text": [
      "\r  5%|▌         | 6026/114911 [00:06<01:54, 946.88it/s]"
     ]
    },
    {
     "name": "stderr",
     "output_type": "stream",
     "text": [
      "\r  5%|▌         | 6188/114911 [00:06<01:53, 957.19it/s]"
     ]
    },
    {
     "name": "stderr",
     "output_type": "stream",
     "text": [
      "\r  6%|▌         | 6345/114911 [00:06<01:52, 966.41it/s]"
     ]
    },
    {
     "name": "stderr",
     "output_type": "stream",
     "text": [
      "\r  6%|▌         | 6516/114911 [00:06<01:50, 977.46it/s]"
     ]
    },
    {
     "name": "stderr",
     "output_type": "stream",
     "text": [
      "\r  6%|▌         | 6676/114911 [00:06<01:49, 984.74it/s]"
     ]
    },
    {
     "name": "stderr",
     "output_type": "stream",
     "text": [
      "\r  6%|▌         | 6847/114911 [00:06<01:48, 995.17it/s]"
     ]
    },
    {
     "name": "stderr",
     "output_type": "stream",
     "text": [
      "\r  6%|▌         | 7006/114911 [00:06<01:47, 1003.59it/s]"
     ]
    },
    {
     "name": "stderr",
     "output_type": "stream",
     "text": [
      "\r  6%|▌         | 7176/114911 [00:07<01:46, 1013.31it/s]"
     ]
    },
    {
     "name": "stderr",
     "output_type": "stream",
     "text": [
      "\r  6%|▋         | 7361/114911 [00:07<01:44, 1024.92it/s]"
     ]
    },
    {
     "name": "stderr",
     "output_type": "stream",
     "text": [
      "\r  7%|▋         | 7537/114911 [00:07<01:43, 1034.97it/s]"
     ]
    },
    {
     "name": "stderr",
     "output_type": "stream",
     "text": [
      "\r  7%|▋         | 7722/114911 [00:07<01:42, 1045.91it/s]"
     ]
    },
    {
     "name": "stderr",
     "output_type": "stream",
     "text": [
      "\r  7%|▋         | 7907/114911 [00:07<01:41, 1056.55it/s]"
     ]
    },
    {
     "name": "stderr",
     "output_type": "stream",
     "text": [
      "\r  7%|▋         | 8091/114911 [00:07<01:40, 1066.78it/s]"
     ]
    },
    {
     "name": "stderr",
     "output_type": "stream",
     "text": [
      "\r  7%|▋         | 8270/114911 [00:07<01:39, 1074.83it/s]"
     ]
    },
    {
     "name": "stderr",
     "output_type": "stream",
     "text": [
      "\r  7%|▋         | 8448/114911 [00:07<01:38, 1083.78it/s]"
     ]
    },
    {
     "name": "stderr",
     "output_type": "stream",
     "text": [
      "\r  8%|▊         | 8630/114911 [00:07<01:37, 1093.06it/s]"
     ]
    },
    {
     "name": "stderr",
     "output_type": "stream",
     "text": [
      "\r  8%|▊         | 8807/114911 [00:08<01:36, 1095.83it/s]"
     ]
    },
    {
     "name": "stderr",
     "output_type": "stream",
     "text": [
      "\r  8%|▊         | 8969/114911 [00:08<01:37, 1090.94it/s]"
     ]
    },
    {
     "name": "stderr",
     "output_type": "stream",
     "text": [
      "\r  8%|▊         | 9109/114911 [00:08<01:37, 1087.51it/s]"
     ]
    },
    {
     "name": "stderr",
     "output_type": "stream",
     "text": [
      "\r  8%|▊         | 9234/114911 [00:08<01:37, 1082.32it/s]"
     ]
    },
    {
     "name": "stderr",
     "output_type": "stream",
     "text": [
      "\r  8%|▊         | 9346/114911 [00:08<01:37, 1079.17it/s]"
     ]
    },
    {
     "name": "stderr",
     "output_type": "stream",
     "text": [
      "\r  8%|▊         | 9451/114911 [00:08<01:37, 1076.90it/s]"
     ]
    },
    {
     "name": "stderr",
     "output_type": "stream",
     "text": [
      "\r  8%|▊         | 9552/114911 [00:08<01:38, 1073.16it/s]"
     ]
    },
    {
     "name": "stderr",
     "output_type": "stream",
     "text": [
      "\r  8%|▊         | 9647/114911 [00:09<01:38, 1070.27it/s]"
     ]
    },
    {
     "name": "stderr",
     "output_type": "stream",
     "text": [
      "\r  8%|▊         | 9739/114911 [00:09<01:38, 1068.18it/s]"
     ]
    },
    {
     "name": "stderr",
     "output_type": "stream",
     "text": [
      "\r  9%|▊         | 9831/114911 [00:09<01:38, 1066.37it/s]"
     ]
    },
    {
     "name": "stderr",
     "output_type": "stream",
     "text": [
      "\r  9%|▊         | 9922/114911 [00:09<01:38, 1063.81it/s]"
     ]
    },
    {
     "name": "stderr",
     "output_type": "stream",
     "text": [
      "\r  9%|▊         | 10011/114911 [00:09<01:38, 1061.89it/s]"
     ]
    },
    {
     "name": "stderr",
     "output_type": "stream",
     "text": [
      "\r  9%|▉         | 10107/114911 [00:09<01:38, 1060.74it/s]"
     ]
    },
    {
     "name": "stderr",
     "output_type": "stream",
     "text": [
      "\r  9%|▉         | 10198/114911 [00:09<01:38, 1058.87it/s]"
     ]
    },
    {
     "name": "stderr",
     "output_type": "stream",
     "text": [
      "\r  9%|▉         | 10294/114911 [00:09<01:38, 1057.78it/s]"
     ]
    },
    {
     "name": "stderr",
     "output_type": "stream",
     "text": [
      "\r  9%|▉         | 10390/114911 [00:09<01:38, 1056.70it/s]"
     ]
    },
    {
     "name": "stderr",
     "output_type": "stream",
     "text": [
      "\r  9%|▉         | 10483/114911 [00:09<01:38, 1054.93it/s]"
     ]
    },
    {
     "name": "stderr",
     "output_type": "stream",
     "text": [
      "\r  9%|▉         | 10575/114911 [00:10<01:39, 1052.77it/s]"
     ]
    },
    {
     "name": "stderr",
     "output_type": "stream",
     "text": [
      "\r  9%|▉         | 10666/114911 [00:10<01:39, 1051.29it/s]"
     ]
    },
    {
     "name": "stderr",
     "output_type": "stream",
     "text": [
      "\r  9%|▉         | 10756/114911 [00:10<01:39, 1048.92it/s]"
     ]
    },
    {
     "name": "stderr",
     "output_type": "stream",
     "text": [
      "\r  9%|▉         | 10847/114911 [00:10<01:39, 1047.51it/s]"
     ]
    },
    {
     "name": "stderr",
     "output_type": "stream",
     "text": [
      "\r 10%|▉         | 10936/114911 [00:10<01:39, 1045.62it/s]"
     ]
    },
    {
     "name": "stderr",
     "output_type": "stream",
     "text": [
      "\r 10%|▉         | 11024/114911 [00:10<01:39, 1043.78it/s]"
     ]
    },
    {
     "name": "stderr",
     "output_type": "stream",
     "text": [
      "\r 10%|▉         | 11116/114911 [00:10<01:39, 1042.54it/s]"
     ]
    },
    {
     "name": "stderr",
     "output_type": "stream",
     "text": [
      "\r 10%|▉         | 11205/114911 [00:10<01:39, 1039.90it/s]"
     ]
    },
    {
     "name": "stderr",
     "output_type": "stream",
     "text": [
      "\r 10%|▉         | 11291/114911 [00:10<01:39, 1037.88it/s]"
     ]
    },
    {
     "name": "stderr",
     "output_type": "stream",
     "text": [
      "\r 10%|▉         | 11376/114911 [00:10<01:39, 1035.62it/s]"
     ]
    },
    {
     "name": "stderr",
     "output_type": "stream",
     "text": [
      "\r 10%|▉         | 11460/114911 [00:11<01:40, 1031.65it/s]"
     ]
    },
    {
     "name": "stderr",
     "output_type": "stream",
     "text": [
      "\r 10%|█         | 11551/114911 [00:11<01:40, 1030.41it/s]"
     ]
    },
    {
     "name": "stderr",
     "output_type": "stream",
     "text": [
      "\r 10%|█         | 11638/114911 [00:11<01:40, 1028.83it/s]"
     ]
    },
    {
     "name": "stderr",
     "output_type": "stream",
     "text": [
      "\r 10%|█         | 11728/114911 [00:11<01:40, 1027.64it/s]"
     ]
    },
    {
     "name": "stderr",
     "output_type": "stream",
     "text": [
      "\r 10%|█         | 11815/114911 [00:11<01:40, 1026.20it/s]"
     ]
    },
    {
     "name": "stderr",
     "output_type": "stream",
     "text": [
      "\r 10%|█         | 11902/114911 [00:11<01:40, 1024.80it/s]"
     ]
    },
    {
     "name": "stderr",
     "output_type": "stream",
     "text": [
      "\r 10%|█         | 11995/114911 [00:11<01:40, 1023.92it/s]"
     ]
    },
    {
     "name": "stderr",
     "output_type": "stream",
     "text": [
      "\r 11%|█         | 12085/114911 [00:11<01:40, 1022.72it/s]"
     ]
    },
    {
     "name": "stderr",
     "output_type": "stream",
     "text": [
      "\r 11%|█         | 12174/114911 [00:11<01:40, 1021.54it/s]"
     ]
    },
    {
     "name": "stderr",
     "output_type": "stream",
     "text": [
      "\r 11%|█         | 12264/114911 [00:12<01:40, 1020.38it/s]"
     ]
    },
    {
     "name": "stderr",
     "output_type": "stream",
     "text": [
      "\r 11%|█         | 12353/114911 [00:12<01:40, 1017.52it/s]"
     ]
    },
    {
     "name": "stderr",
     "output_type": "stream",
     "text": [
      "\r 11%|█         | 12443/114911 [00:12<01:40, 1016.50it/s]"
     ]
    },
    {
     "name": "stderr",
     "output_type": "stream",
     "text": [
      "\r 11%|█         | 12533/114911 [00:12<01:40, 1015.49it/s]"
     ]
    },
    {
     "name": "stderr",
     "output_type": "stream",
     "text": [
      "\r 11%|█         | 12620/114911 [00:12<01:40, 1014.18it/s]"
     ]
    },
    {
     "name": "stderr",
     "output_type": "stream",
     "text": [
      "\r 11%|█         | 12707/114911 [00:12<01:40, 1012.72it/s]"
     ]
    },
    {
     "name": "stderr",
     "output_type": "stream",
     "text": [
      "\r 11%|█         | 12799/114911 [00:12<01:40, 1011.85it/s]"
     ]
    },
    {
     "name": "stderr",
     "output_type": "stream",
     "text": [
      "\r 11%|█         | 12887/114911 [00:12<01:40, 1010.76it/s]"
     ]
    },
    {
     "name": "stderr",
     "output_type": "stream",
     "text": [
      "\r 11%|█▏        | 12975/114911 [00:12<01:41, 1009.06it/s]"
     ]
    },
    {
     "name": "stderr",
     "output_type": "stream",
     "text": [
      "\r 11%|█▏        | 13061/114911 [00:12<01:41, 1007.62it/s]"
     ]
    },
    {
     "name": "stderr",
     "output_type": "stream",
     "text": [
      "\r 11%|█▏        | 13150/114911 [00:13<01:41, 1006.66it/s]"
     ]
    },
    {
     "name": "stderr",
     "output_type": "stream",
     "text": [
      "\r 12%|█▏        | 13240/114911 [00:13<01:41, 1005.75it/s]"
     ]
    },
    {
     "name": "stderr",
     "output_type": "stream",
     "text": [
      "\r 12%|█▏        | 13333/114911 [00:13<01:41, 1005.16it/s]"
     ]
    },
    {
     "name": "stderr",
     "output_type": "stream",
     "text": [
      "\r 12%|█▏        | 13426/114911 [00:13<01:41, 1004.54it/s]"
     ]
    },
    {
     "name": "stderr",
     "output_type": "stream",
     "text": [
      "\r 12%|█▏        | 13516/114911 [00:13<01:41, 1003.04it/s]"
     ]
    },
    {
     "name": "stderr",
     "output_type": "stream",
     "text": [
      "\r 12%|█▏        | 13611/114911 [00:13<01:41, 1002.59it/s]"
     ]
    },
    {
     "name": "stderr",
     "output_type": "stream",
     "text": [
      "\r 12%|█▏        | 13707/114911 [00:13<01:40, 1002.23it/s]"
     ]
    },
    {
     "name": "stderr",
     "output_type": "stream",
     "text": [
      "\r 12%|█▏        | 13803/114911 [00:13<01:40, 1001.87it/s]"
     ]
    },
    {
     "name": "stderr",
     "output_type": "stream",
     "text": [
      "\r 12%|█▏        | 13896/114911 [00:13<01:40, 1001.29it/s]"
     ]
    },
    {
     "name": "stderr",
     "output_type": "stream",
     "text": [
      "\r 12%|█▏        | 14035/114911 [00:13<01:40, 1004.06it/s]"
     ]
    },
    {
     "name": "stderr",
     "output_type": "stream",
     "text": [
      "\r 12%|█▏        | 14214/114911 [00:14<01:39, 1009.59it/s]"
     ]
    },
    {
     "name": "stderr",
     "output_type": "stream",
     "text": [
      "\r 13%|█▎        | 14381/114911 [00:14<01:39, 1014.19it/s]"
     ]
    },
    {
     "name": "stderr",
     "output_type": "stream",
     "text": [
      "\r 13%|█▎        | 14553/114911 [00:14<01:38, 1019.08it/s]"
     ]
    },
    {
     "name": "stderr",
     "output_type": "stream",
     "text": [
      "\r 13%|█▎        | 14702/114911 [00:14<01:38, 1022.17it/s]"
     ]
    },
    {
     "name": "stderr",
     "output_type": "stream",
     "text": [
      "\r 13%|█▎        | 14860/114911 [00:14<01:37, 1025.97it/s]"
     ]
    },
    {
     "name": "stderr",
     "output_type": "stream",
     "text": [
      "\r 13%|█▎        | 15028/114911 [00:14<01:36, 1030.40it/s]"
     ]
    },
    {
     "name": "stderr",
     "output_type": "stream",
     "text": [
      "\r 13%|█▎        | 15200/114911 [00:14<01:36, 1035.04it/s]"
     ]
    },
    {
     "name": "stderr",
     "output_type": "stream",
     "text": [
      "\r 13%|█▎        | 15374/114911 [00:14<01:35, 1039.76it/s]"
     ]
    },
    {
     "name": "stderr",
     "output_type": "stream",
     "text": [
      "\r 14%|█▎        | 15538/114911 [00:14<01:35, 1043.67it/s]"
     ]
    },
    {
     "name": "stderr",
     "output_type": "stream",
     "text": [
      "\r 14%|█▎        | 15709/114911 [00:14<01:34, 1048.03it/s]"
     ]
    },
    {
     "name": "stderr",
     "output_type": "stream",
     "text": [
      "\r 14%|█▍        | 15875/114911 [00:15<01:34, 1050.51it/s]"
     ]
    },
    {
     "name": "stderr",
     "output_type": "stream",
     "text": [
      "\r 14%|█▍        | 16037/114911 [00:15<01:33, 1054.20it/s]"
     ]
    },
    {
     "name": "stderr",
     "output_type": "stream",
     "text": [
      "\r 14%|█▍        | 16195/114911 [00:15<01:33, 1055.52it/s]"
     ]
    },
    {
     "name": "stderr",
     "output_type": "stream",
     "text": [
      "\r 14%|█▍        | 16342/114911 [00:15<01:33, 1057.95it/s]"
     ]
    },
    {
     "name": "stderr",
     "output_type": "stream",
     "text": [
      "\r 14%|█▍        | 16516/114911 [00:15<01:32, 1062.29it/s]"
     ]
    },
    {
     "name": "stderr",
     "output_type": "stream",
     "text": [
      "\r 15%|█▍        | 16675/114911 [00:15<01:32, 1065.61it/s]"
     ]
    },
    {
     "name": "stderr",
     "output_type": "stream",
     "text": [
      "\r 15%|█▍        | 16830/114911 [00:15<01:31, 1067.49it/s]"
     ]
    },
    {
     "name": "stderr",
     "output_type": "stream",
     "text": [
      "\r 15%|█▍        | 16978/114911 [00:15<01:31, 1069.23it/s]"
     ]
    },
    {
     "name": "stderr",
     "output_type": "stream",
     "text": [
      "\r 15%|█▍        | 17121/114911 [00:15<01:31, 1070.64it/s]"
     ]
    },
    {
     "name": "stderr",
     "output_type": "stream",
     "text": [
      "\r 15%|█▌        | 17260/114911 [00:16<01:31, 1068.50it/s]"
     ]
    },
    {
     "name": "stderr",
     "output_type": "stream",
     "text": [
      "\r 15%|█▌        | 17383/114911 [00:16<01:31, 1067.22it/s]"
     ]
    },
    {
     "name": "stderr",
     "output_type": "stream",
     "text": [
      "\r 15%|█▌        | 17497/114911 [00:16<01:31, 1065.67it/s]"
     ]
    },
    {
     "name": "stderr",
     "output_type": "stream",
     "text": [
      "\r 15%|█▌        | 17603/114911 [00:16<01:31, 1064.23it/s]"
     ]
    },
    {
     "name": "stderr",
     "output_type": "stream",
     "text": [
      "\r 15%|█▌        | 17703/114911 [00:16<01:31, 1062.78it/s]"
     ]
    },
    {
     "name": "stderr",
     "output_type": "stream",
     "text": [
      "\r 15%|█▌        | 17799/114911 [00:16<01:31, 1061.61it/s]"
     ]
    },
    {
     "name": "stderr",
     "output_type": "stream",
     "text": [
      "\r 16%|█▌        | 17893/114911 [00:16<01:31, 1060.59it/s]"
     ]
    },
    {
     "name": "stderr",
     "output_type": "stream",
     "text": [
      "\r 16%|█▌        | 17986/114911 [00:16<01:31, 1059.65it/s]"
     ]
    },
    {
     "name": "stderr",
     "output_type": "stream",
     "text": [
      "\r 16%|█▌        | 18079/114911 [00:17<01:31, 1058.84it/s]"
     ]
    },
    {
     "name": "stderr",
     "output_type": "stream",
     "text": [
      "\r 16%|█▌        | 18171/114911 [00:17<01:31, 1057.92it/s]"
     ]
    },
    {
     "name": "stderr",
     "output_type": "stream",
     "text": [
      "\r 16%|█▌        | 18263/114911 [00:17<01:31, 1057.08it/s]"
     ]
    },
    {
     "name": "stderr",
     "output_type": "stream",
     "text": [
      "\r 16%|█▌        | 18361/114911 [00:17<01:31, 1056.59it/s]"
     ]
    },
    {
     "name": "stderr",
     "output_type": "stream",
     "text": [
      "\r 16%|█▌        | 18457/114911 [00:17<01:31, 1055.99it/s]"
     ]
    },
    {
     "name": "stderr",
     "output_type": "stream",
     "text": [
      "\r 16%|█▌        | 18551/114911 [00:17<01:31, 1055.17it/s]"
     ]
    },
    {
     "name": "stderr",
     "output_type": "stream",
     "text": [
      "\r 16%|█▌        | 18651/114911 [00:17<01:31, 1054.82it/s]"
     ]
    },
    {
     "name": "stderr",
     "output_type": "stream",
     "text": [
      "\r 16%|█▋        | 18746/114911 [00:17<01:31, 1053.83it/s]"
     ]
    },
    {
     "name": "stderr",
     "output_type": "stream",
     "text": [
      "\r 16%|█▋        | 18842/114911 [00:17<01:31, 1053.26it/s]"
     ]
    },
    {
     "name": "stderr",
     "output_type": "stream",
     "text": [
      "\r 16%|█▋        | 18937/114911 [00:17<01:31, 1052.64it/s]"
     ]
    },
    {
     "name": "stderr",
     "output_type": "stream",
     "text": [
      "\r 17%|█▋        | 19031/114911 [00:18<01:31, 1051.80it/s]"
     ]
    },
    {
     "name": "stderr",
     "output_type": "stream",
     "text": [
      "\r 17%|█▋        | 19124/114911 [00:18<01:31, 1050.63it/s]"
     ]
    },
    {
     "name": "stderr",
     "output_type": "stream",
     "text": [
      "\r 17%|█▋        | 19219/114911 [00:18<01:31, 1050.04it/s]"
     ]
    },
    {
     "name": "stderr",
     "output_type": "stream",
     "text": [
      "\r 17%|█▋        | 19316/114911 [00:18<01:31, 1049.56it/s]"
     ]
    },
    {
     "name": "stderr",
     "output_type": "stream",
     "text": [
      "\r 17%|█▋        | 19413/114911 [00:18<01:31, 1049.03it/s]"
     ]
    },
    {
     "name": "stderr",
     "output_type": "stream",
     "text": [
      "\r 17%|█▋        | 19507/114911 [00:18<01:30, 1048.40it/s]"
     ]
    },
    {
     "name": "stderr",
     "output_type": "stream",
     "text": [
      "\r 17%|█▋        | 19601/114911 [00:18<01:30, 1047.39it/s]"
     ]
    },
    {
     "name": "stderr",
     "output_type": "stream",
     "text": [
      "\r 17%|█▋        | 19693/114911 [00:18<01:31, 1046.00it/s]"
     ]
    },
    {
     "name": "stderr",
     "output_type": "stream",
     "text": [
      "\r 17%|█▋        | 19784/114911 [00:18<01:31, 1045.24it/s]"
     ]
    },
    {
     "name": "stderr",
     "output_type": "stream",
     "text": [
      "\r 17%|█▋        | 19874/114911 [00:19<01:31, 1044.16it/s]"
     ]
    },
    {
     "name": "stderr",
     "output_type": "stream",
     "text": [
      "\r 17%|█▋        | 19962/114911 [00:19<01:31, 1042.99it/s]"
     ]
    },
    {
     "name": "stderr",
     "output_type": "stream",
     "text": [
      "\r 17%|█▋        | 20049/114911 [00:19<01:31, 1041.78it/s]"
     ]
    },
    {
     "name": "stderr",
     "output_type": "stream",
     "text": [
      "\r 18%|█▊        | 20137/114911 [00:19<01:31, 1040.90it/s]"
     ]
    },
    {
     "name": "stderr",
     "output_type": "stream",
     "text": [
      "\r 18%|█▊        | 20226/114911 [00:19<01:31, 1040.08it/s]"
     ]
    },
    {
     "name": "stderr",
     "output_type": "stream",
     "text": [
      "\r 18%|█▊        | 20324/114911 [00:19<01:30, 1039.73it/s]"
     ]
    },
    {
     "name": "stderr",
     "output_type": "stream",
     "text": [
      "\r 18%|█▊        | 20420/114911 [00:19<01:30, 1039.24it/s]"
     ]
    },
    {
     "name": "stderr",
     "output_type": "stream",
     "text": [
      "\r 18%|█▊        | 20512/114911 [00:19<01:30, 1038.27it/s]"
     ]
    },
    {
     "name": "stderr",
     "output_type": "stream",
     "text": [
      "\r 18%|█▊        | 20602/114911 [00:19<01:30, 1037.48it/s]"
     ]
    },
    {
     "name": "stderr",
     "output_type": "stream",
     "text": [
      "\r 18%|█▊        | 20692/114911 [00:19<01:30, 1036.65it/s]"
     ]
    },
    {
     "name": "stderr",
     "output_type": "stream",
     "text": [
      "\r 18%|█▊        | 20787/114911 [00:20<01:30, 1036.13it/s]"
     ]
    },
    {
     "name": "stderr",
     "output_type": "stream",
     "text": [
      "\r 18%|█▊        | 20878/114911 [00:20<01:30, 1035.46it/s]"
     ]
    },
    {
     "name": "stderr",
     "output_type": "stream",
     "text": [
      "\r 18%|█▊        | 20969/114911 [00:20<01:30, 1034.55it/s]"
     ]
    },
    {
     "name": "stderr",
     "output_type": "stream",
     "text": [
      "\r 18%|█▊        | 21063/114911 [00:20<01:30, 1034.00it/s]"
     ]
    },
    {
     "name": "stderr",
     "output_type": "stream",
     "text": [
      "\r 18%|█▊        | 21164/114911 [00:20<01:30, 1033.85it/s]"
     ]
    },
    {
     "name": "stderr",
     "output_type": "stream",
     "text": [
      "\r 18%|█▊        | 21258/114911 [00:20<01:30, 1033.05it/s]"
     ]
    },
    {
     "name": "stderr",
     "output_type": "stream",
     "text": [
      "\r 19%|█▊        | 21351/114911 [00:20<01:30, 1032.52it/s]"
     ]
    },
    {
     "name": "stderr",
     "output_type": "stream",
     "text": [
      "\r 19%|█▊        | 21448/114911 [00:20<01:30, 1032.18it/s]"
     ]
    },
    {
     "name": "stderr",
     "output_type": "stream",
     "text": [
      "\r 19%|█▊        | 21545/114911 [00:20<01:30, 1031.84it/s]"
     ]
    },
    {
     "name": "stderr",
     "output_type": "stream",
     "text": [
      "\r 19%|█▉        | 21640/114911 [00:20<01:30, 1031.22it/s]"
     ]
    },
    {
     "name": "stderr",
     "output_type": "stream",
     "text": [
      "\r 19%|█▉        | 21736/114911 [00:21<01:30, 1030.85it/s]"
     ]
    },
    {
     "name": "stderr",
     "output_type": "stream",
     "text": [
      "\r 19%|█▉        | 21834/114911 [00:21<01:30, 1030.57it/s]"
     ]
    },
    {
     "name": "stderr",
     "output_type": "stream",
     "text": [
      "\r 19%|█▉        | 21929/114911 [00:21<01:30, 1030.01it/s]"
     ]
    },
    {
     "name": "stderr",
     "output_type": "stream",
     "text": [
      "\r 19%|█▉        | 22024/114911 [00:21<01:30, 1029.55it/s]"
     ]
    },
    {
     "name": "stderr",
     "output_type": "stream",
     "text": [
      "\r 19%|█▉        | 22124/114911 [00:21<01:30, 1029.37it/s]"
     ]
    },
    {
     "name": "stderr",
     "output_type": "stream",
     "text": [
      "\r 19%|█▉        | 22222/114911 [00:21<01:30, 1029.11it/s]"
     ]
    },
    {
     "name": "stderr",
     "output_type": "stream",
     "text": [
      "\r 19%|█▉        | 22323/114911 [00:21<01:29, 1028.99it/s]"
     ]
    },
    {
     "name": "stderr",
     "output_type": "stream",
     "text": [
      "\r 20%|█▉        | 22425/114911 [00:21<01:29, 1028.91it/s]"
     ]
    },
    {
     "name": "stderr",
     "output_type": "stream",
     "text": [
      "\r 20%|█▉        | 22524/114911 [00:21<01:29, 1028.46it/s]"
     ]
    },
    {
     "name": "stderr",
     "output_type": "stream",
     "text": [
      "\r 20%|█▉        | 22621/114911 [00:22<01:29, 1027.65it/s]"
     ]
    },
    {
     "name": "stderr",
     "output_type": "stream",
     "text": [
      "\r 20%|█▉        | 22715/114911 [00:22<01:29, 1027.03it/s]"
     ]
    },
    {
     "name": "stderr",
     "output_type": "stream",
     "text": [
      "\r 20%|█▉        | 22808/114911 [00:22<01:29, 1026.14it/s]"
     ]
    },
    {
     "name": "stderr",
     "output_type": "stream",
     "text": [
      "\r 20%|█▉        | 22899/114911 [00:22<01:29, 1025.50it/s]"
     ]
    },
    {
     "name": "stderr",
     "output_type": "stream",
     "text": [
      "\r 20%|██        | 22991/114911 [00:22<01:29, 1024.94it/s]"
     ]
    },
    {
     "name": "stderr",
     "output_type": "stream",
     "text": [
      "\r 20%|██        | 23081/114911 [00:22<01:29, 1023.95it/s]"
     ]
    },
    {
     "name": "stderr",
     "output_type": "stream",
     "text": [
      "\r 20%|██        | 23169/114911 [00:22<01:29, 1023.28it/s]"
     ]
    },
    {
     "name": "stderr",
     "output_type": "stream",
     "text": [
      "\r 20%|██        | 23260/114911 [00:22<01:29, 1022.74it/s]"
     ]
    },
    {
     "name": "stderr",
     "output_type": "stream",
     "text": [
      "\r 20%|██        | 23349/114911 [00:22<01:29, 1022.08it/s]"
     ]
    },
    {
     "name": "stderr",
     "output_type": "stream",
     "text": [
      "\r 20%|██        | 23440/114911 [00:22<01:29, 1021.56it/s]"
     ]
    },
    {
     "name": "stderr",
     "output_type": "stream",
     "text": [
      "\r 21%|██        | 23566/114911 [00:23<01:29, 1022.56it/s]"
     ]
    },
    {
     "name": "stderr",
     "output_type": "stream",
     "text": [
      "\r 21%|██        | 23731/114911 [00:23<01:28, 1025.24it/s]"
     ]
    },
    {
     "name": "stderr",
     "output_type": "stream",
     "text": [
      "\r 21%|██        | 23904/114911 [00:23<01:28, 1028.24it/s]"
     ]
    },
    {
     "name": "stderr",
     "output_type": "stream",
     "text": [
      "\r 21%|██        | 24075/114911 [00:23<01:28, 1031.14it/s]"
     ]
    },
    {
     "name": "stderr",
     "output_type": "stream",
     "text": [
      "\r 21%|██        | 24239/114911 [00:23<01:27, 1033.72it/s]"
     ]
    },
    {
     "name": "stderr",
     "output_type": "stream",
     "text": [
      "\r 21%|██        | 24407/114911 [00:23<01:27, 1036.45it/s]"
     ]
    },
    {
     "name": "stderr",
     "output_type": "stream",
     "text": [
      "\r 21%|██▏       | 24563/114911 [00:23<01:26, 1038.57it/s]"
     ]
    },
    {
     "name": "stderr",
     "output_type": "stream",
     "text": [
      "\r 22%|██▏       | 24718/114911 [00:23<01:26, 1040.60it/s]"
     ]
    },
    {
     "name": "stderr",
     "output_type": "stream",
     "text": [
      "\r 22%|██▏       | 24878/114911 [00:23<01:26, 1042.91it/s]"
     ]
    },
    {
     "name": "stderr",
     "output_type": "stream",
     "text": [
      "\r 22%|██▏       | 25047/114911 [00:23<01:25, 1045.58it/s]"
     ]
    },
    {
     "name": "stderr",
     "output_type": "stream",
     "text": [
      "\r 22%|██▏       | 25206/114911 [00:24<01:25, 1047.12it/s]"
     ]
    },
    {
     "name": "stderr",
     "output_type": "stream",
     "text": [
      "\r 22%|██▏       | 25361/114911 [00:24<01:25, 1049.19it/s]"
     ]
    },
    {
     "name": "stderr",
     "output_type": "stream",
     "text": [
      "\r 22%|██▏       | 25529/114911 [00:24<01:24, 1051.75it/s]"
     ]
    },
    {
     "name": "stderr",
     "output_type": "stream",
     "text": [
      "\r 22%|██▏       | 25687/114911 [00:24<01:24, 1053.67it/s]"
     ]
    },
    {
     "name": "stderr",
     "output_type": "stream",
     "text": [
      "\r 22%|██▏       | 25847/114911 [00:24<01:24, 1055.87it/s]"
     ]
    },
    {
     "name": "stderr",
     "output_type": "stream",
     "text": [
      "\r 23%|██▎       | 26023/114911 [00:24<01:23, 1058.71it/s]"
     ]
    },
    {
     "name": "stderr",
     "output_type": "stream",
     "text": [
      "\r 23%|██▎       | 26192/114911 [00:24<01:23, 1061.23it/s]"
     ]
    },
    {
     "name": "stderr",
     "output_type": "stream",
     "text": [
      "\r 23%|██▎       | 26367/114911 [00:24<01:23, 1063.98it/s]"
     ]
    },
    {
     "name": "stderr",
     "output_type": "stream",
     "text": [
      "\r 23%|██▎       | 26534/114911 [00:24<01:22, 1066.08it/s]"
     ]
    },
    {
     "name": "stderr",
     "output_type": "stream",
     "text": [
      "\r 23%|██▎       | 26708/114911 [00:24<01:22, 1068.75it/s]"
     ]
    },
    {
     "name": "stderr",
     "output_type": "stream",
     "text": [
      "\r 23%|██▎       | 26881/114911 [00:25<01:22, 1071.35it/s]"
     ]
    },
    {
     "name": "stderr",
     "output_type": "stream",
     "text": [
      "\r 24%|██▎       | 27056/114911 [00:25<01:21, 1074.02it/s]"
     ]
    },
    {
     "name": "stderr",
     "output_type": "stream",
     "text": [
      "\r 24%|██▎       | 27228/114911 [00:25<01:21, 1076.54it/s]"
     ]
    },
    {
     "name": "stderr",
     "output_type": "stream",
     "text": [
      "\r 24%|██▍       | 27398/114911 [00:25<01:21, 1077.97it/s]"
     ]
    },
    {
     "name": "stderr",
     "output_type": "stream",
     "text": [
      "\r 24%|██▍       | 27577/114911 [00:25<01:20, 1080.72it/s]"
     ]
    },
    {
     "name": "stderr",
     "output_type": "stream",
     "text": [
      "\r 24%|██▍       | 27760/114911 [00:25<01:20, 1083.62it/s]"
     ]
    },
    {
     "name": "stderr",
     "output_type": "stream",
     "text": [
      "\r 24%|██▍       | 27931/114911 [00:25<01:20, 1084.63it/s]"
     ]
    },
    {
     "name": "stderr",
     "output_type": "stream",
     "text": [
      "\r 24%|██▍       | 28112/114911 [00:25<01:19, 1087.41it/s]"
     ]
    },
    {
     "name": "stderr",
     "output_type": "stream",
     "text": [
      "\r 25%|██▍       | 28300/114911 [00:25<01:19, 1090.45it/s]"
     ]
    },
    {
     "name": "stderr",
     "output_type": "stream",
     "text": [
      "\r 25%|██▍       | 28480/114911 [00:26<01:19, 1093.14it/s]"
     ]
    },
    {
     "name": "stderr",
     "output_type": "stream",
     "text": [
      "\r 25%|██▍       | 28664/114911 [00:26<01:18, 1095.97it/s]"
     ]
    },
    {
     "name": "stderr",
     "output_type": "stream",
     "text": [
      "\r 25%|██▌       | 28841/114911 [00:26<01:18, 1098.46it/s]"
     ]
    },
    {
     "name": "stderr",
     "output_type": "stream",
     "text": [
      "\r 25%|██▌       | 29017/114911 [00:26<01:18, 1100.65it/s]"
     ]
    },
    {
     "name": "stderr",
     "output_type": "stream",
     "text": [
      "\r 25%|██▌       | 29198/114911 [00:26<01:17, 1103.30it/s]"
     ]
    },
    {
     "name": "stderr",
     "output_type": "stream",
     "text": [
      "\r 26%|██▌       | 29373/114911 [00:26<01:17, 1105.65it/s]"
     ]
    },
    {
     "name": "stderr",
     "output_type": "stream",
     "text": [
      "\r 26%|██▌       | 29560/114911 [00:26<01:16, 1108.49it/s]"
     ]
    },
    {
     "name": "stderr",
     "output_type": "stream",
     "text": [
      "\r 26%|██▌       | 29743/114911 [00:26<01:16, 1111.15it/s]"
     ]
    },
    {
     "name": "stderr",
     "output_type": "stream",
     "text": [
      "\r 26%|██▌       | 29922/114911 [00:26<01:16, 1113.48it/s]"
     ]
    },
    {
     "name": "stderr",
     "output_type": "stream",
     "text": [
      "\r 26%|██▌       | 30099/114911 [00:26<01:16, 1115.89it/s]"
     ]
    },
    {
     "name": "stderr",
     "output_type": "stream",
     "text": [
      "\r 26%|██▋       | 30276/114911 [00:27<01:15, 1118.19it/s]"
     ]
    },
    {
     "name": "stderr",
     "output_type": "stream",
     "text": [
      "\r 27%|██▋       | 30459/114911 [00:27<01:15, 1120.78it/s]"
     ]
    },
    {
     "name": "stderr",
     "output_type": "stream",
     "text": [
      "\r 27%|██▋       | 30636/114911 [00:27<01:15, 1122.97it/s]"
     ]
    },
    {
     "name": "stderr",
     "output_type": "stream",
     "text": [
      "\r 27%|██▋       | 30812/114911 [00:27<01:14, 1125.26it/s]"
     ]
    },
    {
     "name": "stderr",
     "output_type": "stream",
     "text": [
      "\r 27%|██▋       | 30987/114911 [00:27<01:14, 1127.18it/s]"
     ]
    },
    {
     "name": "stderr",
     "output_type": "stream",
     "text": [
      "\r 27%|██▋       | 31166/114911 [00:27<01:14, 1129.55it/s]"
     ]
    },
    {
     "name": "stderr",
     "output_type": "stream",
     "text": [
      "\r 27%|██▋       | 31348/114911 [00:27<01:13, 1132.01it/s]"
     ]
    },
    {
     "name": "stderr",
     "output_type": "stream",
     "text": [
      "\r 27%|██▋       | 31524/114911 [00:27<01:13, 1134.18it/s]"
     ]
    },
    {
     "name": "stderr",
     "output_type": "stream",
     "text": [
      "\r 28%|██▊       | 31705/114911 [00:27<01:13, 1136.59it/s]"
     ]
    },
    {
     "name": "stderr",
     "output_type": "stream",
     "text": [
      "\r 28%|██▊       | 31887/114911 [00:27<01:12, 1139.00it/s]"
     ]
    },
    {
     "name": "stderr",
     "output_type": "stream",
     "text": [
      "\r 28%|██▊       | 32067/114911 [00:28<01:12, 1141.33it/s]"
     ]
    },
    {
     "name": "stderr",
     "output_type": "stream",
     "text": [
      "\r 28%|██▊       | 32248/114911 [00:28<01:12, 1143.67it/s]"
     ]
    },
    {
     "name": "stderr",
     "output_type": "stream",
     "text": [
      "\r 28%|██▊       | 32427/114911 [00:28<01:11, 1145.80it/s]"
     ]
    },
    {
     "name": "stderr",
     "output_type": "stream",
     "text": [
      "\r 28%|██▊       | 32606/114911 [00:28<01:11, 1148.04it/s]"
     ]
    },
    {
     "name": "stderr",
     "output_type": "stream",
     "text": [
      "\r 29%|██▊       | 32791/114911 [00:28<01:11, 1150.47it/s]"
     ]
    },
    {
     "name": "stderr",
     "output_type": "stream",
     "text": [
      "\r 29%|██▊       | 32970/114911 [00:28<01:11, 1152.68it/s]"
     ]
    },
    {
     "name": "stderr",
     "output_type": "stream",
     "text": [
      "\r 29%|██▉       | 33149/114911 [00:28<01:10, 1154.87it/s]"
     ]
    },
    {
     "name": "stderr",
     "output_type": "stream",
     "text": [
      "\r 29%|██▉       | 33328/114911 [00:28<01:10, 1157.00it/s]"
     ]
    },
    {
     "name": "stderr",
     "output_type": "stream",
     "text": [
      "\r 29%|██▉       | 33513/114911 [00:28<01:10, 1159.33it/s]"
     ]
    },
    {
     "name": "stderr",
     "output_type": "stream",
     "text": [
      "\r 29%|██▉       | 33694/114911 [00:29<01:09, 1161.55it/s]"
     ]
    },
    {
     "name": "stderr",
     "output_type": "stream",
     "text": [
      "\r 29%|██▉       | 33875/114911 [00:29<01:09, 1163.76it/s]"
     ]
    },
    {
     "name": "stderr",
     "output_type": "stream",
     "text": [
      "\r 30%|██▉       | 34063/114911 [00:29<01:09, 1166.18it/s]"
     ]
    },
    {
     "name": "stderr",
     "output_type": "stream",
     "text": [
      "\r 30%|██▉       | 34245/114911 [00:29<01:09, 1168.18it/s]"
     ]
    },
    {
     "name": "stderr",
     "output_type": "stream",
     "text": [
      "\r 30%|██▉       | 34424/114911 [00:29<01:08, 1170.13it/s]"
     ]
    },
    {
     "name": "stderr",
     "output_type": "stream",
     "text": [
      "\r 30%|███       | 34610/114911 [00:29<01:08, 1172.44it/s]"
     ]
    },
    {
     "name": "stderr",
     "output_type": "stream",
     "text": [
      "\r 30%|███       | 34794/114911 [00:29<01:08, 1174.66it/s]"
     ]
    },
    {
     "name": "stderr",
     "output_type": "stream",
     "text": [
      "\r 30%|███       | 34979/114911 [00:29<01:07, 1176.91it/s]"
     ]
    },
    {
     "name": "stderr",
     "output_type": "stream",
     "text": [
      "\r 31%|███       | 35163/114911 [00:29<01:07, 1179.10it/s]"
     ]
    },
    {
     "name": "stderr",
     "output_type": "stream",
     "text": [
      "\r 31%|███       | 35347/114911 [00:29<01:07, 1181.28it/s]"
     ]
    },
    {
     "name": "stderr",
     "output_type": "stream",
     "text": [
      "\r 31%|███       | 35529/114911 [00:30<01:07, 1183.26it/s]"
     ]
    },
    {
     "name": "stderr",
     "output_type": "stream",
     "text": [
      "\r 31%|███       | 35710/114911 [00:30<01:06, 1185.27it/s]"
     ]
    },
    {
     "name": "stderr",
     "output_type": "stream",
     "text": [
      "\r 31%|███       | 35894/114911 [00:30<01:06, 1187.43it/s]"
     ]
    },
    {
     "name": "stderr",
     "output_type": "stream",
     "text": [
      "\r 31%|███▏      | 36076/114911 [00:30<01:06, 1189.49it/s]"
     ]
    },
    {
     "name": "stderr",
     "output_type": "stream",
     "text": [
      "\r 32%|███▏      | 36257/114911 [00:30<01:06, 1191.18it/s]"
     ]
    },
    {
     "name": "stderr",
     "output_type": "stream",
     "text": [
      "\r 32%|███▏      | 36434/114911 [00:30<01:05, 1192.97it/s]"
     ]
    },
    {
     "name": "stderr",
     "output_type": "stream",
     "text": [
      "\r 32%|███▏      | 36610/114911 [00:30<01:05, 1194.21it/s]"
     ]
    },
    {
     "name": "stderr",
     "output_type": "stream",
     "text": [
      "\r 32%|███▏      | 36779/114911 [00:30<01:05, 1195.76it/s]"
     ]
    },
    {
     "name": "stderr",
     "output_type": "stream",
     "text": [
      "\r 32%|███▏      | 36953/114911 [00:30<01:05, 1197.49it/s]"
     ]
    },
    {
     "name": "stderr",
     "output_type": "stream",
     "text": [
      "\r 32%|███▏      | 37123/114911 [00:30<01:04, 1199.09it/s]"
     ]
    },
    {
     "name": "stderr",
     "output_type": "stream",
     "text": [
      "\r 32%|███▏      | 37293/114911 [00:31<01:04, 1200.21it/s]"
     ]
    },
    {
     "name": "stderr",
     "output_type": "stream",
     "text": [
      "\r 33%|███▎      | 37457/114911 [00:31<01:04, 1201.55it/s]"
     ]
    },
    {
     "name": "stderr",
     "output_type": "stream",
     "text": [
      "\r 33%|███▎      | 37625/114911 [00:31<01:04, 1203.07it/s]"
     ]
    },
    {
     "name": "stderr",
     "output_type": "stream",
     "text": [
      "\r 33%|███▎      | 37808/114911 [00:31<01:03, 1205.04it/s]"
     ]
    },
    {
     "name": "stderr",
     "output_type": "stream",
     "text": [
      "\r 33%|███▎      | 37978/114911 [00:31<01:03, 1206.54it/s]"
     ]
    },
    {
     "name": "stderr",
     "output_type": "stream",
     "text": [
      "\r 33%|███▎      | 38147/114911 [00:31<01:03, 1208.01it/s]"
     ]
    },
    {
     "name": "stderr",
     "output_type": "stream",
     "text": [
      "\r 33%|███▎      | 38328/114911 [00:31<01:03, 1209.88it/s]"
     ]
    },
    {
     "name": "stderr",
     "output_type": "stream",
     "text": [
      "\r 34%|███▎      | 38502/114911 [00:31<01:03, 1211.52it/s]"
     ]
    },
    {
     "name": "stderr",
     "output_type": "stream",
     "text": [
      "\r 34%|███▎      | 38674/114911 [00:31<01:02, 1212.97it/s]"
     ]
    },
    {
     "name": "stderr",
     "output_type": "stream",
     "text": [
      "\r 34%|███▍      | 38850/114911 [00:31<01:02, 1214.65it/s]"
     ]
    },
    {
     "name": "stderr",
     "output_type": "stream",
     "text": [
      "\r 34%|███▍      | 39022/114911 [00:32<01:02, 1215.94it/s]"
     ]
    },
    {
     "name": "stderr",
     "output_type": "stream",
     "text": [
      "\r 34%|███▍      | 39190/114911 [00:32<01:02, 1214.38it/s]"
     ]
    },
    {
     "name": "stderr",
     "output_type": "stream",
     "text": [
      "\r 34%|███▍      | 39336/114911 [00:32<01:02, 1213.09it/s]"
     ]
    },
    {
     "name": "stderr",
     "output_type": "stream",
     "text": [
      "\r 34%|███▍      | 39467/114911 [00:32<01:02, 1211.69it/s]"
     ]
    },
    {
     "name": "stderr",
     "output_type": "stream",
     "text": [
      "\r 34%|███▍      | 39586/114911 [00:32<01:02, 1210.52it/s]"
     ]
    },
    {
     "name": "stderr",
     "output_type": "stream",
     "text": [
      "\r 35%|███▍      | 39697/114911 [00:32<01:02, 1209.41it/s]"
     ]
    },
    {
     "name": "stderr",
     "output_type": "stream",
     "text": [
      "\r 35%|███▍      | 39802/114911 [00:32<01:02, 1208.13it/s]"
     ]
    },
    {
     "name": "stderr",
     "output_type": "stream",
     "text": [
      "\r 35%|███▍      | 39902/114911 [00:33<01:02, 1207.18it/s]"
     ]
    },
    {
     "name": "stderr",
     "output_type": "stream",
     "text": [
      "\r 35%|███▍      | 40000/114911 [00:33<01:02, 1206.25it/s]"
     ]
    },
    {
     "name": "stderr",
     "output_type": "stream",
     "text": [
      "\r 35%|███▍      | 40097/114911 [00:33<01:02, 1205.51it/s]"
     ]
    },
    {
     "name": "stderr",
     "output_type": "stream",
     "text": [
      "\r 35%|███▍      | 40193/114911 [00:33<01:02, 1204.68it/s]"
     ]
    },
    {
     "name": "stderr",
     "output_type": "stream",
     "text": [
      "\r 35%|███▌      | 40288/114911 [00:33<01:01, 1203.71it/s]"
     ]
    },
    {
     "name": "stderr",
     "output_type": "stream",
     "text": [
      "\r 35%|███▌      | 40382/114911 [00:33<01:01, 1202.50it/s]"
     ]
    },
    {
     "name": "stderr",
     "output_type": "stream",
     "text": [
      "\r 35%|███▌      | 40473/114911 [00:33<01:01, 1201.54it/s]"
     ]
    },
    {
     "name": "stderr",
     "output_type": "stream",
     "text": [
      "\r 35%|███▌      | 40563/114911 [00:33<01:01, 1200.58it/s]"
     ]
    },
    {
     "name": "stderr",
     "output_type": "stream",
     "text": [
      "\r 35%|███▌      | 40653/114911 [00:33<01:01, 1199.67it/s]"
     ]
    },
    {
     "name": "stderr",
     "output_type": "stream",
     "text": [
      "\r 35%|███▌      | 40743/114911 [00:33<01:01, 1198.76it/s]"
     ]
    },
    {
     "name": "stderr",
     "output_type": "stream",
     "text": [
      "\r 36%|███▌      | 40837/114911 [00:34<01:01, 1197.97it/s]"
     ]
    },
    {
     "name": "stderr",
     "output_type": "stream",
     "text": [
      "\r 36%|███▌      | 40928/114911 [00:34<01:01, 1196.79it/s]"
     ]
    },
    {
     "name": "stderr",
     "output_type": "stream",
     "text": [
      "\r 36%|███▌      | 41017/114911 [00:34<01:01, 1195.87it/s]"
     ]
    },
    {
     "name": "stderr",
     "output_type": "stream",
     "text": [
      "\r 36%|███▌      | 41106/114911 [00:34<01:01, 1194.82it/s]"
     ]
    },
    {
     "name": "stderr",
     "output_type": "stream",
     "text": [
      "\r 36%|███▌      | 41202/114911 [00:34<01:01, 1194.11it/s]"
     ]
    },
    {
     "name": "stderr",
     "output_type": "stream",
     "text": [
      "\r 36%|███▌      | 41292/114911 [00:34<01:01, 1192.82it/s]"
     ]
    },
    {
     "name": "stderr",
     "output_type": "stream",
     "text": [
      "\r 36%|███▌      | 41379/114911 [00:34<01:01, 1191.86it/s]"
     ]
    },
    {
     "name": "stderr",
     "output_type": "stream",
     "text": [
      "\r 36%|███▌      | 41472/114911 [00:34<01:01, 1191.09it/s]"
     ]
    },
    {
     "name": "stderr",
     "output_type": "stream",
     "text": [
      "\r 36%|███▌      | 41569/114911 [00:34<01:01, 1190.43it/s]"
     ]
    },
    {
     "name": "stderr",
     "output_type": "stream",
     "text": [
      "\r 36%|███▋      | 41662/114911 [00:35<01:01, 1189.66it/s]"
     ]
    },
    {
     "name": "stderr",
     "output_type": "stream",
     "text": [
      "\r 36%|███▋      | 41755/114911 [00:35<01:01, 1188.86it/s]"
     ]
    },
    {
     "name": "stderr",
     "output_type": "stream",
     "text": [
      "\r 36%|███▋      | 41852/114911 [00:35<01:01, 1188.21it/s]"
     ]
    },
    {
     "name": "stderr",
     "output_type": "stream",
     "text": [
      "\r 37%|███▋      | 41945/114911 [00:35<01:01, 1186.68it/s]"
     ]
    },
    {
     "name": "stderr",
     "output_type": "stream",
     "text": [
      "\r 37%|███▋      | 42033/114911 [00:35<01:01, 1185.32it/s]"
     ]
    },
    {
     "name": "stderr",
     "output_type": "stream",
     "text": [
      "\r 37%|███▋      | 42118/114911 [00:35<01:01, 1184.15it/s]"
     ]
    },
    {
     "name": "stderr",
     "output_type": "stream",
     "text": [
      "\r 37%|███▋      | 42210/114911 [00:35<01:01, 1183.39it/s]"
     ]
    },
    {
     "name": "stderr",
     "output_type": "stream",
     "text": [
      "\r 37%|███▋      | 42298/114911 [00:35<01:01, 1182.52it/s]"
     ]
    },
    {
     "name": "stderr",
     "output_type": "stream",
     "text": [
      "\r 37%|███▋      | 42384/114911 [00:35<01:01, 1181.46it/s]"
     ]
    },
    {
     "name": "stderr",
     "output_type": "stream",
     "text": [
      "\r 37%|███▋      | 42469/114911 [00:35<01:01, 1180.48it/s]"
     ]
    },
    {
     "name": "stderr",
     "output_type": "stream",
     "text": [
      "\r 37%|███▋      | 42555/114911 [00:36<01:01, 1179.53it/s]"
     ]
    },
    {
     "name": "stderr",
     "output_type": "stream",
     "text": [
      "\r 37%|███▋      | 42640/114911 [00:36<01:01, 1178.57it/s]"
     ]
    },
    {
     "name": "stderr",
     "output_type": "stream",
     "text": [
      "\r 37%|███▋      | 42727/114911 [00:36<01:01, 1177.69it/s]"
     ]
    },
    {
     "name": "stderr",
     "output_type": "stream",
     "text": [
      "\r 37%|███▋      | 42812/114911 [00:36<01:01, 1176.54it/s]"
     ]
    },
    {
     "name": "stderr",
     "output_type": "stream",
     "text": [
      "\r 37%|███▋      | 42903/114911 [00:36<01:01, 1175.78it/s]"
     ]
    },
    {
     "name": "stderr",
     "output_type": "stream",
     "text": [
      "\r 37%|███▋      | 42989/114911 [00:36<01:01, 1174.90it/s]"
     ]
    },
    {
     "name": "stderr",
     "output_type": "stream",
     "text": [
      "\r 37%|███▋      | 43079/114911 [00:36<01:01, 1174.12it/s]"
     ]
    },
    {
     "name": "stderr",
     "output_type": "stream",
     "text": [
      "\r 38%|███▊      | 43166/114911 [00:36<01:01, 1172.80it/s]"
     ]
    },
    {
     "name": "stderr",
     "output_type": "stream",
     "text": [
      "\r 38%|███▊      | 43250/114911 [00:36<01:01, 1171.24it/s]"
     ]
    },
    {
     "name": "stderr",
     "output_type": "stream",
     "text": [
      "\r 38%|███▊      | 43335/114911 [00:37<01:01, 1170.32it/s]"
     ]
    },
    {
     "name": "stderr",
     "output_type": "stream",
     "text": [
      "\r 38%|███▊      | 43427/114911 [00:37<01:01, 1169.62it/s]"
     ]
    },
    {
     "name": "stderr",
     "output_type": "stream",
     "text": [
      "\r 38%|███▊      | 43511/114911 [00:37<01:01, 1167.87it/s]"
     ]
    },
    {
     "name": "stderr",
     "output_type": "stream",
     "text": [
      "\r 38%|███▊      | 43611/114911 [00:37<01:01, 1167.39it/s]"
     ]
    },
    {
     "name": "stderr",
     "output_type": "stream",
     "text": [
      "\r 38%|███▊      | 43700/114911 [00:37<01:01, 1166.63it/s]"
     ]
    },
    {
     "name": "stderr",
     "output_type": "stream",
     "text": [
      "\r 38%|███▊      | 43790/114911 [00:37<01:01, 1165.89it/s]"
     ]
    },
    {
     "name": "stderr",
     "output_type": "stream",
     "text": [
      "\r 38%|███▊      | 43881/114911 [00:37<01:00, 1165.16it/s]"
     ]
    },
    {
     "name": "stderr",
     "output_type": "stream",
     "text": [
      "\r 38%|███▊      | 43972/114911 [00:37<01:00, 1164.46it/s]"
     ]
    },
    {
     "name": "stderr",
     "output_type": "stream",
     "text": [
      "\r 38%|███▊      | 44067/114911 [00:37<01:00, 1163.87it/s]"
     ]
    },
    {
     "name": "stderr",
     "output_type": "stream",
     "text": [
      "\r 38%|███▊      | 44158/114911 [00:37<01:00, 1163.06it/s]"
     ]
    },
    {
     "name": "stderr",
     "output_type": "stream",
     "text": [
      "\r 39%|███▊      | 44248/114911 [00:38<01:00, 1162.30it/s]"
     ]
    },
    {
     "name": "stderr",
     "output_type": "stream",
     "text": [
      "\r 39%|███▊      | 44396/114911 [00:38<01:00, 1163.10it/s]"
     ]
    },
    {
     "name": "stderr",
     "output_type": "stream",
     "text": [
      "\r 39%|███▉      | 44575/114911 [00:38<01:00, 1164.71it/s]"
     ]
    },
    {
     "name": "stderr",
     "output_type": "stream",
     "text": [
      "\r 39%|███▉      | 44756/114911 [00:38<01:00, 1166.37it/s]"
     ]
    },
    {
     "name": "stderr",
     "output_type": "stream",
     "text": [
      "\r 39%|███▉      | 44930/114911 [00:38<00:59, 1167.84it/s]"
     ]
    },
    {
     "name": "stderr",
     "output_type": "stream",
     "text": [
      "\r 39%|███▉      | 45101/114911 [00:38<00:59, 1169.22it/s]"
     ]
    },
    {
     "name": "stderr",
     "output_type": "stream",
     "text": [
      "\r 39%|███▉      | 45272/114911 [00:38<00:59, 1170.60it/s]"
     ]
    },
    {
     "name": "stderr",
     "output_type": "stream",
     "text": [
      "\r 40%|███▉      | 45435/114911 [00:38<00:59, 1171.76it/s]"
     ]
    },
    {
     "name": "stderr",
     "output_type": "stream",
     "text": [
      "\r 40%|███▉      | 45613/114911 [00:38<00:59, 1173.30it/s]"
     ]
    },
    {
     "name": "stderr",
     "output_type": "stream",
     "text": [
      "\r 40%|███▉      | 45792/114911 [00:38<00:58, 1174.86it/s]"
     ]
    },
    {
     "name": "stderr",
     "output_type": "stream",
     "text": [
      "\r 40%|████      | 45973/114911 [00:39<00:58, 1176.47it/s]"
     ]
    },
    {
     "name": "stderr",
     "output_type": "stream",
     "text": [
      "\r 40%|████      | 46157/114911 [00:39<00:58, 1178.14it/s]"
     ]
    },
    {
     "name": "stderr",
     "output_type": "stream",
     "text": [
      "\r 40%|████      | 46336/114911 [00:39<00:58, 1179.69it/s]"
     ]
    },
    {
     "name": "stderr",
     "output_type": "stream",
     "text": [
      "\r 40%|████      | 46521/114911 [00:39<00:57, 1181.37it/s]"
     ]
    },
    {
     "name": "stderr",
     "output_type": "stream",
     "text": [
      "\r 41%|████      | 46700/114911 [00:39<00:57, 1182.86it/s]"
     ]
    },
    {
     "name": "stderr",
     "output_type": "stream",
     "text": [
      "\r 41%|████      | 46885/114911 [00:39<00:57, 1184.52it/s]"
     ]
    },
    {
     "name": "stderr",
     "output_type": "stream",
     "text": [
      "\r 41%|████      | 47065/114911 [00:39<00:57, 1184.78it/s]"
     ]
    },
    {
     "name": "stderr",
     "output_type": "stream",
     "text": [
      "\r 41%|████      | 47229/114911 [00:39<00:57, 1185.61it/s]"
     ]
    },
    {
     "name": "stderr",
     "output_type": "stream",
     "text": [
      "\r 41%|████      | 47388/114911 [00:39<00:56, 1186.16it/s]"
     ]
    },
    {
     "name": "stderr",
     "output_type": "stream",
     "text": [
      "\r 41%|████▏     | 47541/114911 [00:40<00:56, 1186.70it/s]"
     ]
    },
    {
     "name": "stderr",
     "output_type": "stream",
     "text": [
      "\r 42%|████▏     | 47690/114911 [00:40<00:56, 1185.96it/s]"
     ]
    },
    {
     "name": "stderr",
     "output_type": "stream",
     "text": [
      "\r 42%|████▏     | 47824/114911 [00:40<00:56, 1185.13it/s]"
     ]
    },
    {
     "name": "stderr",
     "output_type": "stream",
     "text": [
      "\r 42%|████▏     | 47946/114911 [00:40<00:56, 1184.02it/s]"
     ]
    },
    {
     "name": "stderr",
     "output_type": "stream",
     "text": [
      "\r 42%|████▏     | 48058/114911 [00:40<00:56, 1183.12it/s]"
     ]
    },
    {
     "name": "stderr",
     "output_type": "stream",
     "text": [
      "\r 42%|████▏     | 48163/114911 [00:40<00:56, 1181.87it/s]"
     ]
    },
    {
     "name": "stderr",
     "output_type": "stream",
     "text": [
      "\r 42%|████▏     | 48261/114911 [00:40<00:56, 1181.18it/s]"
     ]
    },
    {
     "name": "stderr",
     "output_type": "stream",
     "text": [
      "\r 42%|████▏     | 48357/114911 [00:40<00:56, 1180.33it/s]"
     ]
    },
    {
     "name": "stderr",
     "output_type": "stream",
     "text": [
      "\r 42%|████▏     | 48451/114911 [00:41<00:56, 1179.75it/s]"
     ]
    },
    {
     "name": "stderr",
     "output_type": "stream",
     "text": [
      "\r 42%|████▏     | 48546/114911 [00:41<00:56, 1179.14it/s]"
     ]
    },
    {
     "name": "stderr",
     "output_type": "stream",
     "text": [
      "\r 42%|████▏     | 48643/114911 [00:41<00:56, 1178.64it/s]"
     ]
    },
    {
     "name": "stderr",
     "output_type": "stream",
     "text": [
      "\r 42%|████▏     | 48738/114911 [00:41<00:56, 1177.84it/s]"
     ]
    },
    {
     "name": "stderr",
     "output_type": "stream",
     "text": [
      "\r 42%|████▏     | 48836/114911 [00:41<00:56, 1177.31it/s]"
     ]
    },
    {
     "name": "stderr",
     "output_type": "stream",
     "text": [
      "\r 43%|████▎     | 48930/114911 [00:41<00:56, 1176.67it/s]"
     ]
    },
    {
     "name": "stderr",
     "output_type": "stream",
     "text": [
      "\r 43%|████▎     | 49023/114911 [00:41<00:56, 1175.91it/s]"
     ]
    },
    {
     "name": "stderr",
     "output_type": "stream",
     "text": [
      "\r 43%|████▎     | 49117/114911 [00:41<00:55, 1175.33it/s]"
     ]
    },
    {
     "name": "stderr",
     "output_type": "stream",
     "text": [
      "\r 43%|████▎     | 49211/114911 [00:41<00:55, 1174.74it/s]"
     ]
    },
    {
     "name": "stderr",
     "output_type": "stream",
     "text": [
      "\r 43%|████▎     | 49304/114911 [00:41<00:55, 1174.11it/s]"
     ]
    },
    {
     "name": "stderr",
     "output_type": "stream",
     "text": [
      "\r 43%|████▎     | 49398/114911 [00:42<00:55, 1173.54it/s]"
     ]
    },
    {
     "name": "stderr",
     "output_type": "stream",
     "text": [
      "\r 43%|████▎     | 49491/114911 [00:42<00:55, 1172.94it/s]"
     ]
    },
    {
     "name": "stderr",
     "output_type": "stream",
     "text": [
      "\r 43%|████▎     | 49586/114911 [00:42<00:55, 1172.39it/s]"
     ]
    },
    {
     "name": "stderr",
     "output_type": "stream",
     "text": [
      "\r 43%|████▎     | 49679/114911 [00:42<00:55, 1171.77it/s]"
     ]
    },
    {
     "name": "stderr",
     "output_type": "stream",
     "text": [
      "\r 43%|████▎     | 49774/114911 [00:42<00:55, 1171.23it/s]"
     ]
    },
    {
     "name": "stderr",
     "output_type": "stream",
     "text": [
      "\r 43%|████▎     | 49868/114911 [00:42<00:55, 1170.37it/s]"
     ]
    },
    {
     "name": "stderr",
     "output_type": "stream",
     "text": [
      "\r 43%|████▎     | 49960/114911 [00:42<00:55, 1169.76it/s]"
     ]
    },
    {
     "name": "stderr",
     "output_type": "stream",
     "text": [
      "\r 44%|████▎     | 50053/114911 [00:42<00:55, 1169.18it/s]"
     ]
    },
    {
     "name": "stderr",
     "output_type": "stream",
     "text": [
      "\r 44%|████▎     | 50145/114911 [00:42<00:55, 1168.55it/s]"
     ]
    },
    {
     "name": "stderr",
     "output_type": "stream",
     "text": [
      "\r 44%|████▎     | 50239/114911 [00:43<00:55, 1168.00it/s]"
     ]
    },
    {
     "name": "stderr",
     "output_type": "stream",
     "text": [
      "\r 44%|████▍     | 50331/114911 [00:43<00:55, 1167.29it/s]"
     ]
    },
    {
     "name": "stderr",
     "output_type": "stream",
     "text": [
      "\r 44%|████▍     | 50428/114911 [00:43<00:55, 1166.82it/s]"
     ]
    },
    {
     "name": "stderr",
     "output_type": "stream",
     "text": [
      "\r 44%|████▍     | 50521/114911 [00:43<00:55, 1166.12it/s]"
     ]
    },
    {
     "name": "stderr",
     "output_type": "stream",
     "text": [
      "\r 44%|████▍     | 50618/114911 [00:43<00:55, 1165.64it/s]"
     ]
    },
    {
     "name": "stderr",
     "output_type": "stream",
     "text": [
      "\r 44%|████▍     | 50711/114911 [00:43<00:55, 1164.97it/s]"
     ]
    },
    {
     "name": "stderr",
     "output_type": "stream",
     "text": [
      "\r 44%|████▍     | 50803/114911 [00:43<00:55, 1164.31it/s]"
     ]
    },
    {
     "name": "stderr",
     "output_type": "stream",
     "text": [
      "\r 44%|████▍     | 50896/114911 [00:43<00:55, 1163.76it/s]"
     ]
    },
    {
     "name": "stderr",
     "output_type": "stream",
     "text": [
      "\r 44%|████▍     | 50994/114911 [00:43<00:54, 1163.32it/s]"
     ]
    },
    {
     "name": "stderr",
     "output_type": "stream",
     "text": [
      "\r 44%|████▍     | 51094/114911 [00:43<00:54, 1162.92it/s]"
     ]
    },
    {
     "name": "stderr",
     "output_type": "stream",
     "text": [
      "\r 45%|████▍     | 51189/114911 [00:44<00:54, 1162.32it/s]"
     ]
    },
    {
     "name": "stderr",
     "output_type": "stream",
     "text": [
      "\r 45%|████▍     | 51283/114911 [00:44<00:54, 1161.69it/s]"
     ]
    },
    {
     "name": "stderr",
     "output_type": "stream",
     "text": [
      "\r 45%|████▍     | 51376/114911 [00:44<00:54, 1161.09it/s]"
     ]
    },
    {
     "name": "stderr",
     "output_type": "stream",
     "text": [
      "\r 45%|████▍     | 51468/114911 [00:44<00:54, 1160.40it/s]"
     ]
    },
    {
     "name": "stderr",
     "output_type": "stream",
     "text": [
      "\r 45%|████▍     | 51559/114911 [00:44<00:54, 1159.79it/s]"
     ]
    },
    {
     "name": "stderr",
     "output_type": "stream",
     "text": [
      "\r 45%|████▍     | 51650/114911 [00:44<00:54, 1159.18it/s]"
     ]
    },
    {
     "name": "stderr",
     "output_type": "stream",
     "text": [
      "\r 45%|████▌     | 51740/114911 [00:44<00:54, 1158.53it/s]"
     ]
    },
    {
     "name": "stderr",
     "output_type": "stream",
     "text": [
      "\r 45%|████▌     | 51830/114911 [00:44<00:54, 1157.88it/s]"
     ]
    },
    {
     "name": "stderr",
     "output_type": "stream",
     "text": [
      "\r 45%|████▌     | 51924/114911 [00:44<00:54, 1157.35it/s]"
     ]
    },
    {
     "name": "stderr",
     "output_type": "stream",
     "text": [
      "\r 45%|████▌     | 52018/114911 [00:44<00:54, 1156.85it/s]"
     ]
    },
    {
     "name": "stderr",
     "output_type": "stream",
     "text": [
      "\r 45%|████▌     | 52111/114911 [00:45<00:54, 1156.32it/s]"
     ]
    },
    {
     "name": "stderr",
     "output_type": "stream",
     "text": [
      "\r 45%|████▌     | 52203/114911 [00:45<00:54, 1155.65it/s]"
     ]
    },
    {
     "name": "stderr",
     "output_type": "stream",
     "text": [
      "\r 46%|████▌     | 52294/114911 [00:45<00:54, 1154.99it/s]"
     ]
    },
    {
     "name": "stderr",
     "output_type": "stream",
     "text": [
      "\r 46%|████▌     | 52384/114911 [00:45<00:54, 1154.38it/s]"
     ]
    },
    {
     "name": "stderr",
     "output_type": "stream",
     "text": [
      "\r 46%|████▌     | 52479/114911 [00:45<00:54, 1153.92it/s]"
     ]
    },
    {
     "name": "stderr",
     "output_type": "stream",
     "text": [
      "\r 46%|████▌     | 52579/114911 [00:45<00:54, 1153.56it/s]"
     ]
    },
    {
     "name": "stderr",
     "output_type": "stream",
     "text": [
      "\r 46%|████▌     | 52673/114911 [00:45<00:53, 1152.77it/s]"
     ]
    },
    {
     "name": "stderr",
     "output_type": "stream",
     "text": [
      "\r 46%|████▌     | 52764/114911 [00:45<00:53, 1152.09it/s]"
     ]
    },
    {
     "name": "stderr",
     "output_type": "stream",
     "text": [
      "\r 46%|████▌     | 52853/114911 [00:45<00:53, 1151.35it/s]"
     ]
    },
    {
     "name": "stderr",
     "output_type": "stream",
     "text": [
      "\r 46%|████▌     | 52946/114911 [00:46<00:53, 1150.85it/s]"
     ]
    },
    {
     "name": "stderr",
     "output_type": "stream",
     "text": [
      "\r 46%|████▌     | 53039/114911 [00:46<00:53, 1150.33it/s]"
     ]
    },
    {
     "name": "stderr",
     "output_type": "stream",
     "text": [
      "\r 46%|████▋     | 53199/114911 [00:46<00:53, 1151.29it/s]"
     ]
    },
    {
     "name": "stderr",
     "output_type": "stream",
     "text": [
      "\r 46%|████▋     | 53375/114911 [00:46<00:53, 1152.59it/s]"
     ]
    },
    {
     "name": "stderr",
     "output_type": "stream",
     "text": [
      "\r 47%|████▋     | 53552/114911 [00:46<00:53, 1153.90it/s]"
     ]
    },
    {
     "name": "stderr",
     "output_type": "stream",
     "text": [
      "\r 47%|████▋     | 53739/114911 [00:46<00:52, 1155.42it/s]"
     ]
    },
    {
     "name": "stderr",
     "output_type": "stream",
     "text": [
      "\r 47%|████▋     | 53926/114911 [00:46<00:52, 1156.93it/s]"
     ]
    },
    {
     "name": "stderr",
     "output_type": "stream",
     "text": [
      "\r 47%|████▋     | 54100/114911 [00:46<00:52, 1158.17it/s]"
     ]
    },
    {
     "name": "stderr",
     "output_type": "stream",
     "text": [
      "\r 47%|████▋     | 54284/114911 [00:46<00:52, 1159.59it/s]"
     ]
    },
    {
     "name": "stderr",
     "output_type": "stream",
     "text": [
      "\r 47%|████▋     | 54472/114911 [00:46<00:52, 1161.10it/s]"
     ]
    },
    {
     "name": "stderr",
     "output_type": "stream",
     "text": [
      "\r 48%|████▊     | 54654/114911 [00:47<00:51, 1162.49it/s]"
     ]
    },
    {
     "name": "stderr",
     "output_type": "stream",
     "text": [
      "\r 48%|████▊     | 54832/114911 [00:47<00:51, 1163.78it/s]"
     ]
    },
    {
     "name": "stderr",
     "output_type": "stream",
     "text": [
      "\r 48%|████▊     | 55010/114911 [00:47<00:51, 1164.92it/s]"
     ]
    },
    {
     "name": "stderr",
     "output_type": "stream",
     "text": [
      "\r 48%|████▊     | 55192/114911 [00:47<00:51, 1166.29it/s]"
     ]
    },
    {
     "name": "stderr",
     "output_type": "stream",
     "text": [
      "\r 48%|████▊     | 55369/114911 [00:47<00:51, 1167.28it/s]"
     ]
    },
    {
     "name": "stderr",
     "output_type": "stream",
     "text": [
      "\r 48%|████▊     | 55549/114911 [00:47<00:50, 1168.59it/s]"
     ]
    },
    {
     "name": "stderr",
     "output_type": "stream",
     "text": [
      "\r 48%|████▊     | 55723/114911 [00:47<00:50, 1169.60it/s]"
     ]
    },
    {
     "name": "stderr",
     "output_type": "stream",
     "text": [
      "\r 49%|████▊     | 55900/114911 [00:47<00:50, 1170.84it/s]"
     ]
    },
    {
     "name": "stderr",
     "output_type": "stream",
     "text": [
      "\r 49%|████▉     | 56072/114911 [00:47<00:50, 1171.92it/s]"
     ]
    },
    {
     "name": "stderr",
     "output_type": "stream",
     "text": [
      "\r 49%|████▉     | 56246/114911 [00:47<00:50, 1173.09it/s]"
     ]
    },
    {
     "name": "stderr",
     "output_type": "stream",
     "text": [
      "\r 49%|████▉     | 56437/114911 [00:48<00:49, 1174.61it/s]"
     ]
    },
    {
     "name": "stderr",
     "output_type": "stream",
     "text": [
      "\r 49%|████▉     | 56622/114911 [00:48<00:49, 1175.99it/s]"
     ]
    },
    {
     "name": "stderr",
     "output_type": "stream",
     "text": [
      "\r 49%|████▉     | 56801/114911 [00:48<00:49, 1175.81it/s]"
     ]
    },
    {
     "name": "stderr",
     "output_type": "stream",
     "text": [
      "\r 50%|████▉     | 56960/114911 [00:48<00:49, 1175.17it/s]"
     ]
    },
    {
     "name": "stderr",
     "output_type": "stream",
     "text": [
      "\r 50%|████▉     | 57101/114911 [00:48<00:49, 1174.75it/s]"
     ]
    },
    {
     "name": "stderr",
     "output_type": "stream",
     "text": [
      "\r 50%|████▉     | 57231/114911 [00:48<00:49, 1174.26it/s]"
     ]
    },
    {
     "name": "stderr",
     "output_type": "stream",
     "text": [
      "\r 50%|████▉     | 57352/114911 [00:48<00:49, 1173.74it/s]"
     ]
    },
    {
     "name": "stderr",
     "output_type": "stream",
     "text": [
      "\r 50%|█████     | 57466/114911 [00:48<00:48, 1173.25it/s]"
     ]
    },
    {
     "name": "stderr",
     "output_type": "stream",
     "text": [
      "\r 50%|█████     | 57575/114911 [00:49<00:48, 1172.75it/s]"
     ]
    },
    {
     "name": "stderr",
     "output_type": "stream",
     "text": [
      "\r 50%|█████     | 57680/114911 [00:49<00:48, 1171.96it/s]"
     ]
    },
    {
     "name": "stderr",
     "output_type": "stream",
     "text": [
      "\r 50%|█████     | 57779/114911 [00:49<00:48, 1171.48it/s]"
     ]
    },
    {
     "name": "stderr",
     "output_type": "stream",
     "text": [
      "\r 50%|█████     | 57877/114911 [00:49<00:48, 1170.86it/s]"
     ]
    },
    {
     "name": "stderr",
     "output_type": "stream",
     "text": [
      "\r 50%|█████     | 57973/114911 [00:49<00:48, 1170.28it/s]"
     ]
    },
    {
     "name": "stderr",
     "output_type": "stream",
     "text": [
      "\r 51%|█████     | 58067/114911 [00:49<00:48, 1169.80it/s]"
     ]
    },
    {
     "name": "stderr",
     "output_type": "stream",
     "text": [
      "\r 51%|█████     | 58161/114911 [00:49<00:48, 1169.22it/s]"
     ]
    },
    {
     "name": "stderr",
     "output_type": "stream",
     "text": [
      "\r 51%|█████     | 58261/114911 [00:49<00:48, 1168.86it/s]"
     ]
    },
    {
     "name": "stderr",
     "output_type": "stream",
     "text": [
      "\r 51%|█████     | 58359/114911 [00:49<00:48, 1168.47it/s]"
     ]
    },
    {
     "name": "stderr",
     "output_type": "stream",
     "text": [
      "\r 51%|█████     | 58455/114911 [00:50<00:48, 1168.01it/s]"
     ]
    },
    {
     "name": "stderr",
     "output_type": "stream",
     "text": [
      "\r 51%|█████     | 58556/114911 [00:50<00:48, 1167.68it/s]"
     ]
    },
    {
     "name": "stderr",
     "output_type": "stream",
     "text": [
      "\r 51%|█████     | 58653/114911 [00:50<00:48, 1167.22it/s]"
     ]
    },
    {
     "name": "stderr",
     "output_type": "stream",
     "text": [
      "\r 51%|█████     | 58749/114911 [00:50<00:48, 1166.79it/s]"
     ]
    },
    {
     "name": "stderr",
     "output_type": "stream",
     "text": [
      "\r 51%|█████     | 58849/114911 [00:50<00:48, 1166.44it/s]"
     ]
    },
    {
     "name": "stderr",
     "output_type": "stream",
     "text": [
      "\r 51%|█████▏    | 58946/114911 [00:50<00:47, 1165.99it/s]"
     ]
    },
    {
     "name": "stderr",
     "output_type": "stream",
     "text": [
      "\r 51%|█████▏    | 59043/114911 [00:50<00:47, 1165.54it/s]"
     ]
    },
    {
     "name": "stderr",
     "output_type": "stream",
     "text": [
      "\r 51%|█████▏    | 59139/114911 [00:50<00:47, 1164.91it/s]"
     ]
    },
    {
     "name": "stderr",
     "output_type": "stream",
     "text": [
      "\r 52%|█████▏    | 59233/114911 [00:50<00:47, 1164.23it/s]"
     ]
    },
    {
     "name": "stderr",
     "output_type": "stream",
     "text": [
      "\r 52%|█████▏    | 59324/114911 [00:51<00:47, 1162.50it/s]"
     ]
    },
    {
     "name": "stderr",
     "output_type": "stream",
     "text": [
      "\r 52%|█████▏    | 59418/114911 [00:51<00:47, 1162.03it/s]"
     ]
    },
    {
     "name": "stderr",
     "output_type": "stream",
     "text": [
      "\r 52%|█████▏    | 59510/114911 [00:51<00:47, 1161.54it/s]"
     ]
    },
    {
     "name": "stderr",
     "output_type": "stream",
     "text": [
      "\r 52%|█████▏    | 59603/114911 [00:51<00:47, 1161.07it/s]"
     ]
    },
    {
     "name": "stderr",
     "output_type": "stream",
     "text": [
      "\r 52%|█████▏    | 59697/114911 [00:51<00:47, 1160.58it/s]"
     ]
    },
    {
     "name": "stderr",
     "output_type": "stream",
     "text": [
      "\r 52%|█████▏    | 59790/114911 [00:51<00:47, 1160.11it/s]"
     ]
    },
    {
     "name": "stderr",
     "output_type": "stream",
     "text": [
      "\r 52%|█████▏    | 59884/114911 [00:51<00:47, 1159.65it/s]"
     ]
    },
    {
     "name": "stderr",
     "output_type": "stream",
     "text": [
      "\r 52%|█████▏    | 59991/114911 [00:51<00:47, 1159.46it/s]"
     ]
    },
    {
     "name": "stderr",
     "output_type": "stream",
     "text": [
      "\r 52%|█████▏    | 60087/114911 [00:51<00:47, 1158.99it/s]"
     ]
    },
    {
     "name": "stderr",
     "output_type": "stream",
     "text": [
      "\r 52%|█████▏    | 60182/114911 [00:51<00:47, 1158.46it/s]"
     ]
    },
    {
     "name": "stderr",
     "output_type": "stream",
     "text": [
      "\r 52%|█████▏    | 60276/114911 [00:52<00:47, 1157.89it/s]"
     ]
    },
    {
     "name": "stderr",
     "output_type": "stream",
     "text": [
      "\r 53%|█████▎    | 60368/114911 [00:52<00:47, 1157.33it/s]"
     ]
    },
    {
     "name": "stderr",
     "output_type": "stream",
     "text": [
      "\r 53%|█████▎    | 60462/114911 [00:52<00:47, 1156.89it/s]"
     ]
    },
    {
     "name": "stderr",
     "output_type": "stream",
     "text": [
      "\r 53%|█████▎    | 60554/114911 [00:52<00:47, 1156.40it/s]"
     ]
    },
    {
     "name": "stderr",
     "output_type": "stream",
     "text": [
      "\r 53%|█████▎    | 60646/114911 [00:52<00:46, 1155.91it/s]"
     ]
    },
    {
     "name": "stderr",
     "output_type": "stream",
     "text": [
      "\r 53%|█████▎    | 60737/114911 [00:52<00:46, 1155.30it/s]"
     ]
    },
    {
     "name": "stderr",
     "output_type": "stream",
     "text": [
      "\r 53%|█████▎    | 60827/114911 [00:52<00:46, 1154.71it/s]"
     ]
    },
    {
     "name": "stderr",
     "output_type": "stream",
     "text": [
      "\r 53%|█████▎    | 60921/114911 [00:52<00:46, 1154.29it/s]"
     ]
    },
    {
     "name": "stderr",
     "output_type": "stream",
     "text": [
      "\r 53%|█████▎    | 61016/114911 [00:52<00:46, 1153.88it/s]"
     ]
    },
    {
     "name": "stderr",
     "output_type": "stream",
     "text": [
      "\r 53%|█████▎    | 61112/114911 [00:52<00:46, 1153.50it/s]"
     ]
    },
    {
     "name": "stderr",
     "output_type": "stream",
     "text": [
      "\r 53%|█████▎    | 61205/114911 [00:53<00:46, 1152.82it/s]"
     ]
    },
    {
     "name": "stderr",
     "output_type": "stream",
     "text": [
      "\r 53%|█████▎    | 61296/114911 [00:53<00:46, 1152.33it/s]"
     ]
    },
    {
     "name": "stderr",
     "output_type": "stream",
     "text": [
      "\r 53%|█████▎    | 61393/114911 [00:53<00:46, 1151.95it/s]"
     ]
    },
    {
     "name": "stderr",
     "output_type": "stream",
     "text": [
      "\r 54%|█████▎    | 61485/114911 [00:53<00:46, 1151.33it/s]"
     ]
    },
    {
     "name": "stderr",
     "output_type": "stream",
     "text": [
      "\r 54%|█████▎    | 61581/114911 [00:53<00:46, 1150.93it/s]"
     ]
    },
    {
     "name": "stderr",
     "output_type": "stream",
     "text": [
      "\r 54%|█████▎    | 61672/114911 [00:53<00:46, 1150.44it/s]"
     ]
    },
    {
     "name": "stderr",
     "output_type": "stream",
     "text": [
      "\r 54%|█████▎    | 61763/114911 [00:53<00:46, 1149.96it/s]"
     ]
    },
    {
     "name": "stderr",
     "output_type": "stream",
     "text": [
      "\r 54%|█████▍    | 61861/114911 [00:53<00:46, 1149.63it/s]"
     ]
    },
    {
     "name": "stderr",
     "output_type": "stream",
     "text": [
      "\r 54%|█████▍    | 61957/114911 [00:53<00:46, 1149.24it/s]"
     ]
    },
    {
     "name": "stderr",
     "output_type": "stream",
     "text": [
      "\r 54%|█████▍    | 62050/114911 [00:54<00:46, 1148.54it/s]"
     ]
    },
    {
     "name": "stderr",
     "output_type": "stream",
     "text": [
      "\r 54%|█████▍    | 62149/114911 [00:54<00:45, 1148.23it/s]"
     ]
    },
    {
     "name": "stderr",
     "output_type": "stream",
     "text": [
      "\r 54%|█████▍    | 62245/114911 [00:54<00:45, 1147.85it/s]"
     ]
    },
    {
     "name": "stderr",
     "output_type": "stream",
     "text": [
      "\r 54%|█████▍    | 62340/114911 [00:54<00:45, 1147.48it/s]"
     ]
    },
    {
     "name": "stderr",
     "output_type": "stream",
     "text": [
      "\r 54%|█████▍    | 62440/114911 [00:54<00:45, 1147.20it/s]"
     ]
    },
    {
     "name": "stderr",
     "output_type": "stream",
     "text": [
      "\r 54%|█████▍    | 62536/114911 [00:54<00:45, 1146.67it/s]"
     ]
    },
    {
     "name": "stderr",
     "output_type": "stream",
     "text": [
      "\r 55%|█████▍    | 62630/114911 [00:54<00:45, 1146.28it/s]"
     ]
    },
    {
     "name": "stderr",
     "output_type": "stream",
     "text": [
      "\r 55%|█████▍    | 62724/114911 [00:54<00:45, 1145.84it/s]"
     ]
    },
    {
     "name": "stderr",
     "output_type": "stream",
     "text": [
      "\r 55%|█████▍    | 62820/114911 [00:54<00:45, 1145.49it/s]"
     ]
    },
    {
     "name": "stderr",
     "output_type": "stream",
     "text": [
      "\r 55%|█████▍    | 62914/114911 [00:54<00:45, 1144.91it/s]"
     ]
    },
    {
     "name": "stderr",
     "output_type": "stream",
     "text": [
      "\r 55%|█████▍    | 63006/114911 [00:55<00:45, 1144.45it/s]"
     ]
    },
    {
     "name": "stderr",
     "output_type": "stream",
     "text": [
      "\r 55%|█████▍    | 63097/114911 [00:55<00:45, 1143.76it/s]"
     ]
    },
    {
     "name": "stderr",
     "output_type": "stream",
     "text": [
      "\r 55%|█████▍    | 63189/114911 [00:55<00:45, 1143.34it/s]"
     ]
    },
    {
     "name": "stderr",
     "output_type": "stream",
     "text": [
      "\r 55%|█████▌    | 63281/114911 [00:55<00:45, 1142.92it/s]"
     ]
    },
    {
     "name": "stderr",
     "output_type": "stream",
     "text": [
      "\r 55%|█████▌    | 63376/114911 [00:55<00:45, 1142.55it/s]"
     ]
    },
    {
     "name": "stderr",
     "output_type": "stream",
     "text": [
      "\r 55%|█████▌    | 63467/114911 [00:55<00:45, 1142.06it/s]"
     ]
    },
    {
     "name": "stderr",
     "output_type": "stream",
     "text": [
      "\r 55%|█████▌    | 63565/114911 [00:55<00:44, 1141.75it/s]"
     ]
    },
    {
     "name": "stderr",
     "output_type": "stream",
     "text": [
      "\r 55%|█████▌    | 63658/114911 [00:55<00:44, 1141.21it/s]"
     ]
    },
    {
     "name": "stderr",
     "output_type": "stream",
     "text": [
      "\r 55%|█████▌    | 63752/114911 [00:55<00:44, 1140.84it/s]"
     ]
    },
    {
     "name": "stderr",
     "output_type": "stream",
     "text": [
      "\r 56%|█████▌    | 63844/114911 [00:55<00:44, 1140.43it/s]"
     ]
    },
    {
     "name": "stderr",
     "output_type": "stream",
     "text": [
      "\r 56%|█████▌    | 63936/114911 [00:56<00:44, 1139.98it/s]"
     ]
    },
    {
     "name": "stderr",
     "output_type": "stream",
     "text": [
      "\r 56%|█████▌    | 64028/114911 [00:56<00:44, 1139.55it/s]"
     ]
    },
    {
     "name": "stderr",
     "output_type": "stream",
     "text": [
      "\r 56%|█████▌    | 64123/114911 [00:56<00:44, 1139.18it/s]"
     ]
    },
    {
     "name": "stderr",
     "output_type": "stream",
     "text": [
      "\r 56%|█████▌    | 64215/114911 [00:56<00:44, 1138.71it/s]"
     ]
    },
    {
     "name": "stderr",
     "output_type": "stream",
     "text": [
      "\r 56%|█████▌    | 64308/114911 [00:56<00:44, 1138.33it/s]"
     ]
    },
    {
     "name": "stderr",
     "output_type": "stream",
     "text": [
      "\r 56%|█████▌    | 64400/114911 [00:56<00:44, 1137.73it/s]"
     ]
    },
    {
     "name": "stderr",
     "output_type": "stream",
     "text": [
      "\r 56%|█████▌    | 64491/114911 [00:56<00:44, 1137.31it/s]"
     ]
    },
    {
     "name": "stderr",
     "output_type": "stream",
     "text": [
      "\r 56%|█████▌    | 64581/114911 [00:56<00:44, 1136.86it/s]"
     ]
    },
    {
     "name": "stderr",
     "output_type": "stream",
     "text": [
      "\r 56%|█████▋    | 64678/114911 [00:56<00:44, 1136.55it/s]"
     ]
    },
    {
     "name": "stderr",
     "output_type": "stream",
     "text": [
      "\r 56%|█████▋    | 64770/114911 [00:57<00:44, 1136.02it/s]"
     ]
    },
    {
     "name": "stderr",
     "output_type": "stream",
     "text": [
      "\r 56%|█████▋    | 64866/114911 [00:57<00:44, 1135.69it/s]"
     ]
    },
    {
     "name": "stderr",
     "output_type": "stream",
     "text": [
      "\r 57%|█████▋    | 64988/114911 [00:57<00:43, 1135.82it/s]"
     ]
    },
    {
     "name": "stderr",
     "output_type": "stream",
     "text": [
      "\r 57%|█████▋    | 65171/114911 [00:57<00:43, 1137.02it/s]"
     ]
    },
    {
     "name": "stderr",
     "output_type": "stream",
     "text": [
      "\r 57%|█████▋    | 65357/114911 [00:57<00:43, 1138.26it/s]"
     ]
    },
    {
     "name": "stderr",
     "output_type": "stream",
     "text": [
      "\r 57%|█████▋    | 65550/114911 [00:57<00:43, 1139.64it/s]"
     ]
    },
    {
     "name": "stderr",
     "output_type": "stream",
     "text": [
      "\r 57%|█████▋    | 65732/114911 [00:57<00:43, 1140.80it/s]"
     ]
    },
    {
     "name": "stderr",
     "output_type": "stream",
     "text": [
      "\r 57%|█████▋    | 65910/114911 [00:57<00:42, 1141.89it/s]"
     ]
    },
    {
     "name": "stderr",
     "output_type": "stream",
     "text": [
      "\r 58%|█████▊    | 66096/114911 [00:57<00:42, 1143.12it/s]"
     ]
    },
    {
     "name": "stderr",
     "output_type": "stream",
     "text": [
      "\r 58%|█████▊    | 66276/114911 [00:57<00:42, 1144.24it/s]"
     ]
    },
    {
     "name": "stderr",
     "output_type": "stream",
     "text": [
      "\r 58%|█████▊    | 66455/114911 [00:58<00:42, 1145.34it/s]"
     ]
    },
    {
     "name": "stderr",
     "output_type": "stream",
     "text": [
      "\r 58%|█████▊    | 66631/114911 [00:58<00:42, 1146.34it/s]"
     ]
    },
    {
     "name": "stderr",
     "output_type": "stream",
     "text": [
      "\r 58%|█████▊    | 66806/114911 [00:58<00:41, 1146.76it/s]"
     ]
    },
    {
     "name": "stderr",
     "output_type": "stream",
     "text": [
      "\r 58%|█████▊    | 66968/114911 [00:58<00:41, 1147.30it/s]"
     ]
    },
    {
     "name": "stderr",
     "output_type": "stream",
     "text": [
      "\r 58%|█████▊    | 67133/114911 [00:58<00:41, 1148.15it/s]"
     ]
    },
    {
     "name": "stderr",
     "output_type": "stream",
     "text": [
      "\r 59%|█████▊    | 67299/114911 [00:58<00:41, 1149.02it/s]"
     ]
    },
    {
     "name": "stderr",
     "output_type": "stream",
     "text": [
      "\r 59%|█████▊    | 67460/114911 [00:58<00:41, 1149.61it/s]"
     ]
    },
    {
     "name": "stderr",
     "output_type": "stream",
     "text": [
      "\r 59%|█████▉    | 67617/114911 [00:58<00:41, 1150.14it/s]"
     ]
    },
    {
     "name": "stderr",
     "output_type": "stream",
     "text": [
      "\r 59%|█████▉    | 67797/114911 [00:58<00:40, 1151.23it/s]"
     ]
    },
    {
     "name": "stderr",
     "output_type": "stream",
     "text": [
      "\r 59%|█████▉    | 67960/114911 [00:58<00:40, 1152.03it/s]"
     ]
    },
    {
     "name": "stderr",
     "output_type": "stream",
     "text": [
      "\r 59%|█████▉    | 68124/114911 [00:59<00:40, 1152.84it/s]"
     ]
    },
    {
     "name": "stderr",
     "output_type": "stream",
     "text": [
      "\r 59%|█████▉    | 68294/114911 [00:59<00:40, 1153.75it/s]"
     ]
    },
    {
     "name": "stderr",
     "output_type": "stream",
     "text": [
      "\r 60%|█████▉    | 68467/114911 [00:59<00:40, 1154.71it/s]"
     ]
    },
    {
     "name": "stderr",
     "output_type": "stream",
     "text": [
      "\r 60%|█████▉    | 68636/114911 [00:59<00:40, 1155.60it/s]"
     ]
    },
    {
     "name": "stderr",
     "output_type": "stream",
     "text": [
      "\r 60%|█████▉    | 68806/114911 [00:59<00:39, 1156.51it/s]"
     ]
    },
    {
     "name": "stderr",
     "output_type": "stream",
     "text": [
      "\r 60%|██████    | 68989/114911 [00:59<00:39, 1157.62it/s]"
     ]
    },
    {
     "name": "stderr",
     "output_type": "stream",
     "text": [
      "\r 60%|██████    | 69161/114911 [00:59<00:39, 1158.56it/s]"
     ]
    },
    {
     "name": "stderr",
     "output_type": "stream",
     "text": [
      "\r 60%|██████    | 69333/114911 [00:59<00:39, 1159.49it/s]"
     ]
    },
    {
     "name": "stderr",
     "output_type": "stream",
     "text": [
      "\r 60%|██████    | 69505/114911 [00:59<00:39, 1160.41it/s]"
     ]
    },
    {
     "name": "stderr",
     "output_type": "stream",
     "text": [
      "\r 61%|██████    | 69677/114911 [01:00<00:38, 1161.25it/s]"
     ]
    },
    {
     "name": "stderr",
     "output_type": "stream",
     "text": [
      "\r 61%|██████    | 69847/114911 [01:00<00:38, 1161.92it/s]"
     ]
    },
    {
     "name": "stderr",
     "output_type": "stream",
     "text": [
      "\r 61%|██████    | 70015/114911 [01:00<00:38, 1162.77it/s]"
     ]
    },
    {
     "name": "stderr",
     "output_type": "stream",
     "text": [
      "\r 61%|██████    | 70180/114911 [01:00<00:38, 1163.51it/s]"
     ]
    },
    {
     "name": "stderr",
     "output_type": "stream",
     "text": [
      "\r 61%|██████    | 70347/114911 [01:00<00:38, 1164.33it/s]"
     ]
    },
    {
     "name": "stderr",
     "output_type": "stream",
     "text": [
      "\r 61%|██████▏   | 70524/114911 [01:00<00:38, 1165.32it/s]"
     ]
    },
    {
     "name": "stderr",
     "output_type": "stream",
     "text": [
      "\r 62%|██████▏   | 70692/114911 [01:00<00:37, 1166.04it/s]"
     ]
    },
    {
     "name": "stderr",
     "output_type": "stream",
     "text": [
      "\r 62%|██████▏   | 70859/114911 [01:00<00:37, 1166.85it/s]"
     ]
    },
    {
     "name": "stderr",
     "output_type": "stream",
     "text": [
      "\r 62%|██████▏   | 71024/114911 [01:00<00:37, 1167.54it/s]"
     ]
    },
    {
     "name": "stderr",
     "output_type": "stream",
     "text": [
      "\r 62%|██████▏   | 71198/114911 [01:00<00:37, 1168.47it/s]"
     ]
    },
    {
     "name": "stderr",
     "output_type": "stream",
     "text": [
      "\r 62%|██████▏   | 71372/114911 [01:01<00:37, 1169.39it/s]"
     ]
    },
    {
     "name": "stderr",
     "output_type": "stream",
     "text": [
      "\r 62%|██████▏   | 71548/114911 [01:01<00:37, 1170.35it/s]"
     ]
    },
    {
     "name": "stderr",
     "output_type": "stream",
     "text": [
      "\r 62%|██████▏   | 71718/114911 [01:01<00:36, 1171.16it/s]"
     ]
    },
    {
     "name": "stderr",
     "output_type": "stream",
     "text": [
      "\r 63%|██████▎   | 71887/114911 [01:01<00:36, 1171.94it/s]"
     ]
    },
    {
     "name": "stderr",
     "output_type": "stream",
     "text": [
      "\r 63%|██████▎   | 72054/114911 [01:01<00:36, 1172.71it/s]"
     ]
    },
    {
     "name": "stderr",
     "output_type": "stream",
     "text": [
      "\r 63%|██████▎   | 72227/114911 [01:01<00:36, 1173.60it/s]"
     ]
    },
    {
     "name": "stderr",
     "output_type": "stream",
     "text": [
      "\r 63%|██████▎   | 72395/114911 [01:01<00:36, 1173.96it/s]"
     ]
    },
    {
     "name": "stderr",
     "output_type": "stream",
     "text": [
      "\r 63%|██████▎   | 72553/114911 [01:01<00:36, 1174.34it/s]"
     ]
    },
    {
     "name": "stderr",
     "output_type": "stream",
     "text": [
      "\r 63%|██████▎   | 72706/114911 [01:01<00:35, 1174.85it/s]"
     ]
    },
    {
     "name": "stderr",
     "output_type": "stream",
     "text": [
      "\r 63%|██████▎   | 72877/114911 [01:01<00:35, 1175.70it/s]"
     ]
    },
    {
     "name": "stderr",
     "output_type": "stream",
     "text": [
      "\r 64%|██████▎   | 73044/114911 [01:02<00:35, 1176.48it/s]"
     ]
    },
    {
     "name": "stderr",
     "output_type": "stream",
     "text": [
      "\r 64%|██████▎   | 73204/114911 [01:02<00:35, 1176.90it/s]"
     ]
    },
    {
     "name": "stderr",
     "output_type": "stream",
     "text": [
      "\r 64%|██████▍   | 73366/114911 [01:02<00:35, 1177.60it/s]"
     ]
    },
    {
     "name": "stderr",
     "output_type": "stream",
     "text": [
      "\r 64%|██████▍   | 73522/114911 [01:02<00:35, 1178.16it/s]"
     ]
    },
    {
     "name": "stderr",
     "output_type": "stream",
     "text": [
      "\r 64%|██████▍   | 73685/114911 [01:02<00:34, 1178.87it/s]"
     ]
    },
    {
     "name": "stderr",
     "output_type": "stream",
     "text": [
      "\r 64%|██████▍   | 73842/114911 [01:02<00:34, 1179.39it/s]"
     ]
    },
    {
     "name": "stderr",
     "output_type": "stream",
     "text": [
      "\r 64%|██████▍   | 73997/114911 [01:02<00:34, 1179.37it/s]"
     ]
    },
    {
     "name": "stderr",
     "output_type": "stream",
     "text": [
      "\r 65%|██████▍   | 74155/114911 [01:02<00:34, 1179.99it/s]"
     ]
    },
    {
     "name": "stderr",
     "output_type": "stream",
     "text": [
      "\r 65%|██████▍   | 74304/114911 [01:02<00:34, 1180.47it/s]"
     ]
    },
    {
     "name": "stderr",
     "output_type": "stream",
     "text": [
      "\r 65%|██████▍   | 74455/114911 [01:03<00:34, 1180.98it/s]"
     ]
    },
    {
     "name": "stderr",
     "output_type": "stream",
     "text": [
      "\r 65%|██████▍   | 74604/114911 [01:03<00:34, 1181.38it/s]"
     ]
    },
    {
     "name": "stderr",
     "output_type": "stream",
     "text": [
      "\r 65%|██████▌   | 74757/114911 [01:03<00:33, 1181.91it/s]"
     ]
    },
    {
     "name": "stderr",
     "output_type": "stream",
     "text": [
      "\r 65%|██████▌   | 74909/114911 [01:03<00:33, 1182.42it/s]"
     ]
    },
    {
     "name": "stderr",
     "output_type": "stream",
     "text": [
      "\r 65%|██████▌   | 75069/114911 [01:03<00:33, 1183.06it/s]"
     ]
    },
    {
     "name": "stderr",
     "output_type": "stream",
     "text": [
      "\r 65%|██████▌   | 75221/114911 [01:03<00:33, 1183.43it/s]"
     ]
    },
    {
     "name": "stderr",
     "output_type": "stream",
     "text": [
      "\r 66%|██████▌   | 75392/114911 [01:03<00:33, 1184.24it/s]"
     ]
    },
    {
     "name": "stderr",
     "output_type": "stream",
     "text": [
      "\r 66%|██████▌   | 75547/114911 [01:03<00:33, 1184.34it/s]"
     ]
    },
    {
     "name": "stderr",
     "output_type": "stream",
     "text": [
      "\r 66%|██████▌   | 75693/114911 [01:03<00:33, 1184.37it/s]"
     ]
    },
    {
     "name": "stderr",
     "output_type": "stream",
     "text": [
      "\r 66%|██████▌   | 75867/114911 [01:04<00:32, 1185.22it/s]"
     ]
    },
    {
     "name": "stderr",
     "output_type": "stream",
     "text": [
      "\r 66%|██████▌   | 76016/114911 [01:04<00:32, 1185.61it/s]"
     ]
    },
    {
     "name": "stderr",
     "output_type": "stream",
     "text": [
      "\r 66%|██████▋   | 76192/114911 [01:04<00:32, 1186.49it/s]"
     ]
    },
    {
     "name": "stderr",
     "output_type": "stream",
     "text": [
      "\r 66%|██████▋   | 76348/114911 [01:04<00:32, 1187.06it/s]"
     ]
    },
    {
     "name": "stderr",
     "output_type": "stream",
     "text": [
      "\r 67%|██████▋   | 76503/114911 [01:04<00:32, 1187.36it/s]"
     ]
    },
    {
     "name": "stderr",
     "output_type": "stream",
     "text": [
      "\r 67%|██████▋   | 76653/114911 [01:04<00:32, 1187.52it/s]"
     ]
    },
    {
     "name": "stderr",
     "output_type": "stream",
     "text": [
      "\r 67%|██████▋   | 76813/114911 [01:04<00:32, 1188.14it/s]"
     ]
    },
    {
     "name": "stderr",
     "output_type": "stream",
     "text": [
      "\r 67%|██████▋   | 76979/114911 [01:04<00:31, 1188.86it/s]"
     ]
    },
    {
     "name": "stderr",
     "output_type": "stream",
     "text": [
      "\r 67%|██████▋   | 77143/114911 [01:04<00:31, 1189.54it/s]"
     ]
    },
    {
     "name": "stderr",
     "output_type": "stream",
     "text": [
      "\r 67%|██████▋   | 77326/114911 [01:04<00:31, 1190.51it/s]"
     ]
    },
    {
     "name": "stderr",
     "output_type": "stream",
     "text": [
      "\r 67%|██████▋   | 77493/114911 [01:05<00:31, 1191.24it/s]"
     ]
    },
    {
     "name": "stderr",
     "output_type": "stream",
     "text": [
      "\r 68%|██████▊   | 77658/114911 [01:05<00:31, 1191.56it/s]"
     ]
    },
    {
     "name": "stderr",
     "output_type": "stream",
     "text": [
      "\r 68%|██████▊   | 77814/114911 [01:05<00:31, 1191.88it/s]"
     ]
    },
    {
     "name": "stderr",
     "output_type": "stream",
     "text": [
      "\r 68%|██████▊   | 77965/114911 [01:05<00:30, 1192.22it/s]"
     ]
    },
    {
     "name": "stderr",
     "output_type": "stream",
     "text": [
      "\r 68%|██████▊   | 78114/114911 [01:05<00:30, 1192.67it/s]"
     ]
    },
    {
     "name": "stderr",
     "output_type": "stream",
     "text": [
      "\r 68%|██████▊   | 78267/114911 [01:05<00:30, 1193.18it/s]"
     ]
    },
    {
     "name": "stderr",
     "output_type": "stream",
     "text": [
      "\r 68%|██████▊   | 78422/114911 [01:05<00:30, 1193.71it/s]"
     ]
    },
    {
     "name": "stderr",
     "output_type": "stream",
     "text": [
      "\r 68%|██████▊   | 78573/114911 [01:05<00:30, 1193.88it/s]"
     ]
    },
    {
     "name": "stderr",
     "output_type": "stream",
     "text": [
      "\r 69%|██████▊   | 78718/114911 [01:05<00:30, 1194.13it/s]"
     ]
    },
    {
     "name": "stderr",
     "output_type": "stream",
     "text": [
      "\r 69%|██████▊   | 78860/114911 [01:06<00:30, 1194.32it/s]"
     ]
    },
    {
     "name": "stderr",
     "output_type": "stream",
     "text": [
      "\r 69%|██████▉   | 79007/114911 [01:06<00:30, 1194.70it/s]"
     ]
    },
    {
     "name": "stderr",
     "output_type": "stream",
     "text": [
      "\r 69%|██████▉   | 79154/114911 [01:06<00:29, 1195.10it/s]"
     ]
    },
    {
     "name": "stderr",
     "output_type": "stream",
     "text": [
      "\r 69%|██████▉   | 79296/114911 [01:06<00:29, 1194.28it/s]"
     ]
    },
    {
     "name": "stderr",
     "output_type": "stream",
     "text": [
      "\r 69%|██████▉   | 79422/114911 [01:06<00:29, 1193.40it/s]"
     ]
    },
    {
     "name": "stderr",
     "output_type": "stream",
     "text": [
      "\r 69%|██████▉   | 79535/114911 [01:06<00:29, 1192.72it/s]"
     ]
    },
    {
     "name": "stderr",
     "output_type": "stream",
     "text": [
      "\r 69%|██████▉   | 79639/114911 [01:06<00:29, 1192.19it/s]"
     ]
    },
    {
     "name": "stderr",
     "output_type": "stream",
     "text": [
      "\r 69%|██████▉   | 79739/114911 [01:06<00:29, 1191.59it/s]"
     ]
    },
    {
     "name": "stderr",
     "output_type": "stream",
     "text": [
      "\r 69%|██████▉   | 79839/114911 [01:07<00:29, 1191.29it/s]"
     ]
    },
    {
     "name": "stderr",
     "output_type": "stream",
     "text": [
      "\r 70%|██████▉   | 79936/114911 [01:07<00:29, 1190.91it/s]"
     ]
    },
    {
     "name": "stderr",
     "output_type": "stream",
     "text": [
      "\r 70%|██████▉   | 80032/114911 [01:07<00:29, 1190.50it/s]"
     ]
    },
    {
     "name": "stderr",
     "output_type": "stream",
     "text": [
      "\r 70%|██████▉   | 80127/114911 [01:07<00:29, 1189.97it/s]"
     ]
    },
    {
     "name": "stderr",
     "output_type": "stream",
     "text": [
      "\r 70%|██████▉   | 80221/114911 [01:07<00:29, 1189.59it/s]"
     ]
    },
    {
     "name": "stderr",
     "output_type": "stream",
     "text": [
      "\r 70%|██████▉   | 80314/114911 [01:07<00:29, 1189.17it/s]"
     ]
    },
    {
     "name": "stderr",
     "output_type": "stream",
     "text": [
      "\r 70%|██████▉   | 80408/114911 [01:07<00:29, 1188.79it/s]"
     ]
    },
    {
     "name": "stderr",
     "output_type": "stream",
     "text": [
      "\r 70%|███████   | 80501/114911 [01:07<00:28, 1188.27it/s]"
     ]
    },
    {
     "name": "stderr",
     "output_type": "stream",
     "text": [
      "\r 70%|███████   | 80598/114911 [01:07<00:28, 1187.92it/s]"
     ]
    },
    {
     "name": "stderr",
     "output_type": "stream",
     "text": [
      "\r 70%|███████   | 80691/114911 [01:07<00:28, 1187.53it/s]"
     ]
    },
    {
     "name": "stderr",
     "output_type": "stream",
     "text": [
      "\r 70%|███████   | 80784/114911 [01:08<00:28, 1187.08it/s]"
     ]
    },
    {
     "name": "stderr",
     "output_type": "stream",
     "text": [
      "\r 70%|███████   | 80880/114911 [01:08<00:28, 1186.74it/s]"
     ]
    },
    {
     "name": "stderr",
     "output_type": "stream",
     "text": [
      "\r 70%|███████   | 80976/114911 [01:08<00:28, 1186.37it/s]"
     ]
    },
    {
     "name": "stderr",
     "output_type": "stream",
     "text": [
      "\r 71%|███████   | 81071/114911 [01:08<00:28, 1186.00it/s]"
     ]
    },
    {
     "name": "stderr",
     "output_type": "stream",
     "text": [
      "\r 71%|███████   | 81165/114911 [01:08<00:28, 1185.56it/s]"
     ]
    },
    {
     "name": "stderr",
     "output_type": "stream",
     "text": [
      "\r 71%|███████   | 81259/114911 [01:08<00:28, 1185.18it/s]"
     ]
    },
    {
     "name": "stderr",
     "output_type": "stream",
     "text": [
      "\r 71%|███████   | 81352/114911 [01:08<00:28, 1184.70it/s]"
     ]
    },
    {
     "name": "stderr",
     "output_type": "stream",
     "text": [
      "\r 71%|███████   | 81443/114911 [01:08<00:28, 1184.21it/s]"
     ]
    },
    {
     "name": "stderr",
     "output_type": "stream",
     "text": [
      "\r 71%|███████   | 81539/114911 [01:08<00:28, 1183.88it/s]"
     ]
    },
    {
     "name": "stderr",
     "output_type": "stream",
     "text": [
      "\r 71%|███████   | 81633/114911 [01:08<00:28, 1183.51it/s]"
     ]
    },
    {
     "name": "stderr",
     "output_type": "stream",
     "text": [
      "\r 71%|███████   | 81725/114911 [01:09<00:28, 1183.01it/s]"
     ]
    },
    {
     "name": "stderr",
     "output_type": "stream",
     "text": [
      "\r 71%|███████   | 81816/114911 [01:09<00:27, 1182.59it/s]"
     ]
    },
    {
     "name": "stderr",
     "output_type": "stream",
     "text": [
      "\r 71%|███████▏  | 81908/114911 [01:09<00:27, 1182.20it/s]"
     ]
    },
    {
     "name": "stderr",
     "output_type": "stream",
     "text": [
      "\r 71%|███████▏  | 82004/114911 [01:09<00:27, 1181.86it/s]"
     ]
    },
    {
     "name": "stderr",
     "output_type": "stream",
     "text": [
      "\r 71%|███████▏  | 82101/114911 [01:09<00:27, 1181.53it/s]"
     ]
    },
    {
     "name": "stderr",
     "output_type": "stream",
     "text": [
      "\r 72%|███████▏  | 82194/114911 [01:09<00:27, 1181.12it/s]"
     ]
    },
    {
     "name": "stderr",
     "output_type": "stream",
     "text": [
      "\r 72%|███████▏  | 82287/114911 [01:09<00:27, 1180.73it/s]"
     ]
    },
    {
     "name": "stderr",
     "output_type": "stream",
     "text": [
      "\r 72%|███████▏  | 82379/114911 [01:09<00:27, 1180.23it/s]"
     ]
    },
    {
     "name": "stderr",
     "output_type": "stream",
     "text": [
      "\r 72%|███████▏  | 82473/114911 [01:09<00:27, 1179.87it/s]"
     ]
    },
    {
     "name": "stderr",
     "output_type": "stream",
     "text": [
      "\r 72%|███████▏  | 82564/114911 [01:10<00:27, 1179.37it/s]"
     ]
    },
    {
     "name": "stderr",
     "output_type": "stream",
     "text": [
      "\r 72%|███████▏  | 82655/114911 [01:10<00:27, 1178.97it/s]"
     ]
    },
    {
     "name": "stderr",
     "output_type": "stream",
     "text": [
      "\r 72%|███████▏  | 82747/114911 [01:10<00:27, 1178.59it/s]"
     ]
    },
    {
     "name": "stderr",
     "output_type": "stream",
     "text": [
      "\r 72%|███████▏  | 82838/114911 [01:10<00:27, 1178.16it/s]"
     ]
    },
    {
     "name": "stderr",
     "output_type": "stream",
     "text": [
      "\r 72%|███████▏  | 82928/114911 [01:10<00:27, 1177.74it/s]"
     ]
    },
    {
     "name": "stderr",
     "output_type": "stream",
     "text": [
      "\r 72%|███████▏  | 83018/114911 [01:10<00:27, 1177.22it/s]"
     ]
    },
    {
     "name": "stderr",
     "output_type": "stream",
     "text": [
      "\r 72%|███████▏  | 83106/114911 [01:10<00:27, 1176.77it/s]"
     ]
    },
    {
     "name": "stderr",
     "output_type": "stream",
     "text": [
      "\r 72%|███████▏  | 83194/114911 [01:10<00:26, 1176.28it/s]"
     ]
    },
    {
     "name": "stderr",
     "output_type": "stream",
     "text": [
      "\r 72%|███████▏  | 83285/114911 [01:10<00:26, 1175.90it/s]"
     ]
    },
    {
     "name": "stderr",
     "output_type": "stream",
     "text": [
      "\r 73%|███████▎  | 83382/114911 [01:10<00:26, 1175.58it/s]"
     ]
    },
    {
     "name": "stderr",
     "output_type": "stream",
     "text": [
      "\r 73%|███████▎  | 83472/114911 [01:11<00:26, 1175.18it/s]"
     ]
    },
    {
     "name": "stderr",
     "output_type": "stream",
     "text": [
      "\r 73%|███████▎  | 83573/114911 [01:11<00:26, 1174.92it/s]"
     ]
    },
    {
     "name": "stderr",
     "output_type": "stream",
     "text": [
      "\r 73%|███████▎  | 83673/114911 [01:11<00:26, 1174.67it/s]"
     ]
    },
    {
     "name": "stderr",
     "output_type": "stream",
     "text": [
      "\r 73%|███████▎  | 83768/114911 [01:11<00:26, 1174.28it/s]"
     ]
    },
    {
     "name": "stderr",
     "output_type": "stream",
     "text": [
      "\r 73%|███████▎  | 83862/114911 [01:11<00:26, 1173.91it/s]"
     ]
    },
    {
     "name": "stderr",
     "output_type": "stream",
     "text": [
      "\r 73%|███████▎  | 83958/114911 [01:11<00:26, 1173.60it/s]"
     ]
    },
    {
     "name": "stderr",
     "output_type": "stream",
     "text": [
      "\r 73%|███████▎  | 84052/114911 [01:11<00:26, 1173.24it/s]"
     ]
    },
    {
     "name": "stderr",
     "output_type": "stream",
     "text": [
      "\r 73%|███████▎  | 84148/114911 [01:11<00:26, 1172.93it/s]"
     ]
    },
    {
     "name": "stderr",
     "output_type": "stream",
     "text": [
      "\r 73%|███████▎  | 84242/114911 [01:11<00:26, 1172.53it/s]"
     ]
    },
    {
     "name": "stderr",
     "output_type": "stream",
     "text": [
      "\r 73%|███████▎  | 84335/114911 [01:11<00:26, 1172.01it/s]"
     ]
    },
    {
     "name": "stderr",
     "output_type": "stream",
     "text": [
      "\r 73%|███████▎  | 84428/114911 [01:12<00:26, 1171.67it/s]"
     ]
    },
    {
     "name": "stderr",
     "output_type": "stream",
     "text": [
      "\r 74%|███████▎  | 84524/114911 [01:12<00:25, 1171.36it/s]"
     ]
    },
    {
     "name": "stderr",
     "output_type": "stream",
     "text": [
      "\r 74%|███████▎  | 84620/114911 [01:12<00:25, 1171.06it/s]"
     ]
    },
    {
     "name": "stderr",
     "output_type": "stream",
     "text": [
      "\r 74%|███████▎  | 84719/114911 [01:12<00:25, 1170.79it/s]"
     ]
    },
    {
     "name": "stderr",
     "output_type": "stream",
     "text": [
      "\r 74%|███████▍  | 84815/114911 [01:12<00:25, 1170.49it/s]"
     ]
    },
    {
     "name": "stderr",
     "output_type": "stream",
     "text": [
      "\r 74%|███████▍  | 84910/114911 [01:12<00:25, 1170.03it/s]"
     ]
    },
    {
     "name": "stderr",
     "output_type": "stream",
     "text": [
      "\r 74%|███████▍  | 85004/114911 [01:12<00:25, 1169.70it/s]"
     ]
    },
    {
     "name": "stderr",
     "output_type": "stream",
     "text": [
      "\r 74%|███████▍  | 85097/114911 [01:12<00:25, 1169.33it/s]"
     ]
    },
    {
     "name": "stderr",
     "output_type": "stream",
     "text": [
      "\r 74%|███████▍  | 85193/114911 [01:12<00:25, 1169.03it/s]"
     ]
    },
    {
     "name": "stderr",
     "output_type": "stream",
     "text": [
      "\r 74%|███████▍  | 85286/114911 [01:12<00:25, 1168.61it/s]"
     ]
    },
    {
     "name": "stderr",
     "output_type": "stream",
     "text": [
      "\r 74%|███████▍  | 85378/114911 [01:13<00:25, 1168.24it/s]"
     ]
    },
    {
     "name": "stderr",
     "output_type": "stream",
     "text": [
      "\r 74%|███████▍  | 85473/114911 [01:13<00:25, 1167.93it/s]"
     ]
    },
    {
     "name": "stderr",
     "output_type": "stream",
     "text": [
      "\r 74%|███████▍  | 85601/114911 [01:13<00:25, 1168.08it/s]"
     ]
    },
    {
     "name": "stderr",
     "output_type": "stream",
     "text": [
      "\r 75%|███████▍  | 85784/114911 [01:13<00:24, 1168.98it/s]"
     ]
    },
    {
     "name": "stderr",
     "output_type": "stream",
     "text": [
      "\r 75%|███████▍  | 85966/114911 [01:13<00:24, 1169.85it/s]"
     ]
    },
    {
     "name": "stderr",
     "output_type": "stream",
     "text": [
      "\r 75%|███████▍  | 86135/114911 [01:13<00:24, 1170.55it/s]"
     ]
    },
    {
     "name": "stderr",
     "output_type": "stream",
     "text": [
      "\r 75%|███████▌  | 86300/114911 [01:13<00:24, 1171.18it/s]"
     ]
    },
    {
     "name": "stderr",
     "output_type": "stream",
     "text": [
      "\r 75%|███████▌  | 86478/114911 [01:13<00:24, 1172.00it/s]"
     ]
    },
    {
     "name": "stderr",
     "output_type": "stream",
     "text": [
      "\r 75%|███████▌  | 86654/114911 [01:13<00:24, 1172.78it/s]"
     ]
    },
    {
     "name": "stderr",
     "output_type": "stream",
     "text": [
      "\r 76%|███████▌  | 86828/114911 [01:13<00:23, 1173.54it/s]"
     ]
    },
    {
     "name": "stderr",
     "output_type": "stream",
     "text": [
      "\r 76%|███████▌  | 86996/114911 [01:14<00:23, 1174.21it/s]"
     ]
    },
    {
     "name": "stderr",
     "output_type": "stream",
     "text": [
      "\r 76%|███████▌  | 87180/114911 [01:14<00:23, 1175.10it/s]"
     ]
    },
    {
     "name": "stderr",
     "output_type": "stream",
     "text": [
      "\r 76%|███████▌  | 87356/114911 [01:14<00:23, 1175.86it/s]"
     ]
    },
    {
     "name": "stderr",
     "output_type": "stream",
     "text": [
      "\r 76%|███████▌  | 87530/114911 [01:14<00:23, 1176.62it/s]"
     ]
    },
    {
     "name": "stderr",
     "output_type": "stream",
     "text": [
      "\r 76%|███████▋  | 87711/114911 [01:14<00:23, 1177.46it/s]"
     ]
    },
    {
     "name": "stderr",
     "output_type": "stream",
     "text": [
      "\r 76%|███████▋  | 87889/114911 [01:14<00:22, 1178.26it/s]"
     ]
    },
    {
     "name": "stderr",
     "output_type": "stream",
     "text": [
      "\r 77%|███████▋  | 88065/114911 [01:14<00:22, 1178.95it/s]"
     ]
    },
    {
     "name": "stderr",
     "output_type": "stream",
     "text": [
      "\r 77%|███████▋  | 88248/114911 [01:14<00:22, 1179.81it/s]"
     ]
    },
    {
     "name": "stderr",
     "output_type": "stream",
     "text": [
      "\r 77%|███████▋  | 88424/114911 [01:14<00:22, 1180.53it/s]"
     ]
    },
    {
     "name": "stderr",
     "output_type": "stream",
     "text": [
      "\r 77%|███████▋  | 88598/114911 [01:15<00:22, 1181.24it/s]"
     ]
    },
    {
     "name": "stderr",
     "output_type": "stream",
     "text": [
      "\r 77%|███████▋  | 88782/114911 [01:15<00:22, 1182.12it/s]"
     ]
    },
    {
     "name": "stderr",
     "output_type": "stream",
     "text": [
      "\r 77%|███████▋  | 88962/114911 [01:15<00:21, 1182.93it/s]"
     ]
    },
    {
     "name": "stderr",
     "output_type": "stream",
     "text": [
      "\r 78%|███████▊  | 89140/114911 [01:15<00:21, 1183.04it/s]"
     ]
    },
    {
     "name": "stderr",
     "output_type": "stream",
     "text": [
      "\r 78%|███████▊  | 89302/114911 [01:15<00:21, 1182.37it/s]"
     ]
    },
    {
     "name": "stderr",
     "output_type": "stream",
     "text": [
      "\r 78%|███████▊  | 89442/114911 [01:15<00:21, 1181.81it/s]"
     ]
    },
    {
     "name": "stderr",
     "output_type": "stream",
     "text": [
      "\r 78%|███████▊  | 89568/114911 [01:15<00:21, 1181.43it/s]"
     ]
    },
    {
     "name": "stderr",
     "output_type": "stream",
     "text": [
      "\r 78%|███████▊  | 89685/114911 [01:15<00:21, 1180.90it/s]"
     ]
    },
    {
     "name": "stderr",
     "output_type": "stream",
     "text": [
      "\r 78%|███████▊  | 89793/114911 [01:16<00:21, 1180.40it/s]"
     ]
    },
    {
     "name": "stderr",
     "output_type": "stream",
     "text": [
      "\r 78%|███████▊  | 89895/114911 [01:16<00:21, 1180.08it/s]"
     ]
    },
    {
     "name": "stderr",
     "output_type": "stream",
     "text": [
      "\r 78%|███████▊  | 89995/114911 [01:16<00:21, 1179.79it/s]"
     ]
    },
    {
     "name": "stderr",
     "output_type": "stream",
     "text": [
      "\r 78%|███████▊  | 90094/114911 [01:16<00:21, 1179.47it/s]"
     ]
    },
    {
     "name": "stderr",
     "output_type": "stream",
     "text": [
      "\r 78%|███████▊  | 90192/114911 [01:16<00:20, 1179.13it/s]"
     ]
    },
    {
     "name": "stderr",
     "output_type": "stream",
     "text": [
      "\r 79%|███████▊  | 90291/114911 [01:16<00:20, 1178.86it/s]"
     ]
    },
    {
     "name": "stderr",
     "output_type": "stream",
     "text": [
      "\r 79%|███████▊  | 90392/114911 [01:16<00:20, 1178.63it/s]"
     ]
    },
    {
     "name": "stderr",
     "output_type": "stream",
     "text": [
      "\r 79%|███████▊  | 90490/114911 [01:16<00:20, 1178.16it/s]"
     ]
    },
    {
     "name": "stderr",
     "output_type": "stream",
     "text": [
      "\r 79%|███████▉  | 90585/114911 [01:16<00:20, 1177.77it/s]"
     ]
    },
    {
     "name": "stderr",
     "output_type": "stream",
     "text": [
      "\r 79%|███████▉  | 90678/114911 [01:17<00:20, 1177.35it/s]"
     ]
    },
    {
     "name": "stderr",
     "output_type": "stream",
     "text": [
      "\r 79%|███████▉  | 90772/114911 [01:17<00:20, 1177.03it/s]"
     ]
    },
    {
     "name": "stderr",
     "output_type": "stream",
     "text": [
      "\r 79%|███████▉  | 90864/114911 [01:17<00:20, 1176.61it/s]"
     ]
    },
    {
     "name": "stderr",
     "output_type": "stream",
     "text": [
      "\r 79%|███████▉  | 90955/114911 [01:17<00:20, 1176.24it/s]"
     ]
    },
    {
     "name": "stderr",
     "output_type": "stream",
     "text": [
      "\r 79%|███████▉  | 91046/114911 [01:17<00:20, 1175.88it/s]"
     ]
    },
    {
     "name": "stderr",
     "output_type": "stream",
     "text": [
      "\r 79%|███████▉  | 91141/114911 [01:17<00:20, 1175.56it/s]"
     ]
    },
    {
     "name": "stderr",
     "output_type": "stream",
     "text": [
      "\r 79%|███████▉  | 91235/114911 [01:17<00:20, 1175.25it/s]"
     ]
    },
    {
     "name": "stderr",
     "output_type": "stream",
     "text": [
      "\r 79%|███████▉  | 91327/114911 [01:17<00:20, 1174.80it/s]"
     ]
    },
    {
     "name": "stderr",
     "output_type": "stream",
     "text": [
      "\r 80%|███████▉  | 91419/114911 [01:17<00:20, 1174.46it/s]"
     ]
    },
    {
     "name": "stderr",
     "output_type": "stream",
     "text": [
      "\r 80%|███████▉  | 91513/114911 [01:17<00:19, 1174.15it/s]"
     ]
    },
    {
     "name": "stderr",
     "output_type": "stream",
     "text": [
      "\r 80%|███████▉  | 91612/114911 [01:18<00:19, 1173.90it/s]"
     ]
    },
    {
     "name": "stderr",
     "output_type": "stream",
     "text": [
      "\r 80%|███████▉  | 91706/114911 [01:18<00:19, 1173.53it/s]"
     ]
    },
    {
     "name": "stderr",
     "output_type": "stream",
     "text": [
      "\r 80%|███████▉  | 91803/114911 [01:18<00:19, 1173.25it/s]"
     ]
    },
    {
     "name": "stderr",
     "output_type": "stream",
     "text": [
      "\r 80%|███████▉  | 91897/114911 [01:18<00:19, 1172.91it/s]"
     ]
    },
    {
     "name": "stderr",
     "output_type": "stream",
     "text": [
      "\r 80%|████████  | 91996/114911 [01:18<00:19, 1172.66it/s]"
     ]
    },
    {
     "name": "stderr",
     "output_type": "stream",
     "text": [
      "\r 80%|████████  | 92091/114911 [01:18<00:19, 1172.32it/s]"
     ]
    },
    {
     "name": "stderr",
     "output_type": "stream",
     "text": [
      "\r 80%|████████  | 92185/114911 [01:18<00:19, 1171.93it/s]"
     ]
    },
    {
     "name": "stderr",
     "output_type": "stream",
     "text": [
      "\r 80%|████████  | 92277/114911 [01:18<00:19, 1171.60it/s]"
     ]
    },
    {
     "name": "stderr",
     "output_type": "stream",
     "text": [
      "\r 80%|████████  | 92373/114911 [01:18<00:19, 1171.32it/s]"
     ]
    },
    {
     "name": "stderr",
     "output_type": "stream",
     "text": [
      "\r 80%|████████  | 92466/114911 [01:18<00:19, 1170.98it/s]"
     ]
    },
    {
     "name": "stderr",
     "output_type": "stream",
     "text": [
      "\r 81%|████████  | 92563/114911 [01:19<00:19, 1170.70it/s]"
     ]
    },
    {
     "name": "stderr",
     "output_type": "stream",
     "text": [
      "\r 81%|████████  | 92657/114911 [01:19<00:19, 1170.36it/s]"
     ]
    },
    {
     "name": "stderr",
     "output_type": "stream",
     "text": [
      "\r 81%|████████  | 92750/114911 [01:19<00:18, 1170.04it/s]"
     ]
    },
    {
     "name": "stderr",
     "output_type": "stream",
     "text": [
      "\r 81%|████████  | 92843/114911 [01:19<00:18, 1169.68it/s]"
     ]
    },
    {
     "name": "stderr",
     "output_type": "stream",
     "text": [
      "\r 81%|████████  | 92943/114911 [01:19<00:18, 1169.46it/s]"
     ]
    },
    {
     "name": "stderr",
     "output_type": "stream",
     "text": [
      "\r 81%|████████  | 93039/114911 [01:19<00:18, 1169.18it/s]"
     ]
    },
    {
     "name": "stderr",
     "output_type": "stream",
     "text": [
      "\r 81%|████████  | 93134/114911 [01:19<00:18, 1168.80it/s]"
     ]
    },
    {
     "name": "stderr",
     "output_type": "stream",
     "text": [
      "\r 81%|████████  | 93228/114911 [01:19<00:18, 1168.50it/s]"
     ]
    },
    {
     "name": "stderr",
     "output_type": "stream",
     "text": [
      "\r 81%|████████  | 93321/114911 [01:19<00:18, 1168.03it/s]"
     ]
    },
    {
     "name": "stderr",
     "output_type": "stream",
     "text": [
      "\r 81%|████████▏ | 93417/114911 [01:19<00:18, 1167.74it/s]"
     ]
    },
    {
     "name": "stderr",
     "output_type": "stream",
     "text": [
      "\r 81%|████████▏ | 93511/114911 [01:20<00:18, 1167.43it/s]"
     ]
    },
    {
     "name": "stderr",
     "output_type": "stream",
     "text": [
      "\r 81%|████████▏ | 93607/114911 [01:20<00:18, 1167.16it/s]"
     ]
    },
    {
     "name": "stderr",
     "output_type": "stream",
     "text": [
      "\r 82%|████████▏ | 93701/114911 [01:20<00:18, 1166.87it/s]"
     ]
    },
    {
     "name": "stderr",
     "output_type": "stream",
     "text": [
      "\r 82%|████████▏ | 93794/114911 [01:20<00:18, 1166.42it/s]"
     ]
    },
    {
     "name": "stderr",
     "output_type": "stream",
     "text": [
      "\r 82%|████████▏ | 93888/114911 [01:20<00:18, 1166.13it/s]"
     ]
    },
    {
     "name": "stderr",
     "output_type": "stream",
     "text": [
      "\r 82%|████████▏ | 93984/114911 [01:20<00:17, 1165.86it/s]"
     ]
    },
    {
     "name": "stderr",
     "output_type": "stream",
     "text": [
      "\r 82%|████████▏ | 94077/114911 [01:20<00:17, 1165.54it/s]"
     ]
    },
    {
     "name": "stderr",
     "output_type": "stream",
     "text": [
      "\r 82%|████████▏ | 94170/114911 [01:20<00:17, 1165.22it/s]"
     ]
    },
    {
     "name": "stderr",
     "output_type": "stream",
     "text": [
      "\r 82%|████████▏ | 94269/114911 [01:20<00:17, 1165.00it/s]"
     ]
    },
    {
     "name": "stderr",
     "output_type": "stream",
     "text": [
      "\r 82%|████████▏ | 94368/114911 [01:21<00:17, 1164.76it/s]"
     ]
    },
    {
     "name": "stderr",
     "output_type": "stream",
     "text": [
      "\r 82%|████████▏ | 94463/114911 [01:21<00:17, 1164.48it/s]"
     ]
    },
    {
     "name": "stderr",
     "output_type": "stream",
     "text": [
      "\r 82%|████████▏ | 94558/114911 [01:21<00:17, 1164.09it/s]"
     ]
    },
    {
     "name": "stderr",
     "output_type": "stream",
     "text": [
      "\r 82%|████████▏ | 94651/114911 [01:21<00:17, 1163.62it/s]"
     ]
    },
    {
     "name": "stderr",
     "output_type": "stream",
     "text": [
      "\r 82%|████████▏ | 94743/114911 [01:21<00:17, 1163.31it/s]"
     ]
    },
    {
     "name": "stderr",
     "output_type": "stream",
     "text": [
      "\r 83%|████████▎ | 94834/114911 [01:21<00:17, 1162.92it/s]"
     ]
    },
    {
     "name": "stderr",
     "output_type": "stream",
     "text": [
      "\r 83%|████████▎ | 94923/114911 [01:21<00:17, 1162.56it/s]"
     ]
    },
    {
     "name": "stderr",
     "output_type": "stream",
     "text": [
      "\r 83%|████████▎ | 95012/114911 [01:21<00:17, 1162.17it/s]"
     ]
    },
    {
     "name": "stderr",
     "output_type": "stream",
     "text": [
      "\r 83%|████████▎ | 95101/114911 [01:21<00:17, 1161.83it/s]"
     ]
    },
    {
     "name": "stderr",
     "output_type": "stream",
     "text": [
      "\r 83%|████████▎ | 95199/114911 [01:21<00:16, 1161.60it/s]"
     ]
    },
    {
     "name": "stderr",
     "output_type": "stream",
     "text": [
      "\r 83%|████████▎ | 95295/114911 [01:22<00:16, 1161.34it/s]"
     ]
    },
    {
     "name": "stderr",
     "output_type": "stream",
     "text": [
      "\r 83%|████████▎ | 95395/114911 [01:22<00:16, 1161.13it/s]"
     ]
    },
    {
     "name": "stderr",
     "output_type": "stream",
     "text": [
      "\r 83%|████████▎ | 95490/114911 [01:22<00:16, 1160.74it/s]"
     ]
    },
    {
     "name": "stderr",
     "output_type": "stream",
     "text": [
      "\r 83%|████████▎ | 95582/114911 [01:22<00:16, 1160.44it/s]"
     ]
    },
    {
     "name": "stderr",
     "output_type": "stream",
     "text": [
      "\r 83%|████████▎ | 95674/114911 [01:22<00:16, 1160.05it/s]"
     ]
    },
    {
     "name": "stderr",
     "output_type": "stream",
     "text": [
      "\r 83%|████████▎ | 95765/114911 [01:22<00:16, 1159.61it/s]"
     ]
    },
    {
     "name": "stderr",
     "output_type": "stream",
     "text": [
      "\r 83%|████████▎ | 95860/114911 [01:22<00:16, 1159.33it/s]"
     ]
    },
    {
     "name": "stderr",
     "output_type": "stream",
     "text": [
      "\r 84%|████████▎ | 95955/114911 [01:22<00:16, 1159.07it/s]"
     ]
    },
    {
     "name": "stderr",
     "output_type": "stream",
     "text": [
      "\r 84%|████████▎ | 96053/114911 [01:22<00:16, 1158.83it/s]"
     ]
    },
    {
     "name": "stderr",
     "output_type": "stream",
     "text": [
      "\r 84%|████████▎ | 96146/114911 [01:22<00:16, 1158.40it/s]"
     ]
    },
    {
     "name": "stderr",
     "output_type": "stream",
     "text": [
      "\r 84%|████████▍ | 96241/114911 [01:23<00:16, 1158.14it/s]"
     ]
    },
    {
     "name": "stderr",
     "output_type": "stream",
     "text": [
      "\r 84%|████████▍ | 96333/114911 [01:23<00:16, 1157.83it/s]"
     ]
    },
    {
     "name": "stderr",
     "output_type": "stream",
     "text": [
      "\r 84%|████████▍ | 96442/114911 [01:23<00:15, 1157.74it/s]"
     ]
    },
    {
     "name": "stderr",
     "output_type": "stream",
     "text": [
      "\r 84%|████████▍ | 96618/114911 [01:23<00:15, 1158.45it/s]"
     ]
    },
    {
     "name": "stderr",
     "output_type": "stream",
     "text": [
      "\r 84%|████████▍ | 96774/114911 [01:23<00:15, 1158.92it/s]"
     ]
    },
    {
     "name": "stderr",
     "output_type": "stream",
     "text": [
      "\r 84%|████████▍ | 96939/114911 [01:23<00:15, 1159.50it/s]"
     ]
    },
    {
     "name": "stderr",
     "output_type": "stream",
     "text": [
      "\r 85%|████████▍ | 97110/114911 [01:23<00:15, 1160.15it/s]"
     ]
    },
    {
     "name": "stderr",
     "output_type": "stream",
     "text": [
      "\r 85%|████████▍ | 97273/114911 [01:23<00:15, 1160.70it/s]"
     ]
    },
    {
     "name": "stderr",
     "output_type": "stream",
     "text": [
      "\r 85%|████████▍ | 97427/114911 [01:23<00:15, 1161.14it/s]"
     ]
    },
    {
     "name": "stderr",
     "output_type": "stream",
     "text": [
      "\r 85%|████████▍ | 97580/114911 [01:24<00:14, 1161.46it/s]"
     ]
    },
    {
     "name": "stderr",
     "output_type": "stream",
     "text": [
      "\r 85%|████████▌ | 97745/114911 [01:24<00:14, 1162.03it/s]"
     ]
    },
    {
     "name": "stderr",
     "output_type": "stream",
     "text": [
      "\r 85%|████████▌ | 97922/114911 [01:24<00:14, 1162.75it/s]"
     ]
    },
    {
     "name": "stderr",
     "output_type": "stream",
     "text": [
      "\r 85%|████████▌ | 98083/114911 [01:24<00:14, 1162.99it/s]"
     ]
    },
    {
     "name": "stderr",
     "output_type": "stream",
     "text": [
      "\r 85%|████████▌ | 98246/114911 [01:24<00:14, 1163.53it/s]"
     ]
    },
    {
     "name": "stderr",
     "output_type": "stream",
     "text": [
      "\r 86%|████████▌ | 98415/114911 [01:24<00:14, 1164.15it/s]"
     ]
    },
    {
     "name": "stderr",
     "output_type": "stream",
     "text": [
      "\r 86%|████████▌ | 98574/114911 [01:24<00:14, 1164.48it/s]"
     ]
    },
    {
     "name": "stderr",
     "output_type": "stream",
     "text": [
      "\r 86%|████████▌ | 98728/114911 [01:24<00:13, 1164.76it/s]"
     ]
    },
    {
     "name": "stderr",
     "output_type": "stream",
     "text": [
      "\r 86%|████████▌ | 98895/114911 [01:24<00:13, 1165.35it/s]"
     ]
    },
    {
     "name": "stderr",
     "output_type": "stream",
     "text": [
      "\r 86%|████████▌ | 99050/114911 [01:24<00:13, 1165.65it/s]"
     ]
    },
    {
     "name": "stderr",
     "output_type": "stream",
     "text": [
      "\r 86%|████████▋ | 99200/114911 [01:25<00:13, 1165.95it/s]"
     ]
    },
    {
     "name": "stderr",
     "output_type": "stream",
     "text": [
      "\r 86%|████████▋ | 99379/114911 [01:25<00:13, 1166.67it/s]"
     ]
    },
    {
     "name": "stderr",
     "output_type": "stream",
     "text": [
      "\r 87%|████████▋ | 99546/114911 [01:25<00:13, 1167.25it/s]"
     ]
    },
    {
     "name": "stderr",
     "output_type": "stream",
     "text": [
      "\r 87%|████████▋ | 99707/114911 [01:25<00:13, 1167.76it/s]"
     ]
    },
    {
     "name": "stderr",
     "output_type": "stream",
     "text": [
      "\r 87%|████████▋ | 99883/114911 [01:25<00:12, 1168.44it/s]"
     ]
    },
    {
     "name": "stderr",
     "output_type": "stream",
     "text": [
      "\r 87%|████████▋ | 100052/114911 [01:25<00:12, 1169.04it/s]"
     ]
    },
    {
     "name": "stderr",
     "output_type": "stream",
     "text": [
      "\r 87%|████████▋ | 100219/114911 [01:25<00:12, 1169.62it/s]"
     ]
    },
    {
     "name": "stderr",
     "output_type": "stream",
     "text": [
      "\r 87%|████████▋ | 100397/114911 [01:25<00:12, 1170.32it/s]"
     ]
    },
    {
     "name": "stderr",
     "output_type": "stream",
     "text": [
      "\r 88%|████████▊ | 100566/114911 [01:25<00:12, 1170.91it/s]"
     ]
    },
    {
     "name": "stderr",
     "output_type": "stream",
     "text": [
      "\r 88%|████████▊ | 100735/114911 [01:25<00:12, 1171.34it/s]"
     ]
    },
    {
     "name": "stderr",
     "output_type": "stream",
     "text": [
      "\r 88%|████████▊ | 100898/114911 [01:26<00:11, 1171.14it/s]"
     ]
    },
    {
     "name": "stderr",
     "output_type": "stream",
     "text": [
      "\r 88%|████████▊ | 101048/114911 [01:26<00:11, 1171.49it/s]"
     ]
    },
    {
     "name": "stderr",
     "output_type": "stream",
     "text": [
      "\r 88%|████████▊ | 101195/114911 [01:26<00:11, 1170.89it/s]"
     ]
    },
    {
     "name": "stderr",
     "output_type": "stream",
     "text": [
      "\r 88%|████████▊ | 101324/114911 [01:26<00:11, 1170.30it/s]"
     ]
    },
    {
     "name": "stderr",
     "output_type": "stream",
     "text": [
      "\r 88%|████████▊ | 101439/114911 [01:26<00:11, 1169.92it/s]"
     ]
    },
    {
     "name": "stderr",
     "output_type": "stream",
     "text": [
      "\r 88%|████████▊ | 101547/114911 [01:26<00:11, 1169.38it/s]"
     ]
    },
    {
     "name": "stderr",
     "output_type": "stream",
     "text": [
      "\r 88%|████████▊ | 101647/114911 [01:26<00:11, 1169.06it/s]"
     ]
    },
    {
     "name": "stderr",
     "output_type": "stream",
     "text": [
      "\r 89%|████████▊ | 101745/114911 [01:27<00:11, 1168.76it/s]"
     ]
    },
    {
     "name": "stderr",
     "output_type": "stream",
     "text": [
      "\r 89%|████████▊ | 101841/114911 [01:27<00:11, 1168.44it/s]"
     ]
    },
    {
     "name": "stderr",
     "output_type": "stream",
     "text": [
      "\r 89%|████████▊ | 101936/114911 [01:27<00:11, 1168.06it/s]"
     ]
    },
    {
     "name": "stderr",
     "output_type": "stream",
     "text": [
      "\r 89%|████████▉ | 102028/114911 [01:27<00:11, 1167.76it/s]"
     ]
    },
    {
     "name": "stderr",
     "output_type": "stream",
     "text": [
      "\r 89%|████████▉ | 102122/114911 [01:27<00:10, 1167.49it/s]"
     ]
    },
    {
     "name": "stderr",
     "output_type": "stream",
     "text": [
      "\r 89%|████████▉ | 102216/114911 [01:27<00:10, 1167.22it/s]"
     ]
    },
    {
     "name": "stderr",
     "output_type": "stream",
     "text": [
      "\r 89%|████████▉ | 102311/114911 [01:27<00:10, 1166.97it/s]"
     ]
    },
    {
     "name": "stderr",
     "output_type": "stream",
     "text": [
      "\r 89%|████████▉ | 102405/114911 [01:27<00:10, 1166.64it/s]"
     ]
    },
    {
     "name": "stderr",
     "output_type": "stream",
     "text": [
      "\r 89%|████████▉ | 102498/114911 [01:27<00:10, 1166.32it/s]"
     ]
    },
    {
     "name": "stderr",
     "output_type": "stream",
     "text": [
      "\r 89%|████████▉ | 102593/114911 [01:27<00:10, 1166.07it/s]"
     ]
    },
    {
     "name": "stderr",
     "output_type": "stream",
     "text": [
      "\r 89%|████████▉ | 102689/114911 [01:28<00:10, 1165.83it/s]"
     ]
    },
    {
     "name": "stderr",
     "output_type": "stream",
     "text": [
      "\r 89%|████████▉ | 102783/114911 [01:28<00:10, 1165.53it/s]"
     ]
    },
    {
     "name": "stderr",
     "output_type": "stream",
     "text": [
      "\r 90%|████████▉ | 102879/114911 [01:28<00:10, 1165.29it/s]"
     ]
    },
    {
     "name": "stderr",
     "output_type": "stream",
     "text": [
      "\r 90%|████████▉ | 102973/114911 [01:28<00:10, 1164.89it/s]"
     ]
    },
    {
     "name": "stderr",
     "output_type": "stream",
     "text": [
      "\r 90%|████████▉ | 103064/114911 [01:28<00:10, 1164.60it/s]"
     ]
    },
    {
     "name": "stderr",
     "output_type": "stream",
     "text": [
      "\r 90%|████████▉ | 103161/114911 [01:28<00:10, 1164.37it/s]"
     ]
    },
    {
     "name": "stderr",
     "output_type": "stream",
     "text": [
      "\r 90%|████████▉ | 103254/114911 [01:28<00:10, 1164.03it/s]"
     ]
    },
    {
     "name": "stderr",
     "output_type": "stream",
     "text": [
      "\r 90%|████████▉ | 103347/114911 [01:28<00:09, 1163.75it/s]"
     ]
    },
    {
     "name": "stderr",
     "output_type": "stream",
     "text": [
      "\r 90%|█████████ | 103442/114911 [01:28<00:09, 1163.50it/s]"
     ]
    },
    {
     "name": "stderr",
     "output_type": "stream",
     "text": [
      "\r 90%|█████████ | 103535/114911 [01:29<00:09, 1163.18it/s]"
     ]
    },
    {
     "name": "stderr",
     "output_type": "stream",
     "text": [
      "\r 90%|█████████ | 103627/114911 [01:29<00:09, 1162.87it/s]"
     ]
    },
    {
     "name": "stderr",
     "output_type": "stream",
     "text": [
      "\r 90%|█████████ | 103728/114911 [01:29<00:09, 1162.69it/s]"
     ]
    },
    {
     "name": "stderr",
     "output_type": "stream",
     "text": [
      "\r 90%|█████████ | 103822/114911 [01:29<00:09, 1162.38it/s]"
     ]
    },
    {
     "name": "stderr",
     "output_type": "stream",
     "text": [
      "\r 90%|█████████ | 103915/114911 [01:29<00:09, 1161.94it/s]"
     ]
    },
    {
     "name": "stderr",
     "output_type": "stream",
     "text": [
      "\r 91%|█████████ | 104011/114911 [01:29<00:09, 1161.69it/s]"
     ]
    },
    {
     "name": "stderr",
     "output_type": "stream",
     "text": [
      "\r 91%|█████████ | 104109/114911 [01:29<00:09, 1161.48it/s]"
     ]
    },
    {
     "name": "stderr",
     "output_type": "stream",
     "text": [
      "\r 91%|█████████ | 104203/114911 [01:29<00:09, 1161.20it/s]"
     ]
    },
    {
     "name": "stderr",
     "output_type": "stream",
     "text": [
      "\r 91%|█████████ | 104296/114911 [01:29<00:09, 1160.85it/s]"
     ]
    },
    {
     "name": "stderr",
     "output_type": "stream",
     "text": [
      "\r 91%|█████████ | 104389/114911 [01:29<00:09, 1160.59it/s]"
     ]
    },
    {
     "name": "stderr",
     "output_type": "stream",
     "text": [
      "\r 91%|█████████ | 104481/114911 [01:30<00:08, 1160.12it/s]"
     ]
    },
    {
     "name": "stderr",
     "output_type": "stream",
     "text": [
      "\r 91%|█████████ | 104576/114911 [01:30<00:08, 1159.87it/s]"
     ]
    },
    {
     "name": "stderr",
     "output_type": "stream",
     "text": [
      "\r 91%|█████████ | 104666/114911 [01:30<00:08, 1159.51it/s]"
     ]
    },
    {
     "name": "stderr",
     "output_type": "stream",
     "text": [
      "\r 91%|█████████ | 104758/114911 [01:30<00:08, 1159.24it/s]"
     ]
    },
    {
     "name": "stderr",
     "output_type": "stream",
     "text": [
      "\r 91%|█████████ | 104855/114911 [01:30<00:08, 1159.00it/s]"
     ]
    },
    {
     "name": "stderr",
     "output_type": "stream",
     "text": [
      "\r 91%|█████████▏| 104947/114911 [01:30<00:08, 1158.69it/s]"
     ]
    },
    {
     "name": "stderr",
     "output_type": "stream",
     "text": [
      "\r 91%|█████████▏| 105038/114911 [01:30<00:08, 1158.40it/s]"
     ]
    },
    {
     "name": "stderr",
     "output_type": "stream",
     "text": [
      "\r 91%|█████████▏| 105131/114911 [01:30<00:08, 1158.13it/s]"
     ]
    },
    {
     "name": "stderr",
     "output_type": "stream",
     "text": [
      "\r 92%|█████████▏| 105222/114911 [01:30<00:08, 1157.79it/s]"
     ]
    },
    {
     "name": "stderr",
     "output_type": "stream",
     "text": [
      "\r 92%|█████████▏| 105312/114911 [01:30<00:08, 1157.48it/s]"
     ]
    },
    {
     "name": "stderr",
     "output_type": "stream",
     "text": [
      "\r 92%|█████████▏| 105406/114911 [01:31<00:08, 1157.23it/s]"
     ]
    },
    {
     "name": "stderr",
     "output_type": "stream",
     "text": [
      "\r 92%|█████████▏| 105502/114911 [01:31<00:08, 1157.01it/s]"
     ]
    },
    {
     "name": "stderr",
     "output_type": "stream",
     "text": [
      "\r 92%|█████████▏| 105594/114911 [01:31<00:08, 1156.68it/s]"
     ]
    },
    {
     "name": "stderr",
     "output_type": "stream",
     "text": [
      "\r 92%|█████████▏| 105685/114911 [01:31<00:07, 1156.38it/s]"
     ]
    },
    {
     "name": "stderr",
     "output_type": "stream",
     "text": [
      "\r 92%|█████████▏| 105779/114911 [01:31<00:07, 1156.14it/s]"
     ]
    },
    {
     "name": "stderr",
     "output_type": "stream",
     "text": [
      "\r 92%|█████████▏| 105871/114911 [01:31<00:07, 1155.73it/s]"
     ]
    },
    {
     "name": "stderr",
     "output_type": "stream",
     "text": [
      "\r 92%|█████████▏| 105960/114911 [01:31<00:07, 1155.43it/s]"
     ]
    },
    {
     "name": "stderr",
     "output_type": "stream",
     "text": [
      "\r 92%|█████████▏| 106052/114911 [01:31<00:07, 1155.17it/s]"
     ]
    },
    {
     "name": "stderr",
     "output_type": "stream",
     "text": [
      "\r 92%|█████████▏| 106142/114911 [01:31<00:07, 1154.82it/s]"
     ]
    },
    {
     "name": "stderr",
     "output_type": "stream",
     "text": [
      "\r 92%|█████████▏| 106231/114911 [01:32<00:07, 1154.43it/s]"
     ]
    },
    {
     "name": "stderr",
     "output_type": "stream",
     "text": [
      "\r 93%|█████████▎| 106323/114911 [01:32<00:07, 1154.17it/s]"
     ]
    },
    {
     "name": "stderr",
     "output_type": "stream",
     "text": [
      "\r 93%|█████████▎| 106421/114911 [01:32<00:07, 1153.96it/s]"
     ]
    },
    {
     "name": "stderr",
     "output_type": "stream",
     "text": [
      "\r 93%|█████████▎| 106519/114911 [01:32<00:07, 1153.76it/s]"
     ]
    },
    {
     "name": "stderr",
     "output_type": "stream",
     "text": [
      "\r 93%|█████████▎| 106612/114911 [01:32<00:07, 1153.46it/s]"
     ]
    },
    {
     "name": "stderr",
     "output_type": "stream",
     "text": [
      "\r 93%|█████████▎| 106709/114911 [01:32<00:07, 1153.25it/s]"
     ]
    },
    {
     "name": "stderr",
     "output_type": "stream",
     "text": [
      "\r 93%|█████████▎| 106805/114911 [01:32<00:07, 1153.03it/s]"
     ]
    },
    {
     "name": "stderr",
     "output_type": "stream",
     "text": [
      "\r 93%|█████████▎| 106899/114911 [01:32<00:06, 1152.77it/s]"
     ]
    },
    {
     "name": "stderr",
     "output_type": "stream",
     "text": [
      "\r 93%|█████████▎| 106992/114911 [01:32<00:06, 1152.52it/s]"
     ]
    },
    {
     "name": "stderr",
     "output_type": "stream",
     "text": [
      "\r 93%|█████████▎| 107091/114911 [01:32<00:06, 1152.33it/s]"
     ]
    },
    {
     "name": "stderr",
     "output_type": "stream",
     "text": [
      "\r 93%|█████████▎| 107187/114911 [01:33<00:06, 1152.12it/s]"
     ]
    },
    {
     "name": "stderr",
     "output_type": "stream",
     "text": [
      "\r 93%|█████████▎| 107285/114911 [01:33<00:06, 1151.92it/s]"
     ]
    },
    {
     "name": "stderr",
     "output_type": "stream",
     "text": [
      "\r 93%|█████████▎| 107381/114911 [01:33<00:06, 1151.68it/s]"
     ]
    },
    {
     "name": "stderr",
     "output_type": "stream",
     "text": [
      "\r 94%|█████████▎| 107476/114911 [01:33<00:06, 1151.42it/s]"
     ]
    },
    {
     "name": "stderr",
     "output_type": "stream",
     "text": [
      "\r 94%|█████████▎| 107570/114911 [01:33<00:06, 1151.10it/s]"
     ]
    },
    {
     "name": "stderr",
     "output_type": "stream",
     "text": [
      "\r 94%|█████████▎| 107662/114911 [01:33<00:06, 1150.82it/s]"
     ]
    },
    {
     "name": "stderr",
     "output_type": "stream",
     "text": [
      "\r 94%|█████████▍| 107754/114911 [01:33<00:06, 1150.53it/s]"
     ]
    },
    {
     "name": "stderr",
     "output_type": "stream",
     "text": [
      "\r 94%|█████████▍| 107845/114911 [01:33<00:06, 1150.26it/s]"
     ]
    },
    {
     "name": "stderr",
     "output_type": "stream",
     "text": [
      "\r 94%|█████████▍| 107947/114911 [01:33<00:06, 1150.10it/s]"
     ]
    },
    {
     "name": "stderr",
     "output_type": "stream",
     "text": [
      "\r 94%|█████████▍| 108041/114911 [01:33<00:05, 1149.79it/s]"
     ]
    },
    {
     "name": "stderr",
     "output_type": "stream",
     "text": [
      "\r 94%|█████████▍| 108137/114911 [01:34<00:05, 1149.58it/s]"
     ]
    },
    {
     "name": "stderr",
     "output_type": "stream",
     "text": [
      "\r 94%|█████████▍| 108230/114911 [01:34<00:05, 1149.32it/s]"
     ]
    },
    {
     "name": "stderr",
     "output_type": "stream",
     "text": [
      "\r 94%|█████████▍| 108323/114911 [01:34<00:05, 1149.02it/s]"
     ]
    },
    {
     "name": "stderr",
     "output_type": "stream",
     "text": [
      "\r 94%|█████████▍| 108449/114911 [01:34<00:05, 1149.12it/s]"
     ]
    },
    {
     "name": "stderr",
     "output_type": "stream",
     "text": [
      "\r 94%|█████████▍| 108587/114911 [01:34<00:05, 1149.36it/s]"
     ]
    },
    {
     "name": "stderr",
     "output_type": "stream",
     "text": [
      "\r 95%|█████████▍| 108720/114911 [01:34<00:05, 1149.54it/s]"
     ]
    },
    {
     "name": "stderr",
     "output_type": "stream",
     "text": [
      "\r 95%|█████████▍| 108839/114911 [01:34<00:05, 1149.57it/s]"
     ]
    },
    {
     "name": "stderr",
     "output_type": "stream",
     "text": [
      "\r 95%|█████████▍| 108957/114911 [01:34<00:05, 1149.56it/s]"
     ]
    },
    {
     "name": "stderr",
     "output_type": "stream",
     "text": [
      "\r 95%|█████████▍| 109081/114911 [01:34<00:05, 1149.64it/s]"
     ]
    },
    {
     "name": "stderr",
     "output_type": "stream",
     "text": [
      "\r 95%|█████████▌| 109236/114911 [01:34<00:04, 1150.06it/s]"
     ]
    },
    {
     "name": "stderr",
     "output_type": "stream",
     "text": [
      "\r 95%|█████████▌| 109375/114911 [01:35<00:04, 1150.30it/s]"
     ]
    },
    {
     "name": "stderr",
     "output_type": "stream",
     "text": [
      "\r 95%|█████████▌| 109509/114911 [01:35<00:04, 1150.49it/s]"
     ]
    },
    {
     "name": "stderr",
     "output_type": "stream",
     "text": [
      "\r 95%|█████████▌| 109642/114911 [01:35<00:04, 1150.50it/s]"
     ]
    },
    {
     "name": "stderr",
     "output_type": "stream",
     "text": [
      "\r 96%|█████████▌| 109770/114911 [01:35<00:04, 1150.25it/s]"
     ]
    },
    {
     "name": "stderr",
     "output_type": "stream",
     "text": [
      "\r 96%|█████████▌| 109889/114911 [01:35<00:04, 1150.21it/s]"
     ]
    },
    {
     "name": "stderr",
     "output_type": "stream",
     "text": [
      "\r 96%|█████████▌| 110005/114911 [01:35<00:04, 1150.11it/s]"
     ]
    },
    {
     "name": "stderr",
     "output_type": "stream",
     "text": [
      "\r 96%|█████████▌| 110119/114911 [01:35<00:04, 1150.02it/s]"
     ]
    },
    {
     "name": "stderr",
     "output_type": "stream",
     "text": [
      "\r 96%|█████████▌| 110231/114911 [01:35<00:04, 1149.22it/s]"
     ]
    },
    {
     "name": "stderr",
     "output_type": "stream",
     "text": [
      "\r 96%|█████████▌| 110330/114911 [01:36<00:03, 1148.58it/s]"
     ]
    },
    {
     "name": "stderr",
     "output_type": "stream",
     "text": [
      "\r 96%|█████████▌| 110421/114911 [01:36<00:03, 1148.00it/s]"
     ]
    },
    {
     "name": "stderr",
     "output_type": "stream",
     "text": [
      "\r 96%|█████████▌| 110534/114911 [01:36<00:03, 1147.96it/s]"
     ]
    },
    {
     "name": "stderr",
     "output_type": "stream",
     "text": [
      "\r 96%|█████████▋| 110642/114911 [01:36<00:03, 1147.88it/s]"
     ]
    },
    {
     "name": "stderr",
     "output_type": "stream",
     "text": [
      "\r 96%|█████████▋| 110749/114911 [01:36<00:03, 1147.80it/s]"
     ]
    },
    {
     "name": "stderr",
     "output_type": "stream",
     "text": [
      "\r 96%|█████████▋| 110849/114911 [01:36<00:03, 1147.63it/s]"
     ]
    },
    {
     "name": "stderr",
     "output_type": "stream",
     "text": [
      "\r 97%|█████████▋| 110949/114911 [01:36<00:03, 1147.45it/s]"
     ]
    },
    {
     "name": "stderr",
     "output_type": "stream",
     "text": [
      "\r 97%|█████████▋| 111049/114911 [01:36<00:03, 1146.93it/s]"
     ]
    },
    {
     "name": "stderr",
     "output_type": "stream",
     "text": [
      "\r 97%|█████████▋| 111184/114911 [01:36<00:03, 1147.13it/s]"
     ]
    },
    {
     "name": "stderr",
     "output_type": "stream",
     "text": [
      "\r 97%|█████████▋| 111289/114911 [01:37<00:03, 1146.82it/s]"
     ]
    },
    {
     "name": "stderr",
     "output_type": "stream",
     "text": [
      "\r 97%|█████████▋| 111397/114911 [01:37<00:03, 1146.74it/s]"
     ]
    },
    {
     "name": "stderr",
     "output_type": "stream",
     "text": [
      "\r 97%|█████████▋| 111543/114911 [01:37<00:02, 1147.06it/s]"
     ]
    },
    {
     "name": "stderr",
     "output_type": "stream",
     "text": [
      "\r 97%|█████████▋| 111686/114911 [01:37<00:02, 1147.34it/s]"
     ]
    },
    {
     "name": "stderr",
     "output_type": "stream",
     "text": [
      "\r 97%|█████████▋| 111842/114911 [01:37<00:02, 1147.75it/s]"
     ]
    },
    {
     "name": "stderr",
     "output_type": "stream",
     "text": [
      "\r 97%|█████████▋| 111977/114911 [01:37<00:02, 1147.95it/s]"
     ]
    },
    {
     "name": "stderr",
     "output_type": "stream",
     "text": [
      "\r 98%|█████████▊| 112135/114911 [01:37<00:02, 1148.38it/s]"
     ]
    },
    {
     "name": "stderr",
     "output_type": "stream",
     "text": [
      "\r 98%|█████████▊| 112276/114911 [01:37<00:02, 1148.29it/s]"
     ]
    },
    {
     "name": "stderr",
     "output_type": "stream",
     "text": [
      "\r 98%|█████████▊| 112407/114911 [01:37<00:02, 1148.42it/s]"
     ]
    },
    {
     "name": "stderr",
     "output_type": "stream",
     "text": [
      "\r 98%|█████████▊| 112537/114911 [01:37<00:02, 1148.53it/s]"
     ]
    },
    {
     "name": "stderr",
     "output_type": "stream",
     "text": [
      "\r 98%|█████████▊| 112666/114911 [01:38<00:01, 1148.24it/s]"
     ]
    },
    {
     "name": "stderr",
     "output_type": "stream",
     "text": [
      "\r 98%|█████████▊| 112784/114911 [01:38<00:01, 1147.81it/s]"
     ]
    },
    {
     "name": "stderr",
     "output_type": "stream",
     "text": [
      "\r 98%|█████████▊| 112892/114911 [01:38<00:01, 1147.73it/s]"
     ]
    },
    {
     "name": "stderr",
     "output_type": "stream",
     "text": [
      "\r 98%|█████████▊| 113000/114911 [01:38<00:01, 1147.20it/s]"
     ]
    },
    {
     "name": "stderr",
     "output_type": "stream",
     "text": [
      "\r 98%|█████████▊| 113139/114911 [01:38<00:01, 1147.44it/s]"
     ]
    },
    {
     "name": "stderr",
     "output_type": "stream",
     "text": [
      "\r 99%|█████████▊| 113250/114911 [01:38<00:01, 1147.11it/s]"
     ]
    },
    {
     "name": "stderr",
     "output_type": "stream",
     "text": [
      "\r 99%|█████████▊| 113367/114911 [01:38<00:01, 1147.13it/s]"
     ]
    },
    {
     "name": "stderr",
     "output_type": "stream",
     "text": [
      "\r 99%|█████████▉| 113517/114911 [01:38<00:01, 1147.48it/s]"
     ]
    },
    {
     "name": "stderr",
     "output_type": "stream",
     "text": [
      "\r 99%|█████████▉| 113645/114911 [01:39<00:01, 1147.59it/s]"
     ]
    },
    {
     "name": "stderr",
     "output_type": "stream",
     "text": [
      "\r 99%|█████████▉| 113769/114911 [01:39<00:00, 1147.68it/s]"
     ]
    },
    {
     "name": "stderr",
     "output_type": "stream",
     "text": [
      "\r 99%|█████████▉| 113892/114911 [01:39<00:00, 1147.62it/s]"
     ]
    },
    {
     "name": "stderr",
     "output_type": "stream",
     "text": [
      "\r 99%|█████████▉| 114011/114911 [01:39<00:00, 1147.56it/s]"
     ]
    },
    {
     "name": "stderr",
     "output_type": "stream",
     "text": [
      "\r 99%|█████████▉| 114127/114911 [01:39<00:00, 1147.43it/s]"
     ]
    },
    {
     "name": "stderr",
     "output_type": "stream",
     "text": [
      "\r 99%|█████████▉| 114257/114911 [01:39<00:00, 1147.57it/s]"
     ]
    },
    {
     "name": "stderr",
     "output_type": "stream",
     "text": [
      "\r100%|█████████▉| 114388/114911 [01:39<00:00, 1147.73it/s]"
     ]
    },
    {
     "name": "stderr",
     "output_type": "stream",
     "text": [
      "\r100%|█████████▉| 114532/114911 [01:39<00:00, 1148.00it/s]"
     ]
    },
    {
     "name": "stderr",
     "output_type": "stream",
     "text": [
      "\r100%|█████████▉| 114678/114911 [01:39<00:00, 1148.31it/s]"
     ]
    },
    {
     "name": "stderr",
     "output_type": "stream",
     "text": [
      "\r100%|█████████▉| 114811/114911 [01:39<00:00, 1148.13it/s]"
     ]
    },
    {
     "name": "stderr",
     "output_type": "stream",
     "text": [
      "\r100%|██████████| 114911/114911 [01:40<00:00, 1148.02it/s]"
     ]
    },
    {
     "name": "stderr",
     "output_type": "stream",
     "text": [
      "\n"
     ]
    }
   ],
   "source": [
    "tweets = []\n",
    "for ii, (_, tweet) in tqdm(enumerate(negative_tweets.iterrows()), total=len(negative_tweets)):\n",
    "    tweets.append(tweet[3])\n",
    "    tweet_vectors[ii] = tweet_to_vector(tweet[3])\n",
    "for ii, (_, tweet) in tqdm(enumerate(positive_tweets.iterrows()), total=len(positive_tweets)):\n",
    "    tweets.append(tweet[3])\n",
    "    tweet_vectors[ii + len(negative_tweets)] = tweet_to_vector(tweet[3])\n"
   ]
  },
  {
   "cell_type": "code",
   "execution_count": 9,
   "metadata": {},
   "outputs": [],
   "source": [
    "labels = np.append(\n",
    "    np.zeros(len(negative_tweets), dtype=np.int_),\n",
    "    np.ones(len(positive_tweets), dtype=np.int_))\n",
    "\n",
    "X = tweet_vectors\n",
    "y = to_categorical(labels, 2)\n",
    "X_train, X_test, y_train, y_test = train_test_split(X, y, test_size=0.3)\n"
   ]
  },
  {
   "cell_type": "code",
   "execution_count": 11,
   "metadata": {},
   "outputs": [
    {
     "name": "stdout",
     "output_type": "stream",
     "text": [
      "WARNING:tensorflow:From D:\\anaconda3\\envs\\StepicCommentsAnalizer\\lib\\site-packages\\tflearn\\objectives.py:66: calling reduce_sum (from tensorflow.python.ops.math_ops) with keep_dims is deprecated and will be removed in a future version.\nInstructions for updating:\nkeep_dims is deprecated, use keepdims instead\n"
     ]
    },
    {
     "name": "stdout",
     "output_type": "stream",
     "text": [
      "---------------------------------"
     ]
    },
    {
     "name": "stdout",
     "output_type": "stream",
     "text": [
      "\n"
     ]
    },
    {
     "name": "stdout",
     "output_type": "stream",
     "text": [
      "Run id: 9W0PUF"
     ]
    },
    {
     "name": "stdout",
     "output_type": "stream",
     "text": [
      "\n"
     ]
    },
    {
     "name": "stdout",
     "output_type": "stream",
     "text": [
      "Log directory: /tmp/tflearn_logs/"
     ]
    },
    {
     "name": "stdout",
     "output_type": "stream",
     "text": [
      "\n"
     ]
    },
    {
     "name": "stdout",
     "output_type": "stream",
     "text": [
      "INFO:tensorflow:Summary name Accuracy/ (raw) is illegal; using Accuracy/__raw_ instead.\n"
     ]
    },
    {
     "name": "stdout",
     "output_type": "stream",
     "text": [
      "---------------------------------"
     ]
    },
    {
     "name": "stdout",
     "output_type": "stream",
     "text": [
      "\n"
     ]
    },
    {
     "name": "stdout",
     "output_type": "stream",
     "text": [
      "Training samples: 142904"
     ]
    },
    {
     "name": "stdout",
     "output_type": "stream",
     "text": [
      "\n"
     ]
    },
    {
     "name": "stdout",
     "output_type": "stream",
     "text": [
      "Validation samples: 15879"
     ]
    },
    {
     "name": "stdout",
     "output_type": "stream",
     "text": [
      "\n"
     ]
    },
    {
     "name": "stdout",
     "output_type": "stream",
     "text": [
      "--"
     ]
    },
    {
     "name": "stdout",
     "output_type": "stream",
     "text": [
      "\n"
     ]
    },
    {
     "name": "stdout",
     "output_type": "stream",
     "text": [
      "Training Step: 1  | time: 6.405s\n"
     ]
    },
    {
     "name": "stdout",
     "output_type": "stream",
     "text": [
      "\r| SGD | epoch: 001 | loss: 0.00000 - acc: 0.0000 -- iter: 000128/142904\n"
     ]
    },
    {
     "name": "stdout",
     "output_type": "stream",
     "text": [
      "Training Step: 2  | total loss: "
     ]
    },
    {
     "name": "stdout",
     "output_type": "stream",
     "text": [
      "0.62383"
     ]
    },
    {
     "name": "stdout",
     "output_type": "stream",
     "text": [
      " | time: 6.416s\n"
     ]
    },
    {
     "name": "stdout",
     "output_type": "stream",
     "text": [
      "\r| SGD | epoch: 001 | loss: 0.62383 - acc: 0.4289 -- iter: 000256/142904\n"
     ]
    },
    {
     "name": "stdout",
     "output_type": "stream",
     "text": [
      "Training Step: 3  | total loss: "
     ]
    },
    {
     "name": "stdout",
     "output_type": "stream",
     "text": [
      "0.68127"
     ]
    },
    {
     "name": "stdout",
     "output_type": "stream",
     "text": [
      " | time: 6.428s\n"
     ]
    },
    {
     "name": "stdout",
     "output_type": "stream",
     "text": [
      "\r| SGD | epoch: 001 | loss: 0.68127 - acc: 0.4807 -- iter: 000384/142904\n"
     ]
    },
    {
     "name": "stdout",
     "output_type": "stream",
     "text": [
      "Training Step: 4  | total loss: "
     ]
    },
    {
     "name": "stdout",
     "output_type": "stream",
     "text": [
      "0.69038"
     ]
    },
    {
     "name": "stdout",
     "output_type": "stream",
     "text": [
      " | time: 6.442s\n"
     ]
    },
    {
     "name": "stdout",
     "output_type": "stream",
     "text": [
      "\r| SGD | epoch: 001 | loss: 0.69038 - acc: 0.4893 -- iter: 000512/142904\n"
     ]
    },
    {
     "name": "stdout",
     "output_type": "stream",
     "text": [
      "Training Step: 5  | total loss: "
     ]
    },
    {
     "name": "stdout",
     "output_type": "stream",
     "text": [
      "0.69226"
     ]
    },
    {
     "name": "stdout",
     "output_type": "stream",
     "text": [
      " | time: 6.455s\n"
     ]
    },
    {
     "name": "stdout",
     "output_type": "stream",
     "text": [
      "\r| SGD | epoch: 001 | loss: 0.69226 - acc: 0.5021 -- iter: 000640/142904\n"
     ]
    },
    {
     "name": "stdout",
     "output_type": "stream",
     "text": [
      "Training Step: 6  | total loss: "
     ]
    },
    {
     "name": "stdout",
     "output_type": "stream",
     "text": [
      "0.69262"
     ]
    },
    {
     "name": "stdout",
     "output_type": "stream",
     "text": [
      " | time: 6.470s\n"
     ]
    },
    {
     "name": "stdout",
     "output_type": "stream",
     "text": [
      "\r| SGD | epoch: 001 | loss: 0.69262 - acc: 0.5158 -- iter: 000768/142904\n"
     ]
    },
    {
     "name": "stdout",
     "output_type": "stream",
     "text": [
      "Training Step: 7  | total loss: "
     ]
    },
    {
     "name": "stdout",
     "output_type": "stream",
     "text": [
      "0.69331"
     ]
    },
    {
     "name": "stdout",
     "output_type": "stream",
     "text": [
      " | time: 6.484s\n"
     ]
    },
    {
     "name": "stdout",
     "output_type": "stream",
     "text": [
      "\r| SGD | epoch: 001 | loss: 0.69331 - acc: 0.5016 -- iter: 000896/142904\n"
     ]
    },
    {
     "name": "stdout",
     "output_type": "stream",
     "text": [
      "Training Step: 8  | total loss: "
     ]
    },
    {
     "name": "stdout",
     "output_type": "stream",
     "text": [
      "0.69330"
     ]
    },
    {
     "name": "stdout",
     "output_type": "stream",
     "text": [
      " | time: 6.499s\n"
     ]
    },
    {
     "name": "stdout",
     "output_type": "stream",
     "text": [
      "\r| SGD | epoch: 001 | loss: 0.69330 - acc: 0.4963 -- iter: 001024/142904\n"
     ]
    },
    {
     "name": "stdout",
     "output_type": "stream",
     "text": [
      "Training Step: 9  | total loss: "
     ]
    },
    {
     "name": "stdout",
     "output_type": "stream",
     "text": [
      "0.69321"
     ]
    },
    {
     "name": "stdout",
     "output_type": "stream",
     "text": [
      " | time: 6.515s\n"
     ]
    },
    {
     "name": "stdout",
     "output_type": "stream",
     "text": [
      "\r| SGD | epoch: 001 | loss: 0.69321 - acc: 0.5024 -- iter: 001152/142904\n"
     ]
    },
    {
     "name": "stdout",
     "output_type": "stream",
     "text": [
      "Training Step: 10  | total loss: "
     ]
    },
    {
     "name": "stdout",
     "output_type": "stream",
     "text": [
      "0.69283"
     ]
    },
    {
     "name": "stdout",
     "output_type": "stream",
     "text": [
      " | time: 6.530s\n"
     ]
    },
    {
     "name": "stdout",
     "output_type": "stream",
     "text": [
      "\r| SGD | epoch: 001 | loss: 0.69283 - acc: 0.5285 -- iter: 001280/142904\n"
     ]
    },
    {
     "name": "stdout",
     "output_type": "stream",
     "text": [
      "Training Step: 11  | total loss: "
     ]
    },
    {
     "name": "stdout",
     "output_type": "stream",
     "text": [
      "0.69212"
     ]
    },
    {
     "name": "stdout",
     "output_type": "stream",
     "text": [
      " | time: 6.546s\n"
     ]
    },
    {
     "name": "stdout",
     "output_type": "stream",
     "text": [
      "\r| SGD | epoch: 001 | loss: 0.69212 - acc: 0.5298 -- iter: 001408/142904\n"
     ]
    },
    {
     "name": "stdout",
     "output_type": "stream",
     "text": [
      "Training Step: 12  | total loss: "
     ]
    },
    {
     "name": "stdout",
     "output_type": "stream",
     "text": [
      "0.69428"
     ]
    },
    {
     "name": "stdout",
     "output_type": "stream",
     "text": [
      " | time: 6.559s\n"
     ]
    },
    {
     "name": "stdout",
     "output_type": "stream",
     "text": [
      "\r| SGD | epoch: 001 | loss: 0.69428 - acc: 0.5059 -- iter: 001536/142904\n"
     ]
    },
    {
     "name": "stdout",
     "output_type": "stream",
     "text": [
      "Training Step: 13  | total loss: "
     ]
    },
    {
     "name": "stdout",
     "output_type": "stream",
     "text": [
      "0.69423"
     ]
    },
    {
     "name": "stdout",
     "output_type": "stream",
     "text": [
      " | time: 6.571s\n"
     ]
    },
    {
     "name": "stdout",
     "output_type": "stream",
     "text": [
      "\r| SGD | epoch: 001 | loss: 0.69423 - acc: 0.4900 -- iter: 001664/142904\n"
     ]
    },
    {
     "name": "stdout",
     "output_type": "stream",
     "text": [
      "Training Step: 14  | total loss: "
     ]
    },
    {
     "name": "stdout",
     "output_type": "stream",
     "text": [
      "0.69365"
     ]
    },
    {
     "name": "stdout",
     "output_type": "stream",
     "text": [
      " | time: 6.586s\n"
     ]
    },
    {
     "name": "stdout",
     "output_type": "stream",
     "text": [
      "\r| SGD | epoch: 001 | loss: 0.69365 - acc: 0.5005 -- iter: 001792/142904\n"
     ]
    },
    {
     "name": "stdout",
     "output_type": "stream",
     "text": [
      "Training Step: 15  | total loss: "
     ]
    },
    {
     "name": "stdout",
     "output_type": "stream",
     "text": [
      "0.69442"
     ]
    },
    {
     "name": "stdout",
     "output_type": "stream",
     "text": [
      " | time: 6.600s\n"
     ]
    },
    {
     "name": "stdout",
     "output_type": "stream",
     "text": [
      "\r| SGD | epoch: 001 | loss: 0.69442 - acc: 0.4789 -- iter: 001920/142904\n"
     ]
    },
    {
     "name": "stdout",
     "output_type": "stream",
     "text": [
      "Training Step: 16  | total loss: "
     ]
    },
    {
     "name": "stdout",
     "output_type": "stream",
     "text": [
      "0.69443"
     ]
    },
    {
     "name": "stdout",
     "output_type": "stream",
     "text": [
      " | time: 6.614s\n"
     ]
    },
    {
     "name": "stdout",
     "output_type": "stream",
     "text": [
      "\r| SGD | epoch: 001 | loss: 0.69443 - acc: 0.4809 -- iter: 002048/142904\n"
     ]
    },
    {
     "name": "stdout",
     "output_type": "stream",
     "text": [
      "Training Step: 17  | total loss: "
     ]
    },
    {
     "name": "stdout",
     "output_type": "stream",
     "text": [
      "0.69403"
     ]
    },
    {
     "name": "stdout",
     "output_type": "stream",
     "text": [
      " | time: 6.633s\n"
     ]
    },
    {
     "name": "stdout",
     "output_type": "stream",
     "text": [
      "\r| SGD | epoch: 001 | loss: 0.69403 - acc: 0.4822 -- iter: 002176/142904\n"
     ]
    },
    {
     "name": "stdout",
     "output_type": "stream",
     "text": [
      "Training Step: 18  | total loss: "
     ]
    },
    {
     "name": "stdout",
     "output_type": "stream",
     "text": [
      "0.69343"
     ]
    },
    {
     "name": "stdout",
     "output_type": "stream",
     "text": [
      " | time: 6.646s\n"
     ]
    },
    {
     "name": "stdout",
     "output_type": "stream",
     "text": [
      "\r| SGD | epoch: 001 | loss: 0.69343 - acc: 0.5073 -- iter: 002304/142904\n"
     ]
    },
    {
     "name": "stdout",
     "output_type": "stream",
     "text": [
      "Training Step: 19  | total loss: "
     ]
    },
    {
     "name": "stdout",
     "output_type": "stream",
     "text": [
      "0.69249"
     ]
    },
    {
     "name": "stdout",
     "output_type": "stream",
     "text": [
      " | time: 6.660s\n"
     ]
    },
    {
     "name": "stdout",
     "output_type": "stream",
     "text": [
      "\r| SGD | epoch: 001 | loss: 0.69249 - acc: 0.5179 -- iter: 002432/142904\n"
     ]
    },
    {
     "name": "stdout",
     "output_type": "stream",
     "text": [
      "Training Step: 20  | total loss: "
     ]
    },
    {
     "name": "stdout",
     "output_type": "stream",
     "text": [
      "0.69120"
     ]
    },
    {
     "name": "stdout",
     "output_type": "stream",
     "text": [
      " | time: 6.672s\n"
     ]
    },
    {
     "name": "stdout",
     "output_type": "stream",
     "text": [
      "\r| SGD | epoch: 001 | loss: 0.69120 - acc: 0.5297 -- iter: 002560/142904\n"
     ]
    },
    {
     "name": "stdout",
     "output_type": "stream",
     "text": [
      "Training Step: 21  | total loss: "
     ]
    },
    {
     "name": "stdout",
     "output_type": "stream",
     "text": [
      "0.69460"
     ]
    },
    {
     "name": "stdout",
     "output_type": "stream",
     "text": [
      " | time: 6.685s\n"
     ]
    },
    {
     "name": "stdout",
     "output_type": "stream",
     "text": [
      "\r| SGD | epoch: 001 | loss: 0.69460 - acc: 0.5084 -- iter: 002688/142904\n"
     ]
    },
    {
     "name": "stdout",
     "output_type": "stream",
     "text": [
      "Training Step: 22  | total loss: "
     ]
    },
    {
     "name": "stdout",
     "output_type": "stream",
     "text": [
      "0.69350"
     ]
    },
    {
     "name": "stdout",
     "output_type": "stream",
     "text": [
      " | time: 6.698s\n"
     ]
    },
    {
     "name": "stdout",
     "output_type": "stream",
     "text": [
      "\r| SGD | epoch: 001 | loss: 0.69350 - acc: 0.5246 -- iter: 002816/142904\n"
     ]
    },
    {
     "name": "stdout",
     "output_type": "stream",
     "text": [
      "Training Step: 23  | total loss: "
     ]
    },
    {
     "name": "stdout",
     "output_type": "stream",
     "text": [
      "0.69577"
     ]
    },
    {
     "name": "stdout",
     "output_type": "stream",
     "text": [
      " | time: 6.710s\n"
     ]
    },
    {
     "name": "stdout",
     "output_type": "stream",
     "text": [
      "\r| SGD | epoch: 001 | loss: 0.69577 - acc: 0.5016 -- iter: 002944/142904\n"
     ]
    },
    {
     "name": "stdout",
     "output_type": "stream",
     "text": [
      "Training Step: 24  | total loss: "
     ]
    },
    {
     "name": "stdout",
     "output_type": "stream",
     "text": [
      "0.69501"
     ]
    },
    {
     "name": "stdout",
     "output_type": "stream",
     "text": [
      " | time: 6.722s\n"
     ]
    },
    {
     "name": "stdout",
     "output_type": "stream",
     "text": [
      "\r| SGD | epoch: 001 | loss: 0.69501 - acc: 0.5033 -- iter: 003072/142904\n"
     ]
    },
    {
     "name": "stdout",
     "output_type": "stream",
     "text": [
      "Training Step: 25  | total loss: "
     ]
    },
    {
     "name": "stdout",
     "output_type": "stream",
     "text": [
      "0.69462"
     ]
    },
    {
     "name": "stdout",
     "output_type": "stream",
     "text": [
      " | time: 6.736s\n"
     ]
    },
    {
     "name": "stdout",
     "output_type": "stream",
     "text": [
      "\r| SGD | epoch: 001 | loss: 0.69462 - acc: 0.4960 -- iter: 003200/142904\n"
     ]
    },
    {
     "name": "stdout",
     "output_type": "stream",
     "text": [
      "Training Step: 26  | total loss: "
     ]
    },
    {
     "name": "stdout",
     "output_type": "stream",
     "text": [
      "0.69440"
     ]
    },
    {
     "name": "stdout",
     "output_type": "stream",
     "text": [
      " | time: 6.761s\n"
     ]
    },
    {
     "name": "stdout",
     "output_type": "stream",
     "text": [
      "\r| SGD | epoch: 001 | loss: 0.69440 - acc: 0.4909 -- iter: 003328/142904\n"
     ]
    },
    {
     "name": "stdout",
     "output_type": "stream",
     "text": [
      "Training Step: 27  | total loss: "
     ]
    },
    {
     "name": "stdout",
     "output_type": "stream",
     "text": [
      "0.69413"
     ]
    },
    {
     "name": "stdout",
     "output_type": "stream",
     "text": [
      " | time: 6.775s\n"
     ]
    },
    {
     "name": "stdout",
     "output_type": "stream",
     "text": [
      "\r| SGD | epoch: 001 | loss: 0.69413 - acc: 0.4912 -- iter: 003456/142904\n"
     ]
    },
    {
     "name": "stdout",
     "output_type": "stream",
     "text": [
      "Training Step: 28  | total loss: "
     ]
    },
    {
     "name": "stdout",
     "output_type": "stream",
     "text": [
      "0.69388"
     ]
    },
    {
     "name": "stdout",
     "output_type": "stream",
     "text": [
      " | time: 6.790s\n"
     ]
    },
    {
     "name": "stdout",
     "output_type": "stream",
     "text": [
      "\r| SGD | epoch: 001 | loss: 0.69388 - acc: 0.4993 -- iter: 003584/142904\n"
     ]
    },
    {
     "name": "stdout",
     "output_type": "stream",
     "text": [
      "Training Step: 29  | total loss: "
     ]
    },
    {
     "name": "stdout",
     "output_type": "stream",
     "text": [
      "0.69395"
     ]
    },
    {
     "name": "stdout",
     "output_type": "stream",
     "text": [
      " | time: 6.801s\n"
     ]
    },
    {
     "name": "stdout",
     "output_type": "stream",
     "text": [
      "\r| SGD | epoch: 001 | loss: 0.69395 - acc: 0.4956 -- iter: 003712/142904\n"
     ]
    },
    {
     "name": "stdout",
     "output_type": "stream",
     "text": [
      "Training Step: 30  | total loss: "
     ]
    },
    {
     "name": "stdout",
     "output_type": "stream",
     "text": [
      "0.69376"
     ]
    },
    {
     "name": "stdout",
     "output_type": "stream",
     "text": [
      " | time: 6.819s\n"
     ]
    },
    {
     "name": "stdout",
     "output_type": "stream",
     "text": [
      "\r| SGD | epoch: 001 | loss: 0.69376 - acc: 0.4948 -- iter: 003840/142904\n"
     ]
    },
    {
     "name": "stdout",
     "output_type": "stream",
     "text": [
      "Training Step: 31  | total loss: "
     ]
    },
    {
     "name": "stdout",
     "output_type": "stream",
     "text": [
      "0.69372"
     ]
    },
    {
     "name": "stdout",
     "output_type": "stream",
     "text": [
      " | time: 6.830s\n"
     ]
    },
    {
     "name": "stdout",
     "output_type": "stream",
     "text": [
      "\r| SGD | epoch: 001 | loss: 0.69372 - acc: 0.4834 -- iter: 003968/142904\n"
     ]
    },
    {
     "name": "stdout",
     "output_type": "stream",
     "text": [
      "Training Step: 32  | total loss: "
     ]
    },
    {
     "name": "stdout",
     "output_type": "stream",
     "text": [
      "0.69349"
     ]
    },
    {
     "name": "stdout",
     "output_type": "stream",
     "text": [
      " | time: 6.841s\n"
     ]
    },
    {
     "name": "stdout",
     "output_type": "stream",
     "text": [
      "\r| SGD | epoch: 001 | loss: 0.69349 - acc: 0.4907 -- iter: 004096/142904\n"
     ]
    },
    {
     "name": "stdout",
     "output_type": "stream",
     "text": [
      "Training Step: 33  | total loss: "
     ]
    },
    {
     "name": "stdout",
     "output_type": "stream",
     "text": [
      "0.69379"
     ]
    },
    {
     "name": "stdout",
     "output_type": "stream",
     "text": [
      " | time: 6.851s\n"
     ]
    },
    {
     "name": "stdout",
     "output_type": "stream",
     "text": [
      "\r| SGD | epoch: 001 | loss: 0.69379 - acc: 0.4893 -- iter: 004224/142904\n"
     ]
    },
    {
     "name": "stdout",
     "output_type": "stream",
     "text": [
      "Training Step: 34  | total loss: "
     ]
    },
    {
     "name": "stdout",
     "output_type": "stream",
     "text": [
      "0.69360"
     ]
    },
    {
     "name": "stdout",
     "output_type": "stream",
     "text": [
      " | time: 6.865s\n"
     ]
    },
    {
     "name": "stdout",
     "output_type": "stream",
     "text": [
      "\r| SGD | epoch: 001 | loss: 0.69360 - acc: 0.4949 -- iter: 004352/142904\n"
     ]
    },
    {
     "name": "stdout",
     "output_type": "stream",
     "text": [
      "Training Step: 35  | total loss: "
     ]
    },
    {
     "name": "stdout",
     "output_type": "stream",
     "text": [
      "0.69366"
     ]
    },
    {
     "name": "stdout",
     "output_type": "stream",
     "text": [
      " | time: 6.880s\n"
     ]
    },
    {
     "name": "stdout",
     "output_type": "stream",
     "text": [
      "\r| SGD | epoch: 001 | loss: 0.69366 - acc: 0.4927 -- iter: 004480/142904\n"
     ]
    },
    {
     "name": "stdout",
     "output_type": "stream",
     "text": [
      "Training Step: 36  | total loss: "
     ]
    },
    {
     "name": "stdout",
     "output_type": "stream",
     "text": [
      "0.69354"
     ]
    },
    {
     "name": "stdout",
     "output_type": "stream",
     "text": [
      " | time: 6.892s\n"
     ]
    },
    {
     "name": "stdout",
     "output_type": "stream",
     "text": [
      "\r| SGD | epoch: 001 | loss: 0.69354 - acc: 0.4958 -- iter: 004608/142904\n"
     ]
    },
    {
     "name": "stdout",
     "output_type": "stream",
     "text": [
      "Training Step: 37  | total loss: "
     ]
    },
    {
     "name": "stdout",
     "output_type": "stream",
     "text": [
      "0.69346"
     ]
    },
    {
     "name": "stdout",
     "output_type": "stream",
     "text": [
      " | time: 6.906s\n"
     ]
    },
    {
     "name": "stdout",
     "output_type": "stream",
     "text": [
      "\r| SGD | epoch: 001 | loss: 0.69346 - acc: 0.4966 -- iter: 004736/142904\n"
     ]
    },
    {
     "name": "stdout",
     "output_type": "stream",
     "text": [
      "Training Step: 38  | total loss: "
     ]
    },
    {
     "name": "stdout",
     "output_type": "stream",
     "text": [
      "0.69344"
     ]
    },
    {
     "name": "stdout",
     "output_type": "stream",
     "text": [
      " | time: 6.919s\n"
     ]
    },
    {
     "name": "stdout",
     "output_type": "stream",
     "text": [
      "\r| SGD | epoch: 001 | loss: 0.69344 - acc: 0.4927 -- iter: 004864/142904\n"
     ]
    },
    {
     "name": "stdout",
     "output_type": "stream",
     "text": [
      "Training Step: 39  | total loss: "
     ]
    },
    {
     "name": "stdout",
     "output_type": "stream",
     "text": [
      "0.69336"
     ]
    },
    {
     "name": "stdout",
     "output_type": "stream",
     "text": [
      " | time: 6.934s\n"
     ]
    },
    {
     "name": "stdout",
     "output_type": "stream",
     "text": [
      "\r| SGD | epoch: 001 | loss: 0.69336 - acc: 0.4956 -- iter: 004992/142904\n"
     ]
    },
    {
     "name": "stdout",
     "output_type": "stream",
     "text": [
      "Training Step: 40  | total loss: "
     ]
    },
    {
     "name": "stdout",
     "output_type": "stream",
     "text": [
      "0.69312"
     ]
    },
    {
     "name": "stdout",
     "output_type": "stream",
     "text": [
      " | time: 6.948s\n"
     ]
    },
    {
     "name": "stdout",
     "output_type": "stream",
     "text": [
      "\r| SGD | epoch: 001 | loss: 0.69312 - acc: 0.5038 -- iter: 005120/142904\n"
     ]
    },
    {
     "name": "stdout",
     "output_type": "stream",
     "text": [
      "Training Step: 41  | total loss: "
     ]
    },
    {
     "name": "stdout",
     "output_type": "stream",
     "text": [
      "0.69338"
     ]
    },
    {
     "name": "stdout",
     "output_type": "stream",
     "text": [
      " | time: 6.960s\n"
     ]
    },
    {
     "name": "stdout",
     "output_type": "stream",
     "text": [
      "\r| SGD | epoch: 001 | loss: 0.69338 - acc: 0.5016 -- iter: 005248/142904\n"
     ]
    },
    {
     "name": "stdout",
     "output_type": "stream",
     "text": [
      "Training Step: 42  | total loss: "
     ]
    },
    {
     "name": "stdout",
     "output_type": "stream",
     "text": [
      "0.69342"
     ]
    },
    {
     "name": "stdout",
     "output_type": "stream",
     "text": [
      " | time: 6.972s\n"
     ]
    },
    {
     "name": "stdout",
     "output_type": "stream",
     "text": [
      "\r| SGD | epoch: 001 | loss: 0.69342 - acc: 0.4999 -- iter: 005376/142904\n"
     ]
    },
    {
     "name": "stdout",
     "output_type": "stream",
     "text": [
      "Training Step: 43  | total loss: "
     ]
    },
    {
     "name": "stdout",
     "output_type": "stream",
     "text": [
      "0.69329"
     ]
    },
    {
     "name": "stdout",
     "output_type": "stream",
     "text": [
      " | time: 6.985s\n"
     ]
    },
    {
     "name": "stdout",
     "output_type": "stream",
     "text": [
      "\r| SGD | epoch: 001 | loss: 0.69329 - acc: 0.5068 -- iter: 005504/142904\n"
     ]
    },
    {
     "name": "stdout",
     "output_type": "stream",
     "text": [
      "Training Step: 44  | total loss: "
     ]
    },
    {
     "name": "stdout",
     "output_type": "stream",
     "text": [
      "0.69265"
     ]
    },
    {
     "name": "stdout",
     "output_type": "stream",
     "text": [
      " | time: 7.000s\n"
     ]
    },
    {
     "name": "stdout",
     "output_type": "stream",
     "text": [
      "\r| SGD | epoch: 001 | loss: 0.69265 - acc: 0.5165 -- iter: 005632/142904\n"
     ]
    },
    {
     "name": "stdout",
     "output_type": "stream",
     "text": [
      "Training Step: 45  | total loss: "
     ]
    },
    {
     "name": "stdout",
     "output_type": "stream",
     "text": [
      "0.69312"
     ]
    },
    {
     "name": "stdout",
     "output_type": "stream",
     "text": [
      " | time: 7.013s\n"
     ]
    },
    {
     "name": "stdout",
     "output_type": "stream",
     "text": [
      "\r| SGD | epoch: 001 | loss: 0.69312 - acc: 0.5137 -- iter: 005760/142904\n"
     ]
    },
    {
     "name": "stdout",
     "output_type": "stream",
     "text": [
      "Training Step: 46  | total loss: "
     ]
    },
    {
     "name": "stdout",
     "output_type": "stream",
     "text": [
      "0.69305"
     ]
    },
    {
     "name": "stdout",
     "output_type": "stream",
     "text": [
      " | time: 7.026s\n"
     ]
    },
    {
     "name": "stdout",
     "output_type": "stream",
     "text": [
      "\r| SGD | epoch: 001 | loss: 0.69305 - acc: 0.5140 -- iter: 005888/142904\n"
     ]
    },
    {
     "name": "stdout",
     "output_type": "stream",
     "text": [
      "Training Step: 47  | total loss: "
     ]
    },
    {
     "name": "stdout",
     "output_type": "stream",
     "text": [
      "0.69280"
     ]
    },
    {
     "name": "stdout",
     "output_type": "stream",
     "text": [
      " | time: 7.037s\n"
     ]
    },
    {
     "name": "stdout",
     "output_type": "stream",
     "text": [
      "\r| SGD | epoch: 001 | loss: 0.69280 - acc: 0.5168 -- iter: 006016/142904\n"
     ]
    },
    {
     "name": "stdout",
     "output_type": "stream",
     "text": [
      "Training Step: 48  | total loss: "
     ]
    },
    {
     "name": "stdout",
     "output_type": "stream",
     "text": [
      "0.69328"
     ]
    },
    {
     "name": "stdout",
     "output_type": "stream",
     "text": [
      " | time: 7.048s\n"
     ]
    },
    {
     "name": "stdout",
     "output_type": "stream",
     "text": [
      "\r| SGD | epoch: 001 | loss: 0.69328 - acc: 0.5116 -- iter: 006144/142904\n"
     ]
    },
    {
     "name": "stdout",
     "output_type": "stream",
     "text": [
      "Training Step: 49  | total loss: "
     ]
    },
    {
     "name": "stdout",
     "output_type": "stream",
     "text": [
      "0.69337"
     ]
    },
    {
     "name": "stdout",
     "output_type": "stream",
     "text": [
      " | time: 7.060s\n"
     ]
    },
    {
     "name": "stdout",
     "output_type": "stream",
     "text": [
      "\r| SGD | epoch: 001 | loss: 0.69337 - acc: 0.5073 -- iter: 006272/142904\n"
     ]
    },
    {
     "name": "stdout",
     "output_type": "stream",
     "text": [
      "Training Step: 50  | total loss: "
     ]
    },
    {
     "name": "stdout",
     "output_type": "stream",
     "text": [
      "0.69332"
     ]
    },
    {
     "name": "stdout",
     "output_type": "stream",
     "text": [
      " | time: 7.074s\n"
     ]
    },
    {
     "name": "stdout",
     "output_type": "stream",
     "text": [
      "\r| SGD | epoch: 001 | loss: 0.69332 - acc: 0.5122 -- iter: 006400/142904\n"
     ]
    },
    {
     "name": "stdout",
     "output_type": "stream",
     "text": [
      "Training Step: 51  | total loss: "
     ]
    },
    {
     "name": "stdout",
     "output_type": "stream",
     "text": [
      "0.69372"
     ]
    },
    {
     "name": "stdout",
     "output_type": "stream",
     "text": [
      " | time: 7.087s\n"
     ]
    },
    {
     "name": "stdout",
     "output_type": "stream",
     "text": [
      "\r| SGD | epoch: 001 | loss: 0.69372 - acc: 0.5044 -- iter: 006528/142904\n"
     ]
    },
    {
     "name": "stdout",
     "output_type": "stream",
     "text": [
      "Training Step: 52  | total loss: "
     ]
    },
    {
     "name": "stdout",
     "output_type": "stream",
     "text": [
      "0.69339"
     ]
    },
    {
     "name": "stdout",
     "output_type": "stream",
     "text": [
      " | time: 7.101s\n"
     ]
    },
    {
     "name": "stdout",
     "output_type": "stream",
     "text": [
      "\r| SGD | epoch: 001 | loss: 0.69339 - acc: 0.5155 -- iter: 006656/142904\n"
     ]
    },
    {
     "name": "stdout",
     "output_type": "stream",
     "text": [
      "Training Step: 53  | total loss: "
     ]
    },
    {
     "name": "stdout",
     "output_type": "stream",
     "text": [
      "0.69442"
     ]
    },
    {
     "name": "stdout",
     "output_type": "stream",
     "text": [
      " | time: 7.114s\n"
     ]
    },
    {
     "name": "stdout",
     "output_type": "stream",
     "text": [
      "\r| SGD | epoch: 001 | loss: 0.69442 - acc: 0.5074 -- iter: 006784/142904\n"
     ]
    },
    {
     "name": "stdout",
     "output_type": "stream",
     "text": [
      "Training Step: 54  | total loss: "
     ]
    },
    {
     "name": "stdout",
     "output_type": "stream",
     "text": [
      "0.69406"
     ]
    },
    {
     "name": "stdout",
     "output_type": "stream",
     "text": [
      " | time: 7.127s\n"
     ]
    },
    {
     "name": "stdout",
     "output_type": "stream",
     "text": [
      "\r| SGD | epoch: 001 | loss: 0.69406 - acc: 0.5143 -- iter: 006912/142904\n"
     ]
    },
    {
     "name": "stdout",
     "output_type": "stream",
     "text": [
      "Training Step: 55  | total loss: "
     ]
    },
    {
     "name": "stdout",
     "output_type": "stream",
     "text": [
      "0.69356"
     ]
    },
    {
     "name": "stdout",
     "output_type": "stream",
     "text": [
      " | time: 7.138s\n"
     ]
    },
    {
     "name": "stdout",
     "output_type": "stream",
     "text": [
      "\r| SGD | epoch: 001 | loss: 0.69356 - acc: 0.5178 -- iter: 007040/142904\n"
     ]
    },
    {
     "name": "stdout",
     "output_type": "stream",
     "text": [
      "Training Step: 56  | total loss: "
     ]
    },
    {
     "name": "stdout",
     "output_type": "stream",
     "text": [
      "0.69375"
     ]
    },
    {
     "name": "stdout",
     "output_type": "stream",
     "text": [
      " | time: 7.150s\n"
     ]
    },
    {
     "name": "stdout",
     "output_type": "stream",
     "text": [
      "\r| SGD | epoch: 001 | loss: 0.69375 - acc: 0.5153 -- iter: 007168/142904\n"
     ]
    },
    {
     "name": "stdout",
     "output_type": "stream",
     "text": [
      "Training Step: 57  | total loss: "
     ]
    },
    {
     "name": "stdout",
     "output_type": "stream",
     "text": [
      "0.69320"
     ]
    },
    {
     "name": "stdout",
     "output_type": "stream",
     "text": [
      " | time: 7.164s\n"
     ]
    },
    {
     "name": "stdout",
     "output_type": "stream",
     "text": [
      "\r| SGD | epoch: 001 | loss: 0.69320 - acc: 0.5208 -- iter: 007296/142904\n"
     ]
    },
    {
     "name": "stdout",
     "output_type": "stream",
     "text": [
      "Training Step: 58  | total loss: "
     ]
    },
    {
     "name": "stdout",
     "output_type": "stream",
     "text": [
      "0.69388"
     ]
    },
    {
     "name": "stdout",
     "output_type": "stream",
     "text": [
      " | time: 7.177s\n"
     ]
    },
    {
     "name": "stdout",
     "output_type": "stream",
     "text": [
      "\r| SGD | epoch: 001 | loss: 0.69388 - acc: 0.5147 -- iter: 007424/142904\n"
     ]
    },
    {
     "name": "stdout",
     "output_type": "stream",
     "text": [
      "Training Step: 59  | total loss: "
     ]
    },
    {
     "name": "stdout",
     "output_type": "stream",
     "text": [
      "0.69400"
     ]
    },
    {
     "name": "stdout",
     "output_type": "stream",
     "text": [
      " | time: 7.189s\n"
     ]
    },
    {
     "name": "stdout",
     "output_type": "stream",
     "text": [
      "\r| SGD | epoch: 001 | loss: 0.69400 - acc: 0.5086 -- iter: 007552/142904\n"
     ]
    },
    {
     "name": "stdout",
     "output_type": "stream",
     "text": [
      "Training Step: 60  | total loss: "
     ]
    },
    {
     "name": "stdout",
     "output_type": "stream",
     "text": [
      "0.69381"
     ]
    },
    {
     "name": "stdout",
     "output_type": "stream",
     "text": [
      " | time: 7.200s\n"
     ]
    },
    {
     "name": "stdout",
     "output_type": "stream",
     "text": [
      "\r| SGD | epoch: 001 | loss: 0.69381 - acc: 0.5116 -- iter: 007680/142904\n"
     ]
    },
    {
     "name": "stdout",
     "output_type": "stream",
     "text": [
      "Training Step: 61  | total loss: "
     ]
    },
    {
     "name": "stdout",
     "output_type": "stream",
     "text": [
      "0.69390"
     ]
    },
    {
     "name": "stdout",
     "output_type": "stream",
     "text": [
      " | time: 7.215s\n"
     ]
    },
    {
     "name": "stdout",
     "output_type": "stream",
     "text": [
      "\r| SGD | epoch: 001 | loss: 0.69390 - acc: 0.5080 -- iter: 007808/142904\n"
     ]
    },
    {
     "name": "stdout",
     "output_type": "stream",
     "text": [
      "Training Step: 62  | total loss: "
     ]
    },
    {
     "name": "stdout",
     "output_type": "stream",
     "text": [
      "0.69379"
     ]
    },
    {
     "name": "stdout",
     "output_type": "stream",
     "text": [
      " | time: 7.227s\n"
     ]
    },
    {
     "name": "stdout",
     "output_type": "stream",
     "text": [
      "\r| SGD | epoch: 001 | loss: 0.69379 - acc: 0.5080 -- iter: 007936/142904\n"
     ]
    },
    {
     "name": "stdout",
     "output_type": "stream",
     "text": [
      "Training Step: 63  | total loss: "
     ]
    },
    {
     "name": "stdout",
     "output_type": "stream",
     "text": [
      "0.69354"
     ]
    },
    {
     "name": "stdout",
     "output_type": "stream",
     "text": [
      " | time: 7.241s\n"
     ]
    },
    {
     "name": "stdout",
     "output_type": "stream",
     "text": [
      "\r| SGD | epoch: 001 | loss: 0.69354 - acc: 0.5159 -- iter: 008064/142904\n"
     ]
    },
    {
     "name": "stdout",
     "output_type": "stream",
     "text": [
      "Training Step: 64  | total loss: "
     ]
    },
    {
     "name": "stdout",
     "output_type": "stream",
     "text": [
      "0.69428"
     ]
    },
    {
     "name": "stdout",
     "output_type": "stream",
     "text": [
      " | time: 7.253s\n"
     ]
    },
    {
     "name": "stdout",
     "output_type": "stream",
     "text": [
      "\r| SGD | epoch: 001 | loss: 0.69428 - acc: 0.5090 -- iter: 008192/142904\n"
     ]
    },
    {
     "name": "stdout",
     "output_type": "stream",
     "text": [
      "Training Step: 65  | total loss: "
     ]
    },
    {
     "name": "stdout",
     "output_type": "stream",
     "text": [
      "0.69429"
     ]
    },
    {
     "name": "stdout",
     "output_type": "stream",
     "text": [
      " | time: 7.267s\n"
     ]
    },
    {
     "name": "stdout",
     "output_type": "stream",
     "text": [
      "\r| SGD | epoch: 001 | loss: 0.69429 - acc: 0.4983 -- iter: 008320/142904\n"
     ]
    },
    {
     "name": "stdout",
     "output_type": "stream",
     "text": [
      "Training Step: 66  | total loss: "
     ]
    },
    {
     "name": "stdout",
     "output_type": "stream",
     "text": [
      "0.69351"
     ]
    },
    {
     "name": "stdout",
     "output_type": "stream",
     "text": [
      " | time: 7.279s\n"
     ]
    },
    {
     "name": "stdout",
     "output_type": "stream",
     "text": [
      "\r| SGD | epoch: 001 | loss: 0.69351 - acc: 0.5061 -- iter: 008448/142904\n"
     ]
    },
    {
     "name": "stdout",
     "output_type": "stream",
     "text": [
      "Training Step: 67  | total loss: "
     ]
    },
    {
     "name": "stdout",
     "output_type": "stream",
     "text": [
      "0.69385"
     ]
    },
    {
     "name": "stdout",
     "output_type": "stream",
     "text": [
      " | time: 7.292s\n"
     ]
    },
    {
     "name": "stdout",
     "output_type": "stream",
     "text": [
      "\r| SGD | epoch: 001 | loss: 0.69385 - acc: 0.5054 -- iter: 008576/142904\n"
     ]
    },
    {
     "name": "stdout",
     "output_type": "stream",
     "text": [
      "Training Step: 68  | total loss: "
     ]
    },
    {
     "name": "stdout",
     "output_type": "stream",
     "text": [
      "0.69355"
     ]
    },
    {
     "name": "stdout",
     "output_type": "stream",
     "text": [
      " | time: 7.304s\n"
     ]
    },
    {
     "name": "stdout",
     "output_type": "stream",
     "text": [
      "\r| SGD | epoch: 001 | loss: 0.69355 - acc: 0.5084 -- iter: 008704/142904\n"
     ]
    },
    {
     "name": "stdout",
     "output_type": "stream",
     "text": [
      "Training Step: 69  | total loss: "
     ]
    },
    {
     "name": "stdout",
     "output_type": "stream",
     "text": [
      "0.69388"
     ]
    },
    {
     "name": "stdout",
     "output_type": "stream",
     "text": [
      " | time: 7.318s\n"
     ]
    },
    {
     "name": "stdout",
     "output_type": "stream",
     "text": [
      "\r| SGD | epoch: 001 | loss: 0.69388 - acc: 0.5056 -- iter: 008832/142904\n"
     ]
    },
    {
     "name": "stdout",
     "output_type": "stream",
     "text": [
      "Training Step: 70  | total loss: "
     ]
    },
    {
     "name": "stdout",
     "output_type": "stream",
     "text": [
      "0.69362"
     ]
    },
    {
     "name": "stdout",
     "output_type": "stream",
     "text": [
      " | time: 7.331s\n"
     ]
    },
    {
     "name": "stdout",
     "output_type": "stream",
     "text": [
      "\r| SGD | epoch: 001 | loss: 0.69362 - acc: 0.5095 -- iter: 008960/142904\n"
     ]
    },
    {
     "name": "stdout",
     "output_type": "stream",
     "text": [
      "Training Step: 71  | total loss: "
     ]
    },
    {
     "name": "stdout",
     "output_type": "stream",
     "text": [
      "0.69398"
     ]
    },
    {
     "name": "stdout",
     "output_type": "stream",
     "text": [
      " | time: 7.345s\n"
     ]
    },
    {
     "name": "stdout",
     "output_type": "stream",
     "text": [
      "\r| SGD | epoch: 001 | loss: 0.69398 - acc: 0.5048 -- iter: 009088/142904\n"
     ]
    },
    {
     "name": "stdout",
     "output_type": "stream",
     "text": [
      "Training Step: 72  | total loss: "
     ]
    },
    {
     "name": "stdout",
     "output_type": "stream",
     "text": [
      "0.69384"
     ]
    },
    {
     "name": "stdout",
     "output_type": "stream",
     "text": [
      " | time: 7.357s\n"
     ]
    },
    {
     "name": "stdout",
     "output_type": "stream",
     "text": [
      "\r| SGD | epoch: 001 | loss: 0.69384 - acc: 0.5104 -- iter: 009216/142904\n"
     ]
    },
    {
     "name": "stdout",
     "output_type": "stream",
     "text": [
      "Training Step: 73  | total loss: "
     ]
    },
    {
     "name": "stdout",
     "output_type": "stream",
     "text": [
      "0.69342"
     ]
    },
    {
     "name": "stdout",
     "output_type": "stream",
     "text": [
      " | time: 7.371s\n"
     ]
    },
    {
     "name": "stdout",
     "output_type": "stream",
     "text": [
      "\r| SGD | epoch: 001 | loss: 0.69342 - acc: 0.5145 -- iter: 009344/142904\n"
     ]
    },
    {
     "name": "stdout",
     "output_type": "stream",
     "text": [
      "Training Step: 74  | total loss: "
     ]
    },
    {
     "name": "stdout",
     "output_type": "stream",
     "text": [
      "0.69307"
     ]
    },
    {
     "name": "stdout",
     "output_type": "stream",
     "text": [
      " | time: 7.384s\n"
     ]
    },
    {
     "name": "stdout",
     "output_type": "stream",
     "text": [
      "\r| SGD | epoch: 001 | loss: 0.69307 - acc: 0.5172 -- iter: 009472/142904\n"
     ]
    },
    {
     "name": "stdout",
     "output_type": "stream",
     "text": [
      "Training Step: 75  | total loss: "
     ]
    },
    {
     "name": "stdout",
     "output_type": "stream",
     "text": [
      "0.69333"
     ]
    },
    {
     "name": "stdout",
     "output_type": "stream",
     "text": [
      " | time: 7.397s\n"
     ]
    },
    {
     "name": "stdout",
     "output_type": "stream",
     "text": [
      "\r| SGD | epoch: 001 | loss: 0.69333 - acc: 0.5153 -- iter: 009600/142904\n"
     ]
    },
    {
     "name": "stdout",
     "output_type": "stream",
     "text": [
      "Training Step: 76  | total loss: "
     ]
    },
    {
     "name": "stdout",
     "output_type": "stream",
     "text": [
      "0.69269"
     ]
    },
    {
     "name": "stdout",
     "output_type": "stream",
     "text": [
      " | time: 7.409s\n"
     ]
    },
    {
     "name": "stdout",
     "output_type": "stream",
     "text": [
      "\r| SGD | epoch: 001 | loss: 0.69269 - acc: 0.5221 -- iter: 009728/142904\n"
     ]
    },
    {
     "name": "stdout",
     "output_type": "stream",
     "text": [
      "Training Step: 77  | total loss: "
     ]
    },
    {
     "name": "stdout",
     "output_type": "stream",
     "text": [
      "0.69524"
     ]
    },
    {
     "name": "stdout",
     "output_type": "stream",
     "text": [
      " | time: 7.423s\n"
     ]
    },
    {
     "name": "stdout",
     "output_type": "stream",
     "text": [
      "\r| SGD | epoch: 001 | loss: 0.69524 - acc: 0.5073 -- iter: 009856/142904\n"
     ]
    },
    {
     "name": "stdout",
     "output_type": "stream",
     "text": [
      "Training Step: 78  | total loss: "
     ]
    },
    {
     "name": "stdout",
     "output_type": "stream",
     "text": [
      "0.69526"
     ]
    },
    {
     "name": "stdout",
     "output_type": "stream",
     "text": [
      " | time: 7.437s\n"
     ]
    },
    {
     "name": "stdout",
     "output_type": "stream",
     "text": [
      "\r| SGD | epoch: 001 | loss: 0.69526 - acc: 0.5041 -- iter: 009984/142904\n"
     ]
    },
    {
     "name": "stdout",
     "output_type": "stream",
     "text": [
      "Training Step: 79  | total loss: "
     ]
    },
    {
     "name": "stdout",
     "output_type": "stream",
     "text": [
      "0.69504"
     ]
    },
    {
     "name": "stdout",
     "output_type": "stream",
     "text": [
      " | time: 7.450s\n"
     ]
    },
    {
     "name": "stdout",
     "output_type": "stream",
     "text": [
      "\r| SGD | epoch: 001 | loss: 0.69504 - acc: 0.5037 -- iter: 010112/142904\n"
     ]
    },
    {
     "name": "stdout",
     "output_type": "stream",
     "text": [
      "Training Step: 80  | total loss: "
     ]
    },
    {
     "name": "stdout",
     "output_type": "stream",
     "text": [
      "0.69482"
     ]
    },
    {
     "name": "stdout",
     "output_type": "stream",
     "text": [
      " | time: 7.464s\n"
     ]
    },
    {
     "name": "stdout",
     "output_type": "stream",
     "text": [
      "\r| SGD | epoch: 001 | loss: 0.69482 - acc: 0.5097 -- iter: 010240/142904\n"
     ]
    },
    {
     "name": "stdout",
     "output_type": "stream",
     "text": [
      "Training Step: 81  | total loss: "
     ]
    },
    {
     "name": "stdout",
     "output_type": "stream",
     "text": [
      "0.69499"
     ]
    },
    {
     "name": "stdout",
     "output_type": "stream",
     "text": [
      " | time: 7.478s\n"
     ]
    },
    {
     "name": "stdout",
     "output_type": "stream",
     "text": [
      "\r| SGD | epoch: 001 | loss: 0.69499 - acc: 0.5063 -- iter: 010368/142904\n"
     ]
    },
    {
     "name": "stdout",
     "output_type": "stream",
     "text": [
      "Training Step: 82  | total loss: "
     ]
    },
    {
     "name": "stdout",
     "output_type": "stream",
     "text": [
      "0.69492"
     ]
    },
    {
     "name": "stdout",
     "output_type": "stream",
     "text": [
      " | time: 7.492s\n"
     ]
    },
    {
     "name": "stdout",
     "output_type": "stream",
     "text": [
      "\r| SGD | epoch: 001 | loss: 0.69492 - acc: 0.5018 -- iter: 010496/142904\n"
     ]
    },
    {
     "name": "stdout",
     "output_type": "stream",
     "text": [
      "Training Step: 83  | total loss: "
     ]
    },
    {
     "name": "stdout",
     "output_type": "stream",
     "text": [
      "0.69493"
     ]
    },
    {
     "name": "stdout",
     "output_type": "stream",
     "text": [
      " | time: 7.507s\n"
     ]
    },
    {
     "name": "stdout",
     "output_type": "stream",
     "text": [
      "\r| SGD | epoch: 001 | loss: 0.69493 - acc: 0.4977 -- iter: 010624/142904\n"
     ]
    },
    {
     "name": "stdout",
     "output_type": "stream",
     "text": [
      "Training Step: 84  | total loss: "
     ]
    },
    {
     "name": "stdout",
     "output_type": "stream",
     "text": [
      "0.69461"
     ]
    },
    {
     "name": "stdout",
     "output_type": "stream",
     "text": [
      " | time: 7.525s\n"
     ]
    },
    {
     "name": "stdout",
     "output_type": "stream",
     "text": [
      "\r| SGD | epoch: 001 | loss: 0.69461 - acc: 0.5026 -- iter: 010752/142904\n"
     ]
    },
    {
     "name": "stdout",
     "output_type": "stream",
     "text": [
      "Training Step: 85  | total loss: "
     ]
    },
    {
     "name": "stdout",
     "output_type": "stream",
     "text": [
      "0.69450"
     ]
    },
    {
     "name": "stdout",
     "output_type": "stream",
     "text": [
      " | time: 7.539s\n"
     ]
    },
    {
     "name": "stdout",
     "output_type": "stream",
     "text": [
      "\r| SGD | epoch: 001 | loss: 0.69450 - acc: 0.5031 -- iter: 010880/142904\n"
     ]
    },
    {
     "name": "stdout",
     "output_type": "stream",
     "text": [
      "Training Step: 86  | total loss: "
     ]
    },
    {
     "name": "stdout",
     "output_type": "stream",
     "text": [
      "0.69436"
     ]
    },
    {
     "name": "stdout",
     "output_type": "stream",
     "text": [
      " | time: 7.555s\n"
     ]
    },
    {
     "name": "stdout",
     "output_type": "stream",
     "text": [
      "\r| SGD | epoch: 001 | loss: 0.69436 - acc: 0.5036 -- iter: 011008/142904\n"
     ]
    },
    {
     "name": "stdout",
     "output_type": "stream",
     "text": [
      "Training Step: 87  | total loss: "
     ]
    },
    {
     "name": "stdout",
     "output_type": "stream",
     "text": [
      "0.69436"
     ]
    },
    {
     "name": "stdout",
     "output_type": "stream",
     "text": [
      " | time: 7.568s\n"
     ]
    },
    {
     "name": "stdout",
     "output_type": "stream",
     "text": [
      "\r| SGD | epoch: 001 | loss: 0.69436 - acc: 0.5017 -- iter: 011136/142904\n"
     ]
    },
    {
     "name": "stdout",
     "output_type": "stream",
     "text": [
      "Training Step: 88  | total loss: "
     ]
    },
    {
     "name": "stdout",
     "output_type": "stream",
     "text": [
      "0.69412"
     ]
    },
    {
     "name": "stdout",
     "output_type": "stream",
     "text": [
      " | time: 7.583s\n"
     ]
    },
    {
     "name": "stdout",
     "output_type": "stream",
     "text": [
      "\r| SGD | epoch: 001 | loss: 0.69412 - acc: 0.5132 -- iter: 011264/142904\n"
     ]
    },
    {
     "name": "stdout",
     "output_type": "stream",
     "text": [
      "Training Step: 89  | total loss: "
     ]
    },
    {
     "name": "stdout",
     "output_type": "stream",
     "text": [
      "0.69243"
     ]
    },
    {
     "name": "stdout",
     "output_type": "stream",
     "text": [
      " | time: 7.596s\n"
     ]
    },
    {
     "name": "stdout",
     "output_type": "stream",
     "text": [
      "\r| SGD | epoch: 001 | loss: 0.69243 - acc: 0.5229 -- iter: 011392/142904\n"
     ]
    },
    {
     "name": "stdout",
     "output_type": "stream",
     "text": [
      "Training Step: 90  | total loss: "
     ]
    },
    {
     "name": "stdout",
     "output_type": "stream",
     "text": [
      "0.69347"
     ]
    },
    {
     "name": "stdout",
     "output_type": "stream",
     "text": [
      " | time: 7.611s\n"
     ]
    },
    {
     "name": "stdout",
     "output_type": "stream",
     "text": [
      "\r| SGD | epoch: 001 | loss: 0.69347 - acc: 0.5206 -- iter: 011520/142904\n"
     ]
    },
    {
     "name": "stdout",
     "output_type": "stream",
     "text": [
      "Training Step: 91  | total loss: "
     ]
    },
    {
     "name": "stdout",
     "output_type": "stream",
     "text": [
      "0.69313"
     ]
    },
    {
     "name": "stdout",
     "output_type": "stream",
     "text": [
      " | time: 7.623s\n"
     ]
    },
    {
     "name": "stdout",
     "output_type": "stream",
     "text": [
      "\r| SGD | epoch: 001 | loss: 0.69313 - acc: 0.5224 -- iter: 011648/142904\n"
     ]
    },
    {
     "name": "stdout",
     "output_type": "stream",
     "text": [
      "Training Step: 92  | total loss: "
     ]
    },
    {
     "name": "stdout",
     "output_type": "stream",
     "text": [
      "0.69375"
     ]
    },
    {
     "name": "stdout",
     "output_type": "stream",
     "text": [
      " | time: 7.638s\n"
     ]
    },
    {
     "name": "stdout",
     "output_type": "stream",
     "text": [
      "\r| SGD | epoch: 001 | loss: 0.69375 - acc: 0.5186 -- iter: 011776/142904\n"
     ]
    },
    {
     "name": "stdout",
     "output_type": "stream",
     "text": [
      "Training Step: 93  | total loss: "
     ]
    },
    {
     "name": "stdout",
     "output_type": "stream",
     "text": [
      "0.69434"
     ]
    },
    {
     "name": "stdout",
     "output_type": "stream",
     "text": [
      " | time: 7.651s\n"
     ]
    },
    {
     "name": "stdout",
     "output_type": "stream",
     "text": [
      "\r| SGD | epoch: 001 | loss: 0.69434 - acc: 0.5097 -- iter: 011904/142904\n"
     ]
    },
    {
     "name": "stdout",
     "output_type": "stream",
     "text": [
      "Training Step: 94  | total loss: "
     ]
    },
    {
     "name": "stdout",
     "output_type": "stream",
     "text": [
      "0.69451"
     ]
    },
    {
     "name": "stdout",
     "output_type": "stream",
     "text": [
      " | time: 7.666s\n"
     ]
    },
    {
     "name": "stdout",
     "output_type": "stream",
     "text": [
      "\r| SGD | epoch: 001 | loss: 0.69451 - acc: 0.5041 -- iter: 012032/142904\n"
     ]
    },
    {
     "name": "stdout",
     "output_type": "stream",
     "text": [
      "Training Step: 95  | total loss: "
     ]
    },
    {
     "name": "stdout",
     "output_type": "stream",
     "text": [
      "0.69425"
     ]
    },
    {
     "name": "stdout",
     "output_type": "stream",
     "text": [
      " | time: 7.679s\n"
     ]
    },
    {
     "name": "stdout",
     "output_type": "stream",
     "text": [
      "\r| SGD | epoch: 001 | loss: 0.69425 - acc: 0.5076 -- iter: 012160/142904\n"
     ]
    },
    {
     "name": "stdout",
     "output_type": "stream",
     "text": [
      "Training Step: 96  | total loss: "
     ]
    },
    {
     "name": "stdout",
     "output_type": "stream",
     "text": [
      "0.69435"
     ]
    },
    {
     "name": "stdout",
     "output_type": "stream",
     "text": [
      " | time: 7.693s\n"
     ]
    },
    {
     "name": "stdout",
     "output_type": "stream",
     "text": [
      "\r| SGD | epoch: 001 | loss: 0.69435 - acc: 0.5052 -- iter: 012288/142904\n"
     ]
    },
    {
     "name": "stdout",
     "output_type": "stream",
     "text": [
      "Training Step: 97  | total loss: "
     ]
    },
    {
     "name": "stdout",
     "output_type": "stream",
     "text": [
      "0.69432"
     ]
    },
    {
     "name": "stdout",
     "output_type": "stream",
     "text": [
      " | time: 7.705s\n"
     ]
    },
    {
     "name": "stdout",
     "output_type": "stream",
     "text": [
      "\r| SGD | epoch: 001 | loss: 0.69432 - acc: 0.5016 -- iter: 012416/142904\n"
     ]
    },
    {
     "name": "stdout",
     "output_type": "stream",
     "text": [
      "Training Step: 98  | total loss: "
     ]
    },
    {
     "name": "stdout",
     "output_type": "stream",
     "text": [
      "0.69435"
     ]
    },
    {
     "name": "stdout",
     "output_type": "stream",
     "text": [
      " | time: 7.720s\n"
     ]
    },
    {
     "name": "stdout",
     "output_type": "stream",
     "text": [
      "\r| SGD | epoch: 001 | loss: 0.69435 - acc: 0.4967 -- iter: 012544/142904\n"
     ]
    },
    {
     "name": "stdout",
     "output_type": "stream",
     "text": [
      "Training Step: 99  | total loss: "
     ]
    },
    {
     "name": "stdout",
     "output_type": "stream",
     "text": [
      "0.69435"
     ]
    },
    {
     "name": "stdout",
     "output_type": "stream",
     "text": [
      " | time: 7.734s\n"
     ]
    },
    {
     "name": "stdout",
     "output_type": "stream",
     "text": [
      "\r| SGD | epoch: 001 | loss: 0.69435 - acc: 0.4955 -- iter: 012672/142904\n"
     ]
    },
    {
     "name": "stdout",
     "output_type": "stream",
     "text": [
      "Training Step: 100  | total loss: "
     ]
    },
    {
     "name": "stdout",
     "output_type": "stream",
     "text": [
      "0.69418"
     ]
    },
    {
     "name": "stdout",
     "output_type": "stream",
     "text": [
      " | time: 7.748s\n"
     ]
    },
    {
     "name": "stdout",
     "output_type": "stream",
     "text": [
      "\r| SGD | epoch: 001 | loss: 0.69418 - acc: 0.5006 -- iter: 012800/142904\n"
     ]
    },
    {
     "name": "stdout",
     "output_type": "stream",
     "text": [
      "Training Step: 101  | total loss: "
     ]
    },
    {
     "name": "stdout",
     "output_type": "stream",
     "text": [
      "0.69344"
     ]
    },
    {
     "name": "stdout",
     "output_type": "stream",
     "text": [
      " | time: 7.760s\n"
     ]
    },
    {
     "name": "stdout",
     "output_type": "stream",
     "text": [
      "\r| SGD | epoch: 001 | loss: 0.69344 - acc: 0.5100 -- iter: 012928/142904\n"
     ]
    },
    {
     "name": "stdout",
     "output_type": "stream",
     "text": [
      "Training Step: 102  | total loss: "
     ]
    },
    {
     "name": "stdout",
     "output_type": "stream",
     "text": [
      "0.69414"
     ]
    },
    {
     "name": "stdout",
     "output_type": "stream",
     "text": [
      " | time: 7.773s\n"
     ]
    },
    {
     "name": "stdout",
     "output_type": "stream",
     "text": [
      "\r| SGD | epoch: 001 | loss: 0.69414 - acc: 0.5074 -- iter: 013056/142904\n"
     ]
    },
    {
     "name": "stdout",
     "output_type": "stream",
     "text": [
      "Training Step: 103  | total loss: "
     ]
    },
    {
     "name": "stdout",
     "output_type": "stream",
     "text": [
      "0.69342"
     ]
    },
    {
     "name": "stdout",
     "output_type": "stream",
     "text": [
      " | time: 7.787s\n"
     ]
    },
    {
     "name": "stdout",
     "output_type": "stream",
     "text": [
      "\r| SGD | epoch: 001 | loss: 0.69342 - acc: 0.5145 -- iter: 013184/142904\n"
     ]
    },
    {
     "name": "stdout",
     "output_type": "stream",
     "text": [
      "Training Step: 104  | total loss: "
     ]
    },
    {
     "name": "stdout",
     "output_type": "stream",
     "text": [
      "0.69433"
     ]
    },
    {
     "name": "stdout",
     "output_type": "stream",
     "text": [
      " | time: 7.798s\n"
     ]
    },
    {
     "name": "stdout",
     "output_type": "stream",
     "text": [
      "\r| SGD | epoch: 001 | loss: 0.69433 - acc: 0.5099 -- iter: 013312/142904\n"
     ]
    },
    {
     "name": "stdout",
     "output_type": "stream",
     "text": [
      "Training Step: 105  | total loss: "
     ]
    },
    {
     "name": "stdout",
     "output_type": "stream",
     "text": [
      "0.69441"
     ]
    },
    {
     "name": "stdout",
     "output_type": "stream",
     "text": [
      " | time: 7.813s\n"
     ]
    },
    {
     "name": "stdout",
     "output_type": "stream",
     "text": [
      "\r| SGD | epoch: 001 | loss: 0.69441 - acc: 0.5066 -- iter: 013440/142904\n"
     ]
    },
    {
     "name": "stdout",
     "output_type": "stream",
     "text": [
      "Training Step: 106  | total loss: "
     ]
    },
    {
     "name": "stdout",
     "output_type": "stream",
     "text": [
      "0.69428"
     ]
    },
    {
     "name": "stdout",
     "output_type": "stream",
     "text": [
      " | time: 7.825s\n"
     ]
    },
    {
     "name": "stdout",
     "output_type": "stream",
     "text": [
      "\r| SGD | epoch: 001 | loss: 0.69428 - acc: 0.5051 -- iter: 013568/142904\n"
     ]
    },
    {
     "name": "stdout",
     "output_type": "stream",
     "text": [
      "Training Step: 107  | total loss: "
     ]
    },
    {
     "name": "stdout",
     "output_type": "stream",
     "text": [
      "0.69415"
     ]
    },
    {
     "name": "stdout",
     "output_type": "stream",
     "text": [
      " | time: 7.838s\n"
     ]
    },
    {
     "name": "stdout",
     "output_type": "stream",
     "text": [
      "\r| SGD | epoch: 001 | loss: 0.69415 - acc: 0.5062 -- iter: 013696/142904\n"
     ]
    },
    {
     "name": "stdout",
     "output_type": "stream",
     "text": [
      "Training Step: 108  | total loss: "
     ]
    },
    {
     "name": "stdout",
     "output_type": "stream",
     "text": [
      "0.69415"
     ]
    },
    {
     "name": "stdout",
     "output_type": "stream",
     "text": [
      " | time: 7.852s\n"
     ]
    },
    {
     "name": "stdout",
     "output_type": "stream",
     "text": [
      "\r| SGD | epoch: 001 | loss: 0.69415 - acc: 0.5024 -- iter: 013824/142904\n"
     ]
    },
    {
     "name": "stdout",
     "output_type": "stream",
     "text": [
      "Training Step: 109  | total loss: "
     ]
    },
    {
     "name": "stdout",
     "output_type": "stream",
     "text": [
      "0.69430"
     ]
    },
    {
     "name": "stdout",
     "output_type": "stream",
     "text": [
      " | time: 7.865s\n"
     ]
    },
    {
     "name": "stdout",
     "output_type": "stream",
     "text": [
      "\r| SGD | epoch: 001 | loss: 0.69430 - acc: 0.4936 -- iter: 013952/142904\n"
     ]
    },
    {
     "name": "stdout",
     "output_type": "stream",
     "text": [
      "Training Step: 110  | total loss: "
     ]
    },
    {
     "name": "stdout",
     "output_type": "stream",
     "text": [
      "0.69504"
     ]
    },
    {
     "name": "stdout",
     "output_type": "stream",
     "text": [
      " | time: 7.879s\n"
     ]
    },
    {
     "name": "stdout",
     "output_type": "stream",
     "text": [
      "\r| SGD | epoch: 001 | loss: 0.69504 - acc: 0.4880 -- iter: 014080/142904\n"
     ]
    },
    {
     "name": "stdout",
     "output_type": "stream",
     "text": [
      "Training Step: 111  | total loss: "
     ]
    },
    {
     "name": "stdout",
     "output_type": "stream",
     "text": [
      "0.69489"
     ]
    },
    {
     "name": "stdout",
     "output_type": "stream",
     "text": [
      " | time: 7.891s\n"
     ]
    },
    {
     "name": "stdout",
     "output_type": "stream",
     "text": [
      "\r| SGD | epoch: 001 | loss: 0.69489 - acc: 0.4876 -- iter: 014208/142904\n"
     ]
    },
    {
     "name": "stdout",
     "output_type": "stream",
     "text": [
      "Training Step: 112  | total loss: "
     ]
    },
    {
     "name": "stdout",
     "output_type": "stream",
     "text": [
      "0.69469"
     ]
    },
    {
     "name": "stdout",
     "output_type": "stream",
     "text": [
      " | time: 7.904s\n"
     ]
    },
    {
     "name": "stdout",
     "output_type": "stream",
     "text": [
      "\r| SGD | epoch: 001 | loss: 0.69469 - acc: 0.4912 -- iter: 014336/142904\n"
     ]
    },
    {
     "name": "stdout",
     "output_type": "stream",
     "text": [
      "Training Step: 113  | total loss: "
     ]
    },
    {
     "name": "stdout",
     "output_type": "stream",
     "text": [
      "0.69455"
     ]
    },
    {
     "name": "stdout",
     "output_type": "stream",
     "text": [
      " | time: 7.915s\n"
     ]
    },
    {
     "name": "stdout",
     "output_type": "stream",
     "text": [
      "\r| SGD | epoch: 001 | loss: 0.69455 - acc: 0.4921 -- iter: 014464/142904\n"
     ]
    },
    {
     "name": "stdout",
     "output_type": "stream",
     "text": [
      "Training Step: 114  | total loss: "
     ]
    },
    {
     "name": "stdout",
     "output_type": "stream",
     "text": [
      "0.69456"
     ]
    },
    {
     "name": "stdout",
     "output_type": "stream",
     "text": [
      " | time: 7.929s\n"
     ]
    },
    {
     "name": "stdout",
     "output_type": "stream",
     "text": [
      "\r| SGD | epoch: 001 | loss: 0.69456 - acc: 0.4874 -- iter: 014592/142904\n"
     ]
    },
    {
     "name": "stdout",
     "output_type": "stream",
     "text": [
      "Training Step: 115  | total loss: "
     ]
    },
    {
     "name": "stdout",
     "output_type": "stream",
     "text": [
      "0.69463"
     ]
    },
    {
     "name": "stdout",
     "output_type": "stream",
     "text": [
      " | time: 7.945s\n"
     ]
    },
    {
     "name": "stdout",
     "output_type": "stream",
     "text": [
      "\r| SGD | epoch: 001 | loss: 0.69463 - acc: 0.4863 -- iter: 014720/142904\n"
     ]
    },
    {
     "name": "stdout",
     "output_type": "stream",
     "text": [
      "Training Step: 116  | total loss: "
     ]
    },
    {
     "name": "stdout",
     "output_type": "stream",
     "text": [
      "0.69450"
     ]
    },
    {
     "name": "stdout",
     "output_type": "stream",
     "text": [
      " | time: 7.964s\n"
     ]
    },
    {
     "name": "stdout",
     "output_type": "stream",
     "text": [
      "\r| SGD | epoch: 001 | loss: 0.69450 - acc: 0.4838 -- iter: 014848/142904\n"
     ]
    },
    {
     "name": "stdout",
     "output_type": "stream",
     "text": [
      "Training Step: 117  | total loss: "
     ]
    },
    {
     "name": "stdout",
     "output_type": "stream",
     "text": [
      "0.69427"
     ]
    },
    {
     "name": "stdout",
     "output_type": "stream",
     "text": [
      " | time: 7.980s\n"
     ]
    },
    {
     "name": "stdout",
     "output_type": "stream",
     "text": [
      "\r| SGD | epoch: 001 | loss: 0.69427 - acc: 0.4878 -- iter: 014976/142904\n"
     ]
    },
    {
     "name": "stdout",
     "output_type": "stream",
     "text": [
      "Training Step: 118  | total loss: "
     ]
    },
    {
     "name": "stdout",
     "output_type": "stream",
     "text": [
      "0.69416"
     ]
    },
    {
     "name": "stdout",
     "output_type": "stream",
     "text": [
      " | time: 7.994s\n"
     ]
    },
    {
     "name": "stdout",
     "output_type": "stream",
     "text": [
      "\r| SGD | epoch: 001 | loss: 0.69416 - acc: 0.4898 -- iter: 015104/142904\n"
     ]
    },
    {
     "name": "stdout",
     "output_type": "stream",
     "text": [
      "Training Step: 119  | total loss: "
     ]
    },
    {
     "name": "stdout",
     "output_type": "stream",
     "text": [
      "0.69401"
     ]
    },
    {
     "name": "stdout",
     "output_type": "stream",
     "text": [
      " | time: 8.008s\n"
     ]
    },
    {
     "name": "stdout",
     "output_type": "stream",
     "text": [
      "\r| SGD | epoch: 001 | loss: 0.69401 - acc: 0.4923 -- iter: 015232/142904\n"
     ]
    },
    {
     "name": "stdout",
     "output_type": "stream",
     "text": [
      "Training Step: 120  | total loss: "
     ]
    },
    {
     "name": "stdout",
     "output_type": "stream",
     "text": [
      "0.69419"
     ]
    },
    {
     "name": "stdout",
     "output_type": "stream",
     "text": [
      " | time: 8.021s\n"
     ]
    },
    {
     "name": "stdout",
     "output_type": "stream",
     "text": [
      "\r| SGD | epoch: 001 | loss: 0.69419 - acc: 0.4892 -- iter: 015360/142904\n"
     ]
    },
    {
     "name": "stdout",
     "output_type": "stream",
     "text": [
      "Training Step: 121  | total loss: "
     ]
    },
    {
     "name": "stdout",
     "output_type": "stream",
     "text": [
      "0.69418"
     ]
    },
    {
     "name": "stdout",
     "output_type": "stream",
     "text": [
      " | time: 8.036s\n"
     ]
    },
    {
     "name": "stdout",
     "output_type": "stream",
     "text": [
      "\r| SGD | epoch: 001 | loss: 0.69418 - acc: 0.4864 -- iter: 015488/142904\n"
     ]
    },
    {
     "name": "stdout",
     "output_type": "stream",
     "text": [
      "Training Step: 122  | total loss: "
     ]
    },
    {
     "name": "stdout",
     "output_type": "stream",
     "text": [
      "0.69445"
     ]
    },
    {
     "name": "stdout",
     "output_type": "stream",
     "text": [
      " | time: 8.047s\n"
     ]
    },
    {
     "name": "stdout",
     "output_type": "stream",
     "text": [
      "\r| SGD | epoch: 001 | loss: 0.69445 - acc: 0.4799 -- iter: 015616/142904\n"
     ]
    },
    {
     "name": "stdout",
     "output_type": "stream",
     "text": [
      "Training Step: 123  | total loss: "
     ]
    },
    {
     "name": "stdout",
     "output_type": "stream",
     "text": [
      "0.69470"
     ]
    },
    {
     "name": "stdout",
     "output_type": "stream",
     "text": [
      " | time: 8.061s\n"
     ]
    },
    {
     "name": "stdout",
     "output_type": "stream",
     "text": [
      "\r| SGD | epoch: 001 | loss: 0.69470 - acc: 0.4788 -- iter: 015744/142904\n"
     ]
    },
    {
     "name": "stdout",
     "output_type": "stream",
     "text": [
      "Training Step: 124  | total loss: "
     ]
    },
    {
     "name": "stdout",
     "output_type": "stream",
     "text": [
      "0.69458"
     ]
    },
    {
     "name": "stdout",
     "output_type": "stream",
     "text": [
      " | time: 8.075s\n"
     ]
    },
    {
     "name": "stdout",
     "output_type": "stream",
     "text": [
      "\r| SGD | epoch: 001 | loss: 0.69458 - acc: 0.4762 -- iter: 015872/142904\n"
     ]
    },
    {
     "name": "stdout",
     "output_type": "stream",
     "text": [
      "Training Step: 125  | total loss: "
     ]
    },
    {
     "name": "stdout",
     "output_type": "stream",
     "text": [
      "0.69479"
     ]
    },
    {
     "name": "stdout",
     "output_type": "stream",
     "text": [
      " | time: 8.085s\n"
     ]
    },
    {
     "name": "stdout",
     "output_type": "stream",
     "text": [
      "\r| SGD | epoch: 001 | loss: 0.69479 - acc: 0.4739 -- iter: 016000/142904\n"
     ]
    },
    {
     "name": "stdout",
     "output_type": "stream",
     "text": [
      "Training Step: 126  | total loss: "
     ]
    },
    {
     "name": "stdout",
     "output_type": "stream",
     "text": [
      "0.69454"
     ]
    },
    {
     "name": "stdout",
     "output_type": "stream",
     "text": [
      " | time: 8.099s\n"
     ]
    },
    {
     "name": "stdout",
     "output_type": "stream",
     "text": [
      "\r| SGD | epoch: 001 | loss: 0.69454 - acc: 0.4797 -- iter: 016128/142904\n"
     ]
    },
    {
     "name": "stdout",
     "output_type": "stream",
     "text": [
      "Training Step: 127  | total loss: "
     ]
    },
    {
     "name": "stdout",
     "output_type": "stream",
     "text": [
      "0.69445"
     ]
    },
    {
     "name": "stdout",
     "output_type": "stream",
     "text": [
      " | time: 8.111s\n"
     ]
    },
    {
     "name": "stdout",
     "output_type": "stream",
     "text": [
      "\r| SGD | epoch: 001 | loss: 0.69445 - acc: 0.4817 -- iter: 016256/142904\n"
     ]
    },
    {
     "name": "stdout",
     "output_type": "stream",
     "text": [
      "Training Step: 128  | total loss: "
     ]
    },
    {
     "name": "stdout",
     "output_type": "stream",
     "text": [
      "0.69450"
     ]
    },
    {
     "name": "stdout",
     "output_type": "stream",
     "text": [
      " | time: 8.124s\n"
     ]
    },
    {
     "name": "stdout",
     "output_type": "stream",
     "text": [
      "\r| SGD | epoch: 001 | loss: 0.69450 - acc: 0.4796 -- iter: 016384/142904\n"
     ]
    },
    {
     "name": "stdout",
     "output_type": "stream",
     "text": [
      "Training Step: 129  | total loss: "
     ]
    },
    {
     "name": "stdout",
     "output_type": "stream",
     "text": [
      "0.69433"
     ]
    },
    {
     "name": "stdout",
     "output_type": "stream",
     "text": [
      " | time: 8.136s\n"
     ]
    },
    {
     "name": "stdout",
     "output_type": "stream",
     "text": [
      "\r| SGD | epoch: 001 | loss: 0.69433 - acc: 0.4832 -- iter: 016512/142904\n"
     ]
    },
    {
     "name": "stdout",
     "output_type": "stream",
     "text": [
      "Training Step: 130  | total loss: "
     ]
    },
    {
     "name": "stdout",
     "output_type": "stream",
     "text": [
      "0.69426"
     ]
    },
    {
     "name": "stdout",
     "output_type": "stream",
     "text": [
      " | time: 8.149s\n"
     ]
    },
    {
     "name": "stdout",
     "output_type": "stream",
     "text": [
      "\r| SGD | epoch: 001 | loss: 0.69426 - acc: 0.4841 -- iter: 016640/142904\n"
     ]
    },
    {
     "name": "stdout",
     "output_type": "stream",
     "text": [
      "Training Step: 131  | total loss: "
     ]
    },
    {
     "name": "stdout",
     "output_type": "stream",
     "text": [
      "0.69406"
     ]
    },
    {
     "name": "stdout",
     "output_type": "stream",
     "text": [
      " | time: 8.163s\n"
     ]
    },
    {
     "name": "stdout",
     "output_type": "stream",
     "text": [
      "\r| SGD | epoch: 001 | loss: 0.69406 - acc: 0.4920 -- iter: 016768/142904\n"
     ]
    },
    {
     "name": "stdout",
     "output_type": "stream",
     "text": [
      "Training Step: 132  | total loss: "
     ]
    },
    {
     "name": "stdout",
     "output_type": "stream",
     "text": [
      "0.69475"
     ]
    },
    {
     "name": "stdout",
     "output_type": "stream",
     "text": [
      " | time: 8.175s\n"
     ]
    },
    {
     "name": "stdout",
     "output_type": "stream",
     "text": [
      "\r| SGD | epoch: 001 | loss: 0.69475 - acc: 0.4865 -- iter: 016896/142904\n"
     ]
    },
    {
     "name": "stdout",
     "output_type": "stream",
     "text": [
      "Training Step: 133  | total loss: "
     ]
    },
    {
     "name": "stdout",
     "output_type": "stream",
     "text": [
      "0.69456"
     ]
    },
    {
     "name": "stdout",
     "output_type": "stream",
     "text": [
      " | time: 8.190s\n"
     ]
    },
    {
     "name": "stdout",
     "output_type": "stream",
     "text": [
      "\r| SGD | epoch: 001 | loss: 0.69456 - acc: 0.4894 -- iter: 017024/142904\n"
     ]
    },
    {
     "name": "stdout",
     "output_type": "stream",
     "text": [
      "Training Step: 134  | total loss: "
     ]
    },
    {
     "name": "stdout",
     "output_type": "stream",
     "text": [
      "0.69430"
     ]
    },
    {
     "name": "stdout",
     "output_type": "stream",
     "text": [
      " | time: 8.201s\n"
     ]
    },
    {
     "name": "stdout",
     "output_type": "stream",
     "text": [
      "\r| SGD | epoch: 001 | loss: 0.69430 - acc: 0.4936 -- iter: 017152/142904\n"
     ]
    },
    {
     "name": "stdout",
     "output_type": "stream",
     "text": [
      "Training Step: 135  | total loss: "
     ]
    },
    {
     "name": "stdout",
     "output_type": "stream",
     "text": [
      "0.69426"
     ]
    },
    {
     "name": "stdout",
     "output_type": "stream",
     "text": [
      " | time: 8.214s\n"
     ]
    },
    {
     "name": "stdout",
     "output_type": "stream",
     "text": [
      "\r| SGD | epoch: 001 | loss: 0.69426 - acc: 0.4942 -- iter: 017280/142904\n"
     ]
    },
    {
     "name": "stdout",
     "output_type": "stream",
     "text": [
      "Training Step: 136  | total loss: "
     ]
    },
    {
     "name": "stdout",
     "output_type": "stream",
     "text": [
      "0.69427"
     ]
    },
    {
     "name": "stdout",
     "output_type": "stream",
     "text": [
      " | time: 8.225s\n"
     ]
    },
    {
     "name": "stdout",
     "output_type": "stream",
     "text": [
      "\r| SGD | epoch: 001 | loss: 0.69427 - acc: 0.4925 -- iter: 017408/142904\n"
     ]
    },
    {
     "name": "stdout",
     "output_type": "stream",
     "text": [
      "Training Step: 137  | total loss: "
     ]
    },
    {
     "name": "stdout",
     "output_type": "stream",
     "text": [
      "0.69418"
     ]
    },
    {
     "name": "stdout",
     "output_type": "stream",
     "text": [
      " | time: 8.237s\n"
     ]
    },
    {
     "name": "stdout",
     "output_type": "stream",
     "text": [
      "\r| SGD | epoch: 001 | loss: 0.69418 - acc: 0.4901 -- iter: 017536/142904\n"
     ]
    },
    {
     "name": "stdout",
     "output_type": "stream",
     "text": [
      "Training Step: 138  | total loss: "
     ]
    },
    {
     "name": "stdout",
     "output_type": "stream",
     "text": [
      "0.69366"
     ]
    },
    {
     "name": "stdout",
     "output_type": "stream",
     "text": [
      " | time: 8.250s\n"
     ]
    },
    {
     "name": "stdout",
     "output_type": "stream",
     "text": [
      "\r| SGD | epoch: 001 | loss: 0.69366 - acc: 0.5012 -- iter: 017664/142904\n"
     ]
    },
    {
     "name": "stdout",
     "output_type": "stream",
     "text": [
      "Training Step: 139  | total loss: "
     ]
    },
    {
     "name": "stdout",
     "output_type": "stream",
     "text": [
      "0.69387"
     ]
    },
    {
     "name": "stdout",
     "output_type": "stream",
     "text": [
      " | time: 8.263s\n"
     ]
    },
    {
     "name": "stdout",
     "output_type": "stream",
     "text": [
      "\r| SGD | epoch: 001 | loss: 0.69387 - acc: 0.5019 -- iter: 017792/142904\n"
     ]
    },
    {
     "name": "stdout",
     "output_type": "stream",
     "text": [
      "Training Step: 140  | total loss: "
     ]
    },
    {
     "name": "stdout",
     "output_type": "stream",
     "text": [
      "0.69466"
     ]
    },
    {
     "name": "stdout",
     "output_type": "stream",
     "text": [
      " | time: 8.276s\n"
     ]
    },
    {
     "name": "stdout",
     "output_type": "stream",
     "text": [
      "\r| SGD | epoch: 001 | loss: 0.69466 - acc: 0.4962 -- iter: 017920/142904\n"
     ]
    },
    {
     "name": "stdout",
     "output_type": "stream",
     "text": [
      "Training Step: 141  | total loss: "
     ]
    },
    {
     "name": "stdout",
     "output_type": "stream",
     "text": [
      "0.69450"
     ]
    },
    {
     "name": "stdout",
     "output_type": "stream",
     "text": [
      " | time: 8.289s\n"
     ]
    },
    {
     "name": "stdout",
     "output_type": "stream",
     "text": [
      "\r| SGD | epoch: 001 | loss: 0.69450 - acc: 0.4990 -- iter: 018048/142904\n"
     ]
    },
    {
     "name": "stdout",
     "output_type": "stream",
     "text": [
      "Training Step: 142  | total loss: "
     ]
    },
    {
     "name": "stdout",
     "output_type": "stream",
     "text": [
      "0.69414"
     ]
    },
    {
     "name": "stdout",
     "output_type": "stream",
     "text": [
      " | time: 8.303s\n"
     ]
    },
    {
     "name": "stdout",
     "output_type": "stream",
     "text": [
      "\r| SGD | epoch: 001 | loss: 0.69414 - acc: 0.5053 -- iter: 018176/142904\n"
     ]
    },
    {
     "name": "stdout",
     "output_type": "stream",
     "text": [
      "Training Step: 143  | total loss: "
     ]
    },
    {
     "name": "stdout",
     "output_type": "stream",
     "text": [
      "0.69412"
     ]
    },
    {
     "name": "stdout",
     "output_type": "stream",
     "text": [
      " | time: 8.315s\n"
     ]
    },
    {
     "name": "stdout",
     "output_type": "stream",
     "text": [
      "\r| SGD | epoch: 001 | loss: 0.69412 - acc: 0.5056 -- iter: 018304/142904\n"
     ]
    },
    {
     "name": "stdout",
     "output_type": "stream",
     "text": [
      "Training Step: 144  | total loss: "
     ]
    },
    {
     "name": "stdout",
     "output_type": "stream",
     "text": [
      "0.69377"
     ]
    },
    {
     "name": "stdout",
     "output_type": "stream",
     "text": [
      " | time: 8.326s\n"
     ]
    },
    {
     "name": "stdout",
     "output_type": "stream",
     "text": [
      "\r| SGD | epoch: 001 | loss: 0.69377 - acc: 0.5089 -- iter: 018432/142904\n"
     ]
    },
    {
     "name": "stdout",
     "output_type": "stream",
     "text": [
      "Training Step: 145  | total loss: "
     ]
    },
    {
     "name": "stdout",
     "output_type": "stream",
     "text": [
      "0.69421"
     ]
    },
    {
     "name": "stdout",
     "output_type": "stream",
     "text": [
      " | time: 8.346s\n"
     ]
    },
    {
     "name": "stdout",
     "output_type": "stream",
     "text": [
      "\r| SGD | epoch: 001 | loss: 0.69421 - acc: 0.5049 -- iter: 018560/142904\n"
     ]
    },
    {
     "name": "stdout",
     "output_type": "stream",
     "text": [
      "Training Step: 146  | total loss: "
     ]
    },
    {
     "name": "stdout",
     "output_type": "stream",
     "text": [
      "0.69391"
     ]
    },
    {
     "name": "stdout",
     "output_type": "stream",
     "text": [
      " | time: 8.357s\n"
     ]
    },
    {
     "name": "stdout",
     "output_type": "stream",
     "text": [
      "\r| SGD | epoch: 001 | loss: 0.69391 - acc: 0.5130 -- iter: 018688/142904\n"
     ]
    },
    {
     "name": "stdout",
     "output_type": "stream",
     "text": [
      "Training Step: 147  | total loss: "
     ]
    },
    {
     "name": "stdout",
     "output_type": "stream",
     "text": [
      "0.69341"
     ]
    },
    {
     "name": "stdout",
     "output_type": "stream",
     "text": [
      " | time: 8.367s\n"
     ]
    },
    {
     "name": "stdout",
     "output_type": "stream",
     "text": [
      "\r| SGD | epoch: 001 | loss: 0.69341 - acc: 0.5164 -- iter: 018816/142904\n"
     ]
    },
    {
     "name": "stdout",
     "output_type": "stream",
     "text": [
      "Training Step: 148  | total loss: "
     ]
    },
    {
     "name": "stdout",
     "output_type": "stream",
     "text": [
      "0.69383"
     ]
    },
    {
     "name": "stdout",
     "output_type": "stream",
     "text": [
      " | time: 8.378s\n"
     ]
    },
    {
     "name": "stdout",
     "output_type": "stream",
     "text": [
      "\r| SGD | epoch: 001 | loss: 0.69383 - acc: 0.5140 -- iter: 018944/142904\n"
     ]
    },
    {
     "name": "stdout",
     "output_type": "stream",
     "text": [
      "Training Step: 149  | total loss: "
     ]
    },
    {
     "name": "stdout",
     "output_type": "stream",
     "text": [
      "0.69440"
     ]
    },
    {
     "name": "stdout",
     "output_type": "stream",
     "text": [
      " | time: 8.388s\n"
     ]
    },
    {
     "name": "stdout",
     "output_type": "stream",
     "text": [
      "\r| SGD | epoch: 001 | loss: 0.69440 - acc: 0.5063 -- iter: 019072/142904\n"
     ]
    },
    {
     "name": "stdout",
     "output_type": "stream",
     "text": [
      "Training Step: 150  | total loss: "
     ]
    },
    {
     "name": "stdout",
     "output_type": "stream",
     "text": [
      "0.69441"
     ]
    },
    {
     "name": "stdout",
     "output_type": "stream",
     "text": [
      " | time: 8.399s\n"
     ]
    },
    {
     "name": "stdout",
     "output_type": "stream",
     "text": [
      "\r| SGD | epoch: 001 | loss: 0.69441 - acc: 0.5026 -- iter: 019200/142904\n"
     ]
    },
    {
     "name": "stdout",
     "output_type": "stream",
     "text": [
      "Training Step: 151  | total loss: "
     ]
    },
    {
     "name": "stdout",
     "output_type": "stream",
     "text": [
      "0.69432"
     ]
    },
    {
     "name": "stdout",
     "output_type": "stream",
     "text": [
      " | time: 8.408s\n"
     ]
    },
    {
     "name": "stdout",
     "output_type": "stream",
     "text": [
      "\r| SGD | epoch: 001 | loss: 0.69432 - acc: 0.5007 -- iter: 019328/142904\n"
     ]
    },
    {
     "name": "stdout",
     "output_type": "stream",
     "text": [
      "Training Step: 152  | total loss: "
     ]
    },
    {
     "name": "stdout",
     "output_type": "stream",
     "text": [
      "0.69428"
     ]
    },
    {
     "name": "stdout",
     "output_type": "stream",
     "text": [
      " | time: 8.418s\n"
     ]
    },
    {
     "name": "stdout",
     "output_type": "stream",
     "text": [
      "\r| SGD | epoch: 001 | loss: 0.69428 - acc: 0.4929 -- iter: 019456/142904\n"
     ]
    },
    {
     "name": "stdout",
     "output_type": "stream",
     "text": [
      "Training Step: 153  | total loss: "
     ]
    },
    {
     "name": "stdout",
     "output_type": "stream",
     "text": [
      "0.69484"
     ]
    },
    {
     "name": "stdout",
     "output_type": "stream",
     "text": [
      " | time: 8.430s\n"
     ]
    },
    {
     "name": "stdout",
     "output_type": "stream",
     "text": [
      "\r| SGD | epoch: 001 | loss: 0.69484 - acc: 0.4889 -- iter: 019584/142904\n"
     ]
    },
    {
     "name": "stdout",
     "output_type": "stream",
     "text": [
      "Training Step: 154  | total loss: "
     ]
    },
    {
     "name": "stdout",
     "output_type": "stream",
     "text": [
      "0.69468"
     ]
    },
    {
     "name": "stdout",
     "output_type": "stream",
     "text": [
      " | time: 8.454s\n"
     ]
    },
    {
     "name": "stdout",
     "output_type": "stream",
     "text": [
      "\r| SGD | epoch: 001 | loss: 0.69468 - acc: 0.4884 -- iter: 019712/142904\n"
     ]
    },
    {
     "name": "stdout",
     "output_type": "stream",
     "text": [
      "Training Step: 155  | total loss: "
     ]
    },
    {
     "name": "stdout",
     "output_type": "stream",
     "text": [
      "0.69552"
     ]
    },
    {
     "name": "stdout",
     "output_type": "stream",
     "text": [
      " | time: 8.465s\n"
     ]
    },
    {
     "name": "stdout",
     "output_type": "stream",
     "text": [
      "\r| SGD | epoch: 001 | loss: 0.69552 - acc: 0.4802 -- iter: 019840/142904\n"
     ]
    },
    {
     "name": "stdout",
     "output_type": "stream",
     "text": [
      "Training Step: 156  | total loss: "
     ]
    },
    {
     "name": "stdout",
     "output_type": "stream",
     "text": [
      "0.69504"
     ]
    },
    {
     "name": "stdout",
     "output_type": "stream",
     "text": [
      " | time: 8.477s\n"
     ]
    },
    {
     "name": "stdout",
     "output_type": "stream",
     "text": [
      "\r| SGD | epoch: 001 | loss: 0.69504 - acc: 0.4861 -- iter: 019968/142904\n"
     ]
    },
    {
     "name": "stdout",
     "output_type": "stream",
     "text": [
      "Training Step: 157  | total loss: "
     ]
    },
    {
     "name": "stdout",
     "output_type": "stream",
     "text": [
      "0.69560"
     ]
    },
    {
     "name": "stdout",
     "output_type": "stream",
     "text": [
      " | time: 8.490s\n"
     ]
    },
    {
     "name": "stdout",
     "output_type": "stream",
     "text": [
      "\r| SGD | epoch: 001 | loss: 0.69560 - acc: 0.4820 -- iter: 020096/142904\n"
     ]
    },
    {
     "name": "stdout",
     "output_type": "stream",
     "text": [
      "Training Step: 158  | total loss: "
     ]
    },
    {
     "name": "stdout",
     "output_type": "stream",
     "text": [
      "0.69541"
     ]
    },
    {
     "name": "stdout",
     "output_type": "stream",
     "text": [
      " | time: 8.502s\n"
     ]
    },
    {
     "name": "stdout",
     "output_type": "stream",
     "text": [
      "\r| SGD | epoch: 001 | loss: 0.69541 - acc: 0.4791 -- iter: 020224/142904\n"
     ]
    },
    {
     "name": "stdout",
     "output_type": "stream",
     "text": [
      "Training Step: 159  | total loss: "
     ]
    },
    {
     "name": "stdout",
     "output_type": "stream",
     "text": [
      "0.69499"
     ]
    },
    {
     "name": "stdout",
     "output_type": "stream",
     "text": [
      " | time: 8.513s\n"
     ]
    },
    {
     "name": "stdout",
     "output_type": "stream",
     "text": [
      "\r| SGD | epoch: 001 | loss: 0.69499 - acc: 0.4851 -- iter: 020352/142904\n"
     ]
    },
    {
     "name": "stdout",
     "output_type": "stream",
     "text": [
      "Training Step: 160  | total loss: "
     ]
    },
    {
     "name": "stdout",
     "output_type": "stream",
     "text": [
      "0.69568"
     ]
    },
    {
     "name": "stdout",
     "output_type": "stream",
     "text": [
      " | time: 8.525s\n"
     ]
    },
    {
     "name": "stdout",
     "output_type": "stream",
     "text": [
      "\r| SGD | epoch: 001 | loss: 0.69568 - acc: 0.4788 -- iter: 020480/142904\n"
     ]
    },
    {
     "name": "stdout",
     "output_type": "stream",
     "text": [
      "Training Step: 161  | total loss: "
     ]
    },
    {
     "name": "stdout",
     "output_type": "stream",
     "text": [
      "0.69556"
     ]
    },
    {
     "name": "stdout",
     "output_type": "stream",
     "text": [
      " | time: 8.537s\n"
     ]
    },
    {
     "name": "stdout",
     "output_type": "stream",
     "text": [
      "\r| SGD | epoch: 001 | loss: 0.69556 - acc: 0.4794 -- iter: 020608/142904\n"
     ]
    },
    {
     "name": "stdout",
     "output_type": "stream",
     "text": [
      "Training Step: 162  | total loss: "
     ]
    },
    {
     "name": "stdout",
     "output_type": "stream",
     "text": [
      "0.69532"
     ]
    },
    {
     "name": "stdout",
     "output_type": "stream",
     "text": [
      " | time: 8.552s\n"
     ]
    },
    {
     "name": "stdout",
     "output_type": "stream",
     "text": [
      "\r| SGD | epoch: 001 | loss: 0.69532 - acc: 0.4806 -- iter: 020736/142904\n"
     ]
    },
    {
     "name": "stdout",
     "output_type": "stream",
     "text": [
      "Training Step: 163  | total loss: "
     ]
    },
    {
     "name": "stdout",
     "output_type": "stream",
     "text": [
      "0.69511"
     ]
    },
    {
     "name": "stdout",
     "output_type": "stream",
     "text": [
      " | time: 8.563s\n"
     ]
    },
    {
     "name": "stdout",
     "output_type": "stream",
     "text": [
      "\r| SGD | epoch: 001 | loss: 0.69511 - acc: 0.4802 -- iter: 020864/142904\n"
     ]
    },
    {
     "name": "stdout",
     "output_type": "stream",
     "text": [
      "Training Step: 164  | total loss: "
     ]
    },
    {
     "name": "stdout",
     "output_type": "stream",
     "text": [
      "0.69484"
     ]
    },
    {
     "name": "stdout",
     "output_type": "stream",
     "text": [
      " | time: 8.573s\n"
     ]
    },
    {
     "name": "stdout",
     "output_type": "stream",
     "text": [
      "\r| SGD | epoch: 001 | loss: 0.69484 - acc: 0.4846 -- iter: 020992/142904\n"
     ]
    },
    {
     "name": "stdout",
     "output_type": "stream",
     "text": [
      "Training Step: 165  | total loss: "
     ]
    },
    {
     "name": "stdout",
     "output_type": "stream",
     "text": [
      "0.69467"
     ]
    },
    {
     "name": "stdout",
     "output_type": "stream",
     "text": [
      " | time: 8.585s\n"
     ]
    },
    {
     "name": "stdout",
     "output_type": "stream",
     "text": [
      "\r| SGD | epoch: 001 | loss: 0.69467 - acc: 0.4869 -- iter: 021120/142904\n"
     ]
    },
    {
     "name": "stdout",
     "output_type": "stream",
     "text": [
      "Training Step: 166  | total loss: "
     ]
    },
    {
     "name": "stdout",
     "output_type": "stream",
     "text": [
      "0.69468"
     ]
    },
    {
     "name": "stdout",
     "output_type": "stream",
     "text": [
      " | time: 8.599s\n"
     ]
    },
    {
     "name": "stdout",
     "output_type": "stream",
     "text": [
      "\r| SGD | epoch: 001 | loss: 0.69468 - acc: 0.4851 -- iter: 021248/142904\n"
     ]
    },
    {
     "name": "stdout",
     "output_type": "stream",
     "text": [
      "Training Step: 167  | total loss: "
     ]
    },
    {
     "name": "stdout",
     "output_type": "stream",
     "text": [
      "0.69440"
     ]
    },
    {
     "name": "stdout",
     "output_type": "stream",
     "text": [
      " | time: 8.612s\n"
     ]
    },
    {
     "name": "stdout",
     "output_type": "stream",
     "text": [
      "\r| SGD | epoch: 001 | loss: 0.69440 - acc: 0.4936 -- iter: 021376/142904\n"
     ]
    },
    {
     "name": "stdout",
     "output_type": "stream",
     "text": [
      "Training Step: 168  | total loss: "
     ]
    },
    {
     "name": "stdout",
     "output_type": "stream",
     "text": [
      "0.69444"
     ]
    },
    {
     "name": "stdout",
     "output_type": "stream",
     "text": [
      " | time: 8.624s\n"
     ]
    },
    {
     "name": "stdout",
     "output_type": "stream",
     "text": [
      "\r| SGD | epoch: 001 | loss: 0.69444 - acc: 0.4942 -- iter: 021504/142904\n"
     ]
    },
    {
     "name": "stdout",
     "output_type": "stream",
     "text": [
      "Training Step: 169  | total loss: "
     ]
    },
    {
     "name": "stdout",
     "output_type": "stream",
     "text": [
      "0.69374"
     ]
    },
    {
     "name": "stdout",
     "output_type": "stream",
     "text": [
      " | time: 8.635s\n"
     ]
    },
    {
     "name": "stdout",
     "output_type": "stream",
     "text": [
      "\r| SGD | epoch: 001 | loss: 0.69374 - acc: 0.5034 -- iter: 021632/142904\n"
     ]
    },
    {
     "name": "stdout",
     "output_type": "stream",
     "text": [
      "Training Step: 170  | total loss: "
     ]
    },
    {
     "name": "stdout",
     "output_type": "stream",
     "text": [
      "0.69474"
     ]
    },
    {
     "name": "stdout",
     "output_type": "stream",
     "text": [
      " | time: 8.646s\n"
     ]
    },
    {
     "name": "stdout",
     "output_type": "stream",
     "text": [
      "\r| SGD | epoch: 001 | loss: 0.69474 - acc: 0.4992 -- iter: 021760/142904\n"
     ]
    },
    {
     "name": "stdout",
     "output_type": "stream",
     "text": [
      "Training Step: 171  | total loss: "
     ]
    },
    {
     "name": "stdout",
     "output_type": "stream",
     "text": [
      "0.69441"
     ]
    },
    {
     "name": "stdout",
     "output_type": "stream",
     "text": [
      " | time: 8.658s\n"
     ]
    },
    {
     "name": "stdout",
     "output_type": "stream",
     "text": [
      "\r| SGD | epoch: 001 | loss: 0.69441 - acc: 0.5031 -- iter: 021888/142904\n"
     ]
    },
    {
     "name": "stdout",
     "output_type": "stream",
     "text": [
      "Training Step: 172  | total loss: "
     ]
    },
    {
     "name": "stdout",
     "output_type": "stream",
     "text": [
      "0.69410"
     ]
    },
    {
     "name": "stdout",
     "output_type": "stream",
     "text": [
      " | time: 8.670s\n"
     ]
    },
    {
     "name": "stdout",
     "output_type": "stream",
     "text": [
      "\r| SGD | epoch: 001 | loss: 0.69410 - acc: 0.5060 -- iter: 022016/142904\n"
     ]
    },
    {
     "name": "stdout",
     "output_type": "stream",
     "text": [
      "Training Step: 173  | total loss: "
     ]
    },
    {
     "name": "stdout",
     "output_type": "stream",
     "text": [
      "0.69373"
     ]
    },
    {
     "name": "stdout",
     "output_type": "stream",
     "text": [
      " | time: 8.681s\n"
     ]
    },
    {
     "name": "stdout",
     "output_type": "stream",
     "text": [
      "\r| SGD | epoch: 001 | loss: 0.69373 - acc: 0.5093 -- iter: 022144/142904\n"
     ]
    },
    {
     "name": "stdout",
     "output_type": "stream",
     "text": [
      "Training Step: 174  | total loss: "
     ]
    },
    {
     "name": "stdout",
     "output_type": "stream",
     "text": [
      "0.69424"
     ]
    },
    {
     "name": "stdout",
     "output_type": "stream",
     "text": [
      " | time: 8.692s\n"
     ]
    },
    {
     "name": "stdout",
     "output_type": "stream",
     "text": [
      "\r| SGD | epoch: 001 | loss: 0.69424 - acc: 0.5052 -- iter: 022272/142904\n"
     ]
    },
    {
     "name": "stdout",
     "output_type": "stream",
     "text": [
      "Training Step: 175  | total loss: "
     ]
    },
    {
     "name": "stdout",
     "output_type": "stream",
     "text": [
      "0.69409"
     ]
    },
    {
     "name": "stdout",
     "output_type": "stream",
     "text": [
      " | time: 8.704s\n"
     ]
    },
    {
     "name": "stdout",
     "output_type": "stream",
     "text": [
      "\r| SGD | epoch: 001 | loss: 0.69409 - acc: 0.5063 -- iter: 022400/142904\n"
     ]
    },
    {
     "name": "stdout",
     "output_type": "stream",
     "text": [
      "Training Step: 176  | total loss: "
     ]
    },
    {
     "name": "stdout",
     "output_type": "stream",
     "text": [
      "0.69424"
     ]
    },
    {
     "name": "stdout",
     "output_type": "stream",
     "text": [
      " | time: 8.717s\n"
     ]
    },
    {
     "name": "stdout",
     "output_type": "stream",
     "text": [
      "\r| SGD | epoch: 001 | loss: 0.69424 - acc: 0.5002 -- iter: 022528/142904\n"
     ]
    },
    {
     "name": "stdout",
     "output_type": "stream",
     "text": [
      "Training Step: 177  | total loss: "
     ]
    },
    {
     "name": "stdout",
     "output_type": "stream",
     "text": [
      "0.69421"
     ]
    },
    {
     "name": "stdout",
     "output_type": "stream",
     "text": [
      " | time: 8.730s\n"
     ]
    },
    {
     "name": "stdout",
     "output_type": "stream",
     "text": [
      "\r| SGD | epoch: 001 | loss: 0.69421 - acc: 0.4994 -- iter: 022656/142904\n"
     ]
    },
    {
     "name": "stdout",
     "output_type": "stream",
     "text": [
      "Training Step: 178  | total loss: "
     ]
    },
    {
     "name": "stdout",
     "output_type": "stream",
     "text": [
      "0.69408"
     ]
    },
    {
     "name": "stdout",
     "output_type": "stream",
     "text": [
      " | time: 8.744s\n"
     ]
    },
    {
     "name": "stdout",
     "output_type": "stream",
     "text": [
      "\r| SGD | epoch: 001 | loss: 0.69408 - acc: 0.5002 -- iter: 022784/142904\n"
     ]
    },
    {
     "name": "stdout",
     "output_type": "stream",
     "text": [
      "Training Step: 179  | total loss: "
     ]
    },
    {
     "name": "stdout",
     "output_type": "stream",
     "text": [
      "0.69398"
     ]
    },
    {
     "name": "stdout",
     "output_type": "stream",
     "text": [
      " | time: 8.759s\n"
     ]
    },
    {
     "name": "stdout",
     "output_type": "stream",
     "text": [
      "\r| SGD | epoch: 001 | loss: 0.69398 - acc: 0.5010 -- iter: 022912/142904\n"
     ]
    },
    {
     "name": "stdout",
     "output_type": "stream",
     "text": [
      "Training Step: 180  | total loss: "
     ]
    },
    {
     "name": "stdout",
     "output_type": "stream",
     "text": [
      "0.69409"
     ]
    },
    {
     "name": "stdout",
     "output_type": "stream",
     "text": [
      " | time: 8.774s\n"
     ]
    },
    {
     "name": "stdout",
     "output_type": "stream",
     "text": [
      "\r| SGD | epoch: 001 | loss: 0.69409 - acc: 0.4938 -- iter: 023040/142904\n"
     ]
    },
    {
     "name": "stdout",
     "output_type": "stream",
     "text": [
      "Training Step: 181  | total loss: "
     ]
    },
    {
     "name": "stdout",
     "output_type": "stream",
     "text": [
      "0.69402"
     ]
    },
    {
     "name": "stdout",
     "output_type": "stream",
     "text": [
      " | time: 8.786s\n"
     ]
    },
    {
     "name": "stdout",
     "output_type": "stream",
     "text": [
      "\r| SGD | epoch: 001 | loss: 0.69402 - acc: 0.4952 -- iter: 023168/142904\n"
     ]
    },
    {
     "name": "stdout",
     "output_type": "stream",
     "text": [
      "Training Step: 182  | total loss: "
     ]
    },
    {
     "name": "stdout",
     "output_type": "stream",
     "text": [
      "0.69419"
     ]
    },
    {
     "name": "stdout",
     "output_type": "stream",
     "text": [
      " | time: 8.800s\n"
     ]
    },
    {
     "name": "stdout",
     "output_type": "stream",
     "text": [
      "\r| SGD | epoch: 001 | loss: 0.69419 - acc: 0.4926 -- iter: 023296/142904\n"
     ]
    },
    {
     "name": "stdout",
     "output_type": "stream",
     "text": [
      "Training Step: 183  | total loss: "
     ]
    },
    {
     "name": "stdout",
     "output_type": "stream",
     "text": [
      "0.69407"
     ]
    },
    {
     "name": "stdout",
     "output_type": "stream",
     "text": [
      " | time: 8.811s\n"
     ]
    },
    {
     "name": "stdout",
     "output_type": "stream",
     "text": [
      "\r| SGD | epoch: 001 | loss: 0.69407 - acc: 0.4957 -- iter: 023424/142904\n"
     ]
    },
    {
     "name": "stdout",
     "output_type": "stream",
     "text": [
      "Training Step: 184  | total loss: "
     ]
    },
    {
     "name": "stdout",
     "output_type": "stream",
     "text": [
      "0.69383"
     ]
    },
    {
     "name": "stdout",
     "output_type": "stream",
     "text": [
      " | time: 8.824s\n"
     ]
    },
    {
     "name": "stdout",
     "output_type": "stream",
     "text": [
      "\r| SGD | epoch: 001 | loss: 0.69383 - acc: 0.5000 -- iter: 023552/142904\n"
     ]
    },
    {
     "name": "stdout",
     "output_type": "stream",
     "text": [
      "Training Step: 185  | total loss: "
     ]
    },
    {
     "name": "stdout",
     "output_type": "stream",
     "text": [
      "0.69377"
     ]
    },
    {
     "name": "stdout",
     "output_type": "stream",
     "text": [
      " | time: 8.836s\n"
     ]
    },
    {
     "name": "stdout",
     "output_type": "stream",
     "text": [
      "\r| SGD | epoch: 001 | loss: 0.69377 - acc: 0.5008 -- iter: 023680/142904\n"
     ]
    },
    {
     "name": "stdout",
     "output_type": "stream",
     "text": [
      "Training Step: 186  | total loss: "
     ]
    },
    {
     "name": "stdout",
     "output_type": "stream",
     "text": [
      "0.69346"
     ]
    },
    {
     "name": "stdout",
     "output_type": "stream",
     "text": [
      " | time: 8.856s\n"
     ]
    },
    {
     "name": "stdout",
     "output_type": "stream",
     "text": [
      "\r| SGD | epoch: 001 | loss: 0.69346 - acc: 0.5054 -- iter: 023808/142904\n"
     ]
    },
    {
     "name": "stdout",
     "output_type": "stream",
     "text": [
      "Training Step: 187  | total loss: "
     ]
    },
    {
     "name": "stdout",
     "output_type": "stream",
     "text": [
      "0.69219"
     ]
    },
    {
     "name": "stdout",
     "output_type": "stream",
     "text": [
      " | time: 8.869s\n"
     ]
    },
    {
     "name": "stdout",
     "output_type": "stream",
     "text": [
      "\r| SGD | epoch: 001 | loss: 0.69219 - acc: 0.5174 -- iter: 023936/142904\n"
     ]
    },
    {
     "name": "stdout",
     "output_type": "stream",
     "text": [
      "Training Step: 188  | total loss: "
     ]
    },
    {
     "name": "stdout",
     "output_type": "stream",
     "text": [
      "0.69372"
     ]
    },
    {
     "name": "stdout",
     "output_type": "stream",
     "text": [
      " | time: 8.883s\n"
     ]
    },
    {
     "name": "stdout",
     "output_type": "stream",
     "text": [
      "\r| SGD | epoch: 001 | loss: 0.69372 - acc: 0.5133 -- iter: 024064/142904\n"
     ]
    },
    {
     "name": "stdout",
     "output_type": "stream",
     "text": [
      "Training Step: 189  | total loss: "
     ]
    },
    {
     "name": "stdout",
     "output_type": "stream",
     "text": [
      "0.69406"
     ]
    },
    {
     "name": "stdout",
     "output_type": "stream",
     "text": [
      " | time: 8.895s\n"
     ]
    },
    {
     "name": "stdout",
     "output_type": "stream",
     "text": [
      "\r| SGD | epoch: 001 | loss: 0.69406 - acc: 0.5104 -- iter: 024192/142904\n"
     ]
    },
    {
     "name": "stdout",
     "output_type": "stream",
     "text": [
      "Training Step: 190  | total loss: "
     ]
    },
    {
     "name": "stdout",
     "output_type": "stream",
     "text": [
      "0.69383"
     ]
    },
    {
     "name": "stdout",
     "output_type": "stream",
     "text": [
      " | time: 8.909s\n"
     ]
    },
    {
     "name": "stdout",
     "output_type": "stream",
     "text": [
      "\r| SGD | epoch: 001 | loss: 0.69383 - acc: 0.5125 -- iter: 024320/142904\n"
     ]
    },
    {
     "name": "stdout",
     "output_type": "stream",
     "text": [
      "Training Step: 191  | total loss: "
     ]
    },
    {
     "name": "stdout",
     "output_type": "stream",
     "text": [
      "0.69365"
     ]
    },
    {
     "name": "stdout",
     "output_type": "stream",
     "text": [
      " | time: 8.921s\n"
     ]
    },
    {
     "name": "stdout",
     "output_type": "stream",
     "text": [
      "\r| SGD | epoch: 001 | loss: 0.69365 - acc: 0.5136 -- iter: 024448/142904\n"
     ]
    },
    {
     "name": "stdout",
     "output_type": "stream",
     "text": [
      "Training Step: 192  | total loss: "
     ]
    },
    {
     "name": "stdout",
     "output_type": "stream",
     "text": [
      "0.69348"
     ]
    },
    {
     "name": "stdout",
     "output_type": "stream",
     "text": [
      " | time: 8.934s\n"
     ]
    },
    {
     "name": "stdout",
     "output_type": "stream",
     "text": [
      "\r| SGD | epoch: 001 | loss: 0.69348 - acc: 0.5146 -- iter: 024576/142904\n"
     ]
    },
    {
     "name": "stdout",
     "output_type": "stream",
     "text": [
      "Training Step: 193  | total loss: "
     ]
    },
    {
     "name": "stdout",
     "output_type": "stream",
     "text": [
      "0.69353"
     ]
    },
    {
     "name": "stdout",
     "output_type": "stream",
     "text": [
      " | time: 8.946s\n"
     ]
    },
    {
     "name": "stdout",
     "output_type": "stream",
     "text": [
      "\r| SGD | epoch: 001 | loss: 0.69353 - acc: 0.5131 -- iter: 024704/142904\n"
     ]
    },
    {
     "name": "stdout",
     "output_type": "stream",
     "text": [
      "Training Step: 194  | total loss: "
     ]
    },
    {
     "name": "stdout",
     "output_type": "stream",
     "text": [
      "0.69327"
     ]
    },
    {
     "name": "stdout",
     "output_type": "stream",
     "text": [
      " | time: 8.962s\n"
     ]
    },
    {
     "name": "stdout",
     "output_type": "stream",
     "text": [
      "\r| SGD | epoch: 001 | loss: 0.69327 - acc: 0.5165 -- iter: 024832/142904\n"
     ]
    },
    {
     "name": "stdout",
     "output_type": "stream",
     "text": [
      "Training Step: 195  | total loss: "
     ]
    },
    {
     "name": "stdout",
     "output_type": "stream",
     "text": [
      "0.69265"
     ]
    },
    {
     "name": "stdout",
     "output_type": "stream",
     "text": [
      " | time: 8.974s\n"
     ]
    },
    {
     "name": "stdout",
     "output_type": "stream",
     "text": [
      "\r| SGD | epoch: 001 | loss: 0.69265 - acc: 0.5219 -- iter: 024960/142904\n"
     ]
    },
    {
     "name": "stdout",
     "output_type": "stream",
     "text": [
      "Training Step: 196  | total loss: "
     ]
    },
    {
     "name": "stdout",
     "output_type": "stream",
     "text": [
      "0.69426"
     ]
    },
    {
     "name": "stdout",
     "output_type": "stream",
     "text": [
      " | time: 8.994s\n"
     ]
    },
    {
     "name": "stdout",
     "output_type": "stream",
     "text": [
      "\r| SGD | epoch: 001 | loss: 0.69426 - acc: 0.5126 -- iter: 025088/142904\n"
     ]
    },
    {
     "name": "stdout",
     "output_type": "stream",
     "text": [
      "Training Step: 197  | total loss: "
     ]
    },
    {
     "name": "stdout",
     "output_type": "stream",
     "text": [
      "0.69414"
     ]
    },
    {
     "name": "stdout",
     "output_type": "stream",
     "text": [
      " | time: 9.006s\n"
     ]
    },
    {
     "name": "stdout",
     "output_type": "stream",
     "text": [
      "\r| SGD | epoch: 001 | loss: 0.69414 - acc: 0.5169 -- iter: 025216/142904\n"
     ]
    },
    {
     "name": "stdout",
     "output_type": "stream",
     "text": [
      "Training Step: 198  | total loss: "
     ]
    },
    {
     "name": "stdout",
     "output_type": "stream",
     "text": [
      "0.69391"
     ]
    },
    {
     "name": "stdout",
     "output_type": "stream",
     "text": [
      " | time: 9.018s\n"
     ]
    },
    {
     "name": "stdout",
     "output_type": "stream",
     "text": [
      "\r| SGD | epoch: 001 | loss: 0.69391 - acc: 0.5206 -- iter: 025344/142904\n"
     ]
    },
    {
     "name": "stdout",
     "output_type": "stream",
     "text": [
      "Training Step: 199  | total loss: "
     ]
    },
    {
     "name": "stdout",
     "output_type": "stream",
     "text": [
      "0.69365"
     ]
    },
    {
     "name": "stdout",
     "output_type": "stream",
     "text": [
      " | time: 9.032s\n"
     ]
    },
    {
     "name": "stdout",
     "output_type": "stream",
     "text": [
      "\r| SGD | epoch: 001 | loss: 0.69365 - acc: 0.5217 -- iter: 025472/142904\n"
     ]
    },
    {
     "name": "stdout",
     "output_type": "stream",
     "text": [
      "Training Step: 200  | total loss: "
     ]
    },
    {
     "name": "stdout",
     "output_type": "stream",
     "text": [
      "0.69425"
     ]
    },
    {
     "name": "stdout",
     "output_type": "stream",
     "text": [
      " | time: 9.044s\n"
     ]
    },
    {
     "name": "stdout",
     "output_type": "stream",
     "text": [
      "\r| SGD | epoch: 001 | loss: 0.69425 - acc: 0.5148 -- iter: 025600/142904\n"
     ]
    },
    {
     "name": "stdout",
     "output_type": "stream",
     "text": [
      "Training Step: 201  | total loss: "
     ]
    },
    {
     "name": "stdout",
     "output_type": "stream",
     "text": [
      "0.69415"
     ]
    },
    {
     "name": "stdout",
     "output_type": "stream",
     "text": [
      " | time: 9.059s\n"
     ]
    },
    {
     "name": "stdout",
     "output_type": "stream",
     "text": [
      "\r| SGD | epoch: 001 | loss: 0.69415 - acc: 0.5087 -- iter: 025728/142904\n"
     ]
    },
    {
     "name": "stdout",
     "output_type": "stream",
     "text": [
      "Training Step: 202  | total loss: "
     ]
    },
    {
     "name": "stdout",
     "output_type": "stream",
     "text": [
      "0.69405"
     ]
    },
    {
     "name": "stdout",
     "output_type": "stream",
     "text": [
      " | time: 9.071s\n"
     ]
    },
    {
     "name": "stdout",
     "output_type": "stream",
     "text": [
      "\r| SGD | epoch: 001 | loss: 0.69405 - acc: 0.5086 -- iter: 025856/142904\n"
     ]
    },
    {
     "name": "stdout",
     "output_type": "stream",
     "text": [
      "Training Step: 203  | total loss: "
     ]
    },
    {
     "name": "stdout",
     "output_type": "stream",
     "text": [
      "0.69437"
     ]
    },
    {
     "name": "stdout",
     "output_type": "stream",
     "text": [
      " | time: 9.083s\n"
     ]
    },
    {
     "name": "stdout",
     "output_type": "stream",
     "text": [
      "\r| SGD | epoch: 001 | loss: 0.69437 - acc: 0.5007 -- iter: 025984/142904\n"
     ]
    },
    {
     "name": "stdout",
     "output_type": "stream",
     "text": [
      "Training Step: 204  | total loss: "
     ]
    },
    {
     "name": "stdout",
     "output_type": "stream",
     "text": [
      "0.69414"
     ]
    },
    {
     "name": "stdout",
     "output_type": "stream",
     "text": [
      " | time: 9.095s\n"
     ]
    },
    {
     "name": "stdout",
     "output_type": "stream",
     "text": [
      "\r| SGD | epoch: 001 | loss: 0.69414 - acc: 0.5030 -- iter: 026112/142904\n"
     ]
    },
    {
     "name": "stdout",
     "output_type": "stream",
     "text": [
      "Training Step: 205  | total loss: "
     ]
    },
    {
     "name": "stdout",
     "output_type": "stream",
     "text": [
      "0.69450"
     ]
    },
    {
     "name": "stdout",
     "output_type": "stream",
     "text": [
      " | time: 9.105s\n"
     ]
    },
    {
     "name": "stdout",
     "output_type": "stream",
     "text": [
      "\r| SGD | epoch: 001 | loss: 0.69450 - acc: 0.4980 -- iter: 026240/142904\n"
     ]
    },
    {
     "name": "stdout",
     "output_type": "stream",
     "text": [
      "Training Step: 206  | total loss: "
     ]
    },
    {
     "name": "stdout",
     "output_type": "stream",
     "text": [
      "0.69440"
     ]
    },
    {
     "name": "stdout",
     "output_type": "stream",
     "text": [
      " | time: 9.118s\n"
     ]
    },
    {
     "name": "stdout",
     "output_type": "stream",
     "text": [
      "\r| SGD | epoch: 001 | loss: 0.69440 - acc: 0.4966 -- iter: 026368/142904\n"
     ]
    },
    {
     "name": "stdout",
     "output_type": "stream",
     "text": [
      "Training Step: 207  | total loss: "
     ]
    },
    {
     "name": "stdout",
     "output_type": "stream",
     "text": [
      "0.69429"
     ]
    },
    {
     "name": "stdout",
     "output_type": "stream",
     "text": [
      " | time: 9.129s\n"
     ]
    },
    {
     "name": "stdout",
     "output_type": "stream",
     "text": [
      "\r| SGD | epoch: 001 | loss: 0.69429 - acc: 0.4946 -- iter: 026496/142904\n"
     ]
    },
    {
     "name": "stdout",
     "output_type": "stream",
     "text": [
      "Training Step: 208  | total loss: "
     ]
    },
    {
     "name": "stdout",
     "output_type": "stream",
     "text": [
      "0.69453"
     ]
    },
    {
     "name": "stdout",
     "output_type": "stream",
     "text": [
      " | time: 9.139s\n"
     ]
    },
    {
     "name": "stdout",
     "output_type": "stream",
     "text": [
      "\r| SGD | epoch: 001 | loss: 0.69453 - acc: 0.4827 -- iter: 026624/142904\n"
     ]
    },
    {
     "name": "stdout",
     "output_type": "stream",
     "text": [
      "Training Step: 209  | total loss: "
     ]
    },
    {
     "name": "stdout",
     "output_type": "stream",
     "text": [
      "0.69501"
     ]
    },
    {
     "name": "stdout",
     "output_type": "stream",
     "text": [
      " | time: 9.149s\n"
     ]
    },
    {
     "name": "stdout",
     "output_type": "stream",
     "text": [
      "\r| SGD | epoch: 001 | loss: 0.69501 - acc: 0.4828 -- iter: 026752/142904\n"
     ]
    },
    {
     "name": "stdout",
     "output_type": "stream",
     "text": [
      "Training Step: 210  | total loss: "
     ]
    },
    {
     "name": "stdout",
     "output_type": "stream",
     "text": [
      "0.69438"
     ]
    },
    {
     "name": "stdout",
     "output_type": "stream",
     "text": [
      " | time: 9.160s\n"
     ]
    },
    {
     "name": "stdout",
     "output_type": "stream",
     "text": [
      "\r| SGD | epoch: 001 | loss: 0.69438 - acc: 0.4908 -- iter: 026880/142904\n"
     ]
    },
    {
     "name": "stdout",
     "output_type": "stream",
     "text": [
      "Training Step: 211  | total loss: "
     ]
    },
    {
     "name": "stdout",
     "output_type": "stream",
     "text": [
      "0.69360"
     ]
    },
    {
     "name": "stdout",
     "output_type": "stream",
     "text": [
      " | time: 9.173s\n"
     ]
    },
    {
     "name": "stdout",
     "output_type": "stream",
     "text": [
      "\r| SGD | epoch: 001 | loss: 0.69360 - acc: 0.4980 -- iter: 027008/142904\n"
     ]
    },
    {
     "name": "stdout",
     "output_type": "stream",
     "text": [
      "Training Step: 212  | total loss: "
     ]
    },
    {
     "name": "stdout",
     "output_type": "stream",
     "text": [
      "0.69398"
     ]
    },
    {
     "name": "stdout",
     "output_type": "stream",
     "text": [
      " | time: 9.185s\n"
     ]
    },
    {
     "name": "stdout",
     "output_type": "stream",
     "text": [
      "\r| SGD | epoch: 001 | loss: 0.69398 - acc: 0.4982 -- iter: 027136/142904\n"
     ]
    },
    {
     "name": "stdout",
     "output_type": "stream",
     "text": [
      "Training Step: 213  | total loss: "
     ]
    },
    {
     "name": "stdout",
     "output_type": "stream",
     "text": [
      "0.69404"
     ]
    },
    {
     "name": "stdout",
     "output_type": "stream",
     "text": [
      " | time: 9.197s\n"
     ]
    },
    {
     "name": "stdout",
     "output_type": "stream",
     "text": [
      "\r| SGD | epoch: 001 | loss: 0.69404 - acc: 0.4984 -- iter: 027264/142904\n"
     ]
    },
    {
     "name": "stdout",
     "output_type": "stream",
     "text": [
      "Training Step: 214  | total loss: "
     ]
    },
    {
     "name": "stdout",
     "output_type": "stream",
     "text": [
      "0.69385"
     ]
    },
    {
     "name": "stdout",
     "output_type": "stream",
     "text": [
      " | time: 9.208s\n"
     ]
    },
    {
     "name": "stdout",
     "output_type": "stream",
     "text": [
      "\r| SGD | epoch: 001 | loss: 0.69385 - acc: 0.5009 -- iter: 027392/142904\n"
     ]
    },
    {
     "name": "stdout",
     "output_type": "stream",
     "text": [
      "Training Step: 215  | total loss: "
     ]
    },
    {
     "name": "stdout",
     "output_type": "stream",
     "text": [
      "0.69365"
     ]
    },
    {
     "name": "stdout",
     "output_type": "stream",
     "text": [
      " | time: 9.219s\n"
     ]
    },
    {
     "name": "stdout",
     "output_type": "stream",
     "text": [
      "\r| SGD | epoch: 001 | loss: 0.69365 - acc: 0.5031 -- iter: 027520/142904\n"
     ]
    },
    {
     "name": "stdout",
     "output_type": "stream",
     "text": [
      "Training Step: 216  | total loss: "
     ]
    },
    {
     "name": "stdout",
     "output_type": "stream",
     "text": [
      "0.69381"
     ]
    },
    {
     "name": "stdout",
     "output_type": "stream",
     "text": [
      " | time: 9.244s\n"
     ]
    },
    {
     "name": "stdout",
     "output_type": "stream",
     "text": [
      "\r| SGD | epoch: 001 | loss: 0.69381 - acc: 0.5012 -- iter: 027648/142904\n"
     ]
    },
    {
     "name": "stdout",
     "output_type": "stream",
     "text": [
      "Training Step: 217  | total loss: "
     ]
    },
    {
     "name": "stdout",
     "output_type": "stream",
     "text": [
      "0.69381"
     ]
    },
    {
     "name": "stdout",
     "output_type": "stream",
     "text": [
      " | time: 9.268s\n"
     ]
    },
    {
     "name": "stdout",
     "output_type": "stream",
     "text": [
      "\r| SGD | epoch: 001 | loss: 0.69381 - acc: 0.4988 -- iter: 027776/142904\n"
     ]
    },
    {
     "name": "stdout",
     "output_type": "stream",
     "text": [
      "Training Step: 218  | total loss: "
     ]
    },
    {
     "name": "stdout",
     "output_type": "stream",
     "text": [
      "0.69374"
     ]
    },
    {
     "name": "stdout",
     "output_type": "stream",
     "text": [
      " | time: 9.284s\n"
     ]
    },
    {
     "name": "stdout",
     "output_type": "stream",
     "text": [
      "\r| SGD | epoch: 001 | loss: 0.69374 - acc: 0.4989 -- iter: 027904/142904\n"
     ]
    },
    {
     "name": "stdout",
     "output_type": "stream",
     "text": [
      "Training Step: 219  | total loss: "
     ]
    },
    {
     "name": "stdout",
     "output_type": "stream",
     "text": [
      "0.69371"
     ]
    },
    {
     "name": "stdout",
     "output_type": "stream",
     "text": [
      " | time: 9.302s\n"
     ]
    },
    {
     "name": "stdout",
     "output_type": "stream",
     "text": [
      "\r| SGD | epoch: 001 | loss: 0.69371 - acc: 0.4967 -- iter: 028032/142904\n"
     ]
    },
    {
     "name": "stdout",
     "output_type": "stream",
     "text": [
      "Training Step: 220  | total loss: "
     ]
    },
    {
     "name": "stdout",
     "output_type": "stream",
     "text": [
      "0.69359"
     ]
    },
    {
     "name": "stdout",
     "output_type": "stream",
     "text": [
      " | time: 9.318s\n"
     ]
    },
    {
     "name": "stdout",
     "output_type": "stream",
     "text": [
      "\r| SGD | epoch: 001 | loss: 0.69359 - acc: 0.4993 -- iter: 028160/142904\n"
     ]
    },
    {
     "name": "stdout",
     "output_type": "stream",
     "text": [
      "Training Step: 221  | total loss: "
     ]
    },
    {
     "name": "stdout",
     "output_type": "stream",
     "text": [
      "0.69320"
     ]
    },
    {
     "name": "stdout",
     "output_type": "stream",
     "text": [
      " | time: 9.330s\n"
     ]
    },
    {
     "name": "stdout",
     "output_type": "stream",
     "text": [
      "\r| SGD | epoch: 001 | loss: 0.69320 - acc: 0.5064 -- iter: 028288/142904\n"
     ]
    },
    {
     "name": "stdout",
     "output_type": "stream",
     "text": [
      "Training Step: 222  | total loss: "
     ]
    },
    {
     "name": "stdout",
     "output_type": "stream",
     "text": [
      "0.69430"
     ]
    },
    {
     "name": "stdout",
     "output_type": "stream",
     "text": [
      " | time: 9.343s\n"
     ]
    },
    {
     "name": "stdout",
     "output_type": "stream",
     "text": [
      "\r| SGD | epoch: 001 | loss: 0.69430 - acc: 0.4995 -- iter: 028416/142904\n"
     ]
    },
    {
     "name": "stdout",
     "output_type": "stream",
     "text": [
      "Training Step: 223  | total loss: "
     ]
    },
    {
     "name": "stdout",
     "output_type": "stream",
     "text": [
      "0.69416"
     ]
    },
    {
     "name": "stdout",
     "output_type": "stream",
     "text": [
      " | time: 9.355s\n"
     ]
    },
    {
     "name": "stdout",
     "output_type": "stream",
     "text": [
      "\r| SGD | epoch: 001 | loss: 0.69416 - acc: 0.5004 -- iter: 028544/142904\n"
     ]
    },
    {
     "name": "stdout",
     "output_type": "stream",
     "text": [
      "Training Step: 224  | total loss: "
     ]
    },
    {
     "name": "stdout",
     "output_type": "stream",
     "text": [
      "0.69398"
     ]
    },
    {
     "name": "stdout",
     "output_type": "stream",
     "text": [
      " | time: 9.366s\n"
     ]
    },
    {
     "name": "stdout",
     "output_type": "stream",
     "text": [
      "\r| SGD | epoch: 001 | loss: 0.69398 - acc: 0.5050 -- iter: 028672/142904\n"
     ]
    },
    {
     "name": "stdout",
     "output_type": "stream",
     "text": [
      "Training Step: 225  | total loss: "
     ]
    },
    {
     "name": "stdout",
     "output_type": "stream",
     "text": [
      "0.69402"
     ]
    },
    {
     "name": "stdout",
     "output_type": "stream",
     "text": [
      " | time: 9.377s\n"
     ]
    },
    {
     "name": "stdout",
     "output_type": "stream",
     "text": [
      "\r| SGD | epoch: 001 | loss: 0.69402 - acc: 0.5037 -- iter: 028800/142904\n"
     ]
    },
    {
     "name": "stdout",
     "output_type": "stream",
     "text": [
      "Training Step: 226  | total loss: "
     ]
    },
    {
     "name": "stdout",
     "output_type": "stream",
     "text": [
      "0.69385"
     ]
    },
    {
     "name": "stdout",
     "output_type": "stream",
     "text": [
      " | time: 9.391s\n"
     ]
    },
    {
     "name": "stdout",
     "output_type": "stream",
     "text": [
      "\r| SGD | epoch: 001 | loss: 0.69385 - acc: 0.5057 -- iter: 028928/142904\n"
     ]
    },
    {
     "name": "stdout",
     "output_type": "stream",
     "text": [
      "Training Step: 227  | total loss: "
     ]
    },
    {
     "name": "stdout",
     "output_type": "stream",
     "text": [
      "0.69363"
     ]
    },
    {
     "name": "stdout",
     "output_type": "stream",
     "text": [
      " | time: 9.403s\n"
     ]
    },
    {
     "name": "stdout",
     "output_type": "stream",
     "text": [
      "\r| SGD | epoch: 001 | loss: 0.69363 - acc: 0.5083 -- iter: 029056/142904\n"
     ]
    },
    {
     "name": "stdout",
     "output_type": "stream",
     "text": [
      "Training Step: 228  | total loss: "
     ]
    },
    {
     "name": "stdout",
     "output_type": "stream",
     "text": [
      "0.69338"
     ]
    },
    {
     "name": "stdout",
     "output_type": "stream",
     "text": [
      " | time: 9.416s\n"
     ]
    },
    {
     "name": "stdout",
     "output_type": "stream",
     "text": [
      "\r| SGD | epoch: 001 | loss: 0.69338 - acc: 0.5106 -- iter: 029184/142904\n"
     ]
    },
    {
     "name": "stdout",
     "output_type": "stream",
     "text": [
      "Training Step: 229  | total loss: "
     ]
    },
    {
     "name": "stdout",
     "output_type": "stream",
     "text": [
      "0.69285"
     ]
    },
    {
     "name": "stdout",
     "output_type": "stream",
     "text": [
      " | time: 9.428s\n"
     ]
    },
    {
     "name": "stdout",
     "output_type": "stream",
     "text": [
      "\r| SGD | epoch: 001 | loss: 0.69285 - acc: 0.5158 -- iter: 029312/142904\n"
     ]
    },
    {
     "name": "stdout",
     "output_type": "stream",
     "text": [
      "Training Step: 230  | total loss: "
     ]
    },
    {
     "name": "stdout",
     "output_type": "stream",
     "text": [
      "0.69305"
     ]
    },
    {
     "name": "stdout",
     "output_type": "stream",
     "text": [
      " | time: 9.440s\n"
     ]
    },
    {
     "name": "stdout",
     "output_type": "stream",
     "text": [
      "\r| SGD | epoch: 001 | loss: 0.69305 - acc: 0.5150 -- iter: 029440/142904\n"
     ]
    },
    {
     "name": "stdout",
     "output_type": "stream",
     "text": [
      "Training Step: 231  | total loss: "
     ]
    },
    {
     "name": "stdout",
     "output_type": "stream",
     "text": [
      "0.69210"
     ]
    },
    {
     "name": "stdout",
     "output_type": "stream",
     "text": [
      " | time: 9.452s\n"
     ]
    },
    {
     "name": "stdout",
     "output_type": "stream",
     "text": [
      "\r| SGD | epoch: 001 | loss: 0.69210 - acc: 0.5236 -- iter: 029568/142904\n"
     ]
    },
    {
     "name": "stdout",
     "output_type": "stream",
     "text": [
      "Training Step: 232  | total loss: "
     ]
    },
    {
     "name": "stdout",
     "output_type": "stream",
     "text": [
      "0.69263"
     ]
    },
    {
     "name": "stdout",
     "output_type": "stream",
     "text": [
      " | time: 9.466s\n"
     ]
    },
    {
     "name": "stdout",
     "output_type": "stream",
     "text": [
      "\r| SGD | epoch: 001 | loss: 0.69263 - acc: 0.5220 -- iter: 029696/142904\n"
     ]
    },
    {
     "name": "stdout",
     "output_type": "stream",
     "text": [
      "Training Step: 233  | total loss: "
     ]
    },
    {
     "name": "stdout",
     "output_type": "stream",
     "text": [
      "0.69248"
     ]
    },
    {
     "name": "stdout",
     "output_type": "stream",
     "text": [
      " | time: 9.481s\n"
     ]
    },
    {
     "name": "stdout",
     "output_type": "stream",
     "text": [
      "\r| SGD | epoch: 001 | loss: 0.69248 - acc: 0.5230 -- iter: 029824/142904\n"
     ]
    },
    {
     "name": "stdout",
     "output_type": "stream",
     "text": [
      "Training Step: 234  | total loss: "
     ]
    },
    {
     "name": "stdout",
     "output_type": "stream",
     "text": [
      "0.69268"
     ]
    },
    {
     "name": "stdout",
     "output_type": "stream",
     "text": [
      " | time: 9.496s\n"
     ]
    },
    {
     "name": "stdout",
     "output_type": "stream",
     "text": [
      "\r| SGD | epoch: 001 | loss: 0.69268 - acc: 0.5214 -- iter: 029952/142904\n"
     ]
    },
    {
     "name": "stdout",
     "output_type": "stream",
     "text": [
      "Training Step: 235  | total loss: "
     ]
    },
    {
     "name": "stdout",
     "output_type": "stream",
     "text": [
      "0.69291"
     ]
    },
    {
     "name": "stdout",
     "output_type": "stream",
     "text": [
      " | time: 9.510s\n"
     ]
    },
    {
     "name": "stdout",
     "output_type": "stream",
     "text": [
      "\r| SGD | epoch: 001 | loss: 0.69291 - acc: 0.5185 -- iter: 030080/142904\n"
     ]
    },
    {
     "name": "stdout",
     "output_type": "stream",
     "text": [
      "Training Step: 236  | total loss: "
     ]
    },
    {
     "name": "stdout",
     "output_type": "stream",
     "text": [
      "0.69289"
     ]
    },
    {
     "name": "stdout",
     "output_type": "stream",
     "text": [
      " | time: 9.524s\n"
     ]
    },
    {
     "name": "stdout",
     "output_type": "stream",
     "text": [
      "\r| SGD | epoch: 001 | loss: 0.69289 - acc: 0.5182 -- iter: 030208/142904\n"
     ]
    },
    {
     "name": "stdout",
     "output_type": "stream",
     "text": [
      "Training Step: 237  | total loss: "
     ]
    },
    {
     "name": "stdout",
     "output_type": "stream",
     "text": [
      "0.69318"
     ]
    },
    {
     "name": "stdout",
     "output_type": "stream",
     "text": [
      " | time: 9.536s\n"
     ]
    },
    {
     "name": "stdout",
     "output_type": "stream",
     "text": [
      "\r| SGD | epoch: 001 | loss: 0.69318 - acc: 0.5117 -- iter: 030336/142904\n"
     ]
    },
    {
     "name": "stdout",
     "output_type": "stream",
     "text": [
      "Training Step: 238  | total loss: "
     ]
    },
    {
     "name": "stdout",
     "output_type": "stream",
     "text": [
      "0.69300"
     ]
    },
    {
     "name": "stdout",
     "output_type": "stream",
     "text": [
      " | time: 9.550s\n"
     ]
    },
    {
     "name": "stdout",
     "output_type": "stream",
     "text": [
      "\r| SGD | epoch: 001 | loss: 0.69300 - acc: 0.5152 -- iter: 030464/142904\n"
     ]
    },
    {
     "name": "stdout",
     "output_type": "stream",
     "text": [
      "Training Step: 239  | total loss: "
     ]
    },
    {
     "name": "stdout",
     "output_type": "stream",
     "text": [
      "0.69354"
     ]
    },
    {
     "name": "stdout",
     "output_type": "stream",
     "text": [
      " | time: 9.561s\n"
     ]
    },
    {
     "name": "stdout",
     "output_type": "stream",
     "text": [
      "\r| SGD | epoch: 001 | loss: 0.69354 - acc: 0.5090 -- iter: 030592/142904\n"
     ]
    },
    {
     "name": "stdout",
     "output_type": "stream",
     "text": [
      "Training Step: 240  | total loss: "
     ]
    },
    {
     "name": "stdout",
     "output_type": "stream",
     "text": [
      "0.69351"
     ]
    },
    {
     "name": "stdout",
     "output_type": "stream",
     "text": [
      " | time: 9.575s\n"
     ]
    },
    {
     "name": "stdout",
     "output_type": "stream",
     "text": [
      "\r| SGD | epoch: 001 | loss: 0.69351 - acc: 0.5066 -- iter: 030720/142904\n"
     ]
    },
    {
     "name": "stdout",
     "output_type": "stream",
     "text": [
      "Training Step: 241  | total loss: "
     ]
    },
    {
     "name": "stdout",
     "output_type": "stream",
     "text": [
      "0.69351"
     ]
    },
    {
     "name": "stdout",
     "output_type": "stream",
     "text": [
      " | time: 9.588s\n"
     ]
    },
    {
     "name": "stdout",
     "output_type": "stream",
     "text": [
      "\r| SGD | epoch: 001 | loss: 0.69351 - acc: 0.5028 -- iter: 030848/142904\n"
     ]
    },
    {
     "name": "stdout",
     "output_type": "stream",
     "text": [
      "Training Step: 242  | total loss: "
     ]
    },
    {
     "name": "stdout",
     "output_type": "stream",
     "text": [
      "0.69344"
     ]
    },
    {
     "name": "stdout",
     "output_type": "stream",
     "text": [
      " | time: 9.603s\n"
     ]
    },
    {
     "name": "stdout",
     "output_type": "stream",
     "text": [
      "\r| SGD | epoch: 001 | loss: 0.69344 - acc: 0.5033 -- iter: 030976/142904\n"
     ]
    },
    {
     "name": "stdout",
     "output_type": "stream",
     "text": [
      "Training Step: 243  | total loss: "
     ]
    },
    {
     "name": "stdout",
     "output_type": "stream",
     "text": [
      "0.69345"
     ]
    },
    {
     "name": "stdout",
     "output_type": "stream",
     "text": [
      " | time: 9.618s\n"
     ]
    },
    {
     "name": "stdout",
     "output_type": "stream",
     "text": [
      "\r| SGD | epoch: 001 | loss: 0.69345 - acc: 0.5022 -- iter: 031104/142904\n"
     ]
    },
    {
     "name": "stdout",
     "output_type": "stream",
     "text": [
      "Training Step: 244  | total loss: "
     ]
    },
    {
     "name": "stdout",
     "output_type": "stream",
     "text": [
      "0.69343"
     ]
    },
    {
     "name": "stdout",
     "output_type": "stream",
     "text": [
      " | time: 9.635s\n"
     ]
    },
    {
     "name": "stdout",
     "output_type": "stream",
     "text": [
      "\r| SGD | epoch: 001 | loss: 0.69343 - acc: 0.4988 -- iter: 031232/142904\n"
     ]
    },
    {
     "name": "stdout",
     "output_type": "stream",
     "text": [
      "Training Step: 245  | total loss: "
     ]
    },
    {
     "name": "stdout",
     "output_type": "stream",
     "text": [
      "0.69357"
     ]
    },
    {
     "name": "stdout",
     "output_type": "stream",
     "text": [
      " | time: 9.655s\n"
     ]
    },
    {
     "name": "stdout",
     "output_type": "stream",
     "text": [
      "\r| SGD | epoch: 001 | loss: 0.69357 - acc: 0.4950 -- iter: 031360/142904\n"
     ]
    },
    {
     "name": "stdout",
     "output_type": "stream",
     "text": [
      "Training Step: 246  | total loss: "
     ]
    },
    {
     "name": "stdout",
     "output_type": "stream",
     "text": [
      "0.69345"
     ]
    },
    {
     "name": "stdout",
     "output_type": "stream",
     "text": [
      " | time: 9.672s\n"
     ]
    },
    {
     "name": "stdout",
     "output_type": "stream",
     "text": [
      "\r| SGD | epoch: 001 | loss: 0.69345 - acc: 0.4979 -- iter: 031488/142904\n"
     ]
    },
    {
     "name": "stdout",
     "output_type": "stream",
     "text": [
      "Training Step: 247  | total loss: "
     ]
    },
    {
     "name": "stdout",
     "output_type": "stream",
     "text": [
      "0.69348"
     ]
    },
    {
     "name": "stdout",
     "output_type": "stream",
     "text": [
      " | time: 9.688s\n"
     ]
    },
    {
     "name": "stdout",
     "output_type": "stream",
     "text": [
      "\r| SGD | epoch: 001 | loss: 0.69348 - acc: 0.4973 -- iter: 031616/142904\n"
     ]
    },
    {
     "name": "stdout",
     "output_type": "stream",
     "text": [
      "Training Step: 248  | total loss: "
     ]
    },
    {
     "name": "stdout",
     "output_type": "stream",
     "text": [
      "0.69335"
     ]
    },
    {
     "name": "stdout",
     "output_type": "stream",
     "text": [
      " | time: 9.704s\n"
     ]
    },
    {
     "name": "stdout",
     "output_type": "stream",
     "text": [
      "\r| SGD | epoch: 001 | loss: 0.69335 - acc: 0.5015 -- iter: 031744/142904\n"
     ]
    },
    {
     "name": "stdout",
     "output_type": "stream",
     "text": [
      "Training Step: 249  | total loss: "
     ]
    },
    {
     "name": "stdout",
     "output_type": "stream",
     "text": [
      "0.69315"
     ]
    },
    {
     "name": "stdout",
     "output_type": "stream",
     "text": [
      " | time: 9.719s\n"
     ]
    },
    {
     "name": "stdout",
     "output_type": "stream",
     "text": [
      "\r| SGD | epoch: 001 | loss: 0.69315 - acc: 0.5045 -- iter: 031872/142904\n"
     ]
    },
    {
     "name": "stdout",
     "output_type": "stream",
     "text": [
      "Training Step: 250  | total loss: "
     ]
    },
    {
     "name": "stdout",
     "output_type": "stream",
     "text": [
      "0.69322"
     ]
    },
    {
     "name": "stdout",
     "output_type": "stream",
     "text": [
      " | time: 9.734s\n"
     ]
    },
    {
     "name": "stdout",
     "output_type": "stream",
     "text": [
      "\r| SGD | epoch: 001 | loss: 0.69322 - acc: 0.5040 -- iter: 032000/142904\n"
     ]
    },
    {
     "name": "stdout",
     "output_type": "stream",
     "text": [
      "Training Step: 251  | total loss: "
     ]
    },
    {
     "name": "stdout",
     "output_type": "stream",
     "text": [
      "0.69342"
     ]
    },
    {
     "name": "stdout",
     "output_type": "stream",
     "text": [
      " | time: 9.748s\n"
     ]
    },
    {
     "name": "stdout",
     "output_type": "stream",
     "text": [
      "\r| SGD | epoch: 001 | loss: 0.69342 - acc: 0.5005 -- iter: 032128/142904\n"
     ]
    },
    {
     "name": "stdout",
     "output_type": "stream",
     "text": [
      "Training Step: 252  | total loss: "
     ]
    },
    {
     "name": "stdout",
     "output_type": "stream",
     "text": [
      "0.69344"
     ]
    },
    {
     "name": "stdout",
     "output_type": "stream",
     "text": [
      " | time: 9.761s\n"
     ]
    },
    {
     "name": "stdout",
     "output_type": "stream",
     "text": [
      "\r| SGD | epoch: 001 | loss: 0.69344 - acc: 0.4958 -- iter: 032256/142904\n"
     ]
    },
    {
     "name": "stdout",
     "output_type": "stream",
     "text": [
      "Training Step: 253  | total loss: "
     ]
    },
    {
     "name": "stdout",
     "output_type": "stream",
     "text": [
      "0.69354"
     ]
    },
    {
     "name": "stdout",
     "output_type": "stream",
     "text": [
      " | time: 9.774s\n"
     ]
    },
    {
     "name": "stdout",
     "output_type": "stream",
     "text": [
      "\r| SGD | epoch: 001 | loss: 0.69354 - acc: 0.4946 -- iter: 032384/142904\n"
     ]
    },
    {
     "name": "stdout",
     "output_type": "stream",
     "text": [
      "Training Step: 254  | total loss: "
     ]
    },
    {
     "name": "stdout",
     "output_type": "stream",
     "text": [
      "0.69352"
     ]
    },
    {
     "name": "stdout",
     "output_type": "stream",
     "text": [
      " | time: 9.786s\n"
     ]
    },
    {
     "name": "stdout",
     "output_type": "stream",
     "text": [
      "\r| SGD | epoch: 001 | loss: 0.69352 - acc: 0.4912 -- iter: 032512/142904\n"
     ]
    },
    {
     "name": "stdout",
     "output_type": "stream",
     "text": [
      "Training Step: 255  | total loss: "
     ]
    },
    {
     "name": "stdout",
     "output_type": "stream",
     "text": [
      "0.69354"
     ]
    },
    {
     "name": "stdout",
     "output_type": "stream",
     "text": [
      " | time: 9.799s\n"
     ]
    },
    {
     "name": "stdout",
     "output_type": "stream",
     "text": [
      "\r| SGD | epoch: 001 | loss: 0.69354 - acc: 0.4913 -- iter: 032640/142904\n"
     ]
    },
    {
     "name": "stdout",
     "output_type": "stream",
     "text": [
      "Training Step: 256  | total loss: "
     ]
    },
    {
     "name": "stdout",
     "output_type": "stream",
     "text": [
      "0.69344"
     ]
    },
    {
     "name": "stdout",
     "output_type": "stream",
     "text": [
      " | time: 9.810s\n"
     ]
    },
    {
     "name": "stdout",
     "output_type": "stream",
     "text": [
      "\r| SGD | epoch: 001 | loss: 0.69344 - acc: 0.4938 -- iter: 032768/142904\n"
     ]
    },
    {
     "name": "stdout",
     "output_type": "stream",
     "text": [
      "Training Step: 257  | total loss: "
     ]
    },
    {
     "name": "stdout",
     "output_type": "stream",
     "text": [
      "0.69365"
     ]
    },
    {
     "name": "stdout",
     "output_type": "stream",
     "text": [
      " | time: 9.824s\n"
     ]
    },
    {
     "name": "stdout",
     "output_type": "stream",
     "text": [
      "\r| SGD | epoch: 001 | loss: 0.69365 - acc: 0.4881 -- iter: 032896/142904\n"
     ]
    },
    {
     "name": "stdout",
     "output_type": "stream",
     "text": [
      "Training Step: 258  | total loss: "
     ]
    },
    {
     "name": "stdout",
     "output_type": "stream",
     "text": [
      "0.69381"
     ]
    },
    {
     "name": "stdout",
     "output_type": "stream",
     "text": [
      " | time: 9.836s\n"
     ]
    },
    {
     "name": "stdout",
     "output_type": "stream",
     "text": [
      "\r| SGD | epoch: 001 | loss: 0.69381 - acc: 0.4870 -- iter: 033024/142904\n"
     ]
    },
    {
     "name": "stdout",
     "output_type": "stream",
     "text": [
      "Training Step: 259  | total loss: "
     ]
    },
    {
     "name": "stdout",
     "output_type": "stream",
     "text": [
      "0.69372"
     ]
    },
    {
     "name": "stdout",
     "output_type": "stream",
     "text": [
      " | time: 9.849s\n"
     ]
    },
    {
     "name": "stdout",
     "output_type": "stream",
     "text": [
      "\r| SGD | epoch: 001 | loss: 0.69372 - acc: 0.4875 -- iter: 033152/142904\n"
     ]
    },
    {
     "name": "stdout",
     "output_type": "stream",
     "text": [
      "Training Step: 260  | total loss: "
     ]
    },
    {
     "name": "stdout",
     "output_type": "stream",
     "text": [
      "0.69367"
     ]
    },
    {
     "name": "stdout",
     "output_type": "stream",
     "text": [
      " | time: 9.861s\n"
     ]
    },
    {
     "name": "stdout",
     "output_type": "stream",
     "text": [
      "\r| SGD | epoch: 001 | loss: 0.69367 - acc: 0.4809 -- iter: 033280/142904\n"
     ]
    },
    {
     "name": "stdout",
     "output_type": "stream",
     "text": [
      "Training Step: 261  | total loss: "
     ]
    },
    {
     "name": "stdout",
     "output_type": "stream",
     "text": [
      "0.69401"
     ]
    },
    {
     "name": "stdout",
     "output_type": "stream",
     "text": [
      " | time: 9.874s\n"
     ]
    },
    {
     "name": "stdout",
     "output_type": "stream",
     "text": [
      "\r| SGD | epoch: 001 | loss: 0.69401 - acc: 0.4805 -- iter: 033408/142904\n"
     ]
    },
    {
     "name": "stdout",
     "output_type": "stream",
     "text": [
      "Training Step: 262  | total loss: "
     ]
    },
    {
     "name": "stdout",
     "output_type": "stream",
     "text": [
      "0.69399"
     ]
    },
    {
     "name": "stdout",
     "output_type": "stream",
     "text": [
      " | time: 9.887s\n"
     ]
    },
    {
     "name": "stdout",
     "output_type": "stream",
     "text": [
      "\r| SGD | epoch: 001 | loss: 0.69399 - acc: 0.4809 -- iter: 033536/142904\n"
     ]
    },
    {
     "name": "stdout",
     "output_type": "stream",
     "text": [
      "Training Step: 263  | total loss: "
     ]
    },
    {
     "name": "stdout",
     "output_type": "stream",
     "text": [
      "0.69390"
     ]
    },
    {
     "name": "stdout",
     "output_type": "stream",
     "text": [
      " | time: 9.898s\n"
     ]
    },
    {
     "name": "stdout",
     "output_type": "stream",
     "text": [
      "\r| SGD | epoch: 001 | loss: 0.69390 - acc: 0.4781 -- iter: 033664/142904\n"
     ]
    },
    {
     "name": "stdout",
     "output_type": "stream",
     "text": [
      "Training Step: 264  | total loss: "
     ]
    },
    {
     "name": "stdout",
     "output_type": "stream",
     "text": [
      "0.69332"
     ]
    },
    {
     "name": "stdout",
     "output_type": "stream",
     "text": [
      " | time: 9.911s\n"
     ]
    },
    {
     "name": "stdout",
     "output_type": "stream",
     "text": [
      "\r| SGD | epoch: 001 | loss: 0.69332 - acc: 0.4866 -- iter: 033792/142904\n"
     ]
    },
    {
     "name": "stdout",
     "output_type": "stream",
     "text": [
      "Training Step: 265  | total loss: "
     ]
    },
    {
     "name": "stdout",
     "output_type": "stream",
     "text": [
      "0.69309"
     ]
    },
    {
     "name": "stdout",
     "output_type": "stream",
     "text": [
      " | time: 9.923s\n"
     ]
    },
    {
     "name": "stdout",
     "output_type": "stream",
     "text": [
      "\r| SGD | epoch: 001 | loss: 0.69309 - acc: 0.4910 -- iter: 033920/142904\n"
     ]
    },
    {
     "name": "stdout",
     "output_type": "stream",
     "text": [
      "Training Step: 266  | total loss: "
     ]
    },
    {
     "name": "stdout",
     "output_type": "stream",
     "text": [
      "0.69219"
     ]
    },
    {
     "name": "stdout",
     "output_type": "stream",
     "text": [
      " | time: 9.935s\n"
     ]
    },
    {
     "name": "stdout",
     "output_type": "stream",
     "text": [
      "\r| SGD | epoch: 001 | loss: 0.69219 - acc: 0.4997 -- iter: 034048/142904\n"
     ]
    },
    {
     "name": "stdout",
     "output_type": "stream",
     "text": [
      "Training Step: 267  | total loss: "
     ]
    },
    {
     "name": "stdout",
     "output_type": "stream",
     "text": [
      "0.69248"
     ]
    },
    {
     "name": "stdout",
     "output_type": "stream",
     "text": [
      " | time: 9.953s\n"
     ]
    },
    {
     "name": "stdout",
     "output_type": "stream",
     "text": [
      "\r| SGD | epoch: 001 | loss: 0.69248 - acc: 0.5013 -- iter: 034176/142904\n"
     ]
    },
    {
     "name": "stdout",
     "output_type": "stream",
     "text": [
      "Training Step: 268  | total loss: "
     ]
    },
    {
     "name": "stdout",
     "output_type": "stream",
     "text": [
      "0.69304"
     ]
    },
    {
     "name": "stdout",
     "output_type": "stream",
     "text": [
      " | time: 9.970s\n"
     ]
    },
    {
     "name": "stdout",
     "output_type": "stream",
     "text": [
      "\r| SGD | epoch: 001 | loss: 0.69304 - acc: 0.4996 -- iter: 034304/142904\n"
     ]
    },
    {
     "name": "stdout",
     "output_type": "stream",
     "text": [
      "Training Step: 269  | total loss: "
     ]
    },
    {
     "name": "stdout",
     "output_type": "stream",
     "text": [
      "0.69304"
     ]
    },
    {
     "name": "stdout",
     "output_type": "stream",
     "text": [
      " | time: 9.985s\n"
     ]
    },
    {
     "name": "stdout",
     "output_type": "stream",
     "text": [
      "\r| SGD | epoch: 001 | loss: 0.69304 - acc: 0.5004 -- iter: 034432/142904\n"
     ]
    },
    {
     "name": "stdout",
     "output_type": "stream",
     "text": [
      "Training Step: 270  | total loss: "
     ]
    },
    {
     "name": "stdout",
     "output_type": "stream",
     "text": [
      "0.69384"
     ]
    },
    {
     "name": "stdout",
     "output_type": "stream",
     "text": [
      " | time: 9.998s\n"
     ]
    },
    {
     "name": "stdout",
     "output_type": "stream",
     "text": [
      "\r| SGD | epoch: 001 | loss: 0.69384 - acc: 0.4863 -- iter: 034560/142904\n"
     ]
    },
    {
     "name": "stdout",
     "output_type": "stream",
     "text": [
      "Training Step: 271  | total loss: "
     ]
    },
    {
     "name": "stdout",
     "output_type": "stream",
     "text": [
      "0.69300"
     ]
    },
    {
     "name": "stdout",
     "output_type": "stream",
     "text": [
      " | time: 10.009s\n"
     ]
    },
    {
     "name": "stdout",
     "output_type": "stream",
     "text": [
      "\r| SGD | epoch: 001 | loss: 0.69300 - acc: 0.4940 -- iter: 034688/142904\n"
     ]
    },
    {
     "name": "stdout",
     "output_type": "stream",
     "text": [
      "Training Step: 272  | total loss: "
     ]
    },
    {
     "name": "stdout",
     "output_type": "stream",
     "text": [
      "0.69335"
     ]
    },
    {
     "name": "stdout",
     "output_type": "stream",
     "text": [
      " | time: 10.023s\n"
     ]
    },
    {
     "name": "stdout",
     "output_type": "stream",
     "text": [
      "\r| SGD | epoch: 001 | loss: 0.69335 - acc: 0.4953 -- iter: 034816/142904\n"
     ]
    },
    {
     "name": "stdout",
     "output_type": "stream",
     "text": [
      "Training Step: 273  | total loss: "
     ]
    },
    {
     "name": "stdout",
     "output_type": "stream",
     "text": [
      "0.69309"
     ]
    },
    {
     "name": "stdout",
     "output_type": "stream",
     "text": [
      " | time: 10.036s\n"
     ]
    },
    {
     "name": "stdout",
     "output_type": "stream",
     "text": [
      "\r| SGD | epoch: 001 | loss: 0.69309 - acc: 0.4989 -- iter: 034944/142904\n"
     ]
    },
    {
     "name": "stdout",
     "output_type": "stream",
     "text": [
      "Training Step: 274  | total loss: "
     ]
    },
    {
     "name": "stdout",
     "output_type": "stream",
     "text": [
      "0.69338"
     ]
    },
    {
     "name": "stdout",
     "output_type": "stream",
     "text": [
      " | time: 10.050s\n"
     ]
    },
    {
     "name": "stdout",
     "output_type": "stream",
     "text": [
      "\r| SGD | epoch: 001 | loss: 0.69338 - acc: 0.4983 -- iter: 035072/142904\n"
     ]
    },
    {
     "name": "stdout",
     "output_type": "stream",
     "text": [
      "Training Step: 275  | total loss: "
     ]
    },
    {
     "name": "stdout",
     "output_type": "stream",
     "text": [
      "0.69349"
     ]
    },
    {
     "name": "stdout",
     "output_type": "stream",
     "text": [
      " | time: 10.062s\n"
     ]
    },
    {
     "name": "stdout",
     "output_type": "stream",
     "text": [
      "\r| SGD | epoch: 001 | loss: 0.69349 - acc: 0.4969 -- iter: 035200/142904\n"
     ]
    },
    {
     "name": "stdout",
     "output_type": "stream",
     "text": [
      "Training Step: 276  | total loss: "
     ]
    },
    {
     "name": "stdout",
     "output_type": "stream",
     "text": [
      "0.69347"
     ]
    },
    {
     "name": "stdout",
     "output_type": "stream",
     "text": [
      " | time: 10.076s\n"
     ]
    },
    {
     "name": "stdout",
     "output_type": "stream",
     "text": [
      "\r| SGD | epoch: 001 | loss: 0.69347 - acc: 0.4948 -- iter: 035328/142904\n"
     ]
    },
    {
     "name": "stdout",
     "output_type": "stream",
     "text": [
      "Training Step: 277  | total loss: "
     ]
    },
    {
     "name": "stdout",
     "output_type": "stream",
     "text": [
      "0.69334"
     ]
    },
    {
     "name": "stdout",
     "output_type": "stream",
     "text": [
      " | time: 10.088s\n"
     ]
    },
    {
     "name": "stdout",
     "output_type": "stream",
     "text": [
      "\r| SGD | epoch: 001 | loss: 0.69334 - acc: 0.4985 -- iter: 035456/142904\n"
     ]
    },
    {
     "name": "stdout",
     "output_type": "stream",
     "text": [
      "Training Step: 278  | total loss: "
     ]
    },
    {
     "name": "stdout",
     "output_type": "stream",
     "text": [
      "0.69303"
     ]
    },
    {
     "name": "stdout",
     "output_type": "stream",
     "text": [
      " | time: 10.102s\n"
     ]
    },
    {
     "name": "stdout",
     "output_type": "stream",
     "text": [
      "\r| SGD | epoch: 001 | loss: 0.69303 - acc: 0.5033 -- iter: 035584/142904\n"
     ]
    },
    {
     "name": "stdout",
     "output_type": "stream",
     "text": [
      "Training Step: 279  | total loss: "
     ]
    },
    {
     "name": "stdout",
     "output_type": "stream",
     "text": [
      "0.69213"
     ]
    },
    {
     "name": "stdout",
     "output_type": "stream",
     "text": [
      " | time: 10.113s\n"
     ]
    },
    {
     "name": "stdout",
     "output_type": "stream",
     "text": [
      "\r| SGD | epoch: 001 | loss: 0.69213 - acc: 0.5124 -- iter: 035712/142904\n"
     ]
    },
    {
     "name": "stdout",
     "output_type": "stream",
     "text": [
      "Training Step: 280  | total loss: "
     ]
    },
    {
     "name": "stdout",
     "output_type": "stream",
     "text": [
      "0.69193"
     ]
    },
    {
     "name": "stdout",
     "output_type": "stream",
     "text": [
      " | time: 10.127s\n"
     ]
    },
    {
     "name": "stdout",
     "output_type": "stream",
     "text": [
      "\r| SGD | epoch: 001 | loss: 0.69193 - acc: 0.5150 -- iter: 035840/142904\n"
     ]
    },
    {
     "name": "stdout",
     "output_type": "stream",
     "text": [
      "Training Step: 281  | total loss: "
     ]
    },
    {
     "name": "stdout",
     "output_type": "stream",
     "text": [
      "0.69171"
     ]
    },
    {
     "name": "stdout",
     "output_type": "stream",
     "text": [
      " | time: 10.140s\n"
     ]
    },
    {
     "name": "stdout",
     "output_type": "stream",
     "text": [
      "\r| SGD | epoch: 001 | loss: 0.69171 - acc: 0.5174 -- iter: 035968/142904\n"
     ]
    },
    {
     "name": "stdout",
     "output_type": "stream",
     "text": [
      "Training Step: 282  | total loss: "
     ]
    },
    {
     "name": "stdout",
     "output_type": "stream",
     "text": [
      "0.69276"
     ]
    },
    {
     "name": "stdout",
     "output_type": "stream",
     "text": [
      " | time: 10.157s\n"
     ]
    },
    {
     "name": "stdout",
     "output_type": "stream",
     "text": [
      "\r| SGD | epoch: 001 | loss: 0.69276 - acc: 0.5126 -- iter: 036096/142904\n"
     ]
    },
    {
     "name": "stdout",
     "output_type": "stream",
     "text": [
      "Training Step: 283  | total loss: "
     ]
    },
    {
     "name": "stdout",
     "output_type": "stream",
     "text": [
      "0.69270"
     ]
    },
    {
     "name": "stdout",
     "output_type": "stream",
     "text": [
      " | time: 10.171s\n"
     ]
    },
    {
     "name": "stdout",
     "output_type": "stream",
     "text": [
      "\r| SGD | epoch: 001 | loss: 0.69270 - acc: 0.5129 -- iter: 036224/142904\n"
     ]
    },
    {
     "name": "stdout",
     "output_type": "stream",
     "text": [
      "Training Step: 284  | total loss: "
     ]
    },
    {
     "name": "stdout",
     "output_type": "stream",
     "text": [
      "0.69295"
     ]
    },
    {
     "name": "stdout",
     "output_type": "stream",
     "text": [
      " | time: 10.187s\n"
     ]
    },
    {
     "name": "stdout",
     "output_type": "stream",
     "text": [
      "\r| SGD | epoch: 001 | loss: 0.69295 - acc: 0.5085 -- iter: 036352/142904\n"
     ]
    },
    {
     "name": "stdout",
     "output_type": "stream",
     "text": [
      "Training Step: 285  | total loss: "
     ]
    },
    {
     "name": "stdout",
     "output_type": "stream",
     "text": [
      "0.69296"
     ]
    },
    {
     "name": "stdout",
     "output_type": "stream",
     "text": [
      " | time: 10.202s\n"
     ]
    },
    {
     "name": "stdout",
     "output_type": "stream",
     "text": [
      "\r| SGD | epoch: 001 | loss: 0.69296 - acc: 0.5053 -- iter: 036480/142904\n"
     ]
    },
    {
     "name": "stdout",
     "output_type": "stream",
     "text": [
      "Training Step: 286  | total loss: "
     ]
    },
    {
     "name": "stdout",
     "output_type": "stream",
     "text": [
      "0.69307"
     ]
    },
    {
     "name": "stdout",
     "output_type": "stream",
     "text": [
      " | time: 10.218s\n"
     ]
    },
    {
     "name": "stdout",
     "output_type": "stream",
     "text": [
      "\r| SGD | epoch: 001 | loss: 0.69307 - acc: 0.5008 -- iter: 036608/142904\n"
     ]
    },
    {
     "name": "stdout",
     "output_type": "stream",
     "text": [
      "Training Step: 287  | total loss: "
     ]
    },
    {
     "name": "stdout",
     "output_type": "stream",
     "text": [
      "0.69335"
     ]
    },
    {
     "name": "stdout",
     "output_type": "stream",
     "text": [
      " | time: 10.236s\n"
     ]
    },
    {
     "name": "stdout",
     "output_type": "stream",
     "text": [
      "\r| SGD | epoch: 001 | loss: 0.69335 - acc: 0.4929 -- iter: 036736/142904\n"
     ]
    },
    {
     "name": "stdout",
     "output_type": "stream",
     "text": [
      "Training Step: 288  | total loss: "
     ]
    },
    {
     "name": "stdout",
     "output_type": "stream",
     "text": [
      "0.69339"
     ]
    },
    {
     "name": "stdout",
     "output_type": "stream",
     "text": [
      " | time: 10.249s\n"
     ]
    },
    {
     "name": "stdout",
     "output_type": "stream",
     "text": [
      "\r| SGD | epoch: 001 | loss: 0.69339 - acc: 0.4936 -- iter: 036864/142904\n"
     ]
    },
    {
     "name": "stdout",
     "output_type": "stream",
     "text": [
      "Training Step: 289  | total loss: "
     ]
    },
    {
     "name": "stdout",
     "output_type": "stream",
     "text": [
      "0.69285"
     ]
    },
    {
     "name": "stdout",
     "output_type": "stream",
     "text": [
      " | time: 10.265s\n"
     ]
    },
    {
     "name": "stdout",
     "output_type": "stream",
     "text": [
      "\r| SGD | epoch: 001 | loss: 0.69285 - acc: 0.5021 -- iter: 036992/142904\n"
     ]
    },
    {
     "name": "stdout",
     "output_type": "stream",
     "text": [
      "Training Step: 290  | total loss: "
     ]
    },
    {
     "name": "stdout",
     "output_type": "stream",
     "text": [
      "0.69263"
     ]
    },
    {
     "name": "stdout",
     "output_type": "stream",
     "text": [
      " | time: 10.277s\n"
     ]
    },
    {
     "name": "stdout",
     "output_type": "stream",
     "text": [
      "\r| SGD | epoch: 001 | loss: 0.69263 - acc: 0.5050 -- iter: 037120/142904\n"
     ]
    },
    {
     "name": "stdout",
     "output_type": "stream",
     "text": [
      "Training Step: 291  | total loss: "
     ]
    },
    {
     "name": "stdout",
     "output_type": "stream",
     "text": [
      "0.69244"
     ]
    },
    {
     "name": "stdout",
     "output_type": "stream",
     "text": [
      " | time: 10.292s\n"
     ]
    },
    {
     "name": "stdout",
     "output_type": "stream",
     "text": [
      "\r| SGD | epoch: 001 | loss: 0.69244 - acc: 0.5076 -- iter: 037248/142904\n"
     ]
    },
    {
     "name": "stdout",
     "output_type": "stream",
     "text": [
      "Training Step: 292  | total loss: "
     ]
    },
    {
     "name": "stdout",
     "output_type": "stream",
     "text": [
      "0.69367"
     ]
    },
    {
     "name": "stdout",
     "output_type": "stream",
     "text": [
      " | time: 10.306s\n"
     ]
    },
    {
     "name": "stdout",
     "output_type": "stream",
     "text": [
      "\r| SGD | epoch: 001 | loss: 0.69367 - acc: 0.4998 -- iter: 037376/142904\n"
     ]
    },
    {
     "name": "stdout",
     "output_type": "stream",
     "text": [
      "Training Step: 293  | total loss: "
     ]
    },
    {
     "name": "stdout",
     "output_type": "stream",
     "text": [
      "0.69376"
     ]
    },
    {
     "name": "stdout",
     "output_type": "stream",
     "text": [
      " | time: 10.323s\n"
     ]
    },
    {
     "name": "stdout",
     "output_type": "stream",
     "text": [
      "\r| SGD | epoch: 001 | loss: 0.69376 - acc: 0.4920 -- iter: 037504/142904\n"
     ]
    },
    {
     "name": "stdout",
     "output_type": "stream",
     "text": [
      "Training Step: 294  | total loss: "
     ]
    },
    {
     "name": "stdout",
     "output_type": "stream",
     "text": [
      "0.69378"
     ]
    },
    {
     "name": "stdout",
     "output_type": "stream",
     "text": [
      " | time: 10.336s\n"
     ]
    },
    {
     "name": "stdout",
     "output_type": "stream",
     "text": [
      "\r| SGD | epoch: 001 | loss: 0.69378 - acc: 0.4928 -- iter: 037632/142904\n"
     ]
    },
    {
     "name": "stdout",
     "output_type": "stream",
     "text": [
      "Training Step: 295  | total loss: "
     ]
    },
    {
     "name": "stdout",
     "output_type": "stream",
     "text": [
      "0.69366"
     ]
    },
    {
     "name": "stdout",
     "output_type": "stream",
     "text": [
      " | time: 10.353s\n"
     ]
    },
    {
     "name": "stdout",
     "output_type": "stream",
     "text": [
      "\r| SGD | epoch: 001 | loss: 0.69366 - acc: 0.4943 -- iter: 037760/142904\n"
     ]
    },
    {
     "name": "stdout",
     "output_type": "stream",
     "text": [
      "Training Step: 296  | total loss: "
     ]
    },
    {
     "name": "stdout",
     "output_type": "stream",
     "text": [
      "0.69328"
     ]
    },
    {
     "name": "stdout",
     "output_type": "stream",
     "text": [
      " | time: 10.369s\n"
     ]
    },
    {
     "name": "stdout",
     "output_type": "stream",
     "text": [
      "\r| SGD | epoch: 001 | loss: 0.69328 - acc: 0.5004 -- iter: 037888/142904\n"
     ]
    },
    {
     "name": "stdout",
     "output_type": "stream",
     "text": [
      "Training Step: 297  | total loss: "
     ]
    },
    {
     "name": "stdout",
     "output_type": "stream",
     "text": [
      "0.69247"
     ]
    },
    {
     "name": "stdout",
     "output_type": "stream",
     "text": [
      " | time: 10.387s\n"
     ]
    },
    {
     "name": "stdout",
     "output_type": "stream",
     "text": [
      "\r| SGD | epoch: 001 | loss: 0.69247 - acc: 0.5081 -- iter: 038016/142904\n"
     ]
    },
    {
     "name": "stdout",
     "output_type": "stream",
     "text": [
      "Training Step: 298  | total loss: "
     ]
    },
    {
     "name": "stdout",
     "output_type": "stream",
     "text": [
      "0.69098"
     ]
    },
    {
     "name": "stdout",
     "output_type": "stream",
     "text": [
      " | time: 10.403s\n"
     ]
    },
    {
     "name": "stdout",
     "output_type": "stream",
     "text": [
      "\r| SGD | epoch: 001 | loss: 0.69098 - acc: 0.5175 -- iter: 038144/142904\n"
     ]
    },
    {
     "name": "stdout",
     "output_type": "stream",
     "text": [
      "Training Step: 299  | total loss: "
     ]
    },
    {
     "name": "stdout",
     "output_type": "stream",
     "text": [
      "0.69379"
     ]
    },
    {
     "name": "stdout",
     "output_type": "stream",
     "text": [
      " | time: 10.416s\n"
     ]
    },
    {
     "name": "stdout",
     "output_type": "stream",
     "text": [
      "\r| SGD | epoch: 001 | loss: 0.69379 - acc: 0.5095 -- iter: 038272/142904\n"
     ]
    },
    {
     "name": "stdout",
     "output_type": "stream",
     "text": [
      "Training Step: 300  | total loss: "
     ]
    },
    {
     "name": "stdout",
     "output_type": "stream",
     "text": [
      "0.69377"
     ]
    },
    {
     "name": "stdout",
     "output_type": "stream",
     "text": [
      " | time: 10.437s\n"
     ]
    },
    {
     "name": "stdout",
     "output_type": "stream",
     "text": [
      "\r| SGD | epoch: 001 | loss: 0.69377 - acc: 0.5078 -- iter: 038400/142904\n"
     ]
    },
    {
     "name": "stdout",
     "output_type": "stream",
     "text": [
      "Training Step: 301  | total loss: "
     ]
    },
    {
     "name": "stdout",
     "output_type": "stream",
     "text": [
      "0.69378"
     ]
    },
    {
     "name": "stdout",
     "output_type": "stream",
     "text": [
      " | time: 10.452s\n"
     ]
    },
    {
     "name": "stdout",
     "output_type": "stream",
     "text": [
      "\r| SGD | epoch: 001 | loss: 0.69378 - acc: 0.5023 -- iter: 038528/142904\n"
     ]
    },
    {
     "name": "stdout",
     "output_type": "stream",
     "text": [
      "Training Step: 302  | total loss: "
     ]
    },
    {
     "name": "stdout",
     "output_type": "stream",
     "text": [
      "0.69351"
     ]
    },
    {
     "name": "stdout",
     "output_type": "stream",
     "text": [
      " | time: 10.469s\n"
     ]
    },
    {
     "name": "stdout",
     "output_type": "stream",
     "text": [
      "\r| SGD | epoch: 001 | loss: 0.69351 - acc: 0.5052 -- iter: 038656/142904\n"
     ]
    },
    {
     "name": "stdout",
     "output_type": "stream",
     "text": [
      "Training Step: 303  | total loss: "
     ]
    },
    {
     "name": "stdout",
     "output_type": "stream",
     "text": [
      "0.69331"
     ]
    },
    {
     "name": "stdout",
     "output_type": "stream",
     "text": [
      " | time: 10.483s\n"
     ]
    },
    {
     "name": "stdout",
     "output_type": "stream",
     "text": [
      "\r| SGD | epoch: 001 | loss: 0.69331 - acc: 0.5062 -- iter: 038784/142904\n"
     ]
    },
    {
     "name": "stdout",
     "output_type": "stream",
     "text": [
      "Training Step: 304  | total loss: "
     ]
    },
    {
     "name": "stdout",
     "output_type": "stream",
     "text": [
      "0.69341"
     ]
    },
    {
     "name": "stdout",
     "output_type": "stream",
     "text": [
      " | time: 10.495s\n"
     ]
    },
    {
     "name": "stdout",
     "output_type": "stream",
     "text": [
      "\r| SGD | epoch: 001 | loss: 0.69341 - acc: 0.5048 -- iter: 038912/142904\n"
     ]
    },
    {
     "name": "stdout",
     "output_type": "stream",
     "text": [
      "Training Step: 305  | total loss: "
     ]
    },
    {
     "name": "stdout",
     "output_type": "stream",
     "text": [
      "0.69346"
     ]
    },
    {
     "name": "stdout",
     "output_type": "stream",
     "text": [
      " | time: 10.511s\n"
     ]
    },
    {
     "name": "stdout",
     "output_type": "stream",
     "text": [
      "\r| SGD | epoch: 001 | loss: 0.69346 - acc: 0.5020 -- iter: 039040/142904\n"
     ]
    },
    {
     "name": "stdout",
     "output_type": "stream",
     "text": [
      "Training Step: 306  | total loss: "
     ]
    },
    {
     "name": "stdout",
     "output_type": "stream",
     "text": [
      "0.69352"
     ]
    },
    {
     "name": "stdout",
     "output_type": "stream",
     "text": [
      " | time: 10.523s\n"
     ]
    },
    {
     "name": "stdout",
     "output_type": "stream",
     "text": [
      "\r| SGD | epoch: 001 | loss: 0.69352 - acc: 0.4963 -- iter: 039168/142904\n"
     ]
    },
    {
     "name": "stdout",
     "output_type": "stream",
     "text": [
      "Training Step: 307  | total loss: "
     ]
    },
    {
     "name": "stdout",
     "output_type": "stream",
     "text": [
      "0.69340"
     ]
    },
    {
     "name": "stdout",
     "output_type": "stream",
     "text": [
      " | time: 10.539s\n"
     ]
    },
    {
     "name": "stdout",
     "output_type": "stream",
     "text": [
      "\r| SGD | epoch: 001 | loss: 0.69340 - acc: 0.4975 -- iter: 039296/142904\n"
     ]
    },
    {
     "name": "stdout",
     "output_type": "stream",
     "text": [
      "Training Step: 308  | total loss: "
     ]
    },
    {
     "name": "stdout",
     "output_type": "stream",
     "text": [
      "0.69326"
     ]
    },
    {
     "name": "stdout",
     "output_type": "stream",
     "text": [
      " | time: 10.552s\n"
     ]
    },
    {
     "name": "stdout",
     "output_type": "stream",
     "text": [
      "\r| SGD | epoch: 001 | loss: 0.69326 - acc: 0.4993 -- iter: 039424/142904\n"
     ]
    },
    {
     "name": "stdout",
     "output_type": "stream",
     "text": [
      "Training Step: 309  | total loss: "
     ]
    },
    {
     "name": "stdout",
     "output_type": "stream",
     "text": [
      "0.69304"
     ]
    },
    {
     "name": "stdout",
     "output_type": "stream",
     "text": [
      " | time: 10.567s\n"
     ]
    },
    {
     "name": "stdout",
     "output_type": "stream",
     "text": [
      "\r| SGD | epoch: 001 | loss: 0.69304 - acc: 0.5017 -- iter: 039552/142904\n"
     ]
    },
    {
     "name": "stdout",
     "output_type": "stream",
     "text": [
      "Training Step: 310  | total loss: "
     ]
    },
    {
     "name": "stdout",
     "output_type": "stream",
     "text": [
      "0.69319"
     ]
    },
    {
     "name": "stdout",
     "output_type": "stream",
     "text": [
      " | time: 10.580s\n"
     ]
    },
    {
     "name": "stdout",
     "output_type": "stream",
     "text": [
      "\r| SGD | epoch: 001 | loss: 0.69319 - acc: 0.5000 -- iter: 039680/142904\n"
     ]
    },
    {
     "name": "stdout",
     "output_type": "stream",
     "text": [
      "Training Step: 311  | total loss: "
     ]
    },
    {
     "name": "stdout",
     "output_type": "stream",
     "text": [
      "0.69313"
     ]
    },
    {
     "name": "stdout",
     "output_type": "stream",
     "text": [
      " | time: 10.595s\n"
     ]
    },
    {
     "name": "stdout",
     "output_type": "stream",
     "text": [
      "\r| SGD | epoch: 001 | loss: 0.69313 - acc: 0.4961 -- iter: 039808/142904\n"
     ]
    },
    {
     "name": "stdout",
     "output_type": "stream",
     "text": [
      "Training Step: 312  | total loss: "
     ]
    },
    {
     "name": "stdout",
     "output_type": "stream",
     "text": [
      "0.69298"
     ]
    },
    {
     "name": "stdout",
     "output_type": "stream",
     "text": [
      " | time: 10.608s\n"
     ]
    },
    {
     "name": "stdout",
     "output_type": "stream",
     "text": [
      "\r| SGD | epoch: 001 | loss: 0.69298 - acc: 0.4972 -- iter: 039936/142904\n"
     ]
    },
    {
     "name": "stdout",
     "output_type": "stream",
     "text": [
      "Training Step: 313  | total loss: "
     ]
    },
    {
     "name": "stdout",
     "output_type": "stream",
     "text": [
      "0.69288"
     ]
    },
    {
     "name": "stdout",
     "output_type": "stream",
     "text": [
      " | time: 10.624s\n"
     ]
    },
    {
     "name": "stdout",
     "output_type": "stream",
     "text": [
      "\r| SGD | epoch: 001 | loss: 0.69288 - acc: 0.5006 -- iter: 040064/142904\n"
     ]
    },
    {
     "name": "stdout",
     "output_type": "stream",
     "text": [
      "Training Step: 314  | total loss: "
     ]
    },
    {
     "name": "stdout",
     "output_type": "stream",
     "text": [
      "0.69309"
     ]
    },
    {
     "name": "stdout",
     "output_type": "stream",
     "text": [
      " | time: 10.638s\n"
     ]
    },
    {
     "name": "stdout",
     "output_type": "stream",
     "text": [
      "\r| SGD | epoch: 001 | loss: 0.69309 - acc: 0.4982 -- iter: 040192/142904\n"
     ]
    },
    {
     "name": "stdout",
     "output_type": "stream",
     "text": [
      "Training Step: 315  | total loss: "
     ]
    },
    {
     "name": "stdout",
     "output_type": "stream",
     "text": [
      "0.69296"
     ]
    },
    {
     "name": "stdout",
     "output_type": "stream",
     "text": [
      " | time: 10.654s\n"
     ]
    },
    {
     "name": "stdout",
     "output_type": "stream",
     "text": [
      "\r| SGD | epoch: 001 | loss: 0.69296 - acc: 0.5109 -- iter: 040320/142904\n"
     ]
    },
    {
     "name": "stdout",
     "output_type": "stream",
     "text": [
      "Training Step: 316  | total loss: "
     ]
    },
    {
     "name": "stdout",
     "output_type": "stream",
     "text": [
      "0.69283"
     ]
    },
    {
     "name": "stdout",
     "output_type": "stream",
     "text": [
      " | time: 10.672s\n"
     ]
    },
    {
     "name": "stdout",
     "output_type": "stream",
     "text": [
      "\r| SGD | epoch: 001 | loss: 0.69283 - acc: 0.5153 -- iter: 040448/142904\n"
     ]
    },
    {
     "name": "stdout",
     "output_type": "stream",
     "text": [
      "Training Step: 317  | total loss: "
     ]
    },
    {
     "name": "stdout",
     "output_type": "stream",
     "text": [
      "0.69237"
     ]
    },
    {
     "name": "stdout",
     "output_type": "stream",
     "text": [
      " | time: 10.686s\n"
     ]
    },
    {
     "name": "stdout",
     "output_type": "stream",
     "text": [
      "\r| SGD | epoch: 001 | loss: 0.69237 - acc: 0.5192 -- iter: 040576/142904\n"
     ]
    },
    {
     "name": "stdout",
     "output_type": "stream",
     "text": [
      "Training Step: 318  | total loss: "
     ]
    },
    {
     "name": "stdout",
     "output_type": "stream",
     "text": [
      "0.69203"
     ]
    },
    {
     "name": "stdout",
     "output_type": "stream",
     "text": [
      " | time: 10.700s\n"
     ]
    },
    {
     "name": "stdout",
     "output_type": "stream",
     "text": [
      "\r| SGD | epoch: 001 | loss: 0.69203 - acc: 0.5220 -- iter: 040704/142904\n"
     ]
    },
    {
     "name": "stdout",
     "output_type": "stream",
     "text": [
      "Training Step: 319  | total loss: "
     ]
    },
    {
     "name": "stdout",
     "output_type": "stream",
     "text": [
      "0.69229"
     ]
    },
    {
     "name": "stdout",
     "output_type": "stream",
     "text": [
      " | time: 10.714s\n"
     ]
    },
    {
     "name": "stdout",
     "output_type": "stream",
     "text": [
      "\r| SGD | epoch: 001 | loss: 0.69229 - acc: 0.5198 -- iter: 040832/142904\n"
     ]
    },
    {
     "name": "stdout",
     "output_type": "stream",
     "text": [
      "Training Step: 320  | total loss: "
     ]
    },
    {
     "name": "stdout",
     "output_type": "stream",
     "text": [
      "0.69221"
     ]
    },
    {
     "name": "stdout",
     "output_type": "stream",
     "text": [
      " | time: 10.729s\n"
     ]
    },
    {
     "name": "stdout",
     "output_type": "stream",
     "text": [
      "\r| SGD | epoch: 001 | loss: 0.69221 - acc: 0.5194 -- iter: 040960/142904\n"
     ]
    },
    {
     "name": "stdout",
     "output_type": "stream",
     "text": [
      "Training Step: 321  | total loss: "
     ]
    },
    {
     "name": "stdout",
     "output_type": "stream",
     "text": [
      "0.69176"
     ]
    },
    {
     "name": "stdout",
     "output_type": "stream",
     "text": [
      " | time: 10.743s\n"
     ]
    },
    {
     "name": "stdout",
     "output_type": "stream",
     "text": [
      "\r| SGD | epoch: 001 | loss: 0.69176 - acc: 0.5237 -- iter: 041088/142904\n"
     ]
    },
    {
     "name": "stdout",
     "output_type": "stream",
     "text": [
      "Training Step: 322  | total loss: "
     ]
    },
    {
     "name": "stdout",
     "output_type": "stream",
     "text": [
      "0.69259"
     ]
    },
    {
     "name": "stdout",
     "output_type": "stream",
     "text": [
      " | time: 10.761s\n"
     ]
    },
    {
     "name": "stdout",
     "output_type": "stream",
     "text": [
      "\r| SGD | epoch: 001 | loss: 0.69259 - acc: 0.5174 -- iter: 041216/142904\n"
     ]
    },
    {
     "name": "stdout",
     "output_type": "stream",
     "text": [
      "Training Step: 323  | total loss: "
     ]
    },
    {
     "name": "stdout",
     "output_type": "stream",
     "text": [
      "0.69245"
     ]
    },
    {
     "name": "stdout",
     "output_type": "stream",
     "text": [
      " | time: 10.774s\n"
     ]
    },
    {
     "name": "stdout",
     "output_type": "stream",
     "text": [
      "\r| SGD | epoch: 001 | loss: 0.69245 - acc: 0.5196 -- iter: 041344/142904\n"
     ]
    },
    {
     "name": "stdout",
     "output_type": "stream",
     "text": [
      "Training Step: 324  | total loss: "
     ]
    },
    {
     "name": "stdout",
     "output_type": "stream",
     "text": [
      "0.69236"
     ]
    },
    {
     "name": "stdout",
     "output_type": "stream",
     "text": [
      " | time: 10.788s\n"
     ]
    },
    {
     "name": "stdout",
     "output_type": "stream",
     "text": [
      "\r| SGD | epoch: 001 | loss: 0.69236 - acc: 0.5223 -- iter: 041472/142904\n"
     ]
    },
    {
     "name": "stdout",
     "output_type": "stream",
     "text": [
      "Training Step: 325  | total loss: "
     ]
    },
    {
     "name": "stdout",
     "output_type": "stream",
     "text": [
      "0.69222"
     ]
    },
    {
     "name": "stdout",
     "output_type": "stream",
     "text": [
      " | time: 10.800s\n"
     ]
    },
    {
     "name": "stdout",
     "output_type": "stream",
     "text": [
      "\r| SGD | epoch: 001 | loss: 0.69222 - acc: 0.5209 -- iter: 041600/142904\n"
     ]
    },
    {
     "name": "stdout",
     "output_type": "stream",
     "text": [
      "Training Step: 326  | total loss: "
     ]
    },
    {
     "name": "stdout",
     "output_type": "stream",
     "text": [
      "0.69225"
     ]
    },
    {
     "name": "stdout",
     "output_type": "stream",
     "text": [
      " | time: 10.816s\n"
     ]
    },
    {
     "name": "stdout",
     "output_type": "stream",
     "text": [
      "\r| SGD | epoch: 001 | loss: 0.69225 - acc: 0.5172 -- iter: 041728/142904\n"
     ]
    },
    {
     "name": "stdout",
     "output_type": "stream",
     "text": [
      "Training Step: 327  | total loss: "
     ]
    },
    {
     "name": "stdout",
     "output_type": "stream",
     "text": [
      "0.69225"
     ]
    },
    {
     "name": "stdout",
     "output_type": "stream",
     "text": [
      " | time: 10.830s\n"
     ]
    },
    {
     "name": "stdout",
     "output_type": "stream",
     "text": [
      "\r| SGD | epoch: 001 | loss: 0.69225 - acc: 0.5202 -- iter: 041856/142904\n"
     ]
    }
   ],
   "source": [
    "def build_model(learning_rate=0.1):\n",
    "    tf.reset_default_graph()\n",
    "\n",
    "    net = tflearn.input_data([None, VOCAB_SIZE])\n",
    "    net = tflearn.fully_connected(net, 125, activation='ReLU')\n",
    "    net = tflearn.fully_connected(net, 25, activation='ReLU')\n",
    "    net = tflearn.fully_connected(net, 2, activation='softmax')\n",
    "    regression = tflearn.regression(\n",
    "        net,\n",
    "        optimizer='sgd',\n",
    "        learning_rate=learning_rate,\n",
    "        loss='categorical_crossentropy')\n",
    "\n",
    "    model = tflearn.DNN(net)\n",
    "    return model\n",
    "\n",
    "\n",
    "model = build_model(learning_rate=0.75)\n",
    "\n",
    "model.fit(\n",
    "    X_train,\n",
    "    y_train,\n",
    "    validation_set=0.1,\n",
    "    show_metric=True,\n",
    "    batch_size=128,\n",
    "    n_epoch=30)\n"
   ]
  },
  {
   "cell_type": "code",
   "execution_count": 1,
   "metadata": {},
   "outputs": [],
   "source": [
    "predictions = (np.array(model.predict(X_test))[:, 0] >= 0.5).astype(np.int_)\n",
    "accuracy = np.mean(predictions == y_test[:, 0], axis=0)\n",
    "print(\"Accuracy: \", accuracy)\n",
    "\n",
    "\n",
    "def test_tweet(tweet):\n",
    "    tweet_vector = tweet_to_vector(tweet, True)\n",
    "    positive_prob = model.predict([tweet_vector])[0][1]\n",
    "    print('Original tweet: {}'.format(tweet))\n",
    "    print('P(positive) = {:.5f}. Result: '.format(positive_prob),\n",
    "          'Positive' if positive_prob > 0.5 else 'Negative')\n",
    "\n",
    "\n",
    "def test_tweet_number(idx):\n",
    "    test_tweet(tweets[idx])\n",
    "\n",
    "\n",
    "test_tweet_number(120705)\n",
    "\n",
    "tweets_for_testing = [\n",
    "    \"меня оштрафовали по дороге домой\"\n",
    "]\n",
    "for tweet in tweets_for_testing:\n",
    "    test_tweet(tweet)\n",
    "    print(\"---------\")\n"
   ]
  },
  {
   "cell_type": "code",
   "execution_count": null,
   "metadata": {},
   "outputs": [],
   "source": []
  },
  {
   "cell_type": "code",
   "execution_count": null,
   "metadata": {},
   "outputs": [],
   "source": []
  },
  {
   "cell_type": "code",
   "execution_count": null,
   "metadata": {},
   "outputs": [],
   "source": []
  },
  {
   "cell_type": "code",
   "execution_count": null,
   "metadata": {},
   "outputs": [],
   "source": []
  },
  {
   "cell_type": "code",
   "execution_count": null,
   "metadata": {},
   "outputs": [],
   "source": []
  }
 ],
 "metadata": {
  "kernelspec": {
   "display_name": "Python 2",
   "language": "python",
   "name": "python2"
  },
  "language_info": {
   "codemirror_mode": {
    "name": "ipython",
    "version": 2
   },
   "file_extension": ".py",
   "mimetype": "text/x-python",
   "name": "python",
   "nbconvert_exporter": "python",
   "pygments_lexer": "ipython2",
   "version": "2.7.6"
  }
 },
 "nbformat": 4,
 "nbformat_minor": 0
}
